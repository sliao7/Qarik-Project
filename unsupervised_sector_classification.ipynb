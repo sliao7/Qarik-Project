{
 "metadata": {
  "language_info": {
   "codemirror_mode": {
    "name": "ipython",
    "version": 3
   },
   "file_extension": ".py",
   "mimetype": "text/x-python",
   "name": "python",
   "nbconvert_exporter": "python",
   "pygments_lexer": "ipython3",
   "version": "3.9.2"
  },
  "orig_nbformat": 2,
  "kernelspec": {
   "name": "python392jvsc74a57bd09c14091437e567b69b891d2838af0ae9212f4b16ac91005526a4e98434c6baeb",
   "display_name": "Python 3.9.2 64-bit ('erdos': conda)"
  },
  "metadata": {
   "interpreter": {
    "hash": "9c14091437e567b69b891d2838af0ae9212f4b16ac91005526a4e98434c6baeb"
   }
  }
 },
 "nbformat": 4,
 "nbformat_minor": 2,
 "cells": [
  {
   "source": [
    "# Sector prediction from loan documents\n",
    "\n",
    "Here we build an unsupervised model to predict the primary sector of a project from the project description and project title given in the loan document.\n",
    "\n",
    "Some caveats: \n",
    "- Not all loan documents have a project description or a project title, and the model will probably not perform well on these.\n",
    "- We are able to match data from the World Bank database with some of the loan documents, but the majority are unmatched.\n",
    "\n",
    "The main idea is to embed the project description and the sector names as vectors in a document space, and match each project description with the nearest sector name. To give additional semantic information to the sector names, we append all the subsector names given by the World Bank.\n",
    "\n",
    "Producing good documents for embedding will probably require cleaning. \n",
    "\n",
    "Does doc2vec work well with stopwords removed? Maybe a baseline tf-idf or LSI model would be best to start with."
   ],
   "cell_type": "markdown",
   "metadata": {}
  },
  {
   "cell_type": "code",
   "execution_count": 1,
   "metadata": {},
   "outputs": [],
   "source": [
    "import pandas as pd\n",
    "import matplotlib.pyplot as plt\n",
    "import numpy as np\n",
    "import nltk\n",
    "import gensim"
   ]
  },
  {
   "source": [
    "## Load and collate all the data\n",
    "\n",
    "It begins in a few different tables, and we need to join them together to get all the relevant features and labels."
   ],
   "cell_type": "markdown",
   "metadata": {}
  },
  {
   "cell_type": "code",
   "execution_count": 2,
   "metadata": {},
   "outputs": [],
   "source": [
    "descriptions_table = pd.read_csv(\"word_bank_project_description.csv\")"
   ]
  },
  {
   "cell_type": "code",
   "execution_count": 3,
   "metadata": {},
   "outputs": [
    {
     "output_type": "execute_result",
     "data": {
      "text/plain": [
       "   Unnamed: 0  year      month  day                  id  \\\n",
       "0           0  1991  september   12  558671468103155868   \n",
       "1           1  2001        may   31  473681468094784501   \n",
       "2           2  1991   november   19  892131468028134392   \n",
       "3           3  2013        may   20  945021468224685176   \n",
       "4           4  1991        may    7  107521468303622178   \n",
       "\n",
       "                                                name  \\\n",
       "0  conformed-copy--l3361--kolubara-b-thermal-powe...   \n",
       "1  conformed-copy--l7054--railway-restructuring-p...   \n",
       "2  china--beijing-environmental-project-:-loan-34...   \n",
       "3  official-documents-loan-agreement,-l8236-cn-cl...   \n",
       "4  conformed-copy--l3230--third-highway-sector-pr...   \n",
       "\n",
       "                                        project_desc  \\\n",
       "0  SCHEDULE 2\\n\\n                    Description ...   \n",
       "1  SCHEDULE 2\\n\\nDescription of the Project\\n\\nTh...   \n",
       "2                                                NaN   \n",
       "3  SCHEDULE1\\n\\nProject Description\\n\\nThe  objec...   \n",
       "4  SCHEDULE 2\\n\\nDescription of the Project\\n\\nTh...   \n",
       "\n",
       "                                       top_common_40  \n",
       "0  serbia rehabilitation thermal monitoring progr...  \n",
       "1  borrower staff program objectives transport se...  \n",
       "2                                                NaN  \n",
       "3  urban rehabilitation water construction city s...  \n",
       "4  maintenance improve highway planning including...  "
      ],
      "text/html": "<div>\n<style scoped>\n    .dataframe tbody tr th:only-of-type {\n        vertical-align: middle;\n    }\n\n    .dataframe tbody tr th {\n        vertical-align: top;\n    }\n\n    .dataframe thead th {\n        text-align: right;\n    }\n</style>\n<table border=\"1\" class=\"dataframe\">\n  <thead>\n    <tr style=\"text-align: right;\">\n      <th></th>\n      <th>Unnamed: 0</th>\n      <th>year</th>\n      <th>month</th>\n      <th>day</th>\n      <th>id</th>\n      <th>name</th>\n      <th>project_desc</th>\n      <th>top_common_40</th>\n    </tr>\n  </thead>\n  <tbody>\n    <tr>\n      <th>0</th>\n      <td>0</td>\n      <td>1991</td>\n      <td>september</td>\n      <td>12</td>\n      <td>558671468103155868</td>\n      <td>conformed-copy--l3361--kolubara-b-thermal-powe...</td>\n      <td>SCHEDULE 2\\n\\n                    Description ...</td>\n      <td>serbia rehabilitation thermal monitoring progr...</td>\n    </tr>\n    <tr>\n      <th>1</th>\n      <td>1</td>\n      <td>2001</td>\n      <td>may</td>\n      <td>31</td>\n      <td>473681468094784501</td>\n      <td>conformed-copy--l7054--railway-restructuring-p...</td>\n      <td>SCHEDULE 2\\n\\nDescription of the Project\\n\\nTh...</td>\n      <td>borrower staff program objectives transport se...</td>\n    </tr>\n    <tr>\n      <th>2</th>\n      <td>2</td>\n      <td>1991</td>\n      <td>november</td>\n      <td>19</td>\n      <td>892131468028134392</td>\n      <td>china--beijing-environmental-project-:-loan-34...</td>\n      <td>NaN</td>\n      <td>NaN</td>\n    </tr>\n    <tr>\n      <th>3</th>\n      <td>3</td>\n      <td>2013</td>\n      <td>may</td>\n      <td>20</td>\n      <td>945021468224685176</td>\n      <td>official-documents-loan-agreement,-l8236-cn-cl...</td>\n      <td>SCHEDULE1\\n\\nProject Description\\n\\nThe  objec...</td>\n      <td>urban rehabilitation water construction city s...</td>\n    </tr>\n    <tr>\n      <th>4</th>\n      <td>4</td>\n      <td>1991</td>\n      <td>may</td>\n      <td>7</td>\n      <td>107521468303622178</td>\n      <td>conformed-copy--l3230--third-highway-sector-pr...</td>\n      <td>SCHEDULE 2\\n\\nDescription of the Project\\n\\nTh...</td>\n      <td>maintenance improve highway planning including...</td>\n    </tr>\n  </tbody>\n</table>\n</div>"
     },
     "metadata": {},
     "execution_count": 3
    }
   ],
   "source": [
    "descriptions_table.head()"
   ]
  },
  {
   "cell_type": "code",
   "execution_count": 4,
   "metadata": {},
   "outputs": [],
   "source": [
    "features_with_project_id = pd.read_pickle(\"extracted_features_with_project_id.pkl\")"
   ]
  },
  {
   "cell_type": "code",
   "execution_count": 5,
   "metadata": {},
   "outputs": [],
   "source": [
    "world_bank_projects = pd.read_pickle(\"world_bank_projects/world_bank_projects_json.pkl\")"
   ]
  },
  {
   "cell_type": "code",
   "execution_count": 6,
   "metadata": {},
   "outputs": [
    {
     "output_type": "execute_result",
     "data": {
      "text/plain": [
       "2906"
      ]
     },
     "metadata": {},
     "execution_count": 6
    }
   ],
   "source": [
    "descriptions_table.project_desc.count()"
   ]
  },
  {
   "cell_type": "code",
   "execution_count": 7,
   "metadata": {},
   "outputs": [],
   "source": [
    "features_with_project_id['id'] = features_with_project_id.id.apply(int)"
   ]
  },
  {
   "cell_type": "code",
   "execution_count": 8,
   "metadata": {},
   "outputs": [
    {
     "output_type": "execute_result",
     "data": {
      "text/plain": [
       "   year      month day                  id  \\\n",
       "0  1991  september  12  558671468103155868   \n",
       "1  2001        may  31  473681468094784501   \n",
       "2  1991   november  19  892131468028134392   \n",
       "3  2013        may  20  945021468224685176   \n",
       "4  1991        may   7  107521468303622178   \n",
       "\n",
       "                                                name  \\\n",
       "0  conformed-copy--l3361--kolubara-b-thermal-powe...   \n",
       "1  conformed-copy--l7054--railway-restructuring-p...   \n",
       "2  china--beijing-environmental-project-:-loan-34...   \n",
       "3  official-documents-loan-agreement,-l8236-cn-cl...   \n",
       "4  conformed-copy--l3230--third-highway-sector-pr...   \n",
       "\n",
       "                                 countries Total Amount  \\\n",
       "0                  [Serbia, United States]    300000000   \n",
       "1                  [Poland, United States]    110000000   \n",
       "2                   [China, United States]     60100000   \n",
       "3                   [China, United States]    150000000   \n",
       "4  [Bosnia and Herzegovina, United States]     55000000   \n",
       "\n",
       "                                        Project Name wb_project_id  \n",
       "0  Kolubara B Thermal Power and Lignite Mine Project          None  \n",
       "1                      Railway Restructuring Project          None  \n",
       "2                      Beijing Environmental Project          None  \n",
       "3  Liaoning Coastal Economic Zone Urban Infrastru...          None  \n",
       "4                       Third Highway Sector Project          None  "
      ],
      "text/html": "<div>\n<style scoped>\n    .dataframe tbody tr th:only-of-type {\n        vertical-align: middle;\n    }\n\n    .dataframe tbody tr th {\n        vertical-align: top;\n    }\n\n    .dataframe thead th {\n        text-align: right;\n    }\n</style>\n<table border=\"1\" class=\"dataframe\">\n  <thead>\n    <tr style=\"text-align: right;\">\n      <th></th>\n      <th>year</th>\n      <th>month</th>\n      <th>day</th>\n      <th>id</th>\n      <th>name</th>\n      <th>countries</th>\n      <th>Total Amount</th>\n      <th>Project Name</th>\n      <th>wb_project_id</th>\n    </tr>\n  </thead>\n  <tbody>\n    <tr>\n      <th>0</th>\n      <td>1991</td>\n      <td>september</td>\n      <td>12</td>\n      <td>558671468103155868</td>\n      <td>conformed-copy--l3361--kolubara-b-thermal-powe...</td>\n      <td>[Serbia, United States]</td>\n      <td>300000000</td>\n      <td>Kolubara B Thermal Power and Lignite Mine Project</td>\n      <td>None</td>\n    </tr>\n    <tr>\n      <th>1</th>\n      <td>2001</td>\n      <td>may</td>\n      <td>31</td>\n      <td>473681468094784501</td>\n      <td>conformed-copy--l7054--railway-restructuring-p...</td>\n      <td>[Poland, United States]</td>\n      <td>110000000</td>\n      <td>Railway Restructuring Project</td>\n      <td>None</td>\n    </tr>\n    <tr>\n      <th>2</th>\n      <td>1991</td>\n      <td>november</td>\n      <td>19</td>\n      <td>892131468028134392</td>\n      <td>china--beijing-environmental-project-:-loan-34...</td>\n      <td>[China, United States]</td>\n      <td>60100000</td>\n      <td>Beijing Environmental Project</td>\n      <td>None</td>\n    </tr>\n    <tr>\n      <th>3</th>\n      <td>2013</td>\n      <td>may</td>\n      <td>20</td>\n      <td>945021468224685176</td>\n      <td>official-documents-loan-agreement,-l8236-cn-cl...</td>\n      <td>[China, United States]</td>\n      <td>150000000</td>\n      <td>Liaoning Coastal Economic Zone Urban Infrastru...</td>\n      <td>None</td>\n    </tr>\n    <tr>\n      <th>4</th>\n      <td>1991</td>\n      <td>may</td>\n      <td>7</td>\n      <td>107521468303622178</td>\n      <td>conformed-copy--l3230--third-highway-sector-pr...</td>\n      <td>[Bosnia and Herzegovina, United States]</td>\n      <td>55000000</td>\n      <td>Third Highway Sector Project</td>\n      <td>None</td>\n    </tr>\n  </tbody>\n</table>\n</div>"
     },
     "metadata": {},
     "execution_count": 8
    }
   ],
   "source": [
    "features_with_project_id.head()"
   ]
  },
  {
   "cell_type": "code",
   "execution_count": 9,
   "metadata": {},
   "outputs": [],
   "source": [
    "agreements_features = descriptions_table.merge(features_with_project_id[['id','Project Name', 'wb_project_id']], left_on='id', right_on='id', how='inner')"
   ]
  },
  {
   "cell_type": "code",
   "execution_count": 10,
   "metadata": {},
   "outputs": [],
   "source": [
    "agreements_features = agreements_features.merge(world_bank_projects[['id','major_sector_name']], left_on='wb_project_id',right_on='id',how='left')"
   ]
  },
  {
   "cell_type": "code",
   "execution_count": 11,
   "metadata": {},
   "outputs": [
    {
     "output_type": "execute_result",
     "data": {
      "text/plain": [
       "3195"
      ]
     },
     "metadata": {},
     "execution_count": 11
    }
   ],
   "source": [
    "len(agreements_features)"
   ]
  },
  {
   "cell_type": "code",
   "execution_count": 12,
   "metadata": {},
   "outputs": [
    {
     "output_type": "execute_result",
     "data": {
      "text/plain": [
       "      Unnamed: 0  year      month  day                id_x  \\\n",
       "1547        1548  1994   november   15  638351468096860331   \n",
       "844          845  2000        may   19  750091468282904743   \n",
       "2100        2104  1993  september   15  178261468292835233   \n",
       "261          261  1992    january   27  208111468233360870   \n",
       "2156        2160  2003    october   17  834001468350174170   \n",
       "3194        3198  2014   february   18  277931468279946325   \n",
       "920          921  1996  september   13  762561468020643363   \n",
       "2170        2174  1996     august   12  150211468267591336   \n",
       "476          476  2013       july   29  414031468228875616   \n",
       "1038        1039  1991       june   28  662691468116369316   \n",
       "\n",
       "                                                   name  \\\n",
       "1547  pakistan--financial-sector-deepening-and-inter...   \n",
       "844   conformed-copy--l4056--uttar-pradesh-rural-wat...   \n",
       "2100  conformed-copy--c2542--public-sector-adjustmen...   \n",
       "261   conformed-copy--c2313--national-drainage-proje...   \n",
       "2156  conformed-copy--l4709--rural-land-titling-and-...   \n",
       "3194  official-documents-loan-agreement,-l8314-mx-cl...   \n",
       "920   conformed-copy--l4027--second-henan-provincial...   \n",
       "2170  conformed-copy--l4030--social-sectors-strategy...   \n",
       "476   official-documents-amendment-to-the-loan-agree...   \n",
       "1038  conformed-copy--l3324--state-and-provincial-ro...   \n",
       "\n",
       "                                           project_desc  \\\n",
       "1547  SCHEDULE 2 Description of the Project The obje...   \n",
       "844   SCHEDULE 2\\n\\n                     Description...   \n",
       "2100  SCHEDULE 1\\n\\n              Withdrawal of the ...   \n",
       "261                                                 NaN   \n",
       "2156  SCHEDULE 2 \\n \\nDescription of the Project \\n\\...   \n",
       "3194  SCHEDULE  2\\n\\nThe  Borrower  shall  repay  th...   \n",
       "920   SCHEDULE 2\\n\\nDescription of the Project\\n\\nTh...   \n",
       "2170  SCHEDULE 2\\n\\n                       Descripti...   \n",
       "476                                                 NaN   \n",
       "1038  SCHEDULE 2\\n\\n\n",
       "                    Description...   \n",
       "\n",
       "                                          top_common_40  \\\n",
       "1547  development insurance strengthening financial ...   \n",
       "844   water supply sanitation environmental construc...   \n",
       "2100  expenditures bank shall borrower loan goods pr...   \n",
       "261                                                 NaN   \n",
       "2156  land development farm including cadastre train...   \n",
       "3194  borrower means 's education bank loan section ...   \n",
       "920   henan road construction improvement safety pro...   \n",
       "2170  sector development capacity strategies includi...   \n",
       "476                                                 NaN   \n",
       "1038  development programs local training including ...   \n",
       "\n",
       "                                           Project Name wb_project_id id_y  \\\n",
       "1547  Financial Sector Deepening and Intermediation ...          None  NaN   \n",
       "844   Uttar Pradesh Rural Water Supply and\\n        ...          None  NaN   \n",
       "2100                      Public Sector Adjustment Loan          None  NaN   \n",
       "261                           National Drainage Project          None  NaN   \n",
       "2156  Rural Land Titling and Cadastre Development Pr...          None  NaN   \n",
       "3194  Third Upper Secondary Education\\nDevelopment P...          None  NaN   \n",
       "920             Second Henan Provincial Highway Project          None  NaN   \n",
       "2170  Social Sectors Strategy and Capacity Building ...          None  NaN   \n",
       "476                                                 202          None  NaN   \n",
       "1038          Employment Promotion and Services Project          None  NaN   \n",
       "\n",
       "     major_sector_name  \n",
       "1547               NaN  \n",
       "844                NaN  \n",
       "2100               NaN  \n",
       "261                NaN  \n",
       "2156               NaN  \n",
       "3194               NaN  \n",
       "920                NaN  \n",
       "2170               NaN  \n",
       "476                NaN  \n",
       "1038               NaN  "
      ],
      "text/html": "<div>\n<style scoped>\n    .dataframe tbody tr th:only-of-type {\n        vertical-align: middle;\n    }\n\n    .dataframe tbody tr th {\n        vertical-align: top;\n    }\n\n    .dataframe thead th {\n        text-align: right;\n    }\n</style>\n<table border=\"1\" class=\"dataframe\">\n  <thead>\n    <tr style=\"text-align: right;\">\n      <th></th>\n      <th>Unnamed: 0</th>\n      <th>year</th>\n      <th>month</th>\n      <th>day</th>\n      <th>id_x</th>\n      <th>name</th>\n      <th>project_desc</th>\n      <th>top_common_40</th>\n      <th>Project Name</th>\n      <th>wb_project_id</th>\n      <th>id_y</th>\n      <th>major_sector_name</th>\n    </tr>\n  </thead>\n  <tbody>\n    <tr>\n      <th>1547</th>\n      <td>1548</td>\n      <td>1994</td>\n      <td>november</td>\n      <td>15</td>\n      <td>638351468096860331</td>\n      <td>pakistan--financial-sector-deepening-and-inter...</td>\n      <td>SCHEDULE 2 Description of the Project The obje...</td>\n      <td>development insurance strengthening financial ...</td>\n      <td>Financial Sector Deepening and Intermediation ...</td>\n      <td>None</td>\n      <td>NaN</td>\n      <td>NaN</td>\n    </tr>\n    <tr>\n      <th>844</th>\n      <td>845</td>\n      <td>2000</td>\n      <td>may</td>\n      <td>19</td>\n      <td>750091468282904743</td>\n      <td>conformed-copy--l4056--uttar-pradesh-rural-wat...</td>\n      <td>SCHEDULE 2\\n\\n                     Description...</td>\n      <td>water supply sanitation environmental construc...</td>\n      <td>Uttar Pradesh Rural Water Supply and\\n        ...</td>\n      <td>None</td>\n      <td>NaN</td>\n      <td>NaN</td>\n    </tr>\n    <tr>\n      <th>2100</th>\n      <td>2104</td>\n      <td>1993</td>\n      <td>september</td>\n      <td>15</td>\n      <td>178261468292835233</td>\n      <td>conformed-copy--c2542--public-sector-adjustmen...</td>\n      <td>SCHEDULE 1\\n\\n              Withdrawal of the ...</td>\n      <td>expenditures bank shall borrower loan goods pr...</td>\n      <td>Public Sector Adjustment Loan</td>\n      <td>None</td>\n      <td>NaN</td>\n      <td>NaN</td>\n    </tr>\n    <tr>\n      <th>261</th>\n      <td>261</td>\n      <td>1992</td>\n      <td>january</td>\n      <td>27</td>\n      <td>208111468233360870</td>\n      <td>conformed-copy--c2313--national-drainage-proje...</td>\n      <td>NaN</td>\n      <td>NaN</td>\n      <td>National Drainage Project</td>\n      <td>None</td>\n      <td>NaN</td>\n      <td>NaN</td>\n    </tr>\n    <tr>\n      <th>2156</th>\n      <td>2160</td>\n      <td>2003</td>\n      <td>october</td>\n      <td>17</td>\n      <td>834001468350174170</td>\n      <td>conformed-copy--l4709--rural-land-titling-and-...</td>\n      <td>SCHEDULE 2 \\n \\nDescription of the Project \\n\\...</td>\n      <td>land development farm including cadastre train...</td>\n      <td>Rural Land Titling and Cadastre Development Pr...</td>\n      <td>None</td>\n      <td>NaN</td>\n      <td>NaN</td>\n    </tr>\n    <tr>\n      <th>3194</th>\n      <td>3198</td>\n      <td>2014</td>\n      <td>february</td>\n      <td>18</td>\n      <td>277931468279946325</td>\n      <td>official-documents-loan-agreement,-l8314-mx-cl...</td>\n      <td>SCHEDULE  2\\n\\nThe  Borrower  shall  repay  th...</td>\n      <td>borrower means 's education bank loan section ...</td>\n      <td>Third Upper Secondary Education\\nDevelopment P...</td>\n      <td>None</td>\n      <td>NaN</td>\n      <td>NaN</td>\n    </tr>\n    <tr>\n      <th>920</th>\n      <td>921</td>\n      <td>1996</td>\n      <td>september</td>\n      <td>13</td>\n      <td>762561468020643363</td>\n      <td>conformed-copy--l4027--second-henan-provincial...</td>\n      <td>SCHEDULE 2\\n\\nDescription of the Project\\n\\nTh...</td>\n      <td>henan road construction improvement safety pro...</td>\n      <td>Second Henan Provincial Highway Project</td>\n      <td>None</td>\n      <td>NaN</td>\n      <td>NaN</td>\n    </tr>\n    <tr>\n      <th>2170</th>\n      <td>2174</td>\n      <td>1996</td>\n      <td>august</td>\n      <td>12</td>\n      <td>150211468267591336</td>\n      <td>conformed-copy--l4030--social-sectors-strategy...</td>\n      <td>SCHEDULE 2\\n\\n                       Descripti...</td>\n      <td>sector development capacity strategies includi...</td>\n      <td>Social Sectors Strategy and Capacity Building ...</td>\n      <td>None</td>\n      <td>NaN</td>\n      <td>NaN</td>\n    </tr>\n    <tr>\n      <th>476</th>\n      <td>476</td>\n      <td>2013</td>\n      <td>july</td>\n      <td>29</td>\n      <td>414031468228875616</td>\n      <td>official-documents-amendment-to-the-loan-agree...</td>\n      <td>NaN</td>\n      <td>NaN</td>\n      <td>202</td>\n      <td>None</td>\n      <td>NaN</td>\n      <td>NaN</td>\n    </tr>\n    <tr>\n      <th>1038</th>\n      <td>1039</td>\n      <td>1991</td>\n      <td>june</td>\n      <td>28</td>\n      <td>662691468116369316</td>\n      <td>conformed-copy--l3324--state-and-provincial-ro...</td>\n      <td>SCHEDULE 2\\n\\n\f                    Description...</td>\n      <td>development programs local training including ...</td>\n      <td>Employment Promotion and Services Project</td>\n      <td>None</td>\n      <td>NaN</td>\n      <td>NaN</td>\n    </tr>\n  </tbody>\n</table>\n</div>"
     },
     "metadata": {},
     "execution_count": 12
    }
   ],
   "source": [
    "agreements_features.sample(10)"
   ]
  },
  {
   "cell_type": "code",
   "execution_count": 13,
   "metadata": {},
   "outputs": [],
   "source": [
    "# remove all agreements where we have no data whatsoever. if there's a description or a name, we keep it, though.\n",
    "agreements_features.dropna(how='all',inplace=True,subset=['project_desc','Project Name'])"
   ]
  },
  {
   "cell_type": "code",
   "execution_count": 14,
   "metadata": {},
   "outputs": [
    {
     "output_type": "execute_result",
     "data": {
      "text/plain": [
       "3189"
      ]
     },
     "metadata": {},
     "execution_count": 14
    }
   ],
   "source": [
    "len(agreements_features)\n",
    "#we don't lose very many"
   ]
  },
  {
   "cell_type": "code",
   "execution_count": 15,
   "metadata": {},
   "outputs": [],
   "source": [
    "with open(\"world_bank_sectors.txt\") as f:\n",
    "  sectors = f.read()\n",
    "\n",
    "sectors_list = sectors.split(\"\\n\")\n",
    "\n",
    "sector_dict = dict()\n",
    "current_major_sector = ''\n",
    "for sector in sectors_list:\n",
    "    if sector == '':\n",
    "        current_major_sector = ''\n",
    "        continue\n",
    "    if current_major_sector == '':\n",
    "        current_major_sector = sector\n",
    "        sector_dict[current_major_sector] = []\n",
    "        continue\n",
    "    if current_major_sector in sector_dict.keys():\n",
    "        sector_dict[current_major_sector].append(sector)\n",
    "\n",
    "reverse_sector_dict = dict()\n",
    "for major_sector in sector_dict:\n",
    "    for sector in sector_dict[major_sector]:\n",
    "        reverse_sector_dict[sector] = major_sector"
   ]
  },
  {
   "cell_type": "code",
   "execution_count": 16,
   "metadata": {},
   "outputs": [],
   "source": [
    "sector_numbers = dict()\n",
    "i = 0\n",
    "for sector in sector_dict:\n",
    "    sector_numbers[sector] = i\n",
    "    i += 1"
   ]
  },
  {
   "cell_type": "code",
   "execution_count": 17,
   "metadata": {},
   "outputs": [],
   "source": [
    "agreements_features['sector_id'] = [sector_numbers[sector] if type(sector) == str else None for sector in agreements_features.major_sector_name.values]"
   ]
  },
  {
   "cell_type": "code",
   "execution_count": 18,
   "metadata": {},
   "outputs": [],
   "source": [
    "full_sector_description = [' '.join([x] + sector_dict[x]) for x in sector_dict]"
   ]
  },
  {
   "cell_type": "code",
   "execution_count": 19,
   "metadata": {},
   "outputs": [
    {
     "output_type": "execute_result",
     "data": {
      "text/plain": [
       "['Agriculture Agricultural Extension, Research, and Other Support Activities Crops Fisheries Forestry Irrigation and Drainage Livestock Other Agriculture, Fishing and Forestry Public Administration - Agriculture, Fishing and Forestry',\n",
       " 'Education Adult, Basic and Continuing Education Early Childhood Education Other Education Primary Education Public Administration - Education Secondary Education Tertiary Education Workforce Development/Skills',\n",
       " 'Energy and Extractives Energy Transmission and Distribution Mining Non-Renewable Energy Generation Oil and Gas Other Energy and Extractives Public Administration - Energy and Extractives Renewable Energy Biomass Renewable Energy Geothermal Renewable Energy Hydro Renewable Energy Solar Renewable Energy Wind',\n",
       " 'Financial Sector Banking Institutions Capital Markets Insurance and Pension Other Non-bank Financial Institutions Public Administration - Financial Sector',\n",
       " 'Health Health Health Facilities and Construction Public Administration - Health',\n",
       " 'Industry and Trade/Services Agricultural markets, commercialization and agri-business Housing Construction Manufacturing Other Industry, Trade and Services Public Administration - Industry, Trade and Services Services Tourism Trade',\n",
       " 'Info and Communication ICT Infrastructure ICT Services Other Information and Communications Technologies Public Administration - Information and Communications Technologies',\n",
       " 'Public Admin Central Government (Central Agencies) Law and Justice Other Public Administration Sub-National Government',\n",
       " 'Social Protection Public Administration - Social Protection Social Protection',\n",
       " 'Transportation Aviation Other Transportation Ports/Waterways Public Administration - Transportation Railways Rural and Inter-Urban Roads Urban Transport',\n",
       " 'Water/Sanitation/Waste Other Water Supply, Sanitation and Waste Management Public Administration - Water, Sanitation and Waste Management Sanitation Waste Management Water Supply']"
      ]
     },
     "metadata": {},
     "execution_count": 19
    }
   ],
   "source": [
    "full_sector_description"
   ]
  },
  {
   "source": [
    "## Clean the data\n",
    "\n",
    "We're going to start with a simple bag-of-words based model, so we'll need to remove uninformative words. These come in two types:\n",
    "- common words: those that are too common across the dataset to convey much information\n",
    "- rare words: those that only occur a couple of times, so that there's no sense in using them for comparison. these also include ocr typos.\n",
    "\n",
    "We will remove these from the dictionary so they don't get taken into account in the comparison."
   ],
   "cell_type": "markdown",
   "metadata": {}
  },
  {
   "source": [
    "First, tokenize all the texts to split them into words."
   ],
   "cell_type": "markdown",
   "metadata": {}
  },
  {
   "cell_type": "code",
   "execution_count": 20,
   "metadata": {},
   "outputs": [],
   "source": [
    "descriptions_tokens = [nltk.word_tokenize(description.lower()) if type(description) == str else [] for description in agreements_features.project_desc.values]\n",
    "project_names_tokens = [nltk.word_tokenize(name.lower()) if type(name) == str else [] for name in agreements_features[\"Project Name\"].values]\n",
    "sector_descriptions_tokens = [nltk.word_tokenize(desc.lower()) for desc in full_sector_description]"
   ]
  },
  {
   "source": [
    "Construct a gensim dictionary, which counts all the words and their occurrences."
   ],
   "cell_type": "markdown",
   "metadata": {}
  },
  {
   "cell_type": "code",
   "execution_count": 21,
   "metadata": {},
   "outputs": [],
   "source": [
    "dictionary = gensim.corpora.Dictionary([x for x in descriptions_tokens if x is not None])"
   ]
  },
  {
   "cell_type": "code",
   "execution_count": 22,
   "metadata": {},
   "outputs": [
    {
     "output_type": "execute_result",
     "data": {
      "text/plain": [
       "30892"
      ]
     },
     "metadata": {},
     "execution_count": 22
    }
   ],
   "source": [
    "len(dictionary)"
   ]
  },
  {
   "source": [
    "We now filter out the words that appear in at most 5 documents and the words that are in more than 50% of the documents, as well as the overall 50 most frequent words."
   ],
   "cell_type": "markdown",
   "metadata": {}
  },
  {
   "cell_type": "code",
   "execution_count": 23,
   "metadata": {},
   "outputs": [],
   "source": [
    "dictionary.filter_extremes(no_below=5,no_above=.5)"
   ]
  },
  {
   "cell_type": "code",
   "execution_count": 24,
   "metadata": {},
   "outputs": [
    {
     "output_type": "execute_result",
     "data": {
      "text/plain": [
       "6623"
      ]
     },
     "metadata": {},
     "execution_count": 24
    }
   ],
   "source": [
    "len(dictionary)"
   ]
  },
  {
   "cell_type": "code",
   "execution_count": 25,
   "metadata": {
    "tags": []
   },
   "outputs": [],
   "source": [
    "dictionary.filter_n_most_frequent(50)"
   ]
  },
  {
   "cell_type": "code",
   "execution_count": 26,
   "metadata": {},
   "outputs": [
    {
     "output_type": "execute_result",
     "data": {
      "text/plain": [
       "6573"
      ]
     },
     "metadata": {},
     "execution_count": 26
    }
   ],
   "source": [
    "len(dictionary)"
   ]
  },
  {
   "source": [
    "Add in the project names and filter again."
   ],
   "cell_type": "markdown",
   "metadata": {}
  },
  {
   "cell_type": "code",
   "execution_count": 27,
   "metadata": {},
   "outputs": [],
   "source": [
    "dictionary.add_documents([x for x in project_names_tokens if x is not None])"
   ]
  },
  {
   "cell_type": "code",
   "execution_count": 28,
   "metadata": {},
   "outputs": [
    {
     "output_type": "execute_result",
     "data": {
      "text/plain": [
       "7598"
      ]
     },
     "metadata": {},
     "execution_count": 28
    }
   ],
   "source": [
    "len(dictionary)"
   ]
  },
  {
   "cell_type": "code",
   "execution_count": 29,
   "metadata": {
    "tags": []
   },
   "outputs": [],
   "source": [
    "dictionary.filter_extremes(no_below=2,no_above=.9)"
   ]
  },
  {
   "cell_type": "code",
   "execution_count": 30,
   "metadata": {},
   "outputs": [
    {
     "output_type": "execute_result",
     "data": {
      "text/plain": [
       "6877"
      ]
     },
     "metadata": {},
     "execution_count": 30
    }
   ],
   "source": [
    "len(dictionary)"
   ]
  },
  {
   "source": [
    "Finally, add in the sector descriptions."
   ],
   "cell_type": "markdown",
   "metadata": {}
  },
  {
   "cell_type": "code",
   "execution_count": 31,
   "metadata": {},
   "outputs": [],
   "source": [
    "dictionary.add_documents(sector_descriptions_tokens)"
   ]
  },
  {
   "source": [
    "We won't remove any of the words from these; we need all we can get."
   ],
   "cell_type": "markdown",
   "metadata": {}
  },
  {
   "cell_type": "code",
   "execution_count": 32,
   "metadata": {},
   "outputs": [
    {
     "output_type": "execute_result",
     "data": {
      "text/plain": [
       "6891"
      ]
     },
     "metadata": {},
     "execution_count": 32
    }
   ],
   "source": [
    "len(dictionary)"
   ]
  },
  {
   "source": [
    "Now we use this dictionary to construct a sequence of vector embeddings. First simple bag of words:"
   ],
   "cell_type": "markdown",
   "metadata": {}
  },
  {
   "cell_type": "code",
   "execution_count": 33,
   "metadata": {
    "tags": []
   },
   "outputs": [],
   "source": [
    "description_bow = [dictionary.doc2bow(description) if description is not None else None for description in descriptions_tokens]\n",
    "project_name_bow = [dictionary.doc2bow(name) if name is not None else None for name in project_names_tokens]\n",
    "sector_descriptions_bow = [dictionary.doc2bow(name) if name is not None else None for name in sector_descriptions_tokens]"
   ]
  },
  {
   "cell_type": "code",
   "execution_count": 34,
   "metadata": {},
   "outputs": [],
   "source": [
    "corpus = list(filter(lambda x: x is not None, description_bow + project_name_bow + sector_descriptions_bow))"
   ]
  },
  {
   "source": [
    "Now we get tf-idf vectors for these documents."
   ],
   "cell_type": "markdown",
   "metadata": {}
  },
  {
   "cell_type": "code",
   "execution_count": 35,
   "metadata": {},
   "outputs": [],
   "source": [
    "tfidf = gensim.models.TfidfModel(corpus)"
   ]
  },
  {
   "cell_type": "code",
   "execution_count": 36,
   "metadata": {},
   "outputs": [],
   "source": [
    "description_tfidf = [tfidf[desc] if desc is not None else None for desc in description_bow]\n",
    "project_name_tfidf = [tfidf[name] if name is not None else None for name in project_name_bow]\n",
    "sector_descriptions_tfidf = [tfidf[name] if name is not None else None for name in sector_descriptions_bow]"
   ]
  },
  {
   "cell_type": "code",
   "execution_count": 37,
   "metadata": {},
   "outputs": [],
   "source": [
    "agreements_features['project_description_tfidf'] = description_tfidf\n",
    "agreements_features['project_name_tfidf'] = project_name_tfidf\n",
    "#agreements_features['sector_name_tfidf'] = sector_name_tfidf"
   ]
  },
  {
   "source": [
    "Finally, we use latent semantic indexing to reduce the dimensionality, removing noise. This is just an SVD on the tf-idf matrix."
   ],
   "cell_type": "markdown",
   "metadata": {}
  },
  {
   "cell_type": "code",
   "execution_count": 38,
   "metadata": {},
   "outputs": [],
   "source": [
    "lsi = gensim.models.LsiModel(tfidf[corpus], id2word=dictionary, num_topics=200)"
   ]
  },
  {
   "cell_type": "code",
   "execution_count": 39,
   "metadata": {},
   "outputs": [],
   "source": [
    "description_lsi = [lsi[desc] if desc is not None else None for desc in description_tfidf]\n",
    "project_name_lsi = [tfidf[name] if name is not None else None for name in project_name_tfidf]\n",
    "sector_desc_lsi = [tfidf[name] if name is not None else None for name in sector_descriptions_tfidf]"
   ]
  },
  {
   "source": [
    "## Making predictions\n",
    "\n",
    "We'll now use similarities in the document space to predict sectors. "
   ],
   "cell_type": "markdown",
   "metadata": {}
  },
  {
   "cell_type": "code",
   "execution_count": 40,
   "metadata": {},
   "outputs": [],
   "source": [
    "similarities = gensim.similarities.MatrixSimilarity(sector_desc_lsi)\n",
    "description_similarities = similarities.get_similarities(description_lsi)\n",
    "project_name_similarities = similarities.get_similarities(project_name_lsi)"
   ]
  },
  {
   "cell_type": "code",
   "execution_count": 41,
   "metadata": {},
   "outputs": [],
   "source": [
    "description_based_topic_predictions = description_similarities.argmax(axis=1)\n",
    "project_name_topic_predictions = project_name_similarities.argmax(axis=1)"
   ]
  },
  {
   "cell_type": "code",
   "execution_count": 42,
   "metadata": {},
   "outputs": [],
   "source": [
    "agreements_features['description_topic_predictions'] = description_based_topic_predictions\n",
    "agreements_features['project_name_topic_predictions'] = project_name_topic_predictions"
   ]
  },
  {
   "cell_type": "code",
   "execution_count": 43,
   "metadata": {},
   "outputs": [
    {
     "output_type": "stream",
     "name": "stdout",
     "text": [
      "Accuracy: 0.15249266862170088 on 682 predictions\n"
     ]
    }
   ],
   "source": [
    "description_test_set = agreements_features.dropna(how='any',inplace=False,subset=['project_desc','sector_id'])\n",
    "correct_desc_pred = description_test_set.description_topic_predictions == description_test_set.sector_id\n",
    "description_accuracy = sum(correct_desc_pred) / len(correct_desc_pred)\n",
    "print(\"Accuracy:\", description_accuracy, \"on\", len(correct_desc_pred), \"predictions\")"
   ]
  },
  {
   "cell_type": "code",
   "execution_count": 44,
   "metadata": {},
   "outputs": [
    {
     "output_type": "stream",
     "name": "stdout",
     "text": [
      "Accuracy: 0.3897364771151179 on 721 predictions\n"
     ]
    }
   ],
   "source": [
    "name_test_set = agreements_features.dropna(how='any',inplace=False,subset=['Project Name','sector_id'])\n",
    "correct_name_pred = name_test_set.project_name_topic_predictions == name_test_set.sector_id\n",
    "name_accuracy = sum(correct_name_pred) / len(correct_name_pred)\n",
    "print(\"Accuracy:\", name_accuracy, \"on\", len(correct_name_pred), \"predictions\")"
   ]
  },
  {
   "source": [
    "Interestingly, the project names do better on a larger test set than the full project descriptions, despite having far less information. Maybe we should train the model differently.\n",
    "\n",
    "Some things to try:\n",
    "- Use only the words that appear in the sector descriptions. (This makes sense, and probably should have been the case from the beginning.)\n",
    "- Different thresholds for filtering words out.\n",
    "- More sophisticated models like word2vec or doc2vec that include relationships between words. We probably want some pretrained model that knows that certain words are related to terms in the sector descriptions, even if they don't appear there."
   ],
   "cell_type": "markdown",
   "metadata": {}
  }
 ]
}