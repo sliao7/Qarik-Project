{
 "metadata": {
  "language_info": {
   "codemirror_mode": {
    "name": "ipython",
    "version": 3
   },
   "file_extension": ".py",
   "mimetype": "text/x-python",
   "name": "python",
   "nbconvert_exporter": "python",
   "pygments_lexer": "ipython3",
   "version": "3.9.2"
  },
  "orig_nbformat": 2,
  "kernelspec": {
   "name": "python392jvsc74a57bd09c14091437e567b69b891d2838af0ae9212f4b16ac91005526a4e98434c6baeb",
   "display_name": "Python 3.9.2 64-bit ('erdos': conda)"
  },
  "metadata": {
   "interpreter": {
    "hash": "9c14091437e567b69b891d2838af0ae9212f4b16ac91005526a4e98434c6baeb"
   }
  }
 },
 "nbformat": 4,
 "nbformat_minor": 2,
 "cells": [
  {
   "source": [
    "# Sector prediction from loan documents\n",
    "\n",
    "Here we build an unsupervised model to predict the primary sector of a project from the project description and project title given in the loan document.\n",
    "\n",
    "Some caveats: \n",
    "- Not all loan documents have a project description or a project title, and the model will probably not perform well on these.\n",
    "- We are able to match data from the World Bank database with some of the loan documents, but the majority are unmatched.\n",
    "\n",
    "The main idea is to embed the project description and the sector names as vectors in a document space, and match each project description with the nearest sector name. To give additional semantic information to the sector names, we append all the subsector names given by the World Bank.\n",
    "\n",
    "Producing good documents for embedding will probably require cleaning. \n",
    "\n",
    "Does doc2vec work well with stopwords removed? Maybe a baseline tf-idf or LSI model would be best to start with."
   ],
   "cell_type": "markdown",
   "metadata": {}
  },
  {
   "cell_type": "code",
   "execution_count": 53,
   "metadata": {},
   "outputs": [],
   "source": [
    "import pandas as pd\n",
    "import matplotlib.pyplot as plt\n",
    "import numpy as np\n",
    "import nltk\n",
    "import gensim\n",
    "import enum"
   ]
  },
  {
   "source": [
    "## Load and collate all the data\n",
    "\n",
    "It begins in a few different tables, and we need to join them together to get all the relevant features and labels."
   ],
   "cell_type": "markdown",
   "metadata": {}
  },
  {
   "cell_type": "code",
   "execution_count": 3,
   "metadata": {},
   "outputs": [],
   "source": [
    "descriptions_table = pd.read_csv(\"word_bank_project_description.csv\")"
   ]
  },
  {
   "cell_type": "code",
   "execution_count": 4,
   "metadata": {},
   "outputs": [
    {
     "output_type": "execute_result",
     "data": {
      "text/plain": [
       "   Unnamed: 0  year      month  day                  id  \\\n",
       "0           0  1991  september   12  558671468103155868   \n",
       "1           1  2001        may   31  473681468094784501   \n",
       "2           2  1991   november   19  892131468028134392   \n",
       "3           3  2013        may   20  945021468224685176   \n",
       "4           4  1991        may    7  107521468303622178   \n",
       "\n",
       "                                                name  \\\n",
       "0  conformed-copy--l3361--kolubara-b-thermal-powe...   \n",
       "1  conformed-copy--l7054--railway-restructuring-p...   \n",
       "2  china--beijing-environmental-project-:-loan-34...   \n",
       "3  official-documents-loan-agreement,-l8236-cn-cl...   \n",
       "4  conformed-copy--l3230--third-highway-sector-pr...   \n",
       "\n",
       "                                        project_desc  \\\n",
       "0  SCHEDULE 2\\n\\n                    Description ...   \n",
       "1  SCHEDULE 2\\n\\nDescription of the Project\\n\\nTh...   \n",
       "2                                                NaN   \n",
       "3  SCHEDULE1\\n\\nProject Description\\n\\nThe  objec...   \n",
       "4  SCHEDULE 2\\n\\nDescription of the Project\\n\\nTh...   \n",
       "\n",
       "                                       top_common_40  \n",
       "0  serbia rehabilitation thermal monitoring progr...  \n",
       "1  borrower staff program objectives transport se...  \n",
       "2                                                NaN  \n",
       "3  urban rehabilitation water construction city s...  \n",
       "4  maintenance improve highway planning including...  "
      ],
      "text/html": "<div>\n<style scoped>\n    .dataframe tbody tr th:only-of-type {\n        vertical-align: middle;\n    }\n\n    .dataframe tbody tr th {\n        vertical-align: top;\n    }\n\n    .dataframe thead th {\n        text-align: right;\n    }\n</style>\n<table border=\"1\" class=\"dataframe\">\n  <thead>\n    <tr style=\"text-align: right;\">\n      <th></th>\n      <th>Unnamed: 0</th>\n      <th>year</th>\n      <th>month</th>\n      <th>day</th>\n      <th>id</th>\n      <th>name</th>\n      <th>project_desc</th>\n      <th>top_common_40</th>\n    </tr>\n  </thead>\n  <tbody>\n    <tr>\n      <th>0</th>\n      <td>0</td>\n      <td>1991</td>\n      <td>september</td>\n      <td>12</td>\n      <td>558671468103155868</td>\n      <td>conformed-copy--l3361--kolubara-b-thermal-powe...</td>\n      <td>SCHEDULE 2\\n\\n                    Description ...</td>\n      <td>serbia rehabilitation thermal monitoring progr...</td>\n    </tr>\n    <tr>\n      <th>1</th>\n      <td>1</td>\n      <td>2001</td>\n      <td>may</td>\n      <td>31</td>\n      <td>473681468094784501</td>\n      <td>conformed-copy--l7054--railway-restructuring-p...</td>\n      <td>SCHEDULE 2\\n\\nDescription of the Project\\n\\nTh...</td>\n      <td>borrower staff program objectives transport se...</td>\n    </tr>\n    <tr>\n      <th>2</th>\n      <td>2</td>\n      <td>1991</td>\n      <td>november</td>\n      <td>19</td>\n      <td>892131468028134392</td>\n      <td>china--beijing-environmental-project-:-loan-34...</td>\n      <td>NaN</td>\n      <td>NaN</td>\n    </tr>\n    <tr>\n      <th>3</th>\n      <td>3</td>\n      <td>2013</td>\n      <td>may</td>\n      <td>20</td>\n      <td>945021468224685176</td>\n      <td>official-documents-loan-agreement,-l8236-cn-cl...</td>\n      <td>SCHEDULE1\\n\\nProject Description\\n\\nThe  objec...</td>\n      <td>urban rehabilitation water construction city s...</td>\n    </tr>\n    <tr>\n      <th>4</th>\n      <td>4</td>\n      <td>1991</td>\n      <td>may</td>\n      <td>7</td>\n      <td>107521468303622178</td>\n      <td>conformed-copy--l3230--third-highway-sector-pr...</td>\n      <td>SCHEDULE 2\\n\\nDescription of the Project\\n\\nTh...</td>\n      <td>maintenance improve highway planning including...</td>\n    </tr>\n  </tbody>\n</table>\n</div>"
     },
     "metadata": {},
     "execution_count": 4
    }
   ],
   "source": [
    "descriptions_table.head()"
   ]
  },
  {
   "cell_type": "code",
   "execution_count": 5,
   "metadata": {},
   "outputs": [],
   "source": [
    "features_with_project_id = pd.read_pickle(\"extracted_features_with_project_id.pkl\")"
   ]
  },
  {
   "cell_type": "code",
   "execution_count": 6,
   "metadata": {},
   "outputs": [],
   "source": [
    "world_bank_projects = pd.read_pickle(\"world_bank_projects/world_bank_projects_json.pkl\")"
   ]
  },
  {
   "cell_type": "code",
   "execution_count": 7,
   "metadata": {},
   "outputs": [
    {
     "output_type": "execute_result",
     "data": {
      "text/plain": [
       "2906"
      ]
     },
     "metadata": {},
     "execution_count": 7
    }
   ],
   "source": [
    "descriptions_table.project_desc.count()"
   ]
  },
  {
   "cell_type": "code",
   "execution_count": 8,
   "metadata": {},
   "outputs": [],
   "source": [
    "features_with_project_id['id'] = features_with_project_id.id.apply(int)"
   ]
  },
  {
   "cell_type": "code",
   "execution_count": 9,
   "metadata": {},
   "outputs": [
    {
     "output_type": "execute_result",
     "data": {
      "text/plain": [
       "   year      month day                  id  \\\n",
       "0  1991  september  12  558671468103155868   \n",
       "1  2001        may  31  473681468094784501   \n",
       "2  1991   november  19  892131468028134392   \n",
       "3  2013        may  20  945021468224685176   \n",
       "4  1991        may   7  107521468303622178   \n",
       "\n",
       "                                                name  \\\n",
       "0  conformed-copy--l3361--kolubara-b-thermal-powe...   \n",
       "1  conformed-copy--l7054--railway-restructuring-p...   \n",
       "2  china--beijing-environmental-project-:-loan-34...   \n",
       "3  official-documents-loan-agreement,-l8236-cn-cl...   \n",
       "4  conformed-copy--l3230--third-highway-sector-pr...   \n",
       "\n",
       "                                 countries Total Amount  \\\n",
       "0                  [Serbia, United States]    300000000   \n",
       "1                  [Poland, United States]    110000000   \n",
       "2                   [China, United States]     60100000   \n",
       "3                   [China, United States]    150000000   \n",
       "4  [Bosnia and Herzegovina, United States]     55000000   \n",
       "\n",
       "                                        Project Name wb_project_id  \n",
       "0  Kolubara B Thermal Power and Lignite Mine Project          None  \n",
       "1                      Railway Restructuring Project          None  \n",
       "2                      Beijing Environmental Project          None  \n",
       "3  Liaoning Coastal Economic Zone Urban Infrastru...          None  \n",
       "4                       Third Highway Sector Project          None  "
      ],
      "text/html": "<div>\n<style scoped>\n    .dataframe tbody tr th:only-of-type {\n        vertical-align: middle;\n    }\n\n    .dataframe tbody tr th {\n        vertical-align: top;\n    }\n\n    .dataframe thead th {\n        text-align: right;\n    }\n</style>\n<table border=\"1\" class=\"dataframe\">\n  <thead>\n    <tr style=\"text-align: right;\">\n      <th></th>\n      <th>year</th>\n      <th>month</th>\n      <th>day</th>\n      <th>id</th>\n      <th>name</th>\n      <th>countries</th>\n      <th>Total Amount</th>\n      <th>Project Name</th>\n      <th>wb_project_id</th>\n    </tr>\n  </thead>\n  <tbody>\n    <tr>\n      <th>0</th>\n      <td>1991</td>\n      <td>september</td>\n      <td>12</td>\n      <td>558671468103155868</td>\n      <td>conformed-copy--l3361--kolubara-b-thermal-powe...</td>\n      <td>[Serbia, United States]</td>\n      <td>300000000</td>\n      <td>Kolubara B Thermal Power and Lignite Mine Project</td>\n      <td>None</td>\n    </tr>\n    <tr>\n      <th>1</th>\n      <td>2001</td>\n      <td>may</td>\n      <td>31</td>\n      <td>473681468094784501</td>\n      <td>conformed-copy--l7054--railway-restructuring-p...</td>\n      <td>[Poland, United States]</td>\n      <td>110000000</td>\n      <td>Railway Restructuring Project</td>\n      <td>None</td>\n    </tr>\n    <tr>\n      <th>2</th>\n      <td>1991</td>\n      <td>november</td>\n      <td>19</td>\n      <td>892131468028134392</td>\n      <td>china--beijing-environmental-project-:-loan-34...</td>\n      <td>[China, United States]</td>\n      <td>60100000</td>\n      <td>Beijing Environmental Project</td>\n      <td>None</td>\n    </tr>\n    <tr>\n      <th>3</th>\n      <td>2013</td>\n      <td>may</td>\n      <td>20</td>\n      <td>945021468224685176</td>\n      <td>official-documents-loan-agreement,-l8236-cn-cl...</td>\n      <td>[China, United States]</td>\n      <td>150000000</td>\n      <td>Liaoning Coastal Economic Zone Urban Infrastru...</td>\n      <td>None</td>\n    </tr>\n    <tr>\n      <th>4</th>\n      <td>1991</td>\n      <td>may</td>\n      <td>7</td>\n      <td>107521468303622178</td>\n      <td>conformed-copy--l3230--third-highway-sector-pr...</td>\n      <td>[Bosnia and Herzegovina, United States]</td>\n      <td>55000000</td>\n      <td>Third Highway Sector Project</td>\n      <td>None</td>\n    </tr>\n  </tbody>\n</table>\n</div>"
     },
     "metadata": {},
     "execution_count": 9
    }
   ],
   "source": [
    "features_with_project_id.head()"
   ]
  },
  {
   "cell_type": "code",
   "execution_count": 10,
   "metadata": {},
   "outputs": [],
   "source": [
    "agreements_features = descriptions_table.merge(features_with_project_id[['id','Project Name', 'wb_project_id']], left_on='id', right_on='id', how='inner')"
   ]
  },
  {
   "cell_type": "code",
   "execution_count": 11,
   "metadata": {},
   "outputs": [],
   "source": [
    "agreements_features = agreements_features.merge(world_bank_projects[['id','major_sector_name']], left_on='wb_project_id',right_on='id',how='left')"
   ]
  },
  {
   "cell_type": "code",
   "execution_count": 12,
   "metadata": {},
   "outputs": [
    {
     "output_type": "execute_result",
     "data": {
      "text/plain": [
       "3195"
      ]
     },
     "metadata": {},
     "execution_count": 12
    }
   ],
   "source": [
    "len(agreements_features)"
   ]
  },
  {
   "cell_type": "code",
   "execution_count": 13,
   "metadata": {},
   "outputs": [
    {
     "output_type": "execute_result",
     "data": {
      "text/plain": [
       "      Unnamed: 0  year      month  day                id_x  \\\n",
       "1898        1900  1992   december   16  760141468045251729   \n",
       "1167        1168  1991   november   26  916971468272053819   \n",
       "1717        1718  2011        may   10  727071468251100676   \n",
       "1776        1778  1992    january   15  441261468203647983   \n",
       "98            98  2011  september   22  655611468005729826   \n",
       "1889        1891  2017       june   28  374591499706222690   \n",
       "1173        1174  2012   february   15  533511468218386526   \n",
       "1508        1509  2004    october   18  907781468222587588   \n",
       "2846        2850  2013   december   16  246261468040135600   \n",
       "626          626  2006  september   12  345501468312857965   \n",
       "\n",
       "                                                   name  \\\n",
       "1898  conformed-copy--l3536--third-primary-and-secon...   \n",
       "1167  egypt--national-drainage-project-:-loan-3417--...   \n",
       "1717      loan-agreement-for-loan-8029-in-conformed.txt   \n",
       "1776  conformed-copy--l3422--primary-education-devel...   \n",
       "98        loan-agreement-for-loan-8024-az-conformed.txt   \n",
       "1889  official-documents-loan-agreement-for-loan-875...   \n",
       "1173  official-documents-loan-agreement-for-loan-812...   \n",
       "1508              loan-agreement-l4751-cn-conformed.txt   \n",
       "2846  official-documents-loan-agreement-for-loan-831...   \n",
       "626              loan-agreement,-l4824-tr-conformed.txt   \n",
       "\n",
       "                                           project_desc  \\\n",
       "1898  SCHEDULE 2\\n\\n                    Description ...   \n",
       "1167                                                NaN   \n",
       "1717  SCHEDULE 2 \\n \\nAmortization Schedule \\n\\nThe ...   \n",
       "1776  SCHEDULE 2\\n\\nDescription of the Project\\n\\nTh...   \n",
       "98    SCHEDULE 1 \\n \\nProject Description \\n\\n \\n\\n ...   \n",
       "1889  SCHEDULE  2\\n\\nAmortization Schedule\\n\\nThe  f...   \n",
       "1173  SCHEDULE 2 Amortization Schedule The following...   \n",
       "1508  SCHEDULE 2 \\n\\nDescription of the Project \\n\\n...   \n",
       "2846  SCHEDULE  2\\n\\nAmortization Schedule\\n\\nThe  f...   \n",
       "626   SCHEDULE 1 \\n \\nProject Description \\n \\n\\nThe...   \n",
       "\n",
       "                                          top_common_40  \\\n",
       "1898  provision educational primary secondary traini...   \n",
       "1167                                                NaN   \n",
       "1717  date principal loan payment bank paragraph bor...   \n",
       "1776  training education teachers primary management...   \n",
       "98    provision consultants services market capital ...   \n",
       "1889  loan date principal payment paragraph bank sec...   \n",
       "1173  date principal payment loan bank borrower para...   \n",
       "1508  flood control management coal capacity scenic ...   \n",
       "2846  date principal loan payment bank paragraph bor...   \n",
       "626   generation maintenance business power plant sy...   \n",
       "\n",
       "                                           Project Name wb_project_id  \\\n",
       "1898  Third Primary and Secondary Education Sector P...          None   \n",
       "1167                          National Drainage Project          None   \n",
       "1717  e-Delivery of Public Services Development Poli...          None   \n",
       "1776              Primary Education Development Project          None   \n",
       "98                Capital Markets Modernization Project       P120321   \n",
       "1889  Second Competitiveness and Fiscal Management P...          None   \n",
       "1173                 Third Development Policy Operation          None   \n",
       "1508                    Hunan Urban Development Project       P075730   \n",
       "2846  Economic Stabilization and Foundations for Gro...          None   \n",
       "626   Electricity Generation Rehabilitation and  \\nR...       P085561   \n",
       "\n",
       "         id_y       major_sector_name  \n",
       "1898      NaN                     NaN  \n",
       "1167      NaN                     NaN  \n",
       "1717      NaN                     NaN  \n",
       "1776      NaN                     NaN  \n",
       "98    P120321        Financial Sector  \n",
       "1889      NaN                     NaN  \n",
       "1173      NaN                     NaN  \n",
       "1508  P075730  Water/Sanitation/Waste  \n",
       "2846      NaN                     NaN  \n",
       "626   P085561  Energy and Extractives  "
      ],
      "text/html": "<div>\n<style scoped>\n    .dataframe tbody tr th:only-of-type {\n        vertical-align: middle;\n    }\n\n    .dataframe tbody tr th {\n        vertical-align: top;\n    }\n\n    .dataframe thead th {\n        text-align: right;\n    }\n</style>\n<table border=\"1\" class=\"dataframe\">\n  <thead>\n    <tr style=\"text-align: right;\">\n      <th></th>\n      <th>Unnamed: 0</th>\n      <th>year</th>\n      <th>month</th>\n      <th>day</th>\n      <th>id_x</th>\n      <th>name</th>\n      <th>project_desc</th>\n      <th>top_common_40</th>\n      <th>Project Name</th>\n      <th>wb_project_id</th>\n      <th>id_y</th>\n      <th>major_sector_name</th>\n    </tr>\n  </thead>\n  <tbody>\n    <tr>\n      <th>1898</th>\n      <td>1900</td>\n      <td>1992</td>\n      <td>december</td>\n      <td>16</td>\n      <td>760141468045251729</td>\n      <td>conformed-copy--l3536--third-primary-and-secon...</td>\n      <td>SCHEDULE 2\\n\\n                    Description ...</td>\n      <td>provision educational primary secondary traini...</td>\n      <td>Third Primary and Secondary Education Sector P...</td>\n      <td>None</td>\n      <td>NaN</td>\n      <td>NaN</td>\n    </tr>\n    <tr>\n      <th>1167</th>\n      <td>1168</td>\n      <td>1991</td>\n      <td>november</td>\n      <td>26</td>\n      <td>916971468272053819</td>\n      <td>egypt--national-drainage-project-:-loan-3417--...</td>\n      <td>NaN</td>\n      <td>NaN</td>\n      <td>National Drainage Project</td>\n      <td>None</td>\n      <td>NaN</td>\n      <td>NaN</td>\n    </tr>\n    <tr>\n      <th>1717</th>\n      <td>1718</td>\n      <td>2011</td>\n      <td>may</td>\n      <td>10</td>\n      <td>727071468251100676</td>\n      <td>loan-agreement-for-loan-8029-in-conformed.txt</td>\n      <td>SCHEDULE 2 \\n \\nAmortization Schedule \\n\\nThe ...</td>\n      <td>date principal loan payment bank paragraph bor...</td>\n      <td>e-Delivery of Public Services Development Poli...</td>\n      <td>None</td>\n      <td>NaN</td>\n      <td>NaN</td>\n    </tr>\n    <tr>\n      <th>1776</th>\n      <td>1778</td>\n      <td>1992</td>\n      <td>january</td>\n      <td>15</td>\n      <td>441261468203647983</td>\n      <td>conformed-copy--l3422--primary-education-devel...</td>\n      <td>SCHEDULE 2\\n\\nDescription of the Project\\n\\nTh...</td>\n      <td>training education teachers primary management...</td>\n      <td>Primary Education Development Project</td>\n      <td>None</td>\n      <td>NaN</td>\n      <td>NaN</td>\n    </tr>\n    <tr>\n      <th>98</th>\n      <td>98</td>\n      <td>2011</td>\n      <td>september</td>\n      <td>22</td>\n      <td>655611468005729826</td>\n      <td>loan-agreement-for-loan-8024-az-conformed.txt</td>\n      <td>SCHEDULE 1 \\n \\nProject Description \\n\\n \\n\\n ...</td>\n      <td>provision consultants services market capital ...</td>\n      <td>Capital Markets Modernization Project</td>\n      <td>P120321</td>\n      <td>P120321</td>\n      <td>Financial Sector</td>\n    </tr>\n    <tr>\n      <th>1889</th>\n      <td>1891</td>\n      <td>2017</td>\n      <td>june</td>\n      <td>28</td>\n      <td>374591499706222690</td>\n      <td>official-documents-loan-agreement-for-loan-875...</td>\n      <td>SCHEDULE  2\\n\\nAmortization Schedule\\n\\nThe  f...</td>\n      <td>loan date principal payment paragraph bank sec...</td>\n      <td>Second Competitiveness and Fiscal Management P...</td>\n      <td>None</td>\n      <td>NaN</td>\n      <td>NaN</td>\n    </tr>\n    <tr>\n      <th>1173</th>\n      <td>1174</td>\n      <td>2012</td>\n      <td>february</td>\n      <td>15</td>\n      <td>533511468218386526</td>\n      <td>official-documents-loan-agreement-for-loan-812...</td>\n      <td>SCHEDULE 2 Amortization Schedule The following...</td>\n      <td>date principal payment loan bank borrower para...</td>\n      <td>Third Development Policy Operation</td>\n      <td>None</td>\n      <td>NaN</td>\n      <td>NaN</td>\n    </tr>\n    <tr>\n      <th>1508</th>\n      <td>1509</td>\n      <td>2004</td>\n      <td>october</td>\n      <td>18</td>\n      <td>907781468222587588</td>\n      <td>loan-agreement-l4751-cn-conformed.txt</td>\n      <td>SCHEDULE 2 \\n\\nDescription of the Project \\n\\n...</td>\n      <td>flood control management coal capacity scenic ...</td>\n      <td>Hunan Urban Development Project</td>\n      <td>P075730</td>\n      <td>P075730</td>\n      <td>Water/Sanitation/Waste</td>\n    </tr>\n    <tr>\n      <th>2846</th>\n      <td>2850</td>\n      <td>2013</td>\n      <td>december</td>\n      <td>16</td>\n      <td>246261468040135600</td>\n      <td>official-documents-loan-agreement-for-loan-831...</td>\n      <td>SCHEDULE  2\\n\\nAmortization Schedule\\n\\nThe  f...</td>\n      <td>date principal loan payment bank paragraph bor...</td>\n      <td>Economic Stabilization and Foundations for Gro...</td>\n      <td>None</td>\n      <td>NaN</td>\n      <td>NaN</td>\n    </tr>\n    <tr>\n      <th>626</th>\n      <td>626</td>\n      <td>2006</td>\n      <td>september</td>\n      <td>12</td>\n      <td>345501468312857965</td>\n      <td>loan-agreement,-l4824-tr-conformed.txt</td>\n      <td>SCHEDULE 1 \\n \\nProject Description \\n \\n\\nThe...</td>\n      <td>generation maintenance business power plant sy...</td>\n      <td>Electricity Generation Rehabilitation and  \\nR...</td>\n      <td>P085561</td>\n      <td>P085561</td>\n      <td>Energy and Extractives</td>\n    </tr>\n  </tbody>\n</table>\n</div>"
     },
     "metadata": {},
     "execution_count": 13
    }
   ],
   "source": [
    "agreements_features.sample(10)"
   ]
  },
  {
   "cell_type": "code",
   "execution_count": 14,
   "metadata": {},
   "outputs": [],
   "source": [
    "# remove all agreements where we have no data whatsoever. if there's a description or a name, we keep it, though.\n",
    "agreements_features.dropna(how='all',inplace=True,subset=['project_desc','Project Name'])"
   ]
  },
  {
   "cell_type": "code",
   "execution_count": 15,
   "metadata": {},
   "outputs": [
    {
     "output_type": "execute_result",
     "data": {
      "text/plain": [
       "3189"
      ]
     },
     "metadata": {},
     "execution_count": 15
    }
   ],
   "source": [
    "len(agreements_features)\n",
    "#we don't lose very many"
   ]
  },
  {
   "cell_type": "code",
   "execution_count": 16,
   "metadata": {},
   "outputs": [],
   "source": [
    "with open(\"world_bank_sectors.txt\") as f:\n",
    "  sectors = f.read()\n",
    "\n",
    "sectors_list = sectors.split(\"\\n\")\n",
    "\n",
    "sector_dict = dict()\n",
    "current_major_sector = ''\n",
    "for sector in sectors_list:\n",
    "    if sector == '':\n",
    "        current_major_sector = ''\n",
    "        continue\n",
    "    if current_major_sector == '':\n",
    "        current_major_sector = sector\n",
    "        sector_dict[current_major_sector] = []\n",
    "        continue\n",
    "    if current_major_sector in sector_dict.keys():\n",
    "        sector_dict[current_major_sector].append(sector)\n",
    "\n",
    "reverse_sector_dict = dict()\n",
    "for major_sector in sector_dict:\n",
    "    for sector in sector_dict[major_sector]:\n",
    "        reverse_sector_dict[sector] = major_sector"
   ]
  },
  {
   "cell_type": "code",
   "execution_count": 17,
   "metadata": {},
   "outputs": [],
   "source": [
    "sector_numbers = dict()\n",
    "i = 0\n",
    "for sector in sector_dict:\n",
    "    sector_numbers[sector] = i\n",
    "    i += 1"
   ]
  },
  {
   "cell_type": "code",
   "execution_count": 18,
   "metadata": {},
   "outputs": [],
   "source": [
    "agreements_features['sector_id'] = [sector_numbers[sector] if type(sector) == str else None for sector in agreements_features.major_sector_name.values]"
   ]
  },
  {
   "cell_type": "code",
   "execution_count": 19,
   "metadata": {},
   "outputs": [],
   "source": [
    "full_sector_description = [' '.join([x] + sector_dict[x]) for x in sector_dict]"
   ]
  },
  {
   "cell_type": "code",
   "execution_count": 20,
   "metadata": {},
   "outputs": [
    {
     "output_type": "execute_result",
     "data": {
      "text/plain": [
       "['Agriculture Agricultural Extension, Research, and Other Support Activities Crops Fisheries Forestry Irrigation and Drainage Livestock Other Agriculture, Fishing and Forestry Public Administration - Agriculture, Fishing and Forestry',\n",
       " 'Education Adult, Basic and Continuing Education Early Childhood Education Other Education Primary Education Public Administration - Education Secondary Education Tertiary Education Workforce Development/Skills',\n",
       " 'Energy and Extractives Energy Transmission and Distribution Mining Non-Renewable Energy Generation Oil and Gas Other Energy and Extractives Public Administration - Energy and Extractives Renewable Energy Biomass Renewable Energy Geothermal Renewable Energy Hydro Renewable Energy Solar Renewable Energy Wind',\n",
       " 'Financial Sector Banking Institutions Capital Markets Insurance and Pension Other Non-bank Financial Institutions Public Administration - Financial Sector',\n",
       " 'Health Health Health Facilities and Construction Public Administration - Health',\n",
       " 'Industry and Trade/Services Agricultural markets, commercialization and agri-business Housing Construction Manufacturing Other Industry, Trade and Services Public Administration - Industry, Trade and Services Services Tourism Trade',\n",
       " 'Info and Communication ICT Infrastructure ICT Services Other Information and Communications Technologies Public Administration - Information and Communications Technologies',\n",
       " 'Public Admin Central Government (Central Agencies) Law and Justice Other Public Administration Sub-National Government',\n",
       " 'Social Protection Public Administration - Social Protection Social Protection',\n",
       " 'Transportation Aviation Other Transportation Ports/Waterways Public Administration - Transportation Railways Rural and Inter-Urban Roads Urban Transport',\n",
       " 'Water/Sanitation/Waste Other Water Supply, Sanitation and Waste Management Public Administration - Water, Sanitation and Waste Management Sanitation Waste Management Water Supply']"
      ]
     },
     "metadata": {},
     "execution_count": 20
    }
   ],
   "source": [
    "full_sector_description"
   ]
  },
  {
   "source": [
    "## Clean the data\n",
    "\n",
    "We're going to start with a simple bag-of-words based model, so we'll need to remove uninformative words. These come in two types:\n",
    "- common words: those that are too common across the dataset to convey much information\n",
    "- rare words: those that only occur a couple of times, so that there's no sense in using them for comparison. these also include ocr typos.\n",
    "\n",
    "We will remove these from the dictionary so they don't get taken into account in the comparison."
   ],
   "cell_type": "markdown",
   "metadata": {}
  },
  {
   "source": [
    "First, tokenize all the texts to split them into words."
   ],
   "cell_type": "markdown",
   "metadata": {}
  },
  {
   "cell_type": "code",
   "execution_count": 21,
   "metadata": {},
   "outputs": [],
   "source": [
    "descriptions_tokens = [nltk.word_tokenize(description.lower()) if type(description) == str else [] for description in agreements_features.project_desc.values]\n",
    "project_names_tokens = [nltk.word_tokenize(name.lower()) if type(name) == str else [] for name in agreements_features[\"Project Name\"].values]\n",
    "sector_descriptions_tokens = [nltk.word_tokenize(desc.lower()) for desc in full_sector_description]"
   ]
  },
  {
   "source": [
    "Construct a gensim dictionary, which counts all the words and their occurrences."
   ],
   "cell_type": "markdown",
   "metadata": {}
  },
  {
   "cell_type": "code",
   "execution_count": 22,
   "metadata": {},
   "outputs": [],
   "source": [
    "dictionary = gensim.corpora.Dictionary([x for x in descriptions_tokens if x is not None])"
   ]
  },
  {
   "cell_type": "code",
   "execution_count": 23,
   "metadata": {},
   "outputs": [
    {
     "output_type": "execute_result",
     "data": {
      "text/plain": [
       "30892"
      ]
     },
     "metadata": {},
     "execution_count": 23
    }
   ],
   "source": [
    "len(dictionary)"
   ]
  },
  {
   "source": [
    "We now filter out the words that appear in at most 5 documents and the words that are in more than 50% of the documents, as well as the overall 50 most frequent words."
   ],
   "cell_type": "markdown",
   "metadata": {}
  },
  {
   "cell_type": "code",
   "execution_count": 24,
   "metadata": {},
   "outputs": [],
   "source": [
    "dictionary.filter_extremes(no_below=5,no_above=.7)"
   ]
  },
  {
   "cell_type": "code",
   "execution_count": 25,
   "metadata": {},
   "outputs": [
    {
     "output_type": "execute_result",
     "data": {
      "text/plain": [
       "6662"
      ]
     },
     "metadata": {},
     "execution_count": 25
    }
   ],
   "source": [
    "len(dictionary)"
   ]
  },
  {
   "cell_type": "code",
   "execution_count": 26,
   "metadata": {
    "tags": []
   },
   "outputs": [],
   "source": [
    "dictionary.filter_n_most_frequent(30)"
   ]
  },
  {
   "cell_type": "code",
   "execution_count": 27,
   "metadata": {},
   "outputs": [
    {
     "output_type": "execute_result",
     "data": {
      "text/plain": [
       "6632"
      ]
     },
     "metadata": {},
     "execution_count": 27
    }
   ],
   "source": [
    "len(dictionary)"
   ]
  },
  {
   "source": [
    "Add in the project names and filter again."
   ],
   "cell_type": "markdown",
   "metadata": {}
  },
  {
   "cell_type": "code",
   "execution_count": 28,
   "metadata": {},
   "outputs": [],
   "source": [
    "dictionary.add_documents([x for x in project_names_tokens if x is not None])"
   ]
  },
  {
   "cell_type": "code",
   "execution_count": 29,
   "metadata": {},
   "outputs": [
    {
     "output_type": "execute_result",
     "data": {
      "text/plain": [
       "7623"
      ]
     },
     "metadata": {},
     "execution_count": 29
    }
   ],
   "source": [
    "len(dictionary)"
   ]
  },
  {
   "cell_type": "code",
   "execution_count": 30,
   "metadata": {
    "tags": []
   },
   "outputs": [],
   "source": [
    "dictionary.filter_extremes(no_below=2,no_above=.9)"
   ]
  },
  {
   "cell_type": "code",
   "execution_count": 31,
   "metadata": {},
   "outputs": [
    {
     "output_type": "execute_result",
     "data": {
      "text/plain": [
       "6908"
      ]
     },
     "metadata": {},
     "execution_count": 31
    }
   ],
   "source": [
    "len(dictionary)"
   ]
  },
  {
   "source": [
    "Finally, add in the sector descriptions."
   ],
   "cell_type": "markdown",
   "metadata": {}
  },
  {
   "cell_type": "code",
   "execution_count": 32,
   "metadata": {},
   "outputs": [],
   "source": [
    "dictionary.add_documents(sector_descriptions_tokens)"
   ]
  },
  {
   "source": [
    "We won't remove any of the words from these; we need all we can get."
   ],
   "cell_type": "markdown",
   "metadata": {}
  },
  {
   "cell_type": "code",
   "execution_count": 33,
   "metadata": {},
   "outputs": [
    {
     "output_type": "execute_result",
     "data": {
      "text/plain": [
       "6918"
      ]
     },
     "metadata": {},
     "execution_count": 33
    }
   ],
   "source": [
    "len(dictionary)"
   ]
  },
  {
   "source": [
    "Actually, never mind. Let's just use the sector descriptions, since similarities to sector descriptions is all we care about."
   ],
   "cell_type": "markdown",
   "metadata": {}
  },
  {
   "cell_type": "code",
   "execution_count": 34,
   "metadata": {},
   "outputs": [],
   "source": [
    "#dictionary = gensim.corpora.Dictionary(sector_descriptions_tokens)"
   ]
  },
  {
   "cell_type": "code",
   "execution_count": 35,
   "metadata": {},
   "outputs": [],
   "source": [
    "#len(dictionary)"
   ]
  },
  {
   "source": [
    "Now we use this dictionary to construct a sequence of vector embeddings. First simple bag of words:"
   ],
   "cell_type": "markdown",
   "metadata": {}
  },
  {
   "cell_type": "code",
   "execution_count": 36,
   "metadata": {
    "tags": []
   },
   "outputs": [],
   "source": [
    "description_bow = [dictionary.doc2bow(description) if description is not None else None for description in descriptions_tokens]\n",
    "project_name_bow = [dictionary.doc2bow(name) if name is not None else None for name in project_names_tokens]\n",
    "sector_descriptions_bow = [dictionary.doc2bow(name) if name is not None else None for name in sector_descriptions_tokens]"
   ]
  },
  {
   "cell_type": "code",
   "execution_count": 37,
   "metadata": {},
   "outputs": [],
   "source": [
    "corpus = list(filter(lambda x: x is not None, description_bow + project_name_bow + sector_descriptions_bow))"
   ]
  },
  {
   "source": [
    "Now we get tf-idf vectors for these documents."
   ],
   "cell_type": "markdown",
   "metadata": {}
  },
  {
   "cell_type": "code",
   "execution_count": 38,
   "metadata": {},
   "outputs": [],
   "source": [
    "tfidf = gensim.models.TfidfModel(corpus)"
   ]
  },
  {
   "cell_type": "code",
   "execution_count": 39,
   "metadata": {},
   "outputs": [],
   "source": [
    "description_tfidf = [tfidf[desc] if desc is not None else None for desc in description_bow]\n",
    "project_name_tfidf = [tfidf[name] if name is not None else None for name in project_name_bow]\n",
    "sector_descriptions_tfidf = [tfidf[name] if name is not None else None for name in sector_descriptions_bow]"
   ]
  },
  {
   "cell_type": "code",
   "execution_count": 40,
   "metadata": {},
   "outputs": [],
   "source": [
    "agreements_features['project_description_tfidf'] = description_tfidf\n",
    "agreements_features['project_name_tfidf'] = project_name_tfidf\n",
    "#agreements_features['sector_name_tfidf'] = sector_name_tfidf"
   ]
  },
  {
   "source": [
    "Finally, we use latent semantic indexing to reduce the dimensionality, removing noise. This is just an SVD on the tf-idf matrix."
   ],
   "cell_type": "markdown",
   "metadata": {}
  },
  {
   "cell_type": "code",
   "execution_count": 122,
   "metadata": {},
   "outputs": [],
   "source": [
    "lsi = gensim.models.LsiModel(tfidf[corpus], id2word=dictionary, num_topics=300)"
   ]
  },
  {
   "cell_type": "code",
   "execution_count": 123,
   "metadata": {},
   "outputs": [],
   "source": [
    "description_lsi = [lsi[desc] if desc is not None else None for desc in description_tfidf]\n",
    "project_name_lsi = [lsi[name] if name is not None else None for name in project_name_tfidf]\n",
    "sector_desc_lsi = [lsi[name] if name is not None else None for name in sector_descriptions_tfidf]"
   ]
  },
  {
   "cell_type": "code",
   "execution_count": 124,
   "metadata": {},
   "outputs": [],
   "source": [
    "agreements_features['project_description_lsi'] = description_lsi\n",
    "agreements_features['project_name_lsi'] = project_name_lsi"
   ]
  },
  {
   "source": [
    "## Making predictions\n",
    "\n",
    "We'll now use similarities in the document space to predict sectors. "
   ],
   "cell_type": "markdown",
   "metadata": {}
  },
  {
   "cell_type": "code",
   "execution_count": 125,
   "metadata": {},
   "outputs": [],
   "source": [
    "similarities = gensim.similarities.MatrixSimilarity(sector_desc_lsi)\n",
    "description_similarities = similarities[description_lsi]\n",
    "project_name_similarities = similarities[project_name_lsi]"
   ]
  },
  {
   "cell_type": "code",
   "execution_count": 126,
   "metadata": {},
   "outputs": [],
   "source": [
    "description_based_topic_predictions = description_similarities.argmax(axis=1)\n",
    "project_name_topic_predictions = project_name_similarities.argmax(axis=1)"
   ]
  },
  {
   "cell_type": "code",
   "execution_count": 127,
   "metadata": {},
   "outputs": [],
   "source": [
    "agreements_features['description_topic_predictions'] = description_based_topic_predictions\n",
    "agreements_features['project_name_topic_predictions'] = project_name_topic_predictions"
   ]
  },
  {
   "cell_type": "code",
   "execution_count": 128,
   "metadata": {},
   "outputs": [
    {
     "output_type": "stream",
     "name": "stdout",
     "text": [
      "Accuracy: 0.4574780058651026 on 682 predictions\n"
     ]
    }
   ],
   "source": [
    "description_test_set = agreements_features.dropna(how='any',inplace=False,subset=['project_desc','sector_id'])\n",
    "correct_desc_pred = description_test_set.description_topic_predictions == description_test_set.sector_id\n",
    "description_accuracy = sum(correct_desc_pred) / len(correct_desc_pred)\n",
    "print(\"Accuracy:\", description_accuracy, \"on\", len(correct_desc_pred), \"predictions\")"
   ]
  },
  {
   "cell_type": "code",
   "execution_count": 129,
   "metadata": {},
   "outputs": [
    {
     "output_type": "stream",
     "name": "stdout",
     "text": [
      "Accuracy: 0.406380027739251 on 721 predictions\n"
     ]
    }
   ],
   "source": [
    "name_test_set = agreements_features.dropna(how='any',inplace=False,subset=['Project Name','sector_id'])\n",
    "correct_name_pred = name_test_set.project_name_topic_predictions == name_test_set.sector_id\n",
    "name_accuracy = sum(correct_name_pred) / len(correct_name_pred)\n",
    "print(\"Accuracy:\", name_accuracy, \"on\", len(correct_name_pred), \"predictions\")"
   ]
  },
  {
   "source": [
    "Interestingly, the project names do significantly better on a larger test set than the full project descriptions, despite having far less information. Maybe we should train the model differently.\n",
    "\n",
    "Some things to try:\n",
    "- Use only the words that appear in the sector descriptions. OK, tried it: it doesn't change the performance of the project name prediction, and makes the description set worse somehow. Possibly because the LSI was able to find connections between topics and words using the project descriptions... that's probably why you would want to use all the words. So that leaves the next steps:\n",
    "- Different thresholds for filtering words out. The project name prediction accuracy is pretty robust to this, which makes sense. \n",
    "- Figure out how to weight words based on the length of the sector description they belong to. Class 7 is the least frequently predicted, even though it's the most common, probably because its sector description is the shortest.\n",
    "- More sophisticated models like word2vec or doc2vec that include relationships between words. We probably want some pretrained model that knows that certain words are related to terms in the sector descriptions, even if they don't appear there."
   ],
   "cell_type": "markdown",
   "metadata": {}
  },
  {
   "cell_type": "code",
   "execution_count": 120,
   "metadata": {},
   "outputs": [
    {
     "output_type": "execute_result",
     "data": {
      "text/plain": [
       "9     102\n",
       "5      88\n",
       "3      79\n",
       "6      72\n",
       "7      65\n",
       "10     64\n",
       "0      51\n",
       "8      48\n",
       "4      41\n",
       "1      39\n",
       "2      33\n",
       "Name: project_name_topic_predictions, dtype: int64"
      ]
     },
     "metadata": {},
     "execution_count": 120
    }
   ],
   "source": [
    "description_test_set.project_name_topic_predictions.value_counts()"
   ]
  },
  {
   "cell_type": "code",
   "execution_count": 121,
   "metadata": {},
   "outputs": [
    {
     "output_type": "execute_result",
     "data": {
      "text/plain": [
       "7.0     122\n",
       "9.0     100\n",
       "10.0     99\n",
       "0.0      78\n",
       "2.0      62\n",
       "4.0      52\n",
       "5.0      49\n",
       "1.0      43\n",
       "8.0      38\n",
       "3.0      33\n",
       "6.0       6\n",
       "Name: sector_id, dtype: int64"
      ]
     },
     "metadata": {},
     "execution_count": 121
    }
   ],
   "source": [
    "description_test_set.sector_id.value_counts()"
   ]
  },
  {
   "source": [
    "Interesting: although the classes are unbalanced, this is not the reason the project name-based classification does better than chance."
   ],
   "cell_type": "markdown",
   "metadata": {}
  },
  {
   "cell_type": "code",
   "execution_count": 50,
   "metadata": {},
   "outputs": [
    {
     "output_type": "execute_result",
     "data": {
      "text/plain": [
       "['public',\n",
       " 'admin',\n",
       " 'central',\n",
       " 'government',\n",
       " '(',\n",
       " 'central',\n",
       " 'agencies',\n",
       " ')',\n",
       " 'law',\n",
       " 'and',\n",
       " 'justice',\n",
       " 'other',\n",
       " 'public',\n",
       " 'administration',\n",
       " 'sub-national',\n",
       " 'government']"
      ]
     },
     "metadata": {},
     "execution_count": 50
    }
   ],
   "source": [
    "sector_descriptions_tokens[7]"
   ]
  },
  {
   "source": [
    "## A Doc2Vec model\n",
    "\n",
    "Let's try using a more sophisticated model: Doc2Vec. This is technically an neural network, although a very shallow one, which is trained to predict words from local context (like word2vec) combined with a document context vector.\n",
    "\n",
    "We need to get our corpus in a slightly different format to use with gensim's doc2vec."
   ],
   "cell_type": "markdown",
   "metadata": {}
  },
  {
   "cell_type": "code",
   "execution_count": 61,
   "metadata": {},
   "outputs": [],
   "source": [
    "doc2vec_corpus = [gensim.models.doc2vec.TaggedDocument(tokens, [i]) for i, tokens in enumerate(filter(lambda x: len(x) > 0, descriptions_tokens + project_names_tokens + sector_descriptions_tokens))]"
   ]
  },
  {
   "cell_type": "code",
   "execution_count": 62,
   "metadata": {},
   "outputs": [
    {
     "output_type": "execute_result",
     "data": {
      "text/plain": [
       "[TaggedDocument(words=['schedule', '2', 'description', 'of', 'the', 'project', 'the', 'objectives', 'of', 'the', 'project', 'are', 'to', ':', '(', 'i', ')', 'meet', 'the', 'growth', 'in', 'demand', 'for', 'electricity', 'in', 'serbia', ',', 'including', 'its', 'supplies', 'to', 'other', 'republics', 'of', 'the', 'guarantor', ';', '(', 'ii', ')', 'facilitate', 'rehabilitation', 'of', 'aging', 'thermal', 'generating', 'units', 'in', 'serbia', ';', '(', 'iii', ')', 'introduce', 'a', 'systematic', 'air-quality', 'monitoring', 'and', 'study', 'program', 'in', 'the', 'kolubara', 'area', ';', 'and', '(', 'iv', ')', 'improve', 'the', 'financial', 'performance', 'of', 'the', 'borrower', 'and', 'ep', '(', 's', ')', 'and', 'strengthen', 'their', 'capacities', 'in', 'financial', 'management', 'and', 'accounting', '.', 'the', 'project', 'consists', 'of', 'the', 'following', 'parts', ',', 'subject', 'to', 'such', 'modifications', 'thereof', 'as', 'the', 'borrower', 'and', 'the', 'bank', 'may', 'agree', 'upon', 'from', 'time', 'to', 'time', 'to', 'achieve', 'such', 'objectives', ':', 'part', 'a', ':', 'part', 'b', ':', 'part', 'c', ':', 'part', 'd', ':', 'construction', 'of', 'a', '7.0', 'million', 'ton', 'per', 'year', 'lignite', 'mine', 'at', 'tamnava', 'west', 'in', 'serbia', '.', 'construction', 'of', 'a', '700', 'mw', '(', '2', 'x', '350', 'mw', ')', 'mine-head', 'thermal', 'power', 'plant', 'and', 'auxiliary', 'facilities', 'at', 'kolubara', 'b', 'site', 'located', 'at', 'the', 'north', 'end', 'of', 'tamnava', 'west', 'mine', 'field', '.', 'maintenance', 'and', 'rehabilitation', 'of', 'thermal', 'power', 'plants', 'in', 'serbia', '.', '(', '1', ')', 'carrying', 'out', 'a', 'power', 'plant', 'rehabilitation', 'program', 'in', 'serbia', 'for', 'the', '1991', 'through', '1999', 'period', '.', '(', '2', ')', 'strengthening', 'the', 'financial', 'management', 'and', 'accounting', 'systems', 'of', 'the', 'borrower', 'and', 'ep', '(', 's', ')', '.', '(', '3', ')', 'carrying', 'out', 'a', 'cost', 'of', 'service', 'studies', 'for', 'purposes', 'of', 'determining', 'and', 'monitoring', 'tariff', 'levels', '.', '(', '4', ')', 'carrying', 'out', 'a', 'long-term', 'mining', 'development', 'plan', 'for', 'the', 'kolubara', 'area', '.', '(', '5', ')', 'adoption', 'of', 'a', 'long-term', 'regional', 'air', 'quality', 'monitoring', 'program', '.', '*', '*', '*', 'the', 'project', 'is', 'expected', 'to', 'be', 'completed', 'by', 'december', '31', ',', '1996', '.'], tags=[0]),\n",
       " TaggedDocument(words=['schedule', '2', 'description', 'of', 'the', 'project', 'the', 'objectives', 'of', 'the', 'project', 'are', 'to', 'improve', 'the', 'efficiency', 'of', 'the', 'borrower', 'and', 'of', 'rail', 'transport', 'services', 'in', 'poland', 'and', 'to', 'help', 'prepare', 'poland', '’', 's', 'transport', 'system', 'for', 'entry', 'into', 'the', 'european', 'union', '.', 'the', 'project', 'consists', 'of', 'the', 'following', 'parts', ',', 'subject', 'to', 'such', 'modifications', 'thereof', 'as', 'the', 'borrower', 'and', 'the', 'bank', 'may', 'agree', 'upon', 'from', 'time', 'to', 'time', 'to', 'achieve', 'such', 'objectives', ':', 'part', 'a', ':', 'severance', 'payments', 'increase', 'of', 'the', 'borrower', '’', 's', 'productivity', 'through', 'a', 'staff', 'retrenchment', 'program', 'which', 'provides', 'severance', 'payment', 'packages', 'for', 'redundant', 'staff', 'in', 'accordance', 'with', 'the', 'program', '.', 'part', 'b', ':', 'labor', 'redeployment', 'services', 'labor', 'redeployment', 'training', 'programs', 'for', 'redundant', 'staff', 'to', 'assist', 'with', 'job', 'searching', 'and', 'to', 'provide', 'outplacement', 'assistance', ',', 'and', 'monitoring', 'surveys', 'of', 'staff', 'after', 'completion', 'of', 'said', 'programs', '.', 'part', 'c', ':', 'preparation', 'for', 'privatization', 'provision', 'of', 'technical', 'assistance', 'to', 'the', 'borrower', 'to', 'assist', 'with', 'preparation', 'for', 'privatization', 'in', 'accordance', 'with', 'the', 'program', '.', 'the', 'project', 'is', 'expected', 'to', 'be', 'completed', 'by', 'december', '31', ',', '2003', '.', '*', '*', '*'], tags=[1])]"
      ]
     },
     "metadata": {},
     "execution_count": 62
    }
   ],
   "source": [
    "doc2vec_corpus[:2]"
   ]
  },
  {
   "cell_type": "code",
   "execution_count": 63,
   "metadata": {},
   "outputs": [],
   "source": [
    "doc2vec = gensim.models.doc2vec.Doc2Vec(vector_size=50, min_count=3, epochs=40)"
   ]
  },
  {
   "cell_type": "code",
   "execution_count": 64,
   "metadata": {},
   "outputs": [],
   "source": [
    "doc2vec.build_vocab(doc2vec_corpus)"
   ]
  },
  {
   "cell_type": "code",
   "execution_count": 65,
   "metadata": {},
   "outputs": [],
   "source": [
    "doc2vec.train(doc2vec_corpus, total_examples=doc2vec.corpus_count, epochs=doc2vec.epochs)"
   ]
  },
  {
   "cell_type": "code",
   "execution_count": 70,
   "metadata": {},
   "outputs": [],
   "source": [
    "description_vectors = [doc2vec.infer_vector(desc) for desc in descriptions_tokens]\n",
    "project_name_vectors = [doc2vec.infer_vector(name) for name in project_names_tokens]\n",
    "sector_description_vectors = [doc2vec.infer_vector(desc) for desc in sector_descriptions_tokens]"
   ]
  },
  {
   "cell_type": "code",
   "execution_count": 77,
   "metadata": {},
   "outputs": [],
   "source": [
    "description_distances_doc2vec = np.zeros((len(sector_description_vectors),len(description_vectors)))\n",
    "for i in range(len(description_vectors)):\n",
    "    for j in range(len(sector_description_vectors)):\n",
    "        description_distances_doc2vec[j,i] = np.linalg.norm(description_vectors[i]-sector_description_vectors[j])\n",
    "project_name_distances_doc2vec = np.zeros((len(sector_description_vectors),len(project_name_vectors)))\n",
    "for i in range(len(project_name_vectors)):\n",
    "    for j in range(len(sector_description_vectors)):\n",
    "        project_name_distances_doc2vec[j,i] = np.linalg.norm(project_name_vectors[i]-sector_description_vectors[j])"
   ]
  },
  {
   "cell_type": "code",
   "execution_count": 81,
   "metadata": {},
   "outputs": [],
   "source": [
    "doc2vec_description_predictions = np.argmin(description_distances_doc2vec,axis=0)\n",
    "doc2vec_project_name_predictions = np.argmin(project_name_distances_doc2vec,axis=0)"
   ]
  },
  {
   "cell_type": "code",
   "execution_count": 82,
   "metadata": {},
   "outputs": [
    {
     "output_type": "execute_result",
     "data": {
      "text/plain": [
       "array([9, 1, 4, ..., 0, 4, 7])"
      ]
     },
     "metadata": {},
     "execution_count": 82
    }
   ],
   "source": [
    "doc2vec_description_predictions"
   ]
  },
  {
   "cell_type": "code",
   "execution_count": 83,
   "metadata": {},
   "outputs": [],
   "source": [
    "agreements_features['description_topic_predictions_doc2vec'] = doc2vec_description_predictions\n",
    "agreements_features['project_name_topic_predictions_doc2vec'] = doc2vec_project_name_predictions"
   ]
  },
  {
   "cell_type": "code",
   "execution_count": 84,
   "metadata": {},
   "outputs": [
    {
     "output_type": "stream",
     "name": "stdout",
     "text": [
      "Description-based Accuracy: 0.3592375366568915 on 682 predictions\n"
     ]
    }
   ],
   "source": [
    "correct_desc_pred = description_test_set.description_topic_predictions_doc2vec == description_test_set.sector_id\n",
    "description_accuracy = sum(correct_desc_pred) / len(correct_desc_pred)\n",
    "print(\"Description-based Accuracy:\", description_accuracy, \"on\", len(correct_desc_pred), \"predictions\")"
   ]
  },
  {
   "cell_type": "code",
   "execution_count": 85,
   "metadata": {},
   "outputs": [
    {
     "output_type": "stream",
     "name": "stdout",
     "text": [
      "Project Name-based Accuracy: 0.18585298196948682 on 721 predictions\n"
     ]
    }
   ],
   "source": [
    "correct_name_pred = name_test_set.project_name_topic_predictions_doc2vec == name_test_set.sector_id\n",
    "name_accuracy = sum(correct_name_pred) / len(correct_name_pred)\n",
    "print(\"Project Name-based Accuracy:\", name_accuracy, \"on\", len(correct_name_pred), \"predictions\")"
   ]
  },
  {
   "cell_type": "code",
   "execution_count": 98,
   "metadata": {},
   "outputs": [],
   "source": [
    "w = 0.95 #weighting factor for joint prediction\n",
    "combined_distances = w * description_distances_doc2vec + (1-w) * project_name_distances_doc2vec\n",
    "combined_predictions = np.argmin(combined_distances,axis=0)"
   ]
  },
  {
   "cell_type": "code",
   "execution_count": 99,
   "metadata": {},
   "outputs": [],
   "source": [
    "agreements_features['predictions_doc2vec'] = combined_predictions"
   ]
  },
  {
   "cell_type": "code",
   "execution_count": 100,
   "metadata": {},
   "outputs": [
    {
     "output_type": "stream",
     "name": "stdout",
     "text": [
      "Combined Accuracy: 0.35043988269794724 on 682 predictions\n"
     ]
    }
   ],
   "source": [
    "combined_test_set = agreements_features.dropna(how='any',inplace=False,subset=['project_desc','Project Name','sector_id'])\n",
    "correct_joint_pred = combined_test_set.predictions_doc2vec == combined_test_set.sector_id\n",
    "joint_accuracy = sum(correct_joint_pred) / len(correct_desc_pred)\n",
    "print(\"Combined Accuracy:\", joint_accuracy, \"on\", len(correct_joint_pred), \"predictions\")\n"
   ]
  },
  {
   "source": [
    "Well, the descriptions perform better with the doc2vec model. Still not very well, though. Actually, after fixing some bugs, it's worse than the LSI model."
   ],
   "cell_type": "markdown",
   "metadata": {}
  },
  {
   "cell_type": "code",
   "execution_count": 111,
   "metadata": {},
   "outputs": [],
   "source": [
    "agreements_features.to_pickle(\"classification_features.pkl\")"
   ]
  },
  {
   "cell_type": "code",
   "execution_count": null,
   "metadata": {},
   "outputs": [],
   "source": []
  }
 ]
}