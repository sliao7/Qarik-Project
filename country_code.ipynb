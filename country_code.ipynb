{
 "metadata": {
  "language_info": {
   "codemirror_mode": {
    "name": "ipython",
    "version": 3
   },
   "file_extension": ".py",
   "mimetype": "text/x-python",
   "name": "python",
   "nbconvert_exporter": "python",
   "pygments_lexer": "ipython3",
   "version": "3.9.2"
  },
  "orig_nbformat": 2,
  "kernelspec": {
   "name": "python392jvsc74a57bd09c14091437e567b69b891d2838af0ae9212f4b16ac91005526a4e98434c6baeb",
   "display_name": "Python 3.9.2 64-bit ('erdos': conda)"
  },
  "metadata": {
   "interpreter": {
    "hash": "9c14091437e567b69b891d2838af0ae9212f4b16ac91005526a4e98434c6baeb"
   }
  }
 },
 "nbformat": 4,
 "nbformat_minor": 2,
 "cells": [
  {
   "cell_type": "code",
   "execution_count": 1,
   "metadata": {},
   "outputs": [],
   "source": [
    "import re\n",
    "import os\n",
    "import pandas as pd\n",
    "from datetime import date"
   ]
  },
  {
   "cell_type": "code",
   "execution_count": 2,
   "metadata": {},
   "outputs": [],
   "source": [
    "ccmatch = re.compile(r\"(?:loan|credit agreement)\\s*(?:numbers?|no[.]?)\\s*(ibrd)?\\s*([0-9\\s]{4,5}(?:-?[0-9]?)*)[-\\s]*([a-z]{2,4})\")\n",
    "\n",
    "grantmatch = re.compile(r\"grant\\s*number\\s*(tf[0-9]*)[-\\s]*([a-z]{2,4})\")"
   ]
  },
  {
   "cell_type": "code",
   "execution_count": 3,
   "metadata": {},
   "outputs": [],
   "source": [
    "source_dir = \"world_bank_loans_txt\""
   ]
  },
  {
   "cell_type": "code",
   "execution_count": 4,
   "metadata": {},
   "outputs": [],
   "source": [
    "id_date_regex = re.compile(r\"([0-9]{4})\\_(\\w*)\\_([0-9]{1,2})\\_([0-9]*)\")"
   ]
  },
  {
   "cell_type": "code",
   "execution_count": 5,
   "metadata": {
    "tags": []
   },
   "outputs": [],
   "source": [
    "file_list = os.listdir(source_dir)\n",
    "bad_captures = []\n",
    "ids = []\n",
    "country_codes = []\n",
    "dates = []\n",
    "months = {'january': 1, 'february': 2, 'march': 3, 'april': 4, 'may': 5, 'june': 6, 'july': 7, 'august': 8, 'september': 9, 'october': 10, 'november': 11, 'december': 12}\n",
    "for f in file_list:\n",
    "    if f[-3:] != 'txt':\n",
    "        continue\n",
    "    info = id_date_regex.match(f)\n",
    "    id = info.groups()[3]\n",
    "    ids.append(id)\n",
    "    y = info.groups()[0]\n",
    "    m = info.groups()[1]\n",
    "    d = info.groups()[2]\n",
    "    dates.append(date(int(y),months[m],int(d)))\n",
    "    with open(source_dir + '/' + f,'r') as fh:\n",
    "        agreement = fh.read()\n",
    "        captures = ccmatch.search(agreement.lower())\n",
    "        if captures is None:\n",
    "            captures = grantmatch.search(agreement.lower())\n",
    "            if captures is None:\n",
    "                bad_captures.append(f)\n",
    "                country_codes.append(None)\n",
    "            else:\n",
    "                country_codes.append(captures.groups()[1])\n",
    "        else:\n",
    "            country_codes.append(captures.groups()[2])"
   ]
  },
  {
   "cell_type": "code",
   "execution_count": 6,
   "metadata": {},
   "outputs": [],
   "source": [
    "#bad_captures"
   ]
  },
  {
   "cell_type": "code",
   "execution_count": 7,
   "metadata": {},
   "outputs": [],
   "source": [
    "f = source_dir + \"/2010_july_21_376051489609974334_ctf-loan-agreement-for-tf096291-mx-conformed.txt\"\n",
    "with open(f) as fh:\n",
    "    agreement = fh.read()\n",
    "agreement = agreement.lower()"
   ]
  },
  {
   "cell_type": "code",
   "execution_count": 8,
   "metadata": {},
   "outputs": [],
   "source": [
    "iso_codes = pd.read_csv(\"wikipedia-iso-country-codes.csv\")\n",
    "country_code_dict = dict()\n",
    "for idx, row in iso_codes.iterrows():\n",
    "    code2 = str(row['Alpha-2 code']).lower()\n",
    "    code3 = row['Alpha-3 code'].lower()\n",
    "    country_name = row['English short name lower case']\n",
    "    country_code_dict[code2] = country_name\n",
    "    country_code_dict[code3] = country_name"
   ]
  },
  {
   "cell_type": "code",
   "execution_count": 9,
   "metadata": {},
   "outputs": [],
   "source": [
    "country_code_dict['yu'] = 'Yugoslavia'\n",
    "country_code_dict['cha'] = \"China\"\n",
    "country_code_dict['egt'] = \"Egypt\"\n",
    "country_code_dict['sw'] = \"Swaziland\"\n",
    "country_code_dict['mor'] = \"Morocco\"\n",
    "country_code_dict['waf'] = \"West African Monetary Union (?)\"\n",
    "country_code_dict['le'] = \"Lebanon\"\n",
    "country_code_dict['bul'] = \"Bulgaria\"\n",
    "country_code_dict['ko'] = \"Korea\"\n",
    "country_code_dict['tu'] = \"Turkey\"\n",
    "country_code_dict['yf'] = \"Serbia\"\n",
    "country_code_dict['cob'] = \"People's Republic of the Congo\" #should just be Republic of the Congo, its modern name?\n",
    "country_code_dict['slu'] = \"Saint Lucia\"\n",
    "country_code_dict['ur'] = \"Uruguay\"\n",
    "country_code_dict['zim'] = \"Zimbabwe\"\n",
    "country_code_dict['fij'] = \"Fiji\"\n",
    "country_code_dict['uni'] = \"Nigeria\"\n",
    "country_code_dict['mas'] = \"Mauritius\"\n",
    "country_code_dict['rom'] = \"Romania\"\n",
    "country_code_dict['slo'] = \"Slovenia\"\n",
    "country_code_dict['ld'] = \"Indonesia\" #ocr error\n",
    "country_code_dict['nd'] = \"Indonesia\" #ocr error\n",
    "country_code_dict['mi'] = \"Moldova\" #ocr error\n",
    "country_code_dict['he'] = \"Mexico\" #ocr error\n",
    "country_code_dict['oro'] = \"Romania\" #ocr error\n",
    "country_code_dict['bot'] = \"Botswana\"\n",
    "country_code_dict['na'] = \"Namibia\"\n",
    "country_code_dict['bar'] = \"Barbados\"\n",
    "country_code_dict['crg'] = \"Caribbean Development Bank\"\n",
    "country_code_dict['ivc'] = \"Cote d'Ivoire\"\n",
    "country_code_dict['sivc'] = \"Cote d'Ivoire\" #ocr error\n",
    "country_code_dict['ho'] = \"Honduras\"\n",
    "country_code_dict['sey'] = \"Seychelles\"\n",
    "country_code_dict['cs'] = \"Slovak Republic\"\n",
    "country_code_dict['loan'] = None #ocr/regex error\n",
    "country_code_dict['dear'] = None #ocr/regex error\n",
    "country_code_dict['addi'] = None #ocr/regex error\n",
    "country_code_dict['cred'] = None #ocr/regex error\n"
   ]
  },
  {
   "cell_type": "code",
   "execution_count": 10,
   "metadata": {},
   "outputs": [],
   "source": [
    "countries_frame = pd.DataFrame({\"id\": ids, \"date\": dates, \"country_code\": country_codes, \"country_name\": ['']*len(ids)})"
   ]
  },
  {
   "cell_type": "code",
   "execution_count": 11,
   "metadata": {
    "tags": []
   },
   "outputs": [],
   "source": [
    "for i in range(len(countries_frame)):\n",
    "    code = countries_frame.country_code.iloc[i]\n",
    "    if code is not None:\n",
    "        if code in country_code_dict:\n",
    "            countries_frame.country_name.iloc[i] = country_code_dict[code]\n",
    "        else: \n",
    "            print(countries_frame.iloc[i])\n",
    "            "
   ]
  },
  {
   "cell_type": "code",
   "execution_count": 12,
   "metadata": {},
   "outputs": [
    {
     "output_type": "execute_result",
     "data": {
      "text/plain": [
       "                      id        date country_code country_name\n",
       "2270  572511468296114374  1998-10-06          pol       Poland\n",
       "1656  879391468223155847  1997-08-29          cha        China\n",
       "2124  504431468202130944  2007-08-16           ar    Argentina\n",
       "20    202591468248697830  2010-08-02           co     Colombia\n",
       "991   126261574264006073  2019-10-24           ar    Argentina\n",
       "1646  416371468193468439  2009-02-27           ar    Argentina\n",
       "2783  493441468240861878  2008-06-19           co     Colombia\n",
       "446   987261468303048645  2012-12-11           uy      Uruguay\n",
       "979   756351531341849623  2018-06-29           tn      Tunisia\n",
       "2436  801331468270320140  1997-01-24           kz   Kazakhstan"
      ],
      "text/html": "<div>\n<style scoped>\n    .dataframe tbody tr th:only-of-type {\n        vertical-align: middle;\n    }\n\n    .dataframe tbody tr th {\n        vertical-align: top;\n    }\n\n    .dataframe thead th {\n        text-align: right;\n    }\n</style>\n<table border=\"1\" class=\"dataframe\">\n  <thead>\n    <tr style=\"text-align: right;\">\n      <th></th>\n      <th>id</th>\n      <th>date</th>\n      <th>country_code</th>\n      <th>country_name</th>\n    </tr>\n  </thead>\n  <tbody>\n    <tr>\n      <th>2270</th>\n      <td>572511468296114374</td>\n      <td>1998-10-06</td>\n      <td>pol</td>\n      <td>Poland</td>\n    </tr>\n    <tr>\n      <th>1656</th>\n      <td>879391468223155847</td>\n      <td>1997-08-29</td>\n      <td>cha</td>\n      <td>China</td>\n    </tr>\n    <tr>\n      <th>2124</th>\n      <td>504431468202130944</td>\n      <td>2007-08-16</td>\n      <td>ar</td>\n      <td>Argentina</td>\n    </tr>\n    <tr>\n      <th>20</th>\n      <td>202591468248697830</td>\n      <td>2010-08-02</td>\n      <td>co</td>\n      <td>Colombia</td>\n    </tr>\n    <tr>\n      <th>991</th>\n      <td>126261574264006073</td>\n      <td>2019-10-24</td>\n      <td>ar</td>\n      <td>Argentina</td>\n    </tr>\n    <tr>\n      <th>1646</th>\n      <td>416371468193468439</td>\n      <td>2009-02-27</td>\n      <td>ar</td>\n      <td>Argentina</td>\n    </tr>\n    <tr>\n      <th>2783</th>\n      <td>493441468240861878</td>\n      <td>2008-06-19</td>\n      <td>co</td>\n      <td>Colombia</td>\n    </tr>\n    <tr>\n      <th>446</th>\n      <td>987261468303048645</td>\n      <td>2012-12-11</td>\n      <td>uy</td>\n      <td>Uruguay</td>\n    </tr>\n    <tr>\n      <th>979</th>\n      <td>756351531341849623</td>\n      <td>2018-06-29</td>\n      <td>tn</td>\n      <td>Tunisia</td>\n    </tr>\n    <tr>\n      <th>2436</th>\n      <td>801331468270320140</td>\n      <td>1997-01-24</td>\n      <td>kz</td>\n      <td>Kazakhstan</td>\n    </tr>\n  </tbody>\n</table>\n</div>"
     },
     "metadata": {},
     "execution_count": 12
    }
   ],
   "source": [
    "countries_frame.sample(10)"
   ]
  },
  {
   "cell_type": "code",
   "execution_count": 13,
   "metadata": {},
   "outputs": [
    {
     "output_type": "execute_result",
     "data": {
      "text/plain": [
       "                        id        date country_code country_name\n",
       "count                 3201        3201         3116         3194\n",
       "unique                3201        2100          139          107\n",
       "top     756211468015006363  1994-02-14           in        India\n",
       "freq                     1          11          191          336"
      ],
      "text/html": "<div>\n<style scoped>\n    .dataframe tbody tr th:only-of-type {\n        vertical-align: middle;\n    }\n\n    .dataframe tbody tr th {\n        vertical-align: top;\n    }\n\n    .dataframe thead th {\n        text-align: right;\n    }\n</style>\n<table border=\"1\" class=\"dataframe\">\n  <thead>\n    <tr style=\"text-align: right;\">\n      <th></th>\n      <th>id</th>\n      <th>date</th>\n      <th>country_code</th>\n      <th>country_name</th>\n    </tr>\n  </thead>\n  <tbody>\n    <tr>\n      <th>count</th>\n      <td>3201</td>\n      <td>3201</td>\n      <td>3116</td>\n      <td>3194</td>\n    </tr>\n    <tr>\n      <th>unique</th>\n      <td>3201</td>\n      <td>2100</td>\n      <td>139</td>\n      <td>107</td>\n    </tr>\n    <tr>\n      <th>top</th>\n      <td>756211468015006363</td>\n      <td>1994-02-14</td>\n      <td>in</td>\n      <td>India</td>\n    </tr>\n    <tr>\n      <th>freq</th>\n      <td>1</td>\n      <td>11</td>\n      <td>191</td>\n      <td>336</td>\n    </tr>\n  </tbody>\n</table>\n</div>"
     },
     "metadata": {},
     "execution_count": 13
    }
   ],
   "source": [
    "countries_frame.describe()"
   ]
  },
  {
   "cell_type": "code",
   "execution_count": 17,
   "metadata": {},
   "outputs": [],
   "source": [
    "countries_frame = countries_frame.sort_values(\"date\",axis=0)"
   ]
  },
  {
   "cell_type": "code",
   "execution_count": 19,
   "metadata": {},
   "outputs": [],
   "source": [
    "countries_frame.to_csv(\"id_date_country.csv\",index=False)"
   ]
  },
  {
   "cell_type": "code",
   "execution_count": null,
   "metadata": {},
   "outputs": [],
   "source": []
  }
 ]
}