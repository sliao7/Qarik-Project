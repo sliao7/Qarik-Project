{
 "metadata": {
  "language_info": {
   "codemirror_mode": {
    "name": "ipython",
    "version": 3
   },
   "file_extension": ".py",
   "mimetype": "text/x-python",
   "name": "python",
   "nbconvert_exporter": "python",
   "pygments_lexer": "ipython3",
   "version": "3.9.2"
  },
  "orig_nbformat": 2,
  "kernelspec": {
   "name": "python392jvsc74a57bd09c14091437e567b69b891d2838af0ae9212f4b16ac91005526a4e98434c6baeb",
   "display_name": "Python 3.9.2 64-bit ('erdos': conda)"
  },
  "metadata": {
   "interpreter": {
    "hash": "9c14091437e567b69b891d2838af0ae9212f4b16ac91005526a4e98434c6baeb"
   }
  }
 },
 "nbformat": 4,
 "nbformat_minor": 2,
 "cells": [
  {
   "cell_type": "code",
   "execution_count": 3,
   "metadata": {},
   "outputs": [],
   "source": [
    "import re\n",
    "import os"
   ]
  },
  {
   "cell_type": "code",
   "execution_count": 169,
   "metadata": {},
   "outputs": [],
   "source": [
    "ccmatch = re.compile(r\"(?:loan|credit agreement)\\s*(?:numbers?|no[.]?)\\s*(ibrd)?\\s*([0-9\\s]{4,5}(?:-?[0-9]?)*)[-\\s]*([a-z]{2,4})\")\n",
    "\n",
    "grantmatch = re.compile(r\"grant\\s*number\\s*(tf[0-9]*)[-\\s]*([a-z]{2,4})\")"
   ]
  },
  {
   "cell_type": "code",
   "execution_count": 100,
   "metadata": {},
   "outputs": [],
   "source": [
    "source_dir = \"world_bank_loans_txt\""
   ]
  },
  {
   "cell_type": "code",
   "execution_count": 160,
   "metadata": {},
   "outputs": [],
   "source": [
    "id_date_regex = re.compile(r\"([0-9]{4})\\_(\\w*)\\_([0-9]{1,2})\\_([0-9]*)\")"
   ]
  },
  {
   "cell_type": "code",
   "execution_count": 196,
   "metadata": {
    "tags": []
   },
   "outputs": [],
   "source": [
    "file_list = os.listdir(source_dir)\n",
    "bad_captures = []\n",
    "country_codes = dict()\n",
    "dates = dict()\n",
    "for f in file_list:\n",
    "    if f[-3:] != 'txt':\n",
    "        continue\n",
    "    info = id_date_regex.match(f)\n",
    "    id = info.groups()[3]\n",
    "    y = info.groups()[0]\n",
    "    m = info.groups()[1]\n",
    "    d = info.groups()[2]\n",
    "    dates[id] = (y,m,d)\n",
    "    with open(source_dir + '/' + f,'r') as fh:\n",
    "        agreement = fh.read()\n",
    "        captures = ccmatch.search(agreement.lower())\n",
    "        if captures is None:\n",
    "            captures = grantmatch.search(agreement.lower())\n",
    "            if captures is None:\n",
    "                bad_captures.append(f)\n",
    "            else:\n",
    "                country_codes[id] = captures.groups()[1]\n",
    "        else:\n",
    "            country_codes[id] = captures.groups()[2]"
   ]
  },
  {
   "cell_type": "code",
   "execution_count": 197,
   "metadata": {},
   "outputs": [
    {
     "output_type": "execute_result",
     "data": {
      "text/plain": [
       "['2014_december_9_318201468006913878_official-documents-scf-loan-agreement-for-tf016083-closing-package.txt',\n",
       " '2018_november_27_243281543417298669_official-documents-amended-and-restated-scf-ppcr-loan-agreement-for-tf016912-closing-package.txt',\n",
       " '1995_march_23_450521468335049833_conformed-copy--c2676--basic-education-reform-project--loan-agreement.txt',\n",
       " '2019_august_29_768791568310323989_official-documents-loan-agreement-for-cfr-srep-loan-tf0a7640-closing-package.txt',\n",
       " '1994_june_21_740261468038036933_gabon--economic-recovery-loan-:-loan-3759--loan-agreement--conformed.txt',\n",
       " '1994_june_29_850181468048557222_lebanon--revenue-enhancement-and-fiscal-management-technical-assistance-project-:-loan-3770--loan-agreement--conformed.txt',\n",
       " '2017_may_22_415241496780518663_official-documents-scf-loan-agreement-for-tf019211.txt',\n",
       " '2015_july_2_504891468052795717_official-documents-loan-agreement-for-ctf-loan-tf019266-closing-package.txt',\n",
       " '2004_june_30_904411468267559962_loan-agremeent-l4740-id--conformed.txt',\n",
       " '2017_july_7_901001501775930272_official-documents-loan-agreement-for-scf-srep-loan-tf0a4969-closing-package.txt',\n",
       " '2019_october_24_430401583873878529_official-documents-loan-agreement-for-loan-9011-in-closing-package.txt',\n",
       " '2004_june_2_988251468041661514_loan-agreement-l4710-id--conformed.txt',\n",
       " '2017_may_11_115601496869785439_official-documents-loan-agreement-for-scf-fip-loan-tf0a4201-closing-package.txt',\n",
       " '2015_october_2_287531468119091168_official-documents-loan-agreement,-loan-8536-tn-closing-package.txt',\n",
       " '2019_april_22_828481556814821022_official-documents-loan-agreement-for-scf-loan-tf0a8336-closing-package.txt',\n",
       " '2015_august_12_993161468288662178_official-documents-scf-ppcr-loan-agreement,-tf019396-closing-package.txt',\n",
       " '2009_june_9_378961468338058118_loan-agreement-for-ctf-loan-tf094498-conformed.txt',\n",
       " '1995_june_22_787521468270603560_mexico--essential-social-services-program-:-loan-3912--loan-agreement--conformed.txt',\n",
       " '1994_september_22_201541468238782466_bulgaria--debt-and-debt-service-reduction-loan-:-loan-3800--loan-agreement--conformed.txt',\n",
       " '2017_january_16_970521485530543523_official-documents-loan-agreement-for-loan-8679-7e-closing-package.txt',\n",
       " '1995_august_3_601361468047065199_lebanon--administrative-rehabilitation-project-:-loan-3930--loan-agreement--conformed.txt',\n",
       " '2019_december_12_931611577726651104_official-documents-loan-agreement-for-ctf-loan-tf0b0782-closing-package.txt',\n",
       " '1995_march_23_505191468250492093_india--financial-sector-development-project-:-loan-3856--loan-agreement--conformed.txt',\n",
       " '1995_march_23_805271468274179271_india--financial-sector-development-project-:-loan-3857--loan-agreement--conformed.txt',\n",
       " '2010_december_8_400201468057244535_ctf-loan-agreement-for-tf098062-conformed.txt',\n",
       " '1995_october_24_628171468262761589_jordan--economic-reform-and-development-loan-:-loan-3947--loan-agreement--conformed.txt',\n",
       " '2009_june_9_293301468109481110_ctf-loan-agreement-for-tf094499-conformed.txt',\n",
       " '1991_december_5_825341468040565140_india--structural-adjustment-loan-:-loan-3421--loan-agreement--conformed.txt',\n",
       " '2013_june_14_275501468327915045_official-documents-loan-agreement,-tf014573-closing-package.txt',\n",
       " '1995_august_29_622181468298764669_romania--power-sector-rehabilitation-and-modernization-project-:-loan-3936--loan-agreement--conformed.txt',\n",
       " '1994_january_6_393101468278701174_korea--science-and-technical-education-project-:-loan-3693--loan-agreement--conformed.txt',\n",
       " '2016_december_26_742461484086481930_official-documents-loan-agreement-for-loan-8681-7e-closing-package.txt',\n",
       " '1995_may_2_409061468246619834_dominican-republic--irrigated-land-and-watershed-management-project-:-loan-3875--loan-agreement--conformed.txt',\n",
       " '2015_august_27_283381468297556842_official-documents-loan-agreement,-loan-8522-pl-closing-package.txt',\n",
       " '2014_october_14_175701468093560371_official-documents-ctf-loan-agreement-tf017646-closing-package.txt',\n",
       " '2019_february_14_961051551974872881_official-documents-loan-agreement-for-scf-loan-tf0a8845-closing-package.txt',\n",
       " '1993_september_14_706051468098364871_pakistan--public-sector-adjustment-loan-:-credit-2542--loan-agreement--conformed.txt',\n",
       " '1994_february_17_480161468090872414_mexico--on-farm-and-minor-irrigation-networks-improvement-project-:-loan-3704--loan-agreement--conformed.txt',\n",
       " '1995_december_5_621361468332426303_peru--rural-road-rehabilitation-and-maintenance-project-:-loan-3962--loan-agreement--conformed.txt',\n",
       " '2018_may_8_486251525875089987_official-documents-disbursement-letter-for-loan-8794-uy.txt',\n",
       " '2014_may_26_162101468112147207_official-documents-ctf-loan-agreement-for-tf017112-closing-package.txt',\n",
       " '2016_june_30_318051470333645705_official-documents-ctf-loan-agreement-for-tf0a2401-closing-package.txt',\n",
       " '2014_june_11_919921468050670115_official-documents-ctf-loan-agreement-for-tf016957-in-closing-package.txt',\n",
       " '2017_november_20_263791513102435153_official-documents-loan-agreement-for-ctf-loan-tf0a4648-closing-package.txt',\n",
       " '2017_october_15_355181508515137584_official-documents-gef-loan-agreement-for-tf0a5322-closing-package.txt',\n",
       " '2002_december_23_599181468122370707_conformed-copy--l7151--northwest-mountainous-and-forestry-areas-development-project--loan-agreement.txt',\n",
       " '2011_december_5_990041489678782425_official-documents-ctf-loan-agreement-for-tf010407.txt',\n",
       " '2018_june_11_958871530037053116_official-documents-loan-agreement-for-loan-8859-tr-closing-package.txt',\n",
       " '2016_december_19_207141482437577823_official-documents-financing-agreement-for-credit-5925-bf-closing-package.txt',\n",
       " '2019_july_17_226451565722240925_official-documents-loan-agreement-for-loan-8970-cn-a-and-loan-8971-cn-b-closing-package.txt',\n",
       " '2014_february_24_763161468059959828_official-documents-scf-ppcr-loan-agreement-for-tf015923-closing-package.txt',\n",
       " '2014_may_26_178471468316156147_official-documents-loan-agreement-for-ctf-loan-tf016327-closing-package.txt',\n",
       " '1995_april_25_130491468057353813_russia--emergency-oil-spill-recovery-and-mitigation-project-:-loan-3872--loan-agreement--conformed.txt',\n",
       " '1995_september_14_180191468068335357_paraguay--secondary-education-improvement-project-:-loan-3941--loan-agreement--conformed.txt',\n",
       " '1996_january_19_282581468105251282_conformed-copy--l3975--financial-and-enterprise-sector-adjustment-loan--loan-agreement.txt',\n",
       " '1994_december_8_665871468281047823_moldova--structural-adjustment-loan-:-loan-3815--loan-agreement--conformed.txt',\n",
       " '2015_july_12_820441468044383821_official-documents-loan-agreement,-l8520-iq-closing-package.txt',\n",
       " '2016_august_31_894681474385269787_official-documents-loan-agreement-for-loan-8620-pk-closing-package.txt',\n",
       " '2019_july_4_843181565786291409_official-documents-amendment-no.-3-to-the-loan-agreement-for-8229-am.txt',\n",
       " '2016_july_11_613971475178384945_official-documents-loan-agreement-for-loan-8598-vn-closing-package.txt',\n",
       " '1994_december_22_148261468302458224_ukraine--rehabilitation-loan-:-loan-3831--loan-agreement--conformed.txt',\n",
       " '2019_march_5_756831559142088764_official-documents-disbursement-and-financial-information-letter-for-additional-financing-loan-89210-in-closing-package.txt',\n",
       " '1996_june_27_416461468315346255_conformed-copy--l4107--export-development-project--loan-agreement.txt',\n",
       " '1995_april_25_250351468024580226_china--yangtze-basin-water-resources-project-:-loan-3874--loan-agreement--conformed.txt',\n",
       " '2008_february_21_719611468054598726_amended-and-restated-loan-agreement,-loan-4802-a-mk-conformed.txt',\n",
       " '2012_july_31_387511468215362382_official-documents-amendment-to-the-loan-agreement-for-loan-7485-cl.txt',\n",
       " '1994_june_9_879651468055455260_mexico--second-water-supply-and-sanitation-sector-project-:-loan-3751--loan-agreement--conformed.txt',\n",
       " '2012_november_8_262761468310475540_official-documents-ctf-loan-agreement-for-tf013468-vn-closing-package.txt',\n",
       " '2019_may_8_404361559247121443_official-documents-loan-agreement-for-additional-financing-scf-ppcr-loan-tf0a9610-ne-closing-package.txt',\n",
       " '2014_july_10_223901468101381402_official-documents-loan-agreement-for-ctf-loan-tf016958-closing-package.txt',\n",
       " '2013_march_20_511921468143703133_official-documents-revised-disbursement-letter-for-tf013474.txt',\n",
       " '2015_december_11_626511468133526663_official-documents-loan-agreement-among-agence-francaise-de-developpement,-green-climate-fund-and-ibrd-as-interim-trustee-of-the-green-climate-fund,-tf069022.txt',\n",
       " '2014_november_18_686991468053055196_official-documents-agreement-for-scf-ppcr-loan-tf016486-mz-closing-package.txt',\n",
       " '2017_november_2_389131511278523375_official-documents-loan-agreement-for-loan-8792-yf-closing-package.txt',\n",
       " '2013_may_29_614591467997867801_official-documents-loan-agreement,-l8267-am-closing-package.txt',\n",
       " '2010_july_21_376051489609974334_ctf-loan-agreement-for-tf096291-mx-conformed.txt',\n",
       " '1994_july_5_491821468059067632_paraguay--private-sector-development-project-:-loan-3775--loan-agreement--conformed.txt',\n",
       " '1998_may_29_806201468019740340_china--yangzhou-thermal-power-project-:-loan-3718--loan-agreement--2--conformed.txt',\n",
       " '2018_july_9_137751533665134424_official-documents-loan-agreement-for-loan-8842-id-closing-package.txt',\n",
       " '2003_january_9_475441468122370984_conformed-copy--l7154--third-municipal-development-project--loan-agreement.txt',\n",
       " '1993_september_14_669041468289880869_pakistan--public-sector-adjustment-loan-:-loan-3645--loan-agreement--conformed.txt',\n",
       " '2014_december_19_328261468279940310_official-documents-ctf-loan-agreement,-tf017509-closing-package.txt',\n",
       " '2018_november_5_261671546532139420_official-documents-loan-agreement-for-loan-8910-in-closing-package.txt',\n",
       " '1995_january_24_881801468056926864_mexico--financial-sector-technical-assistance-project-:-loan-3838--loan-agreement--2--conformed.txt',\n",
       " '1994_june_9_933721468051257956_mexico--northern-border-environment-project-:-loan-3750--loan-agreement--conformed.txt']"
      ]
     },
     "metadata": {},
     "execution_count": 197
    }
   ],
   "source": [
    "bad_captures"
   ]
  },
  {
   "cell_type": "code",
   "execution_count": 164,
   "metadata": {},
   "outputs": [
    {
     "output_type": "execute_result",
     "data": {
      "text/plain": [
       "dict_values(['yu', 'pol', 'cha', 'cn', 'yu', 'cn', 'cha', 'lt', 'al', 'ph', 'br', 'al', 'hr', 'cha', 'id', 'ind', 'pak', 'ba', 'br', 'co', 'br', 'br', 'png', 'ind', 'yf', 'br', 'ar', 'cha', 'kz', 'ind', 'ge', 'br', 'pk', 'ph', 'in', 'gu', 'yf', 'do', 'ar', 'vn', 'ge', 'cn', 'tun', 'pak', 'ao', 'ee', 'in', 'ind', 'ind', 'id', 'br', 'pe', 'in', 'sk', 'le', 'mk', 'cha', 'cha', 'al', 'ma', 'cha', 'mor', 'br', 'hr', 'in', 'ko', 'co', 'cn', 'pak', 'mor', 'id', 'cha', 'pol', 'ph', 'me', 'ec', 'ph', 'co', 'pan', 'in', 'cob', 'jo', 'yf', 'ba', 'br', 'gt', 'al', 'ua', 'al', 'ma', 'pe', 'al', 'cn', 'sk', 'in', 'az', 'br', 'ph', 'cha', 'ko', 'ind', 'in', 'ua', 'hr', 'cr', 'jo', 'co', 'cha', 'cn', 'cn', 'ar', 'pol', 'tun', 'es', 'cha', 'sa', 'mor', 'in', 'br', 'ph', 'lb', 'yf', 'ind', 'tr', 'ph', 'in', 'ua', 'in', 'br', 'mor', 'ph', 'mx', 'tun', 'me', 'ro', 'pl', 'uy', 'ph', 'slu', 'pa', 'co', 'ur', 'ph', 'jo', 'mu', 'mx', 'ph', 'ec', 'mx', 'cn', 'am', 'in', 'jo', 'ind', 'do', 'ind', 'pak', 'kz', 'ind', 'th', 'cn', 'tun', 'gd', 'mor', 'cha', 'pa', 'mx', 'cn', 'ua', 'mor', 'pol', 'tun', 'co', 'br', 'ind', 'co', 'co', 'ga', 'mor', 'yf', 'le', 'cha', 'by', 'png', 'egt', 'br', 'az', 'png', 'bz', 'ph', 'br', 'in', 'py', 'br', 'le', 'grd', 'ee', 'ar', 'ma', 'ua', 'cr', 'ph', 'co', 'tu', 'ec', 'tu', 'co', 'br', 'cha', 'eg', 'iq', 'tun', 'am', 'ur', 'cn', 'zim', 'ar', 'jo', 'tn', 'ph', 'br', 'ph', 'fij', 'cn', 'yf', 'tr', 'id', 'tr', 'do', 'pol', 'cha', 'bul', 'in', 'ph', 'co', 'ar', 'jo', 'slo', 'ma', 'mas', 'id', 'tu', 'pol', 'in', 'ar', 'ru', 'co', 'me', 'in', 'al', 'cr', 'ch', 'cha', 'ur', 'egt', 'me', 'ind', 'ro', 'ru', 'cn', 'slu', 'id', 'ar', 'jm', 'ma', 'yf', 'hr', 'ge', 'mk', 'ro', 'pol', 'ua', 'ee', 'ma', 'ua', 'ph', 'gu', 'ro', 'lc', 'hr', 'am', 'al', 'ind', 'irn', 'uni', 'cn', 'mx', 'ao', 'co', 'hr', 'ar', 'ge', 'br', 'cha', 'ph', 'ind', 'id', 'mas', 'cn', 'sc', 'ind', 'jo', 'ind', 'kz', 'pe', 'ph', 'ind', 'ph', 'mk', 'gt', 'in', 'al', 'jo', 'mor', 'cha', 'in', 'cn', 'pe', 'kz', 'tu', 'in', 'uni', 'ph', 'ro', 'ru', 'egt', 'al', 'ro', 'uz', 'ar', 'gha', 'pak', 'br', 'ro', 'tu', 'ee', 'al', 'br', 'tu', 'yu', 'es', 'ind', 'yf', 'grd', 'tun', 'grd', 'ma', 'ao', 'in', 'cha', 'al', 'in', 'br', 'bul', 'sl', 'ar', 'eg', 'ru', 'ind', 'me', 'cha', 'cn', 'mk', 'ind', 'am', 'jm', 'uni', 'tu', 'ua', 'al', 'egt', 'rus', 'ua', 'yf', 'br', 'tn', 'ph', 'tu', 'co', 'cn', 'ur', 'in', 'cn', 'ko', 'jo', 'cn', 'pe', 'mk', 'ro', 'tn', 'in', 'mor', 'id', 'bo', 'ro', 'cha', 'cn', 'cn', 'pe', 'hr', 'cha', 'ar', 'ar', 'az', 'ind', 'tun', 'jm', 'ua', 'ind', 'mor', 'yf', 'in', 'yf', 'tr', 'mor', 'ph', 'br', 'ch', 'ec', 'in', 'hr', 'br', 'tun', 'mor', 'pak', 'do', 'cha', 'do', 'pol', 'cha', 'lt', 'tun', 'mk', 'lv', 'cha', 'mor', 'uy', 'id', 'ee', 'ur', 'mor', 'ru', 'pol', 'id', 'br', 'cha', 'ar', 'me', 'rom', 'cha', 'mor', 'by', 'ko', 'hu', 'co', 'ro', 'br', 'uni', 'cn', 'ind', 'in', 'pa', 'cn', 'jo', 'in', 'eg', 'br', 'yf', 'cn', 'ro', 'ba', 'jo', 'al', 'ru', 'in', 'pol', 'br', 'br', 'cn', 'in', 'irn', 'ph', 'ru', 'ph', 'ua', 'ar', 'ind', 'in', 'ph', 'ru', 'ar', 'am', 'in', 'ua', 'ba', 'ro', 'mk', 'cn', 'hu', 'uz', 'ch', 'lv', 'ar', 'id', 'tr', 'eg', 'tu', 'bo', 'mx', 'me', 'ld', 'ec', 'ar', 'mu', 'al', 'in', 'ru', 'br', 'ind', 'ph', 'id', 'cha', 'ga', 'gd', 'tun', 'sc', 'ch', 'ind', 'am', 'in', 'mor', 'am', 'md', 've', 'pe', 'ma', 'pol', 'bul', 'cha', 'cha', 'in', 'co', 'cy', 'fj', 'ind', 'pk', 'mor', 'in', 'ind', 'tu', 'ua', 'bg', 'br', 'cha', 'ma', 'tu', 'cha', 'yf', 'ua', 'lt', 'cn', 'az', 'ba', 'le', 'cn', 'ge', 'ec', 'egt', 'cn', 'ph', 'ar', 'cn', 'pe', 'br', 'in', 'ph', 'in', 'cha', 'ro', 'ru', 'ar', 'lv', 'id', 'cn', 'ind', 'ru', 'kz', 'tr', 'by', 'ma', 'jo', 'yf', 'pol', 'iq', 'uz', 'co', 'egt', 'ind', 'ua', 'pa', 'mx', 'in', 'ar', 'br', 'tn', 'le', 'pl', 'cv', 'in', 'cn', 'kz', 'tu', 'al', 'cn', 'ar', 'in', 'ph', 'me', 'cha', 'dom', 'cha', 'md', 'ph', 'br', 'br', 'gt', 'tn', 'ph', 'kz', 'al', 'cha', 'egt', 'ind', 'uz', 'cha', 'ro', 'br', 'tr', 'tu', 'ar', 'in', 'do', 'tu', 'ph', 'kz', 'me', 'cm', 'mx', 'md', 'gu', 'mas', 'co', 'cha', 'cha', 'ch', 'ba', 'th', 'mk', 'dz', 'cha', 'in', 'al', 'me', 'tr', 'ar', 'al', 'lt', 'tu', 'me', 'tun', 'in', 'cha', 'pe', 'vc', 'ru', 'me', 'cha', 'vn', 'pe', 'ind', 'cha', 'ec', 'mas', 'tu', 'al', 'in', 'ind', 'pa', 'br', 'cn', 'tun', 'py', 'pl', 'ru', 'ph', 'lv', 'pol', 'me', 'by', 'mx', 'yf', 'cha', 'pe', 'cha', 'br', 'pan', 'md', 'yf', 'mn', 'lk', 'in', 'in', 'kz', 'ua', 'in', 'slo', 'ph', 'hu', 'ro', 'ge', 'yf', 'cn', 'kz', 'ph', 'pol', 'yf', 'bot', 'mor', 'cha', 'gu', 'ec', 'ph', 'ind', 'ru', 'br', 'cha', 'cha', 'ga', 'gr', 'ind', 'in', 'pk', 'lv', 'br', 'ind', 'in', 'ua', 'ao', 'cha', 'cha', 'uz', 'by', 'in', 'ma', 'egt', 'cn', 'ec', 'mk', 'co', 'png', 'do', 'cha', 'cha', 'br', 'ro', 'fj', 'ph', 'br', 'ua', 've', 'ko', 'br', 'ro', 'le', 'mk', 'do', 'sv', 'ga', 'pa', 'cn', 'pa', 'in', 'co', 'mx', 'png', 'br', 'me', 'tu', 'pol', 'hr', 'in', 'co', 'kz', 'pe', 'ar', 'png', 'ind', 'pe', 'jo', 'lk', 'sk', 'pak', 'zim', 'ma', 'le', 'id', 'ur', 'co', 'cha', 'tn', 'by', 'ind', 'tu', 'me', 'uy', 'eg', 'mor', 'by', 've', 'pe', 'ma', 'na', 'fij', 'uz', 'vn', 'tu', 'in', 'kz', 'me', 'yu', 'br', 'br', 'tun', 'cha', 'br', 'pe', 'jo', 'pan', 'tu', 'me', 'hr', 'cn', 'ga', 'br', 'eg', 'tu', 'lv', 'mor', 'pe', 'pe', 'gd', 'br', 'iq', 'br', 'ind', 'tun', 'co', 'mk', 'ma', 'br', 'hr', 'br', 'ind', 'ge', 'br', 'ma', 'ma', 'me', 'hu', 'hr', 'hu', 'ro', 'ma', 'mx', 'ar', 'mk', 'cha', 'br', 'yu', 'pak', 'ivc', 'cr', 'tm', 'uz', 'mk', 'egt', 'cn', 'tn', 'cg', 'ro', 'br', 'tu', 'br', 'ar', 'sk', 'al', 'ru', 'am', 'cha', 'cha', 'cn', 'tun', 'ru', 'ru', 'co', 'ph', 'jo', 'me', 'cn', 'tn', 'pan', 'ur', 'cha', 'cha', 'tun', 'tr', 'kz', 'pe', 'ind', 'co', 'pol', 'gha', 'tu', 'mk', 'in', 'ind', 'ind', 'mor', 'cha', 'slu', 'tn', 'pe', 'cha', 'ru', 'in', 'pe', 'tun', 'ru', 'mk', 'in', 'le', 'ua', 'jo', 'id', 'in', 'mx', 'mor', 'hr', 'ind', 'id', 'id', 'gu', 'ind', 'cn', 'tn', 'tu', 'co', 'ind', 'pa', 'cn', 'cn', 'tu', 'co', 'ua', 'bw', 'egt', 'ar', 'tn', 'es', 'cn', 'br', 'uz', 'co', 'br', 'ko', 'br', 'ro', 'by', 'yu', 'jo', 'ar', 'br', 'cha', 'al', 'tn', 'mor', 'mas', 'tu', 'id', 'br', 'in', 'ro', 'tr', 'mor', 'cha', 'cha', 'id', 'mk', 'ua', 'ru', 'cm', 'ind', 'ru', 'yf', 'me', 'ind', 'in', 'egt', 'ar', 'uz', 'hr', 'mor', 'co', 'pol', 'al', 'in', 'cn', 'mor', 'ind', 'ru', 'sc', 'cr', 'tr', 'vc', 'jm', 'pe', 'me', 'pak', 'mx', 'ua', 'ko', 'in', 'lt', 'irn', 'in', 'ch', 'lt', 'iq', 'cha', 'ro', 'mor', 'pe', 'ar', 'slu', 'mk', 'ar', 'mk', 'in', 'tr', 'ind', 'ph', 'ph', 'tm', 'irn', 'mor', 'uz', 'in', 'jm', 'sk', 'pe', 'tn', 'th', 'id', 'kz', 'al', 'hr', 'mas', 'jo', 'do', 'cn', 'ind', 'cha', 'ar', 'cha', 'pak', 'lv', 'ph', 'pe', 'tun', 'sk', 'br', 'ao', 'me', 'tun', 'pe', 'tr', 'cha', 'jo', 'sr', 'pk', 'pak', 'tu', 'in', 'ko', 'in', 'tu', 'ro', 'jo', 'mk', 'ee', 'jm', 'br', 'do', 'tun', 'id', 'ph', 'iq', 'mor', 'co', 'et', 'in', 'mk', 'ar', 'slu', 'cn', 'in', 'in', 'mor', 'cn', 'hr', 'ma', 'pe', 'br', 'jo', 'ch', 'ec', 'mu', 'ph', 'ru', 'egt', 'br', 'ge', 'mx', 'ind', 'jo', 'ar', 'egt', 'ec', 'lv', 'br', 'am', 'ro', 'am', 'mx', 'co', 'sv', 'ph', 'cha', 'me', 'br', 'in', 'hu', 'in', 'br', 'pan', 'ph', 'ind', 'az', 'ec', 'cn', 'me', 'al', 'hu', 'in', 'egt', 'in', 'co', 'cn', 'do', 'in', 'bul', 'br', 'ma', 'lb', 'pa', 'ua', 'bar', 'ga', 'do', 'id', 'es', 'am', 'yu', 'cha', 'in', 'irn', 'ind', 'me', 'am', 'pak', 'in', 'es', 'ind', 'ph', 'cha', 'cn', 'br', 'kz', 'tn', 'in', 'ua', 'pan', 'ro', 'py', 'co', 'rom', 'in', 'id', 'egt', 'ind', 'le', 'uz', 'sv', 'sv', 'tu', 'ec', 'jm', 'in', 'hr', 'in', 'pol', 'pak', 'cha', 'nd', 'ph', 'ga', 'ua', 'bul', 'co', 'ar', 'br', 'co', 'ar', 'ph', 'cha', 'ro', 'cn', 'cn', 'pa', 'uz', 'eg', 'waf', 'pe', 'tu', 'cr', 'zim', 'ru', 'pol', 'zim', 'mk', 'ru', 'pe', 'br', 'in', 'lk', 'ar', 'cn', 'pak', 'jo', 'tu', 'pol', 'ge', 'ru', 'ind', 'al', 'kz', 'ind', 'mk', 'bo', 'in', 'pe', 'kz', 've', 'lt', 'hr', 'cn', 'ua', 'pol', 'hr', 'hr', 'al', 'cn', 'cha', 'ind', 'ma', 'al', 'slu', 'pol', 'ko', 'lv', 'me', 'ar', 'ar', 'mor', 'me', 'tun', 'gt', 'in', 'ro', 'mas', 'ur', 'id', 'al', 'co', 'az', 'pol', 'jo', 'br', 'pk', 'tu', 'pol', 'ru', 'bul', 'ru', 'mas', 'uy', 'pe', 'ph', 'irn', 'br', 'lk', 'yu', 'ag', 'pan', 'me', 'co', 'mor', 'in', 'br', 'mx', 'am', 'al', 'hr', 'kz', 'mor', 'al', 'uy', 'cn', 'co', 'do', 'am', 'ind', 'yf', 'in', 'pak', 'pol', 'in', 'ru', 'vn', 'mas', 'id', 'do', 'ru', 'al', 'yu', 'egt', 'by', 'ar', 'tr', 'in', 'br', 'mk', 'yu', 'ar', 'in', 'cha', 'ec', 'by', 'br', 'ph', 'co', 'gu', 'mor', 'hr', 'ar', 'mor', 'me', 'by', 'le', 'ro', 'br', 'ru', 'br', 'ua', 'cha', 'mx', 'ro', 'jor', 'by', 'ur', 'mu', 'in', 'cl', 'pol', 'pl', 'tu', 'in', 'ph', 'in', 'co', 'bul', 'pa', 'tun', 'pa', 'uni', 'ph', 'sv', 'ro', 'eg', 'ind', 'in', 'ru', 'ph', 'cn', 'cha', 'ma', 'br', 'ur', 'al', 'loan', 'in', 'cha', 'ru', 'ph', 'pe', 'br', 'mas', 'cn', 'in', 'ph', 'ar', 'in', 'al', 'br', 'cha', 'ind', 'tn', 'ua', 'jo', 'az', 'do', 'ga', 'in', 'ru', 'mor', 'in', 'jm', 'ee', 'mx', 'cha', 'co', 'kz', 'in', 'br', 'in', 'pa', 'pe', 'ru', 'jo', 'ur', 'cg', 'br', 'ro', 'le', 'cn', 'ind', 'br', 'sv', 'cha', 'pe', 'co', 'ind', 'ph', 'es', 'eg', 'mor', 'pa', 'yf', 'le', 'mor', 'tn', 'ind', 'lv', 'pl', 'tr', 'mk', 'kz', 'yu', 'lv', 'cr', 'ma', 'ph', 'jo', 'in', 'tu', 'tun', 'ph', 'lv', 'ch', 'ko', 'ph', 'co', 'ua', 'lv', 'ro', 'pak', 'in', 'tu', 'pe', 'irn', 'ro', 'crg', 'me', 'mx', 'lv', 'id', 'cn', 'lv', 'egt', 'in', 'tr', 'ind', 'ru', 'cn', 'lt', 'pol', 'lb', 'hr', 'in', 'cha', 'in', 'me', 'cha', 'ar', 'ind', 'cn', 'cha', 'mor', 'ua', 'jo', 'ru', 'yf', 'cha', 'cn', 'mor', 'ko', 'ro', 'uni', 'ph', 'ru', 'ind', 'tn', 'mk', 'ind', 'pol', 'ro', 'mor', 'pol', 'ind', 'br', 'ph', 'ke', 'ind', 'tu', 'ar', 'by', 'slo', 'pol', 'cha', 'me', 'pe', 'cha', 'in', 'ge', 'cha', 'ko', 'in', 'pe', 'ec', 'ph', 'am', 'mor', 'jo', 'co', 'ar', 'slo', 'al', 'jo', 'pa', 'ge', 'ind', 'ge', 'br', 'mk', 'uz', 'tr', 'cha', 'ro', 'ar', 'tu', 'jo', 'ph', 'ru', 'lso', 'uz', 'br', 'ph', 'cha', 'me', 'co', 'mor', 'in', 'cn', 'in', 'ind', 'tu', 'egt', 'mor', 'cz', 'jo', 'ge', 'cn', 'ind', 'cha', 'jm', 'me', 'br', 'ua', 'ind', 'le', 'eg', 'ar', 'vn', 'cha', 'id', 'ro', 'ma', 'le', 'in', 'hu', 'ind', 'ar', 'pak', 'pol', 'egt', 'vn', 'cha', 'jm', 'cha', 'ph', 'tun', 'mas', 'ua', 'ma', 'cn', 'az', 'he', 'ma', 'ind', 'ec', 'jo', 'jm', 'me', 'pak', 'cha', 'in', 'cha', 'ar', 'br', 'ec', 'in', 'mor', 'ro', 'hr', 'al', 'bul', 'ko', 'ua', 'mu', 'jo', 'in', 'cy', 'pak', 'alb', 'ua', 'tun', 'cn', 'cha', 'al', 'mx', 'hu', 'tu', 'hr', 'pol', 'yf', 'cn', 'tu', 'br', 'br', 'me', 'am', 'tu', 'hr', 'egt', 'cha', 'pol', 've', 'cn', 'cl', 'ua', 'ga', 'ar', 'do', 'ind', 'ko', 'id', 'hr', 'cha', 'al', 'in', 'hr', 'az', 'cha', 'in', 'mor', 'ind', 'ee', 'ind', 'bel', 'ga', 'ro', 'ur', 'ind', 'tu', 'ma', 'cha', 'ua', 'ar', 'lt', 'mor', 'pe', 'ao', 'cha', 'cha', 'ko', 'ge', 'hu', 'hr', 'ao', 'ar', 'cha', 'yu', 'eg', 'mi', 'pol', 'egt', 'do', 'ro', 'ua', 'tu', 'ro', 'cn', 'kz', 'eg', 'cha', 'az', 'me', 'zim', 'br', 'in', 'cha', 'uz', 'ind', 'in', 'uz', 'tm', 'hr', 'uni', 'br', 'in', 'ind', 'iq', 'kz', 'ind', 'jm', 'eg', 'ro', 'ro', 'ar', 'pe', 'ec', 'ro', 'al', 'kz', 'ko', 'cn', 'tun', 'ind', 'ua', 'ar', 'ru', 'ind', 'hr', 'co', 'jo', 'me', 'cn', 'me', 'ma', 'br', 'ind', 'in', 'uz', 'sv', 'ind', 'cha', 'cha', 'in', 'ind', 'mor', 'pe', 'co', 'vn', 'cn', 'jm', 'tu', 'al', 'ma', 'grd', 'in', 'by', 'ro', 'tun', 'cn', 'jm', 'ga', 'ma', 'co', 'jm', 'zim', 'ru', 'me', 'le', 'id', 'cha', 'in', 'ar', 'ma', 'ar', 'in', 'kz', 'cha', 'ar', 'yf', 'jo', 'tun', 'bw', 'mor', 'ind', 'mk', 'co', 'pak', 'cha', 'ch', 'tun', 'ur', 'ind', 'pol', 'id', 'jo', 'in', 'mor', 'cn', 'iq', 'pan', 'dom', 'br', 'cha', 'le', 'ind', 'br', 'id', 'pe', 'al', 'ru', 'pol', 'tun', 'py', 'mx', 'hu', 'kz', 'in', 'mor', 'in', 'pak', 'kz', 'ec', 'do', 'ph', 'tu', 'cm', 'cha', 'uy', 'ga', 'ar', 'jm', 'cn', 'pe', 'ma', 'cha', 'slu', 'ge', 'in', 'yu', 'kz', 'in', 'ind', 'mor', 'gu', 'pe', 'ivc', 'ko', 'ru', 'mx', 'id', 'ko', 'mx', 'cn', 'ge', 'pol', 'tn', 'png', 'sv', 'ivc', 'tun', 'hr', 'jm', 'in', 'id', 'ind', 'br', 'cn', 'cha', 'lso', 'ro', 'ru', 'ind', 'cn', 'pol', 'mk', 'cn', 'ga', 'mu', 'egt', 'hr', 'mu', 'ma', 'slu', 'cha', 'mx', 'pa', 'sk', 'ma', 'tr', 'ind', 'id', 'cha', 'lb', 'sk', 'bo', 'br', 'ma', 'ind', 'in', 'co', 'co', 'jo', 'tu', 'ga', 'tn', 'co', 'ru', 'mor', 'ua', 'mx', 'kz', 'ec', 'bb', 'kz', 'tn', 'kz', 'cn', 'in', 'mk', 'tu', 'ind', 'in', 'ph', 'cha', 'eg', 'le', 'ma', 'pol', 'in', 'tun', 'gu', 'ru', 'ec', 'tr', 'br', 'ch', 'br', 'co', 'al', 'jm', 'ar', 'co', 'tun', 'pol', 'bel', 'cn', 'cm', 'kz', 'ro', 'mk', 'cha', 'uz', 'sv', 'cha', 'ua', 'in', 'pe', 'ind', 'yf', 'lk', 'cn', 'es', 'ma', 'cn', 'ru', 'cha', 'id', 'uni', 'tu', 'kz', 'cn', 'mor', 'pak', 'ar', 'in', 'ua', 'ma', 'ua', 'gu', 'hr', 'pk', 'hr', 'ar', 'cha', 'cha', 'cn', 'br', 'ba', 'hu', 'ind', 'cha', 'ar', 'kz', 'in', 'br', 'ind', 'br', 'id', 'ph', 'tr', 'ru', 'id', 'yf', 'ph', 'hr', 'cha', 'in', 'ge', 'lv', 'ru', 'pe', 'le', 'fj', 'pe', 'zim', 'by', 'tr', 'ind', 'mor', 'ur', 'cn', 'ind', 'sv', 'cha', 'ga', 'br', 'ph', 'jo', 'ua', 'ch', 'pa', 'ar', 'kz', 'ind', 'egt', 'yu', 'pak', 'ur', 'ind', 'am', 'ar', 'cha', 'ind', 'ee', 'cha', 'ee', 'pak', 'ru', 'tun', 'br', 'mor', 'es', 'hu', 'cn', 'ko', 'md', 'pk', 'mor', 'ivc', 'ro', 'al', 'ind', 'id', 'ind', 'jo', 'bul', 'ind', 'ar', 'ar', 'cha', 'mor', 'sc', 'ro', 'id', 'tun', 'cha', 'kz', 'mas', 'sc', 'cha', 'br', 'tu', 'co', 'pe', 'hr', 'am', 'vn', 'am', 'ar', 'pol', 'mas', 'pe', 'zim', 'tu', 'me', 'ro', 'hr', 'pe', 'cy', 'br', 'br', 'in', 'lt', 'cha', 'mor', 'pol', 'cha', 'cn', 'co', 'jo', 'jo', 've', 'ru', 'egt', 'br', 'do', 'tun', 'br', 'jm', 'ro', 'hr', 'mx', 'id', 'sw', 'ge', 'br', 'mk', 'br', 'ua', 'cha', 'in', 'tun', 'pe', 'mor', 'pol', 'br', 'ar', 'lv', 'ec', 'mor', 'sv', 'al', 'hu', 'waf', 'ao', 'pl', 'ph', 'br', 'mor', 'me', 'az', 'ru', 'ro', 'tl', 'ph', 'hr', 'tun', 'mk', 'ro', 'ind', 'al', 'cha', 'in', 'cn', 'cn', 'cha', 'le', 'ru', 'br', 'ar', 'cn', 'gt', 'hr', 'id', 'ec', 'cy', 'pan', 'cn', 'md', 'eg', 'le', 'cha', 'irn', 'lt', 'eg', 'ge', 'cn', 'ec', 'co', 'am', 'lv', 'pol', 'ua', 'png', 'ind', 'bul', 'hr', 'ua', 'pak', 'id', 'az', 'co', 'bo', 'id', 'in', 'co', 'ind', 'by', 'al', 'sv', 'pe', 'ga', 'id', 'id', 'pe', 'hr', 'zim', 'co', 'mor', 'ind', 'ro', 'in', 'ind', 'ru', 'ko', 'ao', 'ind', 'ind', 'pol', 'ro', 'ph', 'in', 'br', 'ar', 'id', 'lv', 'br', 'in', 'ar', 'cha', 'pe', 'ph', 'cr', 'ma', 'tun', 'tu', 'in', 'le', 'cn', 'ph', 'cha', 'tun', 'jm', 'ma', 'az', 'me', 'yf', 'cha', 'jm', 'br', 'mu', 'png', 'pa', 'png', 'tun', 'ph', 'hr', 'ro', 'tu', 'cs', 'br', 'am', 'uz', 'cn', 'al', 'loan', 'me', 'ph', 'pl', 'ph', 'hr', 'pe', 'pe', 'ma', 'al', 'ind', 'ind', 'br', 'pe', 'png', 'ro', 'in', 'egt', 'pa', 'cn', 'pa', 'kz', 'tu', 'kz', 'ind', 'ro', 'cha', 'jm', 'tun', 'ch', 'cn', 'cn', 'pol', 'lv', 'br', 'eg', 'irn', 'ar', 'in', 'ph', 'in', 'ar', 'id', 'ind', 'ar', 'ma', 'br', 'mas', 'gu', 'ph', 'uni', 'vn', 'br', 'cn', 'egt', 'vn', 'me', 'cha', 'lt', 'id', 'ec', 'pa', 'me', 'in', 'ind', 'hu', 'gu', 'egt', 'ar', 'gu', 'mor', 'bul', 'cha', 'pk', 'am', 'md', 'br', 'in', 'mk', 'ind', 'ivc', 'ind', 'ind', 'tn', 'ph', 'ro', 'br', 'pol', 'br', 'ro', 'cn', 'jm', 'ind', 'cn', 'al', 'co', 'lt', 'me', 'cha', 'in', 'tun', 'tun', 'ge', 'cn', 'cg', 'in', 'egt', 'eg', 'jm', 'jo', 'in', 'pak', 'id', 'slo', 'id', 'hu', 'hr', 'me', 'mx', 'tr', 'eg', 'mor', 'jo', 'ind', 'ma', 'pan', 'hu', 'pe', 'pe', 'pol', 'by', 'slu', 'jm', 'jo', 'pk', 'pa', 'me', 'mor', 'uz', 'ind', 'ee', 'in', 'lv', 'cha', 'cn', 'ma', 'pe', 'irn', 'jo', 'vn', 'ar', 'ind', 'lt', 'jo', 'ph', 'ma', 'in', 'uy', 'hr', 'es', 'ind', 'cn', 'me', 'do', 'br', 'ua', 'ma', 'mx', 'mor', 'pk', 'tn', 'oro', 'by', 'al', 'eg', 'cha', 'cn', 'ci', 'ar', 'cm', 'cn', 'ch', 'cha', 'br', 'egt', 'mx', 'ru', 'br', 'eg', 'tu', 'cha', 'pe', 'ru', 'ru', 'br', 'png', 'sr', 'pol', 'pol', 'al', 'tu', 'tu', 'id', 'ua', 'tn', 'in', 'cha', 'in', 'id', 'yf', 'in', 'br', 'in', 'mor', 'al', 'cn', 'cha', 'cha', 'tu', 'tr', 'irn', 'by', 'in', 'by', 'cn', 'ma', 'in', 'ee', 'cha', 'co', 'pak', 'ro', 'mor', 'kz', 'cha', 'id', 'br', 'ru', 'tr', 'me', 'in', 'id', 'co', 'ph', 'fj', 'lv', 'hu', 'md', 'yf', 'co', 'id', 'ur', 'sivc', 'ko', 'pan', 'ru', 'lt', 'id', 'ru', 'ma', 'ph', 'mor', 'ru', 'ro', 'ec', 'by', 'co', 'pol', 'tu', 'hr', 'ind', 'tu', 'hr', 'cr', 'cha', 'ho', 'th', 'az', 'png', 'id', 'cha', 'iq', 'cn', 'mx', 'ar', 'uz', 'ru', 'pe', 'pe', 'pak', 'cn', 'ge', 'in', 'me', 'al', 'kz', 'cn', 'tu', 'lv', 'ro', 'in', 'cn', 'lt', 'tu', 'hr', 'co', 'gu', 'cn', 'egt', 'jo', 'ro', 'am', 'yf', 'ro', 'py', 'ph', 'by', 'co', 'ro', 'kz', 'ma', 'me', 'tr', 'cn', 'uy', 'egt', 'cha', 'in', 'br', 'ru', 'kz', 'ua', 'tun', 'kz', 'hu', 'md', 'id', 'lt', 'do', 'ru', 'pa', 'sv', 'cn', 'in', 'ind', 'id', 'ch', 'uni', 'ru', 'br', 'ao', 'cha', 'pe', 'br', 'ph', 'pe', 'id', 'mx', 'ro', 'lv', 'co', 'ma', 'hr', 'tun', 'pe', 'tu', 'br', 'al', 'jo', 'me', 'pol', 'in', 'cha', 'mx', 'lv', 'pak', 'me', 'co', 'cha', 'png', 'pol', 'in', 'yu', 'ph', 'mor', 'in', 'in', 'cha', 'ind', 'cha', 'br', 'gt', 'mor', 'ar', 'cs', 'br', 'tu', 'br', 'mor', 'pol', 'yu', 'ivc', 'pa', 'gu', 'cha', 'ar', 'mx', 'ph', 'in', 'in', 'br', 'mk', 'pak', 'pa', 'br', 'cha', 'ru', 'cha', 'sivc', 'tr', 'hr', 'in', 'jm', 'ru', 'yf', 'gu', 'za', 'mk', 'ru', 'tun', 'cn', 'iq', 'eg', 'ph', 'ind', 'ivc', 'kz', 'by', 'ma', 'ru', 'ro', 'ar', 'br', 'ind', 'br', 'le', 'cn', 'le', 'co', 'uz', 'cha', 'pol', 'az', 'egt', 'co', 'png', 'in', 'tn', 'mx', 'hu', 'md', 'in', 'ind', 'mas', 'ph', 'in', 'me', 'mx', 'pe', 'py', 'cha', 'eg', 'cha', 'hu', 'md', 'mor', 'mk', 'mor', 'in', 'cr', 'tr', 'ind', 'mk', 'cn', 'in', 'ind', 'cha', 'ee', 'ru', 'ga', 'ind', 'me', 'mu', 'az', 'sey', 'in', 'hu', 'mk', 'ph', 'ro', 'ar', 'ur', 'bul', 'tu', 'al', 'le', 'tu', 'tu', 'tu', 'ur', 'tr', 'hr', 'ph', 'es', 'tu', 'pa', 'cn', 'tun', 'mas', 'ind', 'kz', 'eg', 'mas', 'pk', 'br', 'al', 'ar', 'ph', 'jm', 'lb', 'in', 'in', 'br', 'tu', 'ar', 'ph', 'me', 'co', 'md', 'pk', 'ph', 'uz', 'hu', 'cha', 'me', 'br', 'br', 'mx', 'cn', 'cha', 'am', 'slu', 'egt', 'ru', 'pol', 'alb', 'tu', 'kz', 'tu', 'az', 'kz', 'cha', 'al', 'ua', 'lt', 'br', 'cn', 'ur', 'alb', 'sv', 'al', 'am', 'ro', 'br', 'ru', 'ba', 'hr', 'cs', 'es', 'cn', 'hr', 'le', 'ind', 'ao', 'mk', 'hr', 'ph', 'pol', 'pol', 'tu', 'ma', 'ru', 'hu', 'cha', 'ru', 'pe', 'cn', 'ru', 'al', 'ph', 'br', 'kz', 'tu', 'pe', 'lt', 'gu', 'cha', 'br', 'me', 'cha', 'jo', 'in', 'mk', 'pak', 'tu', 'lb', 'br', 'tu', 'am', 'cl', 'jo', 'cn', 'ar', 'tu', 'mx', 'mor', 'ph', 'jo', 'dom', 'in', 'ur', 'cha', 'ru', 'mor', 'ec', 'cy', 'cn', 'ko', 'jo', 'ma', 'ph', 'tu', 'jo', 'in', 'sc', 'gu', 'mor', 'ma', 'ma', 'cha', 'ko', 'lv', 'lv', 'pe', 'ua', 'ro', 'ro', 'in', 'md', 'sw', 'cha', 'ua', 'sc', 'cg', 'mx', 'ind', 'in', 'me', 'tr', 'gu', 'uz', 'az', 'ph', 'sc', 'loan', 'ga', 'in', 'in', 'pa', 'ko', 'pak', 'tu', 'tun', 'irn', 'ph', 'cha', 'in', 'al', 'pan', 'ar', 'cha', 'tun', 'in', 'co', 'ar', 'me', 'irn', 'mor', 'cha', 'ge', 'ko', 'cn', 'cha', 'cn', 'me', 'ro', 'egt', 'hr', 'cha', 'gd', 'ar', 'ind', 'mor', 'ko', 'kz', 'mk', 'am', 'ind', 'tu', 'ar', 'ro', 'ru', 'cn', 'hr', 'cha', 'ph', 'ar', 'jm', 'cha', 'in', 'tun', 'ru', 'in', 'by', 'id', 'tun', 'me', 'ph', 'kz', 'cha', 'ko', 'cha', 'ind', 'ind', 'br', 'tun', 'uy', 'do', 'mor', 'br', 'ur', 'ch', 'br', 'tun', 'me', 'tu', 'tun', 'kz', 'cl', 'ec', 'in', 'mx'])"
      ]
     },
     "metadata": {},
     "execution_count": 164
    }
   ],
   "source": [
    "country_codes.values()"
   ]
  },
  {
   "cell_type": "code",
   "execution_count": 194,
   "metadata": {},
   "outputs": [],
   "source": [
    "f = source_dir + \"/2010_july_21_376051489609974334_ctf-loan-agreement-for-tf096291-mx-conformed.txt\"\n",
    "with open(f) as fh:\n",
    "    agreement = fh.read()\n",
    "agreement = agreement.lower()"
   ]
  },
  {
   "cell_type": "code",
   "execution_count": 195,
   "metadata": {},
   "outputs": [
    {
     "output_type": "execute_result",
     "data": {
      "text/plain": [
       "' \\n\\n \\n\\nconformed copy \\n\\nctf loan number tf096291 \\n\\nclean technology fund loan agreement \\n \\n\\n(urban transport transformation project) \\n \\n\\ninternational bank for reconstruction \\nand development  \\nacting as an implementing entity of the clean technology fund \\n \\n\\nbanco nacional de obras y servicios publicos, s.n.c. \\n \\n\\nbetween \\n \\n\\nand \\n \\n\\ndated july 21, 2010 \\n\\n\\x0cctf loan number tf096291 \\n\\n \\n\\n \\n\\n \\n\\nclean technology fund loan agreement \\n\\n \\nagreement dated july 21, 2010, entered into between: \\ninternational  bank  for  reconstruction  and  development \\n(“world  bank”),  acting  not  in  its  individual  capacity  but  solely  in  its  capacity  as  an \\nimplementing entity of the clean technology fund (“ctf”) and banco nacional \\nde obras y servicios publicos, s.n.c. (“borrower”). \\n \\n(a)  whereas by an agreement of even date herewith between the united mexican \\nstates  (the  guarantor),  through  shcp,  and  the  bank  (the  guarantee  agreement),  the \\nguarantor  has  agreed  to  guarantee  the '"
      ]
     },
     "metadata": {},
     "execution_count": 195
    }
   ],
   "source": [
    "agreement[:1000]"
   ]
  },
  {
   "cell_type": "code",
   "execution_count": null,
   "metadata": {},
   "outputs": [],
   "source": []
  }
 ]
}