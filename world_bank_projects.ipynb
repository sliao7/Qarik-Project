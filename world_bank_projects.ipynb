{
 "metadata": {
  "language_info": {
   "codemirror_mode": {
    "name": "ipython",
    "version": 3
   },
   "file_extension": ".py",
   "mimetype": "text/x-python",
   "name": "python",
   "nbconvert_exporter": "python",
   "pygments_lexer": "ipython3",
   "version": "3.9.2"
  },
  "orig_nbformat": 2,
  "kernelspec": {
   "name": "python392jvsc74a57bd09c14091437e567b69b891d2838af0ae9212f4b16ac91005526a4e98434c6baeb",
   "display_name": "Python 3.9.2 64-bit ('erdos': conda)"
  },
  "metadata": {
   "interpreter": {
    "hash": "9c14091437e567b69b891d2838af0ae9212f4b16ac91005526a4e98434c6baeb"
   }
  }
 },
 "nbformat": 4,
 "nbformat_minor": 2,
 "cells": [
  {
   "cell_type": "code",
   "execution_count": 2,
   "metadata": {},
   "outputs": [],
   "source": [
    "import pandas as pd\n",
    "import os"
   ]
  },
  {
   "cell_type": "code",
   "execution_count": 3,
   "metadata": {},
   "outputs": [],
   "source": [
    "files_dir = \"world_bank_projects\"\n",
    "files_list = os.listdir(files_dir)"
   ]
  },
  {
   "cell_type": "code",
   "execution_count": 8,
   "metadata": {},
   "outputs": [],
   "source": [
    "tables = []\n",
    "for f in files_list:\n",
    "    if f[-4:] == 'xlsx':\n",
    "        table = pd.read_excel(os.path.join(files_dir,f),skiprows=1)\n",
    "        tables.append(table)"
   ]
  },
  {
   "cell_type": "code",
   "execution_count": 10,
   "metadata": {},
   "outputs": [
    {
     "output_type": "execute_result",
     "data": {
      "text/plain": [
       "  Project Id                        Region                Country  \\\n",
       "0    P174150   Latin America and Caribbean  United Mexican States   \n",
       "1    P173367  Middle East and North Africa      Lebanese Republic   \n",
       "2    P173480   Latin America and Caribbean  Republic of Guatemala   \n",
       "3    P174144       Europe and Central Asia     Republic of Turkey   \n",
       "4    P173698   Latin America and Caribbean  Republic of Guatemala   \n",
       "\n",
       "  Project Status                                       Project Name  \\\n",
       "0         Active   Mexico Strengthening Economic Sustainability DPF   \n",
       "1         Active  LEBANON EMERGENCY CRISIS AND COVID-19 RESPONSE...   \n",
       "2         Active   Responding to COVID-19: Modern and Resilient ...   \n",
       "3         Active  Turkey Rapid Support for Micro and Small Enter...   \n",
       "4         Active      Crisis Response and Recovery in Guatemala DPL   \n",
       "\n",
       "                       Project Development Objective  \\\n",
       "0  To facilitate economic resilience and support ...   \n",
       "1  The objective of the Project is to: (a) provid...   \n",
       "2  The objective of the Project is to promote an ...   \n",
       "3  The Project Development Objective (PDO) is to ...   \n",
       "4  This DPF series supports the Government’s effo...   \n",
       "\n",
       "                                 Implementing Agency  \\\n",
       "0  MINISTRY OF FINANCE AND PUBLIC CREDIT (SECRETA...   \n",
       "1                            Prime Minister's Office   \n",
       "2             Ministry of Economy Guatemala (MINECO)   \n",
       "3  Small and Medium Enterprises Development Organ...   \n",
       "4             Ministry of Finance Guatemala (MINFIN)   \n",
       "\n",
       "  Consultant Services Required  \\\n",
       "0                          NaN   \n",
       "1                          NaN   \n",
       "2                           No   \n",
       "3                          NaN   \n",
       "4                          NaN   \n",
       "\n",
       "                                         Project URL   Board Approval Date  \\\n",
       "0  https://projects.worldbank.org/en/projects-ope...  2021-01-21T00:00:00Z   \n",
       "1  https://projects.worldbank.org/en/projects-ope...  2021-01-12T00:00:00Z   \n",
       "2  https://projects.worldbank.org/en/projects-ope...  2021-01-08T00:00:00Z   \n",
       "3  https://projects.worldbank.org/en/projects-ope...  2020-12-18T00:00:00Z   \n",
       "4  https://projects.worldbank.org/en/projects-ope...  2020-12-17T00:00:00Z   \n",
       "\n",
       "   ... Grant Amount                                           Borrower  \\\n",
       "0  ...            0                              UNITED MEXICAN STATES   \n",
       "1  ...            0                                  Lebanese Republic   \n",
       "2  ...            0             Ministry of Finance Guatemala (MINFIN)   \n",
       "3  ...            0  Small and Medium Enterprises Development Organ...   \n",
       "4  ...            0                              Republic of Guatemala   \n",
       "\n",
       "             Lending Instrument Environmental Assessment Category  \\\n",
       "0    Development Policy Lending                               NaN   \n",
       "1  Investment Project Financing                               NaN   \n",
       "2  Investment Project Financing                               NaN   \n",
       "3  Investment Project Financing                               NaN   \n",
       "4    Development Policy Lending                               NaN   \n",
       "\n",
       "  Environmental and Social Risk  \\\n",
       "0                           NaN   \n",
       "1                   Substantial   \n",
       "2                   Substantial   \n",
       "3                      Moderate   \n",
       "4                           NaN   \n",
       "\n",
       "                                            Sector 1  \\\n",
       "0                            Sub-National Government   \n",
       "1                                  Social Protection   \n",
       "2  Agricultural markets, commercialization and ag...   \n",
       "3                                      Manufacturing   \n",
       "4              Central Government (Central Agencies)   \n",
       "\n",
       "                                            Sector 2  \\\n",
       "0                              Insurance and Pension   \n",
       "1          Public Administration - Social Protection   \n",
       "2  Agricultural Extension, Research, and Other Su...   \n",
       "3                        Other Public Administration   \n",
       "4                                  Primary Education   \n",
       "\n",
       "                                            Sector 3 Theme 1 Theme 2  \n",
       "0                               Banking Institutions     NaN     NaN  \n",
       "1                                                NaN     NaN     NaN  \n",
       "2  Public Administration - Industry, Trade and Se...     NaN     NaN  \n",
       "3                                                NaN     NaN     NaN  \n",
       "4                                              Trade     NaN     NaN  \n",
       "\n",
       "[5 rows x 26 columns]"
      ],
      "text/html": "<div>\n<style scoped>\n    .dataframe tbody tr th:only-of-type {\n        vertical-align: middle;\n    }\n\n    .dataframe tbody tr th {\n        vertical-align: top;\n    }\n\n    .dataframe thead th {\n        text-align: right;\n    }\n</style>\n<table border=\"1\" class=\"dataframe\">\n  <thead>\n    <tr style=\"text-align: right;\">\n      <th></th>\n      <th>Project Id</th>\n      <th>Region</th>\n      <th>Country</th>\n      <th>Project Status</th>\n      <th>Project Name</th>\n      <th>Project Development Objective</th>\n      <th>Implementing Agency</th>\n      <th>Consultant Services Required</th>\n      <th>Project URL</th>\n      <th>Board Approval Date</th>\n      <th>...</th>\n      <th>Grant Amount</th>\n      <th>Borrower</th>\n      <th>Lending Instrument</th>\n      <th>Environmental Assessment Category</th>\n      <th>Environmental and Social Risk</th>\n      <th>Sector 1</th>\n      <th>Sector 2</th>\n      <th>Sector 3</th>\n      <th>Theme 1</th>\n      <th>Theme 2</th>\n    </tr>\n  </thead>\n  <tbody>\n    <tr>\n      <th>0</th>\n      <td>P174150</td>\n      <td>Latin America and Caribbean</td>\n      <td>United Mexican States</td>\n      <td>Active</td>\n      <td>Mexico Strengthening Economic Sustainability DPF</td>\n      <td>To facilitate economic resilience and support ...</td>\n      <td>MINISTRY OF FINANCE AND PUBLIC CREDIT (SECRETA...</td>\n      <td>NaN</td>\n      <td>https://projects.worldbank.org/en/projects-ope...</td>\n      <td>2021-01-21T00:00:00Z</td>\n      <td>...</td>\n      <td>0</td>\n      <td>UNITED MEXICAN STATES</td>\n      <td>Development Policy Lending</td>\n      <td>NaN</td>\n      <td>NaN</td>\n      <td>Sub-National Government</td>\n      <td>Insurance and Pension</td>\n      <td>Banking Institutions</td>\n      <td>NaN</td>\n      <td>NaN</td>\n    </tr>\n    <tr>\n      <th>1</th>\n      <td>P173367</td>\n      <td>Middle East and North Africa</td>\n      <td>Lebanese Republic</td>\n      <td>Active</td>\n      <td>LEBANON EMERGENCY CRISIS AND COVID-19 RESPONSE...</td>\n      <td>The objective of the Project is to: (a) provid...</td>\n      <td>Prime Minister's Office</td>\n      <td>NaN</td>\n      <td>https://projects.worldbank.org/en/projects-ope...</td>\n      <td>2021-01-12T00:00:00Z</td>\n      <td>...</td>\n      <td>0</td>\n      <td>Lebanese Republic</td>\n      <td>Investment Project Financing</td>\n      <td>NaN</td>\n      <td>Substantial</td>\n      <td>Social Protection</td>\n      <td>Public Administration - Social Protection</td>\n      <td>NaN</td>\n      <td>NaN</td>\n      <td>NaN</td>\n    </tr>\n    <tr>\n      <th>2</th>\n      <td>P173480</td>\n      <td>Latin America and Caribbean</td>\n      <td>Republic of Guatemala</td>\n      <td>Active</td>\n      <td>Responding to COVID-19: Modern and Resilient ...</td>\n      <td>The objective of the Project is to promote an ...</td>\n      <td>Ministry of Economy Guatemala (MINECO)</td>\n      <td>No</td>\n      <td>https://projects.worldbank.org/en/projects-ope...</td>\n      <td>2021-01-08T00:00:00Z</td>\n      <td>...</td>\n      <td>0</td>\n      <td>Ministry of Finance Guatemala (MINFIN)</td>\n      <td>Investment Project Financing</td>\n      <td>NaN</td>\n      <td>Substantial</td>\n      <td>Agricultural markets, commercialization and ag...</td>\n      <td>Agricultural Extension, Research, and Other Su...</td>\n      <td>Public Administration - Industry, Trade and Se...</td>\n      <td>NaN</td>\n      <td>NaN</td>\n    </tr>\n    <tr>\n      <th>3</th>\n      <td>P174144</td>\n      <td>Europe and Central Asia</td>\n      <td>Republic of Turkey</td>\n      <td>Active</td>\n      <td>Turkey Rapid Support for Micro and Small Enter...</td>\n      <td>The Project Development Objective (PDO) is to ...</td>\n      <td>Small and Medium Enterprises Development Organ...</td>\n      <td>NaN</td>\n      <td>https://projects.worldbank.org/en/projects-ope...</td>\n      <td>2020-12-18T00:00:00Z</td>\n      <td>...</td>\n      <td>0</td>\n      <td>Small and Medium Enterprises Development Organ...</td>\n      <td>Investment Project Financing</td>\n      <td>NaN</td>\n      <td>Moderate</td>\n      <td>Manufacturing</td>\n      <td>Other Public Administration</td>\n      <td>NaN</td>\n      <td>NaN</td>\n      <td>NaN</td>\n    </tr>\n    <tr>\n      <th>4</th>\n      <td>P173698</td>\n      <td>Latin America and Caribbean</td>\n      <td>Republic of Guatemala</td>\n      <td>Active</td>\n      <td>Crisis Response and Recovery in Guatemala DPL</td>\n      <td>This DPF series supports the Government’s effo...</td>\n      <td>Ministry of Finance Guatemala (MINFIN)</td>\n      <td>NaN</td>\n      <td>https://projects.worldbank.org/en/projects-ope...</td>\n      <td>2020-12-17T00:00:00Z</td>\n      <td>...</td>\n      <td>0</td>\n      <td>Republic of Guatemala</td>\n      <td>Development Policy Lending</td>\n      <td>NaN</td>\n      <td>NaN</td>\n      <td>Central Government (Central Agencies)</td>\n      <td>Primary Education</td>\n      <td>Trade</td>\n      <td>NaN</td>\n      <td>NaN</td>\n    </tr>\n  </tbody>\n</table>\n<p>5 rows × 26 columns</p>\n</div>"
     },
     "metadata": {},
     "execution_count": 10
    }
   ],
   "source": [
    "tables[0].head()"
   ]
  },
  {
   "cell_type": "code",
   "execution_count": 16,
   "metadata": {},
   "outputs": [],
   "source": [
    "table = pd.concat(tables,ignore_index=True)"
   ]
  },
  {
   "cell_type": "code",
   "execution_count": 22,
   "metadata": {},
   "outputs": [
    {
     "output_type": "execute_result",
     "data": {
      "text/plain": [
       "Index(['Project Id', 'Region', 'Country', 'Project Status', 'Project Name',\n",
       "       'Project Development Objective', 'Implementing Agency',\n",
       "       'Consultant Services Required', 'Project URL', 'Board Approval Date',\n",
       "       'Project Closing Date', 'Financing Type', 'Current Project Cost',\n",
       "       'IBRD Commitment', 'IDA Commitment', 'Total IDA and IBRD Commitment',\n",
       "       'Grant Amount', 'Borrower', 'Lending Instrument',\n",
       "       'Environmental Assessment Category', 'Environmental and Social Risk',\n",
       "       'Sector 1', 'Sector 2', 'Sector 3', 'Theme 1', 'Theme 2'],\n",
       "      dtype='object')"
      ]
     },
     "metadata": {},
     "execution_count": 22
    }
   ],
   "source": [
    "table.columns"
   ]
  },
  {
   "cell_type": "code",
   "execution_count": 27,
   "metadata": {},
   "outputs": [],
   "source": [
    "table['IBRD Commitment'] = table['IBRD Commitment'].apply(lambda x: x.replace(',',''))"
   ]
  },
  {
   "cell_type": "code",
   "execution_count": 29,
   "metadata": {},
   "outputs": [],
   "source": [
    "table['IBRD Commitment'] = table['IBRD Commitment'].astype(float)"
   ]
  },
  {
   "cell_type": "code",
   "execution_count": 30,
   "metadata": {},
   "outputs": [
    {
     "output_type": "execute_result",
     "data": {
      "text/plain": [
       "       Financing Type  Current Project Cost  IBRD Commitment  Grant Amount\n",
       "count             0.0                   0.0     4.000000e+03        4000.0\n",
       "mean              NaN                   NaN     1.953895e+08           0.0\n",
       "std               NaN                   NaN     1.961879e+08           0.0\n",
       "min               NaN                   NaN     0.000000e+00           0.0\n",
       "25%               NaN                   NaN     5.013000e+07           0.0\n",
       "50%               NaN                   NaN     1.300000e+08           0.0\n",
       "75%               NaN                   NaN     2.735800e+08           0.0\n",
       "max               NaN                   NaN     1.450000e+09           0.0"
      ],
      "text/html": "<div>\n<style scoped>\n    .dataframe tbody tr th:only-of-type {\n        vertical-align: middle;\n    }\n\n    .dataframe tbody tr th {\n        vertical-align: top;\n    }\n\n    .dataframe thead th {\n        text-align: right;\n    }\n</style>\n<table border=\"1\" class=\"dataframe\">\n  <thead>\n    <tr style=\"text-align: right;\">\n      <th></th>\n      <th>Financing Type</th>\n      <th>Current Project Cost</th>\n      <th>IBRD Commitment</th>\n      <th>Grant Amount</th>\n    </tr>\n  </thead>\n  <tbody>\n    <tr>\n      <th>count</th>\n      <td>0.0</td>\n      <td>0.0</td>\n      <td>4.000000e+03</td>\n      <td>4000.0</td>\n    </tr>\n    <tr>\n      <th>mean</th>\n      <td>NaN</td>\n      <td>NaN</td>\n      <td>1.953895e+08</td>\n      <td>0.0</td>\n    </tr>\n    <tr>\n      <th>std</th>\n      <td>NaN</td>\n      <td>NaN</td>\n      <td>1.961879e+08</td>\n      <td>0.0</td>\n    </tr>\n    <tr>\n      <th>min</th>\n      <td>NaN</td>\n      <td>NaN</td>\n      <td>0.000000e+00</td>\n      <td>0.0</td>\n    </tr>\n    <tr>\n      <th>25%</th>\n      <td>NaN</td>\n      <td>NaN</td>\n      <td>5.013000e+07</td>\n      <td>0.0</td>\n    </tr>\n    <tr>\n      <th>50%</th>\n      <td>NaN</td>\n      <td>NaN</td>\n      <td>1.300000e+08</td>\n      <td>0.0</td>\n    </tr>\n    <tr>\n      <th>75%</th>\n      <td>NaN</td>\n      <td>NaN</td>\n      <td>2.735800e+08</td>\n      <td>0.0</td>\n    </tr>\n    <tr>\n      <th>max</th>\n      <td>NaN</td>\n      <td>NaN</td>\n      <td>1.450000e+09</td>\n      <td>0.0</td>\n    </tr>\n  </tbody>\n</table>\n</div>"
     },
     "metadata": {},
     "execution_count": 30
    }
   ],
   "source": [
    "table.describe()"
   ]
  },
  {
   "cell_type": "code",
   "execution_count": 33,
   "metadata": {},
   "outputs": [],
   "source": [
    "table['IDA Commitment'] = table['IDA Commitment'].apply(lambda x: x.replace(',',''))"
   ]
  },
  {
   "cell_type": "code",
   "execution_count": 34,
   "metadata": {},
   "outputs": [],
   "source": [
    "table['IDA Commitment'] = table['IDA Commitment'].astype(float)"
   ]
  },
  {
   "cell_type": "code",
   "execution_count": 35,
   "metadata": {},
   "outputs": [
    {
     "output_type": "execute_result",
     "data": {
      "text/plain": [
       "       Financing Type  Current Project Cost  IBRD Commitment  IDA Commitment  \\\n",
       "count             0.0                   0.0     4.000000e+03    4.000000e+03   \n",
       "mean              NaN                   NaN     1.953895e+08    7.301348e+06   \n",
       "std               NaN                   NaN     1.961879e+08    5.150424e+07   \n",
       "min               NaN                   NaN     0.000000e+00    0.000000e+00   \n",
       "25%               NaN                   NaN     5.013000e+07    0.000000e+00   \n",
       "50%               NaN                   NaN     1.300000e+08    0.000000e+00   \n",
       "75%               NaN                   NaN     2.735800e+08    0.000000e+00   \n",
       "max               NaN                   NaN     1.450000e+09    7.500000e+08   \n",
       "\n",
       "       Grant Amount  \n",
       "count        4000.0  \n",
       "mean            0.0  \n",
       "std             0.0  \n",
       "min             0.0  \n",
       "25%             0.0  \n",
       "50%             0.0  \n",
       "75%             0.0  \n",
       "max             0.0  "
      ],
      "text/html": "<div>\n<style scoped>\n    .dataframe tbody tr th:only-of-type {\n        vertical-align: middle;\n    }\n\n    .dataframe tbody tr th {\n        vertical-align: top;\n    }\n\n    .dataframe thead th {\n        text-align: right;\n    }\n</style>\n<table border=\"1\" class=\"dataframe\">\n  <thead>\n    <tr style=\"text-align: right;\">\n      <th></th>\n      <th>Financing Type</th>\n      <th>Current Project Cost</th>\n      <th>IBRD Commitment</th>\n      <th>IDA Commitment</th>\n      <th>Grant Amount</th>\n    </tr>\n  </thead>\n  <tbody>\n    <tr>\n      <th>count</th>\n      <td>0.0</td>\n      <td>0.0</td>\n      <td>4.000000e+03</td>\n      <td>4.000000e+03</td>\n      <td>4000.0</td>\n    </tr>\n    <tr>\n      <th>mean</th>\n      <td>NaN</td>\n      <td>NaN</td>\n      <td>1.953895e+08</td>\n      <td>7.301348e+06</td>\n      <td>0.0</td>\n    </tr>\n    <tr>\n      <th>std</th>\n      <td>NaN</td>\n      <td>NaN</td>\n      <td>1.961879e+08</td>\n      <td>5.150424e+07</td>\n      <td>0.0</td>\n    </tr>\n    <tr>\n      <th>min</th>\n      <td>NaN</td>\n      <td>NaN</td>\n      <td>0.000000e+00</td>\n      <td>0.000000e+00</td>\n      <td>0.0</td>\n    </tr>\n    <tr>\n      <th>25%</th>\n      <td>NaN</td>\n      <td>NaN</td>\n      <td>5.013000e+07</td>\n      <td>0.000000e+00</td>\n      <td>0.0</td>\n    </tr>\n    <tr>\n      <th>50%</th>\n      <td>NaN</td>\n      <td>NaN</td>\n      <td>1.300000e+08</td>\n      <td>0.000000e+00</td>\n      <td>0.0</td>\n    </tr>\n    <tr>\n      <th>75%</th>\n      <td>NaN</td>\n      <td>NaN</td>\n      <td>2.735800e+08</td>\n      <td>0.000000e+00</td>\n      <td>0.0</td>\n    </tr>\n    <tr>\n      <th>max</th>\n      <td>NaN</td>\n      <td>NaN</td>\n      <td>1.450000e+09</td>\n      <td>7.500000e+08</td>\n      <td>0.0</td>\n    </tr>\n  </tbody>\n</table>\n</div>"
     },
     "metadata": {},
     "execution_count": 35
    }
   ],
   "source": [
    "table.describe()"
   ]
  },
  {
   "cell_type": "code",
   "execution_count": 38,
   "metadata": {},
   "outputs": [
    {
     "output_type": "execute_result",
     "data": {
      "text/plain": [
       "                     Country  \\\n",
       "1397      Republic of Serbia   \n",
       "3267    Republic of Colombia   \n",
       "2163       Republic of India   \n",
       "1775                 Romania   \n",
       "1416              Montenegro   \n",
       "199      Kingdom of Eswatini   \n",
       "172       Republic of Serbia   \n",
       "2164  Bosnia and Herzegovina   \n",
       "3756          Eastern Africa   \n",
       "1722       Republic of India   \n",
       "\n",
       "                                           Project Name   Board Approval Date  \\\n",
       "1397  State Owned Financial Institutions Strengtheni...  2018-03-20T00:00:00Z   \n",
       "3267  Second Fiscal Sustainability, Competitiveness,...  2019-05-21T00:00:00Z   \n",
       "2163  National Program for Improving the Quality of ...  2020-03-11T00:00:00Z   \n",
       "1775  Disaster Risk Management Development Policy Lo...  2018-06-26T00:00:00Z   \n",
       "1416  Montenegro First Fiscal and Financial Sector R...  2017-12-20T00:00:00Z   \n",
       "199            Network Reinforcement and Access Project  2019-06-27T00:00:00Z   \n",
       "172   Real Estate Management Project Additional Fina...  2019-11-21T00:00:00Z   \n",
       "2164  Real Estate Registration Project - Additional ...  2020-03-05T00:00:00Z   \n",
       "3756  Agricultural Productivity Program for Southern...  2018-12-18T00:00:00Z   \n",
       "1722  Innovation in Solar Power and Hybrid Technologies  2019-03-29T00:00:00Z   \n",
       "\n",
       "                                               Borrower  IBRD Commitment  \\\n",
       "1397                                 Republic of Serbia       50000000.0   \n",
       "3267                                                NaN      718500000.0   \n",
       "2163                                  Republic of India       30000000.0   \n",
       "1775   Romania (through its Ministry of Public Finance)      493060000.0   \n",
       "1416                                Ministry of Finance       93000000.0   \n",
       "199                                 Kingdom of Eswatini       40000000.0   \n",
       "172                                  Republic of Serbia       22900000.0   \n",
       "2164                             Bosnia and Herzegovina       22400000.0   \n",
       "3756  Leostho Ministry of Finance, Angola Ministry o...       25000000.0   \n",
       "1722                     DEPARTMENT OF ECONOMIC AFFAIRS      150000000.0   \n",
       "\n",
       "                                               Sector 1  \n",
       "1397           Public Administration - Financial Sector  \n",
       "3267              Central Government (Central Agencies)  \n",
       "2163              Central Government (Central Agencies)  \n",
       "1775                        Other Public Administration  \n",
       "1416              Central Government (Central Agencies)  \n",
       "199                Energy Transmission and Distribution  \n",
       "172                         Other Public Administration  \n",
       "2164                        Other Public Administration  \n",
       "3756  Agricultural Extension, Research, and Other Su...  \n",
       "1722                             Renewable Energy Solar  "
      ],
      "text/html": "<div>\n<style scoped>\n    .dataframe tbody tr th:only-of-type {\n        vertical-align: middle;\n    }\n\n    .dataframe tbody tr th {\n        vertical-align: top;\n    }\n\n    .dataframe thead th {\n        text-align: right;\n    }\n</style>\n<table border=\"1\" class=\"dataframe\">\n  <thead>\n    <tr style=\"text-align: right;\">\n      <th></th>\n      <th>Country</th>\n      <th>Project Name</th>\n      <th>Board Approval Date</th>\n      <th>Borrower</th>\n      <th>IBRD Commitment</th>\n      <th>Sector 1</th>\n    </tr>\n  </thead>\n  <tbody>\n    <tr>\n      <th>1397</th>\n      <td>Republic of Serbia</td>\n      <td>State Owned Financial Institutions Strengtheni...</td>\n      <td>2018-03-20T00:00:00Z</td>\n      <td>Republic of Serbia</td>\n      <td>50000000.0</td>\n      <td>Public Administration - Financial Sector</td>\n    </tr>\n    <tr>\n      <th>3267</th>\n      <td>Republic of Colombia</td>\n      <td>Second Fiscal Sustainability, Competitiveness,...</td>\n      <td>2019-05-21T00:00:00Z</td>\n      <td>NaN</td>\n      <td>718500000.0</td>\n      <td>Central Government (Central Agencies)</td>\n    </tr>\n    <tr>\n      <th>2163</th>\n      <td>Republic of India</td>\n      <td>National Program for Improving the Quality of ...</td>\n      <td>2020-03-11T00:00:00Z</td>\n      <td>Republic of India</td>\n      <td>30000000.0</td>\n      <td>Central Government (Central Agencies)</td>\n    </tr>\n    <tr>\n      <th>1775</th>\n      <td>Romania</td>\n      <td>Disaster Risk Management Development Policy Lo...</td>\n      <td>2018-06-26T00:00:00Z</td>\n      <td>Romania (through its Ministry of Public Finance)</td>\n      <td>493060000.0</td>\n      <td>Other Public Administration</td>\n    </tr>\n    <tr>\n      <th>1416</th>\n      <td>Montenegro</td>\n      <td>Montenegro First Fiscal and Financial Sector R...</td>\n      <td>2017-12-20T00:00:00Z</td>\n      <td>Ministry of Finance</td>\n      <td>93000000.0</td>\n      <td>Central Government (Central Agencies)</td>\n    </tr>\n    <tr>\n      <th>199</th>\n      <td>Kingdom of Eswatini</td>\n      <td>Network Reinforcement and Access Project</td>\n      <td>2019-06-27T00:00:00Z</td>\n      <td>Kingdom of Eswatini</td>\n      <td>40000000.0</td>\n      <td>Energy Transmission and Distribution</td>\n    </tr>\n    <tr>\n      <th>172</th>\n      <td>Republic of Serbia</td>\n      <td>Real Estate Management Project Additional Fina...</td>\n      <td>2019-11-21T00:00:00Z</td>\n      <td>Republic of Serbia</td>\n      <td>22900000.0</td>\n      <td>Other Public Administration</td>\n    </tr>\n    <tr>\n      <th>2164</th>\n      <td>Bosnia and Herzegovina</td>\n      <td>Real Estate Registration Project - Additional ...</td>\n      <td>2020-03-05T00:00:00Z</td>\n      <td>Bosnia and Herzegovina</td>\n      <td>22400000.0</td>\n      <td>Other Public Administration</td>\n    </tr>\n    <tr>\n      <th>3756</th>\n      <td>Eastern Africa</td>\n      <td>Agricultural Productivity Program for Southern...</td>\n      <td>2018-12-18T00:00:00Z</td>\n      <td>Leostho Ministry of Finance, Angola Ministry o...</td>\n      <td>25000000.0</td>\n      <td>Agricultural Extension, Research, and Other Su...</td>\n    </tr>\n    <tr>\n      <th>1722</th>\n      <td>Republic of India</td>\n      <td>Innovation in Solar Power and Hybrid Technologies</td>\n      <td>2019-03-29T00:00:00Z</td>\n      <td>DEPARTMENT OF ECONOMIC AFFAIRS</td>\n      <td>150000000.0</td>\n      <td>Renewable Energy Solar</td>\n    </tr>\n  </tbody>\n</table>\n</div>"
     },
     "metadata": {},
     "execution_count": 38
    }
   ],
   "source": [
    "table[['Country','Project Name','Board Approval Date','Borrower','IBRD Commitment','Sector 1']].sample(10)"
   ]
  },
  {
   "cell_type": "code",
   "execution_count": 39,
   "metadata": {},
   "outputs": [
    {
     "output_type": "execute_result",
     "data": {
      "text/plain": [
       "count                                      3924\n",
       "unique                                       59\n",
       "top       Central Government (Central Agencies)\n",
       "freq                                        365\n",
       "Name: Sector 1, dtype: object"
      ]
     },
     "metadata": {},
     "execution_count": 39
    }
   ],
   "source": [
    "table['Sector 1'].describe()"
   ]
  },
  {
   "cell_type": "code",
   "execution_count": null,
   "metadata": {},
   "outputs": [],
   "source": []
  }
 ]
}