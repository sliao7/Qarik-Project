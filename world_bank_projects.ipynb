{
 "metadata": {
  "language_info": {
   "codemirror_mode": {
    "name": "ipython",
    "version": 3
   },
   "file_extension": ".py",
   "mimetype": "text/x-python",
   "name": "python",
   "nbconvert_exporter": "python",
   "pygments_lexer": "ipython3",
   "version": "3.9.2"
  },
  "orig_nbformat": 2,
  "kernelspec": {
   "name": "python392jvsc74a57bd09c14091437e567b69b891d2838af0ae9212f4b16ac91005526a4e98434c6baeb",
   "display_name": "Python 3.9.2 64-bit ('erdos': conda)"
  },
  "metadata": {
   "interpreter": {
    "hash": "9c14091437e567b69b891d2838af0ae9212f4b16ac91005526a4e98434c6baeb"
   }
  }
 },
 "nbformat": 4,
 "nbformat_minor": 2,
 "cells": [
  {
   "cell_type": "code",
   "execution_count": 2,
   "metadata": {},
   "outputs": [],
   "source": [
    "import pandas as pd\n",
    "import os"
   ]
  },
  {
   "cell_type": "code",
   "execution_count": 4,
   "metadata": {},
   "outputs": [],
   "source": [
    "files_dir = \"world_bank_projects\"\n",
    "files_list = os.listdir(files_dir)"
   ]
  },
  {
   "cell_type": "code",
   "execution_count": 60,
   "metadata": {},
   "outputs": [],
   "source": [
    "tables = []\n",
    "for f in files_list:\n",
    "    if f[-4:] == 'xlsx':\n",
    "        table = pd.read_excel(os.path.join(files_dir,f),skiprows=1)\n",
    "        tables.append(table)"
   ]
  },
  {
   "cell_type": "code",
   "execution_count": 61,
   "metadata": {},
   "outputs": [
    {
     "output_type": "execute_result",
     "data": {
      "text/plain": [
       "  Project Id                       Region                       Country  \\\n",
       "0    P004092        East Asia and Pacific             Republic of Korea   \n",
       "1    P004233        East Asia and Pacific                      Malaysia   \n",
       "2    P009174      Europe and Central Asia  Macedonia, Republic of North   \n",
       "3    P007361  Latin America and Caribbean          Republic of Honduras   \n",
       "4    P003277                  Africa East          Republic of Zimbabwe   \n",
       "\n",
       "  Project Status                                      Project Name  \\\n",
       "0         Closed                             Gojeong Power Project   \n",
       "1         Closed                                Population Project   \n",
       "2         Closed  Agriculture & Agroindustry 2 Project (Macedonia)   \n",
       "3         Closed                    Industrial Credit Project (02)   \n",
       "4         Closed                       Railway Development Project   \n",
       "\n",
       "   Project Development Objective Implementing Agency  \\\n",
       "0                            NaN                 NaN   \n",
       "1                            NaN                 NaN   \n",
       "2                            NaN                 NaN   \n",
       "3                            NaN                 NaN   \n",
       "4                            NaN                 NaN   \n",
       "\n",
       "   Consultant Services Required  \\\n",
       "0                           NaN   \n",
       "1                           NaN   \n",
       "2                           NaN   \n",
       "3                           NaN   \n",
       "4                           NaN   \n",
       "\n",
       "                                         Project URL   Board Approval Date  \\\n",
       "0  https://projects.worldbank.org/en/projects-ope...                   NaN   \n",
       "1  https://projects.worldbank.org/en/projects-ope...                   NaN   \n",
       "2  https://projects.worldbank.org/en/projects-ope...  1980-02-01T00:00:00Z   \n",
       "3  https://projects.worldbank.org/en/projects-ope...  1981-12-22T00:00:00Z   \n",
       "4  https://projects.worldbank.org/en/projects-ope...  1983-08-02T00:00:00Z   \n",
       "\n",
       "   ... Grant Amount  Borrower                      Lending Instrument  \\\n",
       "0  ...            0       NaN                Specific Investment Loan   \n",
       "1  ...            0       NaN  Sector Investment and Maintenance Loan   \n",
       "2  ...            0       NaN                Specific Investment Loan   \n",
       "3  ...            0       NaN             Financial Intermediary Loan   \n",
       "4  ...            0       NaN               Technical Assistance Loan   \n",
       "\n",
       "  Environmental Assessment Category Environmental and Social Risk  \\\n",
       "0                               NaN                           NaN   \n",
       "1                               NaN                           NaN   \n",
       "2                                 C                           NaN   \n",
       "3                               NaN                           NaN   \n",
       "4                               NaN                           NaN   \n",
       "\n",
       "                                            Sector 1  Sector 2  Sector 3  \\\n",
       "0                                  (Historic)Thermal       NaN       NaN   \n",
       "1  (Historic)Primary health, including reproducti...       NaN       NaN   \n",
       "2                      (Historic)Agricultural credit       NaN       NaN   \n",
       "3             (Historic)Financial sector development       NaN       NaN   \n",
       "4                                           Railways       NaN       NaN   \n",
       "\n",
       "  Theme 1 Theme 2  \n",
       "0     NaN     NaN  \n",
       "1     NaN     NaN  \n",
       "2     NaN     NaN  \n",
       "3     NaN     NaN  \n",
       "4     NaN     NaN  \n",
       "\n",
       "[5 rows x 26 columns]"
      ],
      "text/html": "<div>\n<style scoped>\n    .dataframe tbody tr th:only-of-type {\n        vertical-align: middle;\n    }\n\n    .dataframe tbody tr th {\n        vertical-align: top;\n    }\n\n    .dataframe thead th {\n        text-align: right;\n    }\n</style>\n<table border=\"1\" class=\"dataframe\">\n  <thead>\n    <tr style=\"text-align: right;\">\n      <th></th>\n      <th>Project Id</th>\n      <th>Region</th>\n      <th>Country</th>\n      <th>Project Status</th>\n      <th>Project Name</th>\n      <th>Project Development Objective</th>\n      <th>Implementing Agency</th>\n      <th>Consultant Services Required</th>\n      <th>Project URL</th>\n      <th>Board Approval Date</th>\n      <th>...</th>\n      <th>Grant Amount</th>\n      <th>Borrower</th>\n      <th>Lending Instrument</th>\n      <th>Environmental Assessment Category</th>\n      <th>Environmental and Social Risk</th>\n      <th>Sector 1</th>\n      <th>Sector 2</th>\n      <th>Sector 3</th>\n      <th>Theme 1</th>\n      <th>Theme 2</th>\n    </tr>\n  </thead>\n  <tbody>\n    <tr>\n      <th>0</th>\n      <td>P004092</td>\n      <td>East Asia and Pacific</td>\n      <td>Republic of Korea</td>\n      <td>Closed</td>\n      <td>Gojeong Power Project</td>\n      <td>NaN</td>\n      <td>NaN</td>\n      <td>NaN</td>\n      <td>https://projects.worldbank.org/en/projects-ope...</td>\n      <td>NaN</td>\n      <td>...</td>\n      <td>0</td>\n      <td>NaN</td>\n      <td>Specific Investment Loan</td>\n      <td>NaN</td>\n      <td>NaN</td>\n      <td>(Historic)Thermal</td>\n      <td>NaN</td>\n      <td>NaN</td>\n      <td>NaN</td>\n      <td>NaN</td>\n    </tr>\n    <tr>\n      <th>1</th>\n      <td>P004233</td>\n      <td>East Asia and Pacific</td>\n      <td>Malaysia</td>\n      <td>Closed</td>\n      <td>Population Project</td>\n      <td>NaN</td>\n      <td>NaN</td>\n      <td>NaN</td>\n      <td>https://projects.worldbank.org/en/projects-ope...</td>\n      <td>NaN</td>\n      <td>...</td>\n      <td>0</td>\n      <td>NaN</td>\n      <td>Sector Investment and Maintenance Loan</td>\n      <td>NaN</td>\n      <td>NaN</td>\n      <td>(Historic)Primary health, including reproducti...</td>\n      <td>NaN</td>\n      <td>NaN</td>\n      <td>NaN</td>\n      <td>NaN</td>\n    </tr>\n    <tr>\n      <th>2</th>\n      <td>P009174</td>\n      <td>Europe and Central Asia</td>\n      <td>Macedonia, Republic of North</td>\n      <td>Closed</td>\n      <td>Agriculture &amp; Agroindustry 2 Project (Macedonia)</td>\n      <td>NaN</td>\n      <td>NaN</td>\n      <td>NaN</td>\n      <td>https://projects.worldbank.org/en/projects-ope...</td>\n      <td>1980-02-01T00:00:00Z</td>\n      <td>...</td>\n      <td>0</td>\n      <td>NaN</td>\n      <td>Specific Investment Loan</td>\n      <td>C</td>\n      <td>NaN</td>\n      <td>(Historic)Agricultural credit</td>\n      <td>NaN</td>\n      <td>NaN</td>\n      <td>NaN</td>\n      <td>NaN</td>\n    </tr>\n    <tr>\n      <th>3</th>\n      <td>P007361</td>\n      <td>Latin America and Caribbean</td>\n      <td>Republic of Honduras</td>\n      <td>Closed</td>\n      <td>Industrial Credit Project (02)</td>\n      <td>NaN</td>\n      <td>NaN</td>\n      <td>NaN</td>\n      <td>https://projects.worldbank.org/en/projects-ope...</td>\n      <td>1981-12-22T00:00:00Z</td>\n      <td>...</td>\n      <td>0</td>\n      <td>NaN</td>\n      <td>Financial Intermediary Loan</td>\n      <td>NaN</td>\n      <td>NaN</td>\n      <td>(Historic)Financial sector development</td>\n      <td>NaN</td>\n      <td>NaN</td>\n      <td>NaN</td>\n      <td>NaN</td>\n    </tr>\n    <tr>\n      <th>4</th>\n      <td>P003277</td>\n      <td>Africa East</td>\n      <td>Republic of Zimbabwe</td>\n      <td>Closed</td>\n      <td>Railway Development Project</td>\n      <td>NaN</td>\n      <td>NaN</td>\n      <td>NaN</td>\n      <td>https://projects.worldbank.org/en/projects-ope...</td>\n      <td>1983-08-02T00:00:00Z</td>\n      <td>...</td>\n      <td>0</td>\n      <td>NaN</td>\n      <td>Technical Assistance Loan</td>\n      <td>NaN</td>\n      <td>NaN</td>\n      <td>Railways</td>\n      <td>NaN</td>\n      <td>NaN</td>\n      <td>NaN</td>\n      <td>NaN</td>\n    </tr>\n  </tbody>\n</table>\n<p>5 rows × 26 columns</p>\n</div>"
     },
     "metadata": {},
     "execution_count": 61
    }
   ],
   "source": [
    "tables[0].head()"
   ]
  },
  {
   "cell_type": "code",
   "execution_count": 62,
   "metadata": {},
   "outputs": [],
   "source": [
    "table = pd.concat(tables,ignore_index=True)"
   ]
  },
  {
   "cell_type": "code",
   "execution_count": 64,
   "metadata": {},
   "outputs": [],
   "source": [
    "table['IBRD Commitment'] = table['IBRD Commitment'].apply(lambda x: x.replace(',',''))\n",
    "table['IBRD Commitment'] = table['IBRD Commitment'].astype(float)"
   ]
  },
  {
   "cell_type": "code",
   "execution_count": 65,
   "metadata": {},
   "outputs": [],
   "source": [
    "table['IDA Commitment'] = table['IDA Commitment'].apply(lambda x: x.replace(',',''))\n",
    "table['IDA Commitment'] = table['IDA Commitment'].astype(float)"
   ]
  },
  {
   "cell_type": "code",
   "execution_count": 66,
   "metadata": {},
   "outputs": [],
   "source": [
    "table['Total IDA and IBRD Commitment'] = table['Total IDA and IBRD Commitment'].apply(lambda x: x.replace(',',''))\n",
    "table['Total IDA and IBRD Commitment'] = table['Total IDA and IBRD Commitment'].astype(float)"
   ]
  },
  {
   "cell_type": "code",
   "execution_count": 57,
   "metadata": {},
   "outputs": [],
   "source": [
    "table.to_csv(os.path.join(files_dir,\"world_bank_projects.csv\"),index=False)\n"
   ]
  },
  {
   "source": [
    "It turns out that the Excel files are for some reason not formed correctly by the World Bank site. Instead, we use the JSON-based API: \n",
    "https://search.worldbank.org/api/v2/projects\n",
    "  ?format=json\n",
    "  &fl=id,regionname,countryname,projectstatusdisplay,project_name,countryshortname,pdo,\n",
    "  impagency,cons_serv_reqd_ind,url,boardapprovaldate,closingdate,projectfinancialtype,\n",
    "  curr_project_cost,ibrdcommamt,idacommamt,totalamt,grantamt,borrower,lendinginstr,\n",
    "  envassesmentcategorycode,esrc_ovrl_risk_rate,sector1,sector2,sector3,\n",
    "  theme1,theme2,%20%20status,totalcommamt,proj_last_upd_date\n",
    "  &apilang=en\n",
    "  &projectfinancialtype_exact=IBRD\n",
    "  &rows=4000&os=0"
   ],
   "cell_type": "markdown",
   "metadata": {}
  },
  {
   "cell_type": "code",
   "execution_count": 5,
   "metadata": {},
   "outputs": [],
   "source": [
    "wb_json = pd.read_json(os.path.join(files_dir,'wbapiall_clean.json'),orient='index')"
   ]
  },
  {
   "cell_type": "code",
   "execution_count": 6,
   "metadata": {},
   "outputs": [
    {
     "output_type": "execute_result",
     "data": {
      "text/plain": [
       "             id                   regionname                   countryname  \\\n",
       "count      3697                         3697                          3697   \n",
       "unique     3697                            8                           106   \n",
       "top     P168630  Latin America and Caribbean  [People's Republic of China]   \n",
       "freq          1                         1248                           316   \n",
       "\n",
       "                    lendinginstr projectstatusdisplay  status  \\\n",
       "count                       3678                 3697    3697   \n",
       "unique                        16                    2       2   \n",
       "top     Specific Investment Loan               Closed  Closed   \n",
       "freq                        1475                 2953    2953   \n",
       "\n",
       "                   project_name     boardapprovaldate  ibrdcommamt idacommamt  \\\n",
       "count                      3697                  3685         3697       3697   \n",
       "unique                     3526                  1872          966        129   \n",
       "top     Urban Transport Project  2001-06-26T00:00:00Z  100,000,000          0   \n",
       "freq                          6                    10          242       3461   \n",
       "\n",
       "        ...                      theme1  \\\n",
       "count   ...                        3697   \n",
       "unique  ...                         886   \n",
       "top     ...  {'Name': '', 'Percent': 0}   \n",
       "freq    ...                         496   \n",
       "\n",
       "                                                      url totalcommamt  \\\n",
       "count                                                3697         3697   \n",
       "unique                                               3697          976   \n",
       "top     https://projects.worldbank.org/en/projects-ope...  100,000,000   \n",
       "freq                                                    1          242   \n",
       "\n",
       "       cons_serv_reqd_ind           closingdate envassesmentcategorycode  \\\n",
       "count                 190                  3424                     2976   \n",
       "unique                  3                   640                        7   \n",
       "top                     Y  2021-12-31T00:00:00Z                        B   \n",
       "freq                  104                    74                     1373   \n",
       "\n",
       "                                                  sector2  \\\n",
       "count                                                2943   \n",
       "unique                                               1276   \n",
       "top     {'Name': 'Central Government (Central Agencies...   \n",
       "freq                                                   31   \n",
       "\n",
       "                                                  sector3  \\\n",
       "count                                                1994   \n",
       "unique                                                875   \n",
       "top     {'Name': 'Sub-National Government', 'Percent': 5}   \n",
       "freq                                                   22   \n",
       "\n",
       "                                         project_abstract  \\\n",
       "count                                                3252   \n",
       "unique                                               3194   \n",
       "top     {'cdata': 'This report combines five emergency...   \n",
       "freq                                                    5   \n",
       "\n",
       "                                                   theme2  \n",
       "count                                                2783  \n",
       "unique                                                912  \n",
       "top     {'Name': 'Infrastructure services for private ...  \n",
       "freq                                                   32  \n",
       "\n",
       "[4 rows x 30 columns]"
      ],
      "text/html": "<div>\n<style scoped>\n    .dataframe tbody tr th:only-of-type {\n        vertical-align: middle;\n    }\n\n    .dataframe tbody tr th {\n        vertical-align: top;\n    }\n\n    .dataframe thead th {\n        text-align: right;\n    }\n</style>\n<table border=\"1\" class=\"dataframe\">\n  <thead>\n    <tr style=\"text-align: right;\">\n      <th></th>\n      <th>id</th>\n      <th>regionname</th>\n      <th>countryname</th>\n      <th>lendinginstr</th>\n      <th>projectstatusdisplay</th>\n      <th>status</th>\n      <th>project_name</th>\n      <th>boardapprovaldate</th>\n      <th>ibrdcommamt</th>\n      <th>idacommamt</th>\n      <th>...</th>\n      <th>theme1</th>\n      <th>url</th>\n      <th>totalcommamt</th>\n      <th>cons_serv_reqd_ind</th>\n      <th>closingdate</th>\n      <th>envassesmentcategorycode</th>\n      <th>sector2</th>\n      <th>sector3</th>\n      <th>project_abstract</th>\n      <th>theme2</th>\n    </tr>\n  </thead>\n  <tbody>\n    <tr>\n      <th>count</th>\n      <td>3697</td>\n      <td>3697</td>\n      <td>3697</td>\n      <td>3678</td>\n      <td>3697</td>\n      <td>3697</td>\n      <td>3697</td>\n      <td>3685</td>\n      <td>3697</td>\n      <td>3697</td>\n      <td>...</td>\n      <td>3697</td>\n      <td>3697</td>\n      <td>3697</td>\n      <td>190</td>\n      <td>3424</td>\n      <td>2976</td>\n      <td>2943</td>\n      <td>1994</td>\n      <td>3252</td>\n      <td>2783</td>\n    </tr>\n    <tr>\n      <th>unique</th>\n      <td>3697</td>\n      <td>8</td>\n      <td>106</td>\n      <td>16</td>\n      <td>2</td>\n      <td>2</td>\n      <td>3526</td>\n      <td>1872</td>\n      <td>966</td>\n      <td>129</td>\n      <td>...</td>\n      <td>886</td>\n      <td>3697</td>\n      <td>976</td>\n      <td>3</td>\n      <td>640</td>\n      <td>7</td>\n      <td>1276</td>\n      <td>875</td>\n      <td>3194</td>\n      <td>912</td>\n    </tr>\n    <tr>\n      <th>top</th>\n      <td>P168630</td>\n      <td>Latin America and Caribbean</td>\n      <td>[People's Republic of China]</td>\n      <td>Specific Investment Loan</td>\n      <td>Closed</td>\n      <td>Closed</td>\n      <td>Urban Transport Project</td>\n      <td>2001-06-26T00:00:00Z</td>\n      <td>100,000,000</td>\n      <td>0</td>\n      <td>...</td>\n      <td>{'Name': '', 'Percent': 0}</td>\n      <td>https://projects.worldbank.org/en/projects-ope...</td>\n      <td>100,000,000</td>\n      <td>Y</td>\n      <td>2021-12-31T00:00:00Z</td>\n      <td>B</td>\n      <td>{'Name': 'Central Government (Central Agencies...</td>\n      <td>{'Name': 'Sub-National Government', 'Percent': 5}</td>\n      <td>{'cdata': 'This report combines five emergency...</td>\n      <td>{'Name': 'Infrastructure services for private ...</td>\n    </tr>\n    <tr>\n      <th>freq</th>\n      <td>1</td>\n      <td>1248</td>\n      <td>316</td>\n      <td>1475</td>\n      <td>2953</td>\n      <td>2953</td>\n      <td>6</td>\n      <td>10</td>\n      <td>242</td>\n      <td>3461</td>\n      <td>...</td>\n      <td>496</td>\n      <td>1</td>\n      <td>242</td>\n      <td>104</td>\n      <td>74</td>\n      <td>1373</td>\n      <td>31</td>\n      <td>22</td>\n      <td>5</td>\n      <td>32</td>\n    </tr>\n  </tbody>\n</table>\n<p>4 rows × 30 columns</p>\n</div>"
     },
     "metadata": {},
     "execution_count": 6
    }
   ],
   "source": [
    "wb_json.describe()"
   ]
  },
  {
   "cell_type": "code",
   "execution_count": 7,
   "metadata": {},
   "outputs": [
    {
     "output_type": "execute_result",
     "data": {
      "text/plain": [
       "              id                   regionname            countryname  \\\n",
       "P172024  P172024      Europe and Central Asia  [Republic of Croatia]   \n",
       "P173975  P173975      Europe and Central Asia              [Georgia]   \n",
       "P175895  P175895      Europe and Central Asia              [Ukraine]   \n",
       "P171050  P171050      Europe and Central Asia              [Ukraine]   \n",
       "P175138  P175138  Latin America and Caribbean   [Argentine Republic]   \n",
       "\n",
       "                         lendinginstr projectstatusdisplay  status  \\\n",
       "P172024  Investment Project Financing               Active  Active   \n",
       "P173975  Investment Project Financing               Active  Active   \n",
       "P175895  Investment Project Financing               Active  Active   \n",
       "P171050  Investment Project Financing               Active  Active   \n",
       "P175138  Investment Project Financing               Active  Active   \n",
       "\n",
       "                                              project_name  \\\n",
       "P172024  Helping Enterprises Access Liquidity in the Re...   \n",
       "P173975  Georgia Relief and Recovery for Micro, Small, ...   \n",
       "P175895  Ukraine Emergency COVID-19 Response and Vaccin...   \n",
       "P171050  Ukraine Improving Higher Education for Results...   \n",
       "P175138  Buenos Aires &#8211; Mitre Passenger Railway L...   \n",
       "\n",
       "            boardapprovaldate  ibrdcommamt idacommamt  ...  \\\n",
       "P172024  2021-05-14T00:00:00Z  242,100,000          0  ...   \n",
       "P173975  2021-05-11T00:00:00Z  102,900,000          0  ...   \n",
       "P175895  2021-05-10T00:00:00Z   90,000,000          0  ...   \n",
       "P171050  2021-05-05T00:00:00Z  200,000,000          0  ...   \n",
       "P175138  2021-04-30T00:00:00Z  347,000,000          0  ...   \n",
       "\n",
       "                             theme1  \\\n",
       "P172024  {'Name': '', 'Percent': 0}   \n",
       "P173975  {'Name': '', 'Percent': 0}   \n",
       "P175895  {'Name': '', 'Percent': 0}   \n",
       "P171050  {'Name': '', 'Percent': 0}   \n",
       "P175138  {'Name': '', 'Percent': 0}   \n",
       "\n",
       "                                                       url totalcommamt  \\\n",
       "P172024  https://projects.worldbank.org/en/projects-ope...  242,100,000   \n",
       "P173975  https://projects.worldbank.org/en/projects-ope...  102,900,000   \n",
       "P175895  https://projects.worldbank.org/en/projects-ope...   90,000,000   \n",
       "P171050  https://projects.worldbank.org/en/projects-ope...  200,000,000   \n",
       "P175138  https://projects.worldbank.org/en/projects-ope...  347,000,000   \n",
       "\n",
       "        cons_serv_reqd_ind           closingdate envassesmentcategorycode  \\\n",
       "P172024                NaN                   NaN                      NaN   \n",
       "P173975                NaN                   NaN                      NaN   \n",
       "P175895                NaN                   NaN                      NaN   \n",
       "P171050                  N                   NaN                      NaN   \n",
       "P175138                  Y  2026-06-30T00:00:00Z                      NaN   \n",
       "\n",
       "        sector2 sector3 project_abstract theme2  \n",
       "P172024     NaN     NaN              NaN    NaN  \n",
       "P173975     NaN     NaN              NaN    NaN  \n",
       "P175895     NaN     NaN              NaN    NaN  \n",
       "P171050     NaN     NaN              NaN    NaN  \n",
       "P175138     NaN     NaN              NaN    NaN  \n",
       "\n",
       "[5 rows x 30 columns]"
      ],
      "text/html": "<div>\n<style scoped>\n    .dataframe tbody tr th:only-of-type {\n        vertical-align: middle;\n    }\n\n    .dataframe tbody tr th {\n        vertical-align: top;\n    }\n\n    .dataframe thead th {\n        text-align: right;\n    }\n</style>\n<table border=\"1\" class=\"dataframe\">\n  <thead>\n    <tr style=\"text-align: right;\">\n      <th></th>\n      <th>id</th>\n      <th>regionname</th>\n      <th>countryname</th>\n      <th>lendinginstr</th>\n      <th>projectstatusdisplay</th>\n      <th>status</th>\n      <th>project_name</th>\n      <th>boardapprovaldate</th>\n      <th>ibrdcommamt</th>\n      <th>idacommamt</th>\n      <th>...</th>\n      <th>theme1</th>\n      <th>url</th>\n      <th>totalcommamt</th>\n      <th>cons_serv_reqd_ind</th>\n      <th>closingdate</th>\n      <th>envassesmentcategorycode</th>\n      <th>sector2</th>\n      <th>sector3</th>\n      <th>project_abstract</th>\n      <th>theme2</th>\n    </tr>\n  </thead>\n  <tbody>\n    <tr>\n      <th>P172024</th>\n      <td>P172024</td>\n      <td>Europe and Central Asia</td>\n      <td>[Republic of Croatia]</td>\n      <td>Investment Project Financing</td>\n      <td>Active</td>\n      <td>Active</td>\n      <td>Helping Enterprises Access Liquidity in the Re...</td>\n      <td>2021-05-14T00:00:00Z</td>\n      <td>242,100,000</td>\n      <td>0</td>\n      <td>...</td>\n      <td>{'Name': '', 'Percent': 0}</td>\n      <td>https://projects.worldbank.org/en/projects-ope...</td>\n      <td>242,100,000</td>\n      <td>NaN</td>\n      <td>NaN</td>\n      <td>NaN</td>\n      <td>NaN</td>\n      <td>NaN</td>\n      <td>NaN</td>\n      <td>NaN</td>\n    </tr>\n    <tr>\n      <th>P173975</th>\n      <td>P173975</td>\n      <td>Europe and Central Asia</td>\n      <td>[Georgia]</td>\n      <td>Investment Project Financing</td>\n      <td>Active</td>\n      <td>Active</td>\n      <td>Georgia Relief and Recovery for Micro, Small, ...</td>\n      <td>2021-05-11T00:00:00Z</td>\n      <td>102,900,000</td>\n      <td>0</td>\n      <td>...</td>\n      <td>{'Name': '', 'Percent': 0}</td>\n      <td>https://projects.worldbank.org/en/projects-ope...</td>\n      <td>102,900,000</td>\n      <td>NaN</td>\n      <td>NaN</td>\n      <td>NaN</td>\n      <td>NaN</td>\n      <td>NaN</td>\n      <td>NaN</td>\n      <td>NaN</td>\n    </tr>\n    <tr>\n      <th>P175895</th>\n      <td>P175895</td>\n      <td>Europe and Central Asia</td>\n      <td>[Ukraine]</td>\n      <td>Investment Project Financing</td>\n      <td>Active</td>\n      <td>Active</td>\n      <td>Ukraine Emergency COVID-19 Response and Vaccin...</td>\n      <td>2021-05-10T00:00:00Z</td>\n      <td>90,000,000</td>\n      <td>0</td>\n      <td>...</td>\n      <td>{'Name': '', 'Percent': 0}</td>\n      <td>https://projects.worldbank.org/en/projects-ope...</td>\n      <td>90,000,000</td>\n      <td>NaN</td>\n      <td>NaN</td>\n      <td>NaN</td>\n      <td>NaN</td>\n      <td>NaN</td>\n      <td>NaN</td>\n      <td>NaN</td>\n    </tr>\n    <tr>\n      <th>P171050</th>\n      <td>P171050</td>\n      <td>Europe and Central Asia</td>\n      <td>[Ukraine]</td>\n      <td>Investment Project Financing</td>\n      <td>Active</td>\n      <td>Active</td>\n      <td>Ukraine Improving Higher Education for Results...</td>\n      <td>2021-05-05T00:00:00Z</td>\n      <td>200,000,000</td>\n      <td>0</td>\n      <td>...</td>\n      <td>{'Name': '', 'Percent': 0}</td>\n      <td>https://projects.worldbank.org/en/projects-ope...</td>\n      <td>200,000,000</td>\n      <td>N</td>\n      <td>NaN</td>\n      <td>NaN</td>\n      <td>NaN</td>\n      <td>NaN</td>\n      <td>NaN</td>\n      <td>NaN</td>\n    </tr>\n    <tr>\n      <th>P175138</th>\n      <td>P175138</td>\n      <td>Latin America and Caribbean</td>\n      <td>[Argentine Republic]</td>\n      <td>Investment Project Financing</td>\n      <td>Active</td>\n      <td>Active</td>\n      <td>Buenos Aires &amp;#8211; Mitre Passenger Railway L...</td>\n      <td>2021-04-30T00:00:00Z</td>\n      <td>347,000,000</td>\n      <td>0</td>\n      <td>...</td>\n      <td>{'Name': '', 'Percent': 0}</td>\n      <td>https://projects.worldbank.org/en/projects-ope...</td>\n      <td>347,000,000</td>\n      <td>Y</td>\n      <td>2026-06-30T00:00:00Z</td>\n      <td>NaN</td>\n      <td>NaN</td>\n      <td>NaN</td>\n      <td>NaN</td>\n      <td>NaN</td>\n    </tr>\n  </tbody>\n</table>\n<p>5 rows × 30 columns</p>\n</div>"
     },
     "metadata": {},
     "execution_count": 7
    }
   ],
   "source": [
    "wb_json.head()"
   ]
  },
  {
   "cell_type": "code",
   "execution_count": 8,
   "metadata": {},
   "outputs": [],
   "source": [
    "wb_json.ibrdcommamt = wb_json.ibrdcommamt.apply(lambda x: x.replace(',',''))\n",
    "wb_json.ibrdcommamt = wb_json.ibrdcommamt.astype(float)"
   ]
  },
  {
   "cell_type": "code",
   "execution_count": 9,
   "metadata": {},
   "outputs": [],
   "source": [
    "import numpy as np"
   ]
  },
  {
   "cell_type": "code",
   "execution_count": 10,
   "metadata": {},
   "outputs": [],
   "source": [
    "wb_json['sector1_name'] = [x['Name'] for x in wb_json['sector1']]\n",
    "wb_json['sector1_pct'] = [x['Percent'] for x in wb_json['sector1']]\n",
    "wb_json['sector2_name'] = [x['Name'] if type(x) == dict else np.nan for x in wb_json['sector2']]\n",
    "wb_json['sector2_pct'] = [x['Percent'] if type(x) == dict else np.nan for x in wb_json['sector2']]\n",
    "wb_json['sector3_name'] = [x['Name'] if type(x) == dict else np.nan for x in wb_json['sector3']]\n",
    "wb_json['sector3_pct'] = [x['Percent'] if type(x) == dict else np.nan for x in wb_json['sector3']]"
   ]
  },
  {
   "cell_type": "code",
   "execution_count": 11,
   "metadata": {},
   "outputs": [],
   "source": [
    "import pickle"
   ]
  },
  {
   "cell_type": "code",
   "execution_count": 12,
   "metadata": {},
   "outputs": [],
   "source": [
    "wb_json.boardapprovaldate = wb_json.boardapprovaldate.apply(pd.Timestamp)"
   ]
  },
  {
   "cell_type": "code",
   "execution_count": 13,
   "metadata": {},
   "outputs": [
    {
     "output_type": "stream",
     "name": "stderr",
     "text": [
      "<ipython-input-13-c98746017877>:1: FutureWarning: Treating datetime data as categorical rather than numeric in `.describe` is deprecated and will be removed in a future version of pandas. Specify `datetime_is_numeric=True` to silence this warning and adopt the future behavior now.\n  wb_json.boardapprovaldate.describe()\n"
     ]
    },
    {
     "output_type": "execute_result",
     "data": {
      "text/plain": [
       "count                          3685\n",
       "unique                         1872\n",
       "top       2001-06-26 00:00:00+00:00\n",
       "freq                             10\n",
       "first     1980-02-01 00:00:00+00:00\n",
       "last      2021-05-14 00:00:00+00:00\n",
       "Name: boardapprovaldate, dtype: object"
      ]
     },
     "metadata": {},
     "execution_count": 13
    }
   ],
   "source": [
    "wb_json.boardapprovaldate.describe()"
   ]
  },
  {
   "cell_type": "code",
   "execution_count": 16,
   "metadata": {},
   "outputs": [
    {
     "output_type": "execute_result",
     "data": {
      "text/plain": [
       "count                                      3697\n",
       "unique                                       83\n",
       "top       Central Government (Central Agencies)\n",
       "freq                                        456\n",
       "Name: sector1_name, dtype: object"
      ]
     },
     "metadata": {},
     "execution_count": 16
    }
   ],
   "source": [
    "wb_json.sector1_name.describe()"
   ]
  },
  {
   "cell_type": "code",
   "execution_count": 33,
   "metadata": {},
   "outputs": [
    {
     "output_type": "execute_result",
     "data": {
      "text/plain": [
       "Central Government (Central Agencies)                             456\n",
       "Health                                                            189\n",
       "Social Protection                                                 188\n",
       "Rural and Inter-Urban Roads                                       187\n",
       "Other Industry, Trade and Services                                175\n",
       "Banking Institutions                                              150\n",
       "Sub-National Government                                           131\n",
       "Water Supply                                                      125\n",
       "Other Water Supply, Sanitation and Waste Management               122\n",
       "Roads and highways                                                120\n",
       "Irrigation and Drainage                                           110\n",
       "Other Energy and Extractives                                      107\n",
       "Other Public Administration                                        97\n",
       "Power                                                              96\n",
       "Other Agriculture, Fishing and Forestry                            82\n",
       "Urban Transport                                                    80\n",
       "Primary Education                                                  79\n",
       "Sanitation                                                         78\n",
       "Tertiary Education                                                 66\n",
       "Energy Transmission and Distribution                               60\n",
       "Secondary Education                                                51\n",
       "Agricultural Extension, Research, and Other Support Activities     48\n",
       "Other Non-bank Financial Institutions                              46\n",
       "Railways                                                           45\n",
       "Oil and Gas                                                        41\n",
       "Agricultural markets, commercialization and agri-business          40\n",
       "Public Administration - Social Protection                          40\n",
       "Other Transportation                                               36\n",
       "Forestry                                                           36\n",
       "Workforce Development and Vocational Education                     36\n",
       "ICT Infrastructure                                                 34\n",
       "Sewerage                                                           33\n",
       "Law and Justice                                                    32\n",
       "Ports/Waterways                                                    30\n",
       "Other Education                                                    30\n",
       "Waste Management                                                   30\n",
       "Public Administration - Health                                     28\n",
       "                                                                   28\n",
       "Renewable Energy Biomass                                           24\n",
       "Public Administration - Water, Sanitation and Waste Management     22\n",
       "Name: sector1_name, dtype: int64"
      ]
     },
     "metadata": {},
     "execution_count": 33
    }
   ],
   "source": [
    "wb_json.sector1_name.value_counts().head(40)"
   ]
  },
  {
   "cell_type": "code",
   "execution_count": 18,
   "metadata": {},
   "outputs": [
    {
     "output_type": "execute_result",
     "data": {
      "text/plain": [
       "count                                      3697\n",
       "unique                                       83\n",
       "top       Central Government (Central Agencies)\n",
       "freq                                        456\n",
       "Name: sector1_name, dtype: object"
      ]
     },
     "metadata": {},
     "execution_count": 18
    }
   ],
   "source": [
    "wb_json.sector1_name.describe()"
   ]
  },
  {
   "cell_type": "code",
   "execution_count": 24,
   "metadata": {},
   "outputs": [],
   "source": [
    "with open(\"world_bank_sectors.txt\") as f:\n",
    "  sectors = f.read()\n",
    "\n",
    "sectors_list = sectors.split(\"\\n\")\n",
    "\n",
    "sector_dict = dict()\n",
    "current_major_sector = ''\n",
    "for sector in sectors_list:\n",
    "    if sector == '':\n",
    "        current_major_sector = ''\n",
    "        continue\n",
    "    if current_major_sector == '':\n",
    "        current_major_sector = sector\n",
    "        sector_dict[current_major_sector] = []\n",
    "        continue\n",
    "    if current_major_sector in sector_dict.keys():\n",
    "        sector_dict[current_major_sector].append(sector)\n",
    "\n",
    "reverse_sector_dict = dict()\n",
    "for major_sector in sector_dict:\n",
    "    for sector in sector_dict[major_sector]:\n",
    "        reverse_sector_dict[sector] = major_sector"
   ]
  },
  {
   "cell_type": "code",
   "execution_count": 26,
   "metadata": {},
   "outputs": [
    {
     "output_type": "execute_result",
     "data": {
      "text/plain": [
       "True     3328\n",
       "False     369\n",
       "Name: sector1_name, dtype: int64"
      ]
     },
     "metadata": {},
     "execution_count": 26
    }
   ],
   "source": [
    "wb_json.sector1_name.apply(lambda x: x in reverse_sector_dict).value_counts()"
   ]
  },
  {
   "cell_type": "code",
   "execution_count": 34,
   "metadata": {},
   "outputs": [],
   "source": [
    "wb_json['major_sector_name'] = [reverse_sector_dict[minor_sector] if minor_sector in reverse_sector_dict else None for minor_sector in wb_json.sector1_name.values]"
   ]
  },
  {
   "cell_type": "code",
   "execution_count": 35,
   "metadata": {},
   "outputs": [
    {
     "output_type": "execute_result",
     "data": {
      "text/plain": [
       "count             3328\n",
       "unique              11\n",
       "top       Public Admin\n",
       "freq               716\n",
       "Name: major_sector_name, dtype: object"
      ]
     },
     "metadata": {},
     "execution_count": 35
    }
   ],
   "source": [
    "wb_json.major_sector_name.describe()"
   ]
  },
  {
   "cell_type": "code",
   "execution_count": 36,
   "metadata": {},
   "outputs": [],
   "source": [
    "wb_json.to_pickle(os.path.join(files_dir,\"world_bank_projects_json.pkl\"))"
   ]
  },
  {
   "cell_type": "code",
   "execution_count": 40,
   "metadata": {},
   "outputs": [
    {
     "output_type": "execute_result",
     "data": {
      "text/plain": [
       "              id                    regionname  \\\n",
       "P004891  P004891  Middle East and North Africa   \n",
       "P004995  P004995  Middle East and North Africa   \n",
       "P005387  P005387  Middle East and North Africa   \n",
       "P005547  P005547  Middle East and North Africa   \n",
       "P008346  P008346       Europe and Central Asia   \n",
       "P003748  P003748         East Asia and Pacific   \n",
       "P003771  P003771         East Asia and Pacific   \n",
       "P004092  P004092         East Asia and Pacific   \n",
       "P004233  P004233         East Asia and Pacific   \n",
       "P008921  P008921       Europe and Central Asia   \n",
       "\n",
       "                                       countryname  \\\n",
       "P004891  [People's Democratic Republic of Algeria]   \n",
       "P004995                   [Arab Republic of Egypt]   \n",
       "P005387                       [Kingdom of Morocco]   \n",
       "P005547                     [Syrian Arab Republic]   \n",
       "P008346                       [Republic of Cyprus]   \n",
       "P003748                    [Republic of Indonesia]   \n",
       "P003771                    [Republic of Indonesia]   \n",
       "P004092                        [Republic of Korea]   \n",
       "P004233                                 [Malaysia]   \n",
       "P008921                       [Republic of Turkey]   \n",
       "\n",
       "                                   lendinginstr projectstatusdisplay  status  \\\n",
       "P004891                Specific Investment Loan               Closed  Closed   \n",
       "P004995                Specific Investment Loan               Closed  Closed   \n",
       "P005387                Specific Investment Loan               Closed  Closed   \n",
       "P005547  Sector Investment and Maintenance Loan               Closed  Closed   \n",
       "P008346                Specific Investment Loan               Closed  Closed   \n",
       "P003748                Specific Investment Loan               Closed  Closed   \n",
       "P003771                Specific Investment Loan               Closed  Closed   \n",
       "P004092                Specific Investment Loan               Closed  Closed   \n",
       "P004233  Sector Investment and Maintenance Loan               Closed  Closed   \n",
       "P008921                Specific Investment Loan               Closed  Closed   \n",
       "\n",
       "                                              project_name boardapprovaldate  \\\n",
       "P004891                               Highway Project (03)               NaT   \n",
       "P004995                  Suez Canal Rehabilitation Project               NaT   \n",
       "P005387             Phosphate Fertilizer Expansion Project               NaT   \n",
       "P005547                             Mehardeh Power Project               NaT   \n",
       "P008346                          Paphos Irrigation Project               NaT   \n",
       "P003748                            Irrigation Project (07)               NaT   \n",
       "P003771  Nucleus Estates Project (02) Smallholders Proj...               NaT   \n",
       "P004092                              Gojeong Power Project               NaT   \n",
       "P004233                                 Population Project               NaT   \n",
       "P008921                              Grain Storage Project               NaT   \n",
       "\n",
       "         ibrdcommamt idacommamt  ... sector3  \\\n",
       "P004891  126000000.0          0  ...     NaN   \n",
       "P004995   50000000.0          0  ...     NaN   \n",
       "P005387   50000000.0          0  ...     NaN   \n",
       "P005547   25000000.0          0  ...     NaN   \n",
       "P008346   14000000.0          0  ...     NaN   \n",
       "P003748   33000000.0          0  ...     NaN   \n",
       "P003771   65000000.0          0  ...     NaN   \n",
       "P004092  115000000.0          0  ...     NaN   \n",
       "P004233    5000000.0          0  ...     NaN   \n",
       "P008921   85000000.0          0  ...     NaN   \n",
       "\n",
       "                                          project_abstract theme2  \\\n",
       "P004891  {'cdata': 'The project will help relieve the m...    NaN   \n",
       "P004995  {'cdata': 'The Suez Canal Rehabilitation Proje...    NaN   \n",
       "P005387                                                NaN    NaN   \n",
       "P005547  {'cdata': 'The Mehardeh Power Project includes...    NaN   \n",
       "P008346  {'cdata': 'The project would construct three w...    NaN   \n",
       "P003748  {'cdata': 'Major components of the project are...    NaN   \n",
       "P003771  {'cdata': 'In its settlement component the Sec...    NaN   \n",
       "P004092  {'cdata': 'The project constitutes the next lo...    NaN   \n",
       "P004233  {'cdata': 'The project consists of increments ...    NaN   \n",
       "P008921  {'cdata': 'The main objectives of the proposed...    NaN   \n",
       "\n",
       "                                              sector1_name sector1_pct  \\\n",
       "P004891                                 (Historic)Highways         100   \n",
       "P004995                                    Ports/Waterways         100   \n",
       "P005387              (Historic)Mining and other extractive         100   \n",
       "P005547                                  (Historic)Thermal         100   \n",
       "P008346                            Irrigation and Drainage         100   \n",
       "P003748                            Irrigation and Drainage         100   \n",
       "P003771                          (Historic)Perennial crops         100   \n",
       "P004092                                  (Historic)Thermal         100   \n",
       "P004233  (Historic)Primary health, including reproducti...         100   \n",
       "P008921              (Historic)Agro-industry and marketing         100   \n",
       "\n",
       "        sector2_name sector2_pct sector3_name sector3_pct major_sector_name  \n",
       "P004891          NaN         NaN          NaN         NaN              None  \n",
       "P004995          NaN         NaN          NaN         NaN    Transportation  \n",
       "P005387          NaN         NaN          NaN         NaN              None  \n",
       "P005547          NaN         NaN          NaN         NaN              None  \n",
       "P008346          NaN         NaN          NaN         NaN       Agriculture  \n",
       "P003748          NaN         NaN          NaN         NaN       Agriculture  \n",
       "P003771          NaN         NaN          NaN         NaN              None  \n",
       "P004092          NaN         NaN          NaN         NaN              None  \n",
       "P004233          NaN         NaN          NaN         NaN              None  \n",
       "P008921          NaN         NaN          NaN         NaN              None  \n",
       "\n",
       "[10 rows x 37 columns]"
      ],
      "text/html": "<div>\n<style scoped>\n    .dataframe tbody tr th:only-of-type {\n        vertical-align: middle;\n    }\n\n    .dataframe tbody tr th {\n        vertical-align: top;\n    }\n\n    .dataframe thead th {\n        text-align: right;\n    }\n</style>\n<table border=\"1\" class=\"dataframe\">\n  <thead>\n    <tr style=\"text-align: right;\">\n      <th></th>\n      <th>id</th>\n      <th>regionname</th>\n      <th>countryname</th>\n      <th>lendinginstr</th>\n      <th>projectstatusdisplay</th>\n      <th>status</th>\n      <th>project_name</th>\n      <th>boardapprovaldate</th>\n      <th>ibrdcommamt</th>\n      <th>idacommamt</th>\n      <th>...</th>\n      <th>sector3</th>\n      <th>project_abstract</th>\n      <th>theme2</th>\n      <th>sector1_name</th>\n      <th>sector1_pct</th>\n      <th>sector2_name</th>\n      <th>sector2_pct</th>\n      <th>sector3_name</th>\n      <th>sector3_pct</th>\n      <th>major_sector_name</th>\n    </tr>\n  </thead>\n  <tbody>\n    <tr>\n      <th>P004891</th>\n      <td>P004891</td>\n      <td>Middle East and North Africa</td>\n      <td>[People's Democratic Republic of Algeria]</td>\n      <td>Specific Investment Loan</td>\n      <td>Closed</td>\n      <td>Closed</td>\n      <td>Highway Project (03)</td>\n      <td>NaT</td>\n      <td>126000000.0</td>\n      <td>0</td>\n      <td>...</td>\n      <td>NaN</td>\n      <td>{'cdata': 'The project will help relieve the m...</td>\n      <td>NaN</td>\n      <td>(Historic)Highways</td>\n      <td>100</td>\n      <td>NaN</td>\n      <td>NaN</td>\n      <td>NaN</td>\n      <td>NaN</td>\n      <td>None</td>\n    </tr>\n    <tr>\n      <th>P004995</th>\n      <td>P004995</td>\n      <td>Middle East and North Africa</td>\n      <td>[Arab Republic of Egypt]</td>\n      <td>Specific Investment Loan</td>\n      <td>Closed</td>\n      <td>Closed</td>\n      <td>Suez Canal Rehabilitation Project</td>\n      <td>NaT</td>\n      <td>50000000.0</td>\n      <td>0</td>\n      <td>...</td>\n      <td>NaN</td>\n      <td>{'cdata': 'The Suez Canal Rehabilitation Proje...</td>\n      <td>NaN</td>\n      <td>Ports/Waterways</td>\n      <td>100</td>\n      <td>NaN</td>\n      <td>NaN</td>\n      <td>NaN</td>\n      <td>NaN</td>\n      <td>Transportation</td>\n    </tr>\n    <tr>\n      <th>P005387</th>\n      <td>P005387</td>\n      <td>Middle East and North Africa</td>\n      <td>[Kingdom of Morocco]</td>\n      <td>Specific Investment Loan</td>\n      <td>Closed</td>\n      <td>Closed</td>\n      <td>Phosphate Fertilizer Expansion Project</td>\n      <td>NaT</td>\n      <td>50000000.0</td>\n      <td>0</td>\n      <td>...</td>\n      <td>NaN</td>\n      <td>NaN</td>\n      <td>NaN</td>\n      <td>(Historic)Mining and other extractive</td>\n      <td>100</td>\n      <td>NaN</td>\n      <td>NaN</td>\n      <td>NaN</td>\n      <td>NaN</td>\n      <td>None</td>\n    </tr>\n    <tr>\n      <th>P005547</th>\n      <td>P005547</td>\n      <td>Middle East and North Africa</td>\n      <td>[Syrian Arab Republic]</td>\n      <td>Sector Investment and Maintenance Loan</td>\n      <td>Closed</td>\n      <td>Closed</td>\n      <td>Mehardeh Power Project</td>\n      <td>NaT</td>\n      <td>25000000.0</td>\n      <td>0</td>\n      <td>...</td>\n      <td>NaN</td>\n      <td>{'cdata': 'The Mehardeh Power Project includes...</td>\n      <td>NaN</td>\n      <td>(Historic)Thermal</td>\n      <td>100</td>\n      <td>NaN</td>\n      <td>NaN</td>\n      <td>NaN</td>\n      <td>NaN</td>\n      <td>None</td>\n    </tr>\n    <tr>\n      <th>P008346</th>\n      <td>P008346</td>\n      <td>Europe and Central Asia</td>\n      <td>[Republic of Cyprus]</td>\n      <td>Specific Investment Loan</td>\n      <td>Closed</td>\n      <td>Closed</td>\n      <td>Paphos Irrigation Project</td>\n      <td>NaT</td>\n      <td>14000000.0</td>\n      <td>0</td>\n      <td>...</td>\n      <td>NaN</td>\n      <td>{'cdata': 'The project would construct three w...</td>\n      <td>NaN</td>\n      <td>Irrigation and Drainage</td>\n      <td>100</td>\n      <td>NaN</td>\n      <td>NaN</td>\n      <td>NaN</td>\n      <td>NaN</td>\n      <td>Agriculture</td>\n    </tr>\n    <tr>\n      <th>P003748</th>\n      <td>P003748</td>\n      <td>East Asia and Pacific</td>\n      <td>[Republic of Indonesia]</td>\n      <td>Specific Investment Loan</td>\n      <td>Closed</td>\n      <td>Closed</td>\n      <td>Irrigation Project (07)</td>\n      <td>NaT</td>\n      <td>33000000.0</td>\n      <td>0</td>\n      <td>...</td>\n      <td>NaN</td>\n      <td>{'cdata': 'Major components of the project are...</td>\n      <td>NaN</td>\n      <td>Irrigation and Drainage</td>\n      <td>100</td>\n      <td>NaN</td>\n      <td>NaN</td>\n      <td>NaN</td>\n      <td>NaN</td>\n      <td>Agriculture</td>\n    </tr>\n    <tr>\n      <th>P003771</th>\n      <td>P003771</td>\n      <td>East Asia and Pacific</td>\n      <td>[Republic of Indonesia]</td>\n      <td>Specific Investment Loan</td>\n      <td>Closed</td>\n      <td>Closed</td>\n      <td>Nucleus Estates Project (02) Smallholders Proj...</td>\n      <td>NaT</td>\n      <td>65000000.0</td>\n      <td>0</td>\n      <td>...</td>\n      <td>NaN</td>\n      <td>{'cdata': 'In its settlement component the Sec...</td>\n      <td>NaN</td>\n      <td>(Historic)Perennial crops</td>\n      <td>100</td>\n      <td>NaN</td>\n      <td>NaN</td>\n      <td>NaN</td>\n      <td>NaN</td>\n      <td>None</td>\n    </tr>\n    <tr>\n      <th>P004092</th>\n      <td>P004092</td>\n      <td>East Asia and Pacific</td>\n      <td>[Republic of Korea]</td>\n      <td>Specific Investment Loan</td>\n      <td>Closed</td>\n      <td>Closed</td>\n      <td>Gojeong Power Project</td>\n      <td>NaT</td>\n      <td>115000000.0</td>\n      <td>0</td>\n      <td>...</td>\n      <td>NaN</td>\n      <td>{'cdata': 'The project constitutes the next lo...</td>\n      <td>NaN</td>\n      <td>(Historic)Thermal</td>\n      <td>100</td>\n      <td>NaN</td>\n      <td>NaN</td>\n      <td>NaN</td>\n      <td>NaN</td>\n      <td>None</td>\n    </tr>\n    <tr>\n      <th>P004233</th>\n      <td>P004233</td>\n      <td>East Asia and Pacific</td>\n      <td>[Malaysia]</td>\n      <td>Sector Investment and Maintenance Loan</td>\n      <td>Closed</td>\n      <td>Closed</td>\n      <td>Population Project</td>\n      <td>NaT</td>\n      <td>5000000.0</td>\n      <td>0</td>\n      <td>...</td>\n      <td>NaN</td>\n      <td>{'cdata': 'The project consists of increments ...</td>\n      <td>NaN</td>\n      <td>(Historic)Primary health, including reproducti...</td>\n      <td>100</td>\n      <td>NaN</td>\n      <td>NaN</td>\n      <td>NaN</td>\n      <td>NaN</td>\n      <td>None</td>\n    </tr>\n    <tr>\n      <th>P008921</th>\n      <td>P008921</td>\n      <td>Europe and Central Asia</td>\n      <td>[Republic of Turkey]</td>\n      <td>Specific Investment Loan</td>\n      <td>Closed</td>\n      <td>Closed</td>\n      <td>Grain Storage Project</td>\n      <td>NaT</td>\n      <td>85000000.0</td>\n      <td>0</td>\n      <td>...</td>\n      <td>NaN</td>\n      <td>{'cdata': 'The main objectives of the proposed...</td>\n      <td>NaN</td>\n      <td>(Historic)Agro-industry and marketing</td>\n      <td>100</td>\n      <td>NaN</td>\n      <td>NaN</td>\n      <td>NaN</td>\n      <td>NaN</td>\n      <td>None</td>\n    </tr>\n  </tbody>\n</table>\n<p>10 rows × 37 columns</p>\n</div>"
     },
     "metadata": {},
     "execution_count": 40
    }
   ],
   "source": [
    "wb_json.tail(10)"
   ]
  },
  {
   "cell_type": "code",
   "execution_count": null,
   "metadata": {},
   "outputs": [],
   "source": []
  }
 ]
}