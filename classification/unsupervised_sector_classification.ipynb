{
 "metadata": {
  "language_info": {
   "codemirror_mode": {
    "name": "ipython",
    "version": 3
   },
   "file_extension": ".py",
   "mimetype": "text/x-python",
   "name": "python",
   "nbconvert_exporter": "python",
   "pygments_lexer": "ipython3",
   "version": "3.9.2"
  },
  "orig_nbformat": 2,
  "kernelspec": {
   "name": "python392jvsc74a57bd09c14091437e567b69b891d2838af0ae9212f4b16ac91005526a4e98434c6baeb",
   "display_name": "Python 3.9.2 64-bit ('erdos': conda)"
  },
  "metadata": {
   "interpreter": {
    "hash": "9c14091437e567b69b891d2838af0ae9212f4b16ac91005526a4e98434c6baeb"
   }
  }
 },
 "nbformat": 4,
 "nbformat_minor": 2,
 "cells": [
  {
   "source": [
    "# Sector prediction from loan documents\n",
    "\n",
    "Here we build an unsupervised model to predict the primary sector of a project from the project description and project title given in the loan document.\n",
    "\n",
    "Some caveats: \n",
    "- Not all loan documents have a project description or a project title, and the model will probably not perform well on these.\n",
    "- We are able to match data from the World Bank database with some of the loan documents, but the majority are unmatched.\n",
    "\n",
    "The main idea is to embed the project description and the sector names as vectors in a document space, and match each project description with the nearest sector name. To give additional semantic information to the sector names, we append all the subsector names given by the World Bank.\n",
    "\n",
    "Producing good documents for embedding will probably require cleaning. \n",
    "\n",
    "Does doc2vec work well with stopwords removed? Maybe a baseline tf-idf or LSI model would be best to start with."
   ],
   "cell_type": "markdown",
   "metadata": {}
  },
  {
   "cell_type": "code",
   "execution_count": 1,
   "metadata": {},
   "outputs": [],
   "source": [
    "import pandas as pd\n",
    "import matplotlib.pyplot as plt\n",
    "import numpy as np\n",
    "import nltk\n",
    "import gensim\n",
    "import enum"
   ]
  },
  {
   "source": [
    "## Load the data\n",
    "\n"
   ],
   "cell_type": "markdown",
   "metadata": {}
  },
  {
   "cell_type": "code",
   "execution_count": 6,
   "metadata": {},
   "outputs": [],
   "source": [
    "agreements_features = pd.read_pickle(\"../extraction_pipeline/agreement_features_join_projects.pkl\")"
   ]
  },
  {
   "cell_type": "code",
   "execution_count": 7,
   "metadata": {},
   "outputs": [
    {
     "output_type": "execute_result",
     "data": {
      "text/plain": [
       "                   id        date country_code   country_name  \\\n",
       "0  658601468273303198  1990-01-05           jo         Jordan   \n",
       "1  784351468234894668  1990-01-10           br         Brazil   \n",
       "2  891941468049466312  1990-01-11           ma       Malaysia   \n",
       "3  125511468051878371  1990-01-11           ma       Malaysia   \n",
       "4  733341468033245855  1990-01-16          ivc  Cote d'Ivoire   \n",
       "\n",
       "             named_countries  \\\n",
       "0    [Jordan, United States]   \n",
       "1    [Brazil, United States]   \n",
       "2  [Malaysia, United States]   \n",
       "3  [Malaysia, United States]   \n",
       "4            [United States]   \n",
       "\n",
       "                                        Project Name  \\\n",
       "0          Industry and Trade Policy Adjustment Loan   \n",
       "1                Third Agricultural Research Project   \n",
       "2  Rubber Industry Smallholders\\n            Deve...   \n",
       "3     Highway Rehabilitation and Improvement Project   \n",
       "4           Abidjan Environmental Protection Project   \n",
       "\n",
       "                                        project_desc  amount_standard  \\\n",
       "0  SCHEDULE 1\\n\\n        Withdrawal of the Procee...      150000000.0   \n",
       "1  SCHEDULE 2\\n\\nDescription of the Project\\n\\nTh...       47000000.0   \n",
       "2  SCHEDULE 2\\n\\n              Description of the...       71000000.0   \n",
       "3  SCHEDULE 2\\n\\n              Description of the...       83200000.0   \n",
       "4  SCHEDULE 2\\n\\nDescription of the Project\\n\\nTh...       21900000.0   \n",
       "\n",
       "  currency_standard closing_month closing_day closing_year  \\\n",
       "0         us dollar      December          31         1992   \n",
       "1         us dollar          June          30         1995   \n",
       "2         us dollar      December          31         1993   \n",
       "3         us dollar          June          30         1995   \n",
       "4         us dollar      December          31         1993   \n",
       "\n",
       "   loan_length in year wb_project_id major_sector_name  \\\n",
       "0                  2.0          None               NaN   \n",
       "1                  5.0          None               NaN   \n",
       "2                  3.0          None               NaN   \n",
       "3                  5.0       P099112    Transportation   \n",
       "4                  3.0          None               NaN   \n",
       "\n",
       "                  sector1_name             sector2_name sector3_name  \n",
       "0                          NaN                      NaN          NaN  \n",
       "1                          NaN                      NaN          NaN  \n",
       "2                          NaN                      NaN          NaN  \n",
       "3  Rural and Inter-Urban Roads  Sub-National Government          NaN  \n",
       "4                          NaN                      NaN          NaN  "
      ],
      "text/html": "<div>\n<style scoped>\n    .dataframe tbody tr th:only-of-type {\n        vertical-align: middle;\n    }\n\n    .dataframe tbody tr th {\n        vertical-align: top;\n    }\n\n    .dataframe thead th {\n        text-align: right;\n    }\n</style>\n<table border=\"1\" class=\"dataframe\">\n  <thead>\n    <tr style=\"text-align: right;\">\n      <th></th>\n      <th>id</th>\n      <th>date</th>\n      <th>country_code</th>\n      <th>country_name</th>\n      <th>named_countries</th>\n      <th>Project Name</th>\n      <th>project_desc</th>\n      <th>amount_standard</th>\n      <th>currency_standard</th>\n      <th>closing_month</th>\n      <th>closing_day</th>\n      <th>closing_year</th>\n      <th>loan_length in year</th>\n      <th>wb_project_id</th>\n      <th>major_sector_name</th>\n      <th>sector1_name</th>\n      <th>sector2_name</th>\n      <th>sector3_name</th>\n    </tr>\n  </thead>\n  <tbody>\n    <tr>\n      <th>0</th>\n      <td>658601468273303198</td>\n      <td>1990-01-05</td>\n      <td>jo</td>\n      <td>Jordan</td>\n      <td>[Jordan, United States]</td>\n      <td>Industry and Trade Policy Adjustment Loan</td>\n      <td>SCHEDULE 1\\n\\n        Withdrawal of the Procee...</td>\n      <td>150000000.0</td>\n      <td>us dollar</td>\n      <td>December</td>\n      <td>31</td>\n      <td>1992</td>\n      <td>2.0</td>\n      <td>None</td>\n      <td>NaN</td>\n      <td>NaN</td>\n      <td>NaN</td>\n      <td>NaN</td>\n    </tr>\n    <tr>\n      <th>1</th>\n      <td>784351468234894668</td>\n      <td>1990-01-10</td>\n      <td>br</td>\n      <td>Brazil</td>\n      <td>[Brazil, United States]</td>\n      <td>Third Agricultural Research Project</td>\n      <td>SCHEDULE 2\\n\\nDescription of the Project\\n\\nTh...</td>\n      <td>47000000.0</td>\n      <td>us dollar</td>\n      <td>June</td>\n      <td>30</td>\n      <td>1995</td>\n      <td>5.0</td>\n      <td>None</td>\n      <td>NaN</td>\n      <td>NaN</td>\n      <td>NaN</td>\n      <td>NaN</td>\n    </tr>\n    <tr>\n      <th>2</th>\n      <td>891941468049466312</td>\n      <td>1990-01-11</td>\n      <td>ma</td>\n      <td>Malaysia</td>\n      <td>[Malaysia, United States]</td>\n      <td>Rubber Industry Smallholders\\n            Deve...</td>\n      <td>SCHEDULE 2\\n\\n              Description of the...</td>\n      <td>71000000.0</td>\n      <td>us dollar</td>\n      <td>December</td>\n      <td>31</td>\n      <td>1993</td>\n      <td>3.0</td>\n      <td>None</td>\n      <td>NaN</td>\n      <td>NaN</td>\n      <td>NaN</td>\n      <td>NaN</td>\n    </tr>\n    <tr>\n      <th>3</th>\n      <td>125511468051878371</td>\n      <td>1990-01-11</td>\n      <td>ma</td>\n      <td>Malaysia</td>\n      <td>[Malaysia, United States]</td>\n      <td>Highway Rehabilitation and Improvement Project</td>\n      <td>SCHEDULE 2\\n\\n              Description of the...</td>\n      <td>83200000.0</td>\n      <td>us dollar</td>\n      <td>June</td>\n      <td>30</td>\n      <td>1995</td>\n      <td>5.0</td>\n      <td>P099112</td>\n      <td>Transportation</td>\n      <td>Rural and Inter-Urban Roads</td>\n      <td>Sub-National Government</td>\n      <td>NaN</td>\n    </tr>\n    <tr>\n      <th>4</th>\n      <td>733341468033245855</td>\n      <td>1990-01-16</td>\n      <td>ivc</td>\n      <td>Cote d'Ivoire</td>\n      <td>[United States]</td>\n      <td>Abidjan Environmental Protection Project</td>\n      <td>SCHEDULE 2\\n\\nDescription of the Project\\n\\nTh...</td>\n      <td>21900000.0</td>\n      <td>us dollar</td>\n      <td>December</td>\n      <td>31</td>\n      <td>1993</td>\n      <td>3.0</td>\n      <td>None</td>\n      <td>NaN</td>\n      <td>NaN</td>\n      <td>NaN</td>\n      <td>NaN</td>\n    </tr>\n  </tbody>\n</table>\n</div>"
     },
     "metadata": {},
     "execution_count": 7
    }
   ],
   "source": [
    "agreements_features.head()"
   ]
  },
  {
   "cell_type": "code",
   "execution_count": 8,
   "metadata": {},
   "outputs": [],
   "source": [
    "# remove all agreements where we have no data whatsoever. if there's a description or a name, we keep it, though.\n",
    "agreements_features.dropna(how='all',inplace=True,subset=['project_desc','Project Name'])"
   ]
  },
  {
   "cell_type": "code",
   "execution_count": 9,
   "metadata": {},
   "outputs": [
    {
     "output_type": "execute_result",
     "data": {
      "text/plain": [
       "3189"
      ]
     },
     "metadata": {},
     "execution_count": 9
    }
   ],
   "source": [
    "len(agreements_features)\n",
    "#we don't lose very many"
   ]
  },
  {
   "source": [
    "Get the sector names and subsector names."
   ],
   "cell_type": "markdown",
   "metadata": {}
  },
  {
   "cell_type": "code",
   "execution_count": 11,
   "metadata": {},
   "outputs": [],
   "source": [
    "with open(\"../world_bank_sectors.txt\") as f:\n",
    "  sectors = f.read()\n",
    "\n",
    "sectors_list = sectors.split(\"\\n\")\n",
    "\n",
    "sector_dict = dict()\n",
    "current_major_sector = ''\n",
    "for sector in sectors_list:\n",
    "    if sector == '':\n",
    "        current_major_sector = ''\n",
    "        continue\n",
    "    if current_major_sector == '':\n",
    "        current_major_sector = sector\n",
    "        sector_dict[current_major_sector] = []\n",
    "        continue\n",
    "    if current_major_sector in sector_dict.keys():\n",
    "        sector_dict[current_major_sector].append(sector)\n",
    "\n",
    "reverse_sector_dict = dict()\n",
    "for major_sector in sector_dict:\n",
    "    for sector in sector_dict[major_sector]:\n",
    "        reverse_sector_dict[sector] = major_sector"
   ]
  },
  {
   "cell_type": "code",
   "execution_count": 12,
   "metadata": {},
   "outputs": [],
   "source": [
    "sector_numbers = dict()\n",
    "i = 0\n",
    "for sector in sector_dict:\n",
    "    sector_numbers[sector] = i\n",
    "    i += 1"
   ]
  },
  {
   "source": [
    "Assign each sector an id."
   ],
   "cell_type": "markdown",
   "metadata": {}
  },
  {
   "cell_type": "code",
   "execution_count": 13,
   "metadata": {},
   "outputs": [],
   "source": [
    "agreements_features['sector_id'] = [sector_numbers[sector] if type(sector) == str else None for sector in agreements_features.major_sector_name.values]"
   ]
  },
  {
   "cell_type": "code",
   "execution_count": 14,
   "metadata": {},
   "outputs": [],
   "source": [
    "full_sector_description = [' '.join([x] + sector_dict[x]) for x in sector_dict]"
   ]
  },
  {
   "cell_type": "code",
   "execution_count": 15,
   "metadata": {},
   "outputs": [
    {
     "output_type": "execute_result",
     "data": {
      "text/plain": [
       "['Agriculture Agricultural Extension, Research, and Other Support Activities Crops Fisheries Forestry Irrigation and Drainage Livestock Other Agriculture, Fishing and Forestry Public Administration - Agriculture, Fishing and Forestry',\n",
       " 'Education Adult, Basic and Continuing Education Early Childhood Education Other Education Primary Education Public Administration - Education Secondary Education Tertiary Education Workforce Development/Skills',\n",
       " 'Energy and Extractives Energy Transmission and Distribution Mining Non-Renewable Energy Generation Oil and Gas Other Energy and Extractives Public Administration - Energy and Extractives Renewable Energy Biomass Renewable Energy Geothermal Renewable Energy Hydro Renewable Energy Solar Renewable Energy Wind',\n",
       " 'Financial Sector Banking Institutions Capital Markets Insurance and Pension Other Non-bank Financial Institutions Public Administration - Financial Sector',\n",
       " 'Health Health Health Facilities and Construction Public Administration - Health',\n",
       " 'Industry and Trade/Services Agricultural markets, commercialization and agri-business Housing Construction Manufacturing Other Industry, Trade and Services Public Administration - Industry, Trade and Services Services Tourism Trade',\n",
       " 'Info and Communication ICT Infrastructure ICT Services Other Information and Communications Technologies Public Administration - Information and Communications Technologies',\n",
       " 'Public Admin Central Government (Central Agencies) Law and Justice Other Public Administration Sub-National Government',\n",
       " 'Social Protection Public Administration - Social Protection Social Protection',\n",
       " 'Transportation Aviation Other Transportation Ports/Waterways Public Administration - Transportation Railways Rural and Inter-Urban Roads Urban Transport',\n",
       " 'Water/Sanitation/Waste Other Water Supply, Sanitation and Waste Management Public Administration - Water, Sanitation and Waste Management Sanitation Waste Management Water Supply']"
      ]
     },
     "metadata": {},
     "execution_count": 15
    }
   ],
   "source": [
    "full_sector_description"
   ]
  },
  {
   "source": [
    "## Prepare the data\n",
    "\n",
    "We're going to start with a simple bag-of-words based model, so we'll need to remove uninformative words. These come in two types:\n",
    "- common words: those that are too common across the dataset to convey much information\n",
    "- rare words: those that only occur a couple of times, so that there's no sense in using them for comparison. these also include ocr typos.\n",
    "\n",
    "We will remove these from the dictionary so they don't get taken into account in the comparison."
   ],
   "cell_type": "markdown",
   "metadata": {}
  },
  {
   "source": [
    "First, tokenize all the texts to split them into words."
   ],
   "cell_type": "markdown",
   "metadata": {}
  },
  {
   "cell_type": "code",
   "execution_count": 16,
   "metadata": {},
   "outputs": [],
   "source": [
    "descriptions_tokens = [nltk.word_tokenize(description.lower()) if type(description) == str else [] for description in agreements_features.project_desc.values]\n",
    "project_names_tokens = [nltk.word_tokenize(name.lower()) if type(name) == str else [] for name in agreements_features[\"Project Name\"].values]\n",
    "sector_descriptions_tokens = [nltk.word_tokenize(desc.lower()) for desc in full_sector_description]"
   ]
  },
  {
   "source": [
    "Construct a gensim dictionary, which counts all the words and their occurrences."
   ],
   "cell_type": "markdown",
   "metadata": {}
  },
  {
   "cell_type": "code",
   "execution_count": 17,
   "metadata": {},
   "outputs": [],
   "source": [
    "dictionary = gensim.corpora.Dictionary([x for x in descriptions_tokens if x is not None])"
   ]
  },
  {
   "cell_type": "code",
   "execution_count": 18,
   "metadata": {},
   "outputs": [
    {
     "output_type": "execute_result",
     "data": {
      "text/plain": [
       "30615"
      ]
     },
     "metadata": {},
     "execution_count": 18
    }
   ],
   "source": [
    "len(dictionary)"
   ]
  },
  {
   "source": [
    "We now filter out the words that appear in at most 5 documents and the words that are in more than 50% of the documents, as well as the overall 50 most frequent words."
   ],
   "cell_type": "markdown",
   "metadata": {}
  },
  {
   "cell_type": "code",
   "execution_count": 19,
   "metadata": {},
   "outputs": [],
   "source": [
    "dictionary.filter_extremes(no_below=5,no_above=.8)"
   ]
  },
  {
   "cell_type": "code",
   "execution_count": 20,
   "metadata": {},
   "outputs": [
    {
     "output_type": "execute_result",
     "data": {
      "text/plain": [
       "6617"
      ]
     },
     "metadata": {},
     "execution_count": 20
    }
   ],
   "source": [
    "len(dictionary)"
   ]
  },
  {
   "cell_type": "code",
   "execution_count": 21,
   "metadata": {
    "tags": []
   },
   "outputs": [],
   "source": [
    "dictionary.filter_n_most_frequent(30)"
   ]
  },
  {
   "cell_type": "code",
   "execution_count": 22,
   "metadata": {},
   "outputs": [
    {
     "output_type": "execute_result",
     "data": {
      "text/plain": [
       "6587"
      ]
     },
     "metadata": {},
     "execution_count": 22
    }
   ],
   "source": [
    "len(dictionary)"
   ]
  },
  {
   "source": [
    "Add in the project names and filter again."
   ],
   "cell_type": "markdown",
   "metadata": {}
  },
  {
   "cell_type": "code",
   "execution_count": 23,
   "metadata": {},
   "outputs": [],
   "source": [
    "dictionary.add_documents([x for x in project_names_tokens if x is not None])"
   ]
  },
  {
   "cell_type": "code",
   "execution_count": 24,
   "metadata": {},
   "outputs": [
    {
     "output_type": "execute_result",
     "data": {
      "text/plain": [
       "7626"
      ]
     },
     "metadata": {},
     "execution_count": 24
    }
   ],
   "source": [
    "len(dictionary)"
   ]
  },
  {
   "cell_type": "code",
   "execution_count": 25,
   "metadata": {
    "tags": []
   },
   "outputs": [],
   "source": [
    "dictionary.filter_extremes(no_below=2,no_above=.5)"
   ]
  },
  {
   "cell_type": "code",
   "execution_count": 26,
   "metadata": {},
   "outputs": [
    {
     "output_type": "execute_result",
     "data": {
      "text/plain": [
       "6859"
      ]
     },
     "metadata": {},
     "execution_count": 26
    }
   ],
   "source": [
    "len(dictionary)"
   ]
  },
  {
   "source": [
    "Finally, add in the sector descriptions."
   ],
   "cell_type": "markdown",
   "metadata": {}
  },
  {
   "cell_type": "code",
   "execution_count": 27,
   "metadata": {},
   "outputs": [],
   "source": [
    "dictionary.add_documents(sector_descriptions_tokens)"
   ]
  },
  {
   "source": [
    "We won't remove any of the words from these; we need all we can get."
   ],
   "cell_type": "markdown",
   "metadata": {}
  },
  {
   "cell_type": "code",
   "execution_count": 28,
   "metadata": {},
   "outputs": [
    {
     "output_type": "execute_result",
     "data": {
      "text/plain": [
       "6869"
      ]
     },
     "metadata": {},
     "execution_count": 28
    }
   ],
   "source": [
    "len(dictionary)"
   ]
  },
  {
   "source": [
    "Actually, never mind. Let's just use the sector descriptions, since similarities to sector descriptions is all we care about."
   ],
   "cell_type": "markdown",
   "metadata": {}
  },
  {
   "cell_type": "code",
   "execution_count": 29,
   "metadata": {},
   "outputs": [],
   "source": [
    "#dictionary = gensim.corpora.Dictionary(sector_descriptions_tokens)"
   ]
  },
  {
   "cell_type": "code",
   "execution_count": 30,
   "metadata": {},
   "outputs": [],
   "source": [
    "#len(dictionary)"
   ]
  },
  {
   "source": [
    "Now we use this dictionary to construct a sequence of vector embeddings. First simple bag of words:"
   ],
   "cell_type": "markdown",
   "metadata": {}
  },
  {
   "cell_type": "code",
   "execution_count": 31,
   "metadata": {
    "tags": []
   },
   "outputs": [],
   "source": [
    "description_bow = [dictionary.doc2bow(description) if description is not None else None for description in descriptions_tokens]\n",
    "project_name_bow = [dictionary.doc2bow(name) if name is not None else None for name in project_names_tokens]\n",
    "sector_descriptions_bow = [dictionary.doc2bow(name) if name is not None else None for name in sector_descriptions_tokens]"
   ]
  },
  {
   "cell_type": "code",
   "execution_count": 32,
   "metadata": {},
   "outputs": [],
   "source": [
    "corpus = list(filter(lambda x: x is not None, description_bow + project_name_bow + sector_descriptions_bow))"
   ]
  },
  {
   "source": [
    "Now we get tf-idf vectors for these documents."
   ],
   "cell_type": "markdown",
   "metadata": {}
  },
  {
   "cell_type": "code",
   "execution_count": 33,
   "metadata": {},
   "outputs": [],
   "source": [
    "tfidf = gensim.models.TfidfModel(corpus)"
   ]
  },
  {
   "cell_type": "code",
   "execution_count": 34,
   "metadata": {},
   "outputs": [],
   "source": [
    "description_tfidf = [tfidf[desc] if desc is not None else None for desc in description_bow]\n",
    "project_name_tfidf = [tfidf[name] if name is not None else None for name in project_name_bow]\n",
    "sector_descriptions_tfidf = [tfidf[name] if name is not None else None for name in sector_descriptions_bow]"
   ]
  },
  {
   "cell_type": "code",
   "execution_count": 35,
   "metadata": {},
   "outputs": [],
   "source": [
    "agreements_features['project_description_tfidf'] = description_tfidf\n",
    "agreements_features['project_name_tfidf'] = project_name_tfidf\n",
    "#agreements_features['sector_name_tfidf'] = sector_name_tfidf"
   ]
  },
  {
   "source": [
    "Finally, we use latent semantic indexing to reduce the dimensionality, removing noise. This is just an SVD on the tf-idf term-document matrix."
   ],
   "cell_type": "markdown",
   "metadata": {}
  },
  {
   "cell_type": "code",
   "execution_count": 36,
   "metadata": {},
   "outputs": [],
   "source": [
    "lsi = gensim.models.LsiModel(tfidf[corpus], id2word=dictionary, num_topics=100)"
   ]
  },
  {
   "cell_type": "code",
   "execution_count": 37,
   "metadata": {},
   "outputs": [],
   "source": [
    "description_lsi = [lsi[desc] if desc is not None else None for desc in description_tfidf]\n",
    "project_name_lsi = [lsi[name] if name is not None else None for name in project_name_tfidf]\n",
    "sector_desc_lsi = [lsi[name] if name is not None else None for name in sector_descriptions_tfidf]"
   ]
  },
  {
   "cell_type": "code",
   "execution_count": 38,
   "metadata": {},
   "outputs": [],
   "source": [
    "agreements_features['project_description_lsi'] = description_lsi\n",
    "agreements_features['project_name_lsi'] = project_name_lsi"
   ]
  },
  {
   "source": [
    "## Making predictions\n",
    "\n",
    "We'll now use similarities in the document space to predict sectors. "
   ],
   "cell_type": "markdown",
   "metadata": {}
  },
  {
   "cell_type": "code",
   "execution_count": 39,
   "metadata": {},
   "outputs": [],
   "source": [
    "similarities = gensim.similarities.MatrixSimilarity(sector_desc_lsi)\n",
    "description_similarities = similarities[description_lsi]\n",
    "project_name_similarities = similarities[project_name_lsi]"
   ]
  },
  {
   "cell_type": "code",
   "execution_count": 40,
   "metadata": {},
   "outputs": [
    {
     "output_type": "execute_result",
     "data": {
      "text/plain": [
       "(3189, 11)"
      ]
     },
     "metadata": {},
     "execution_count": 40
    }
   ],
   "source": [
    "description_similarities.shape"
   ]
  },
  {
   "cell_type": "code",
   "execution_count": 41,
   "metadata": {},
   "outputs": [],
   "source": [
    "agreements_features['description_similarities_lsi'] = np.split(description_similarities,description_similarities.shape[0],axis=0)\n",
    "agreements_features['project_name_similarities_lsi'] = np.split(project_name_similarities,project_name_similarities.shape[0],axis=0)"
   ]
  },
  {
   "cell_type": "code",
   "execution_count": 42,
   "metadata": {},
   "outputs": [],
   "source": [
    "description_based_topic_predictions = description_similarities.argmax(axis=1)\n",
    "project_name_topic_predictions = project_name_similarities.argmax(axis=1)"
   ]
  },
  {
   "cell_type": "code",
   "execution_count": 43,
   "metadata": {},
   "outputs": [],
   "source": [
    "agreements_features['description_topic_predictions'] = description_based_topic_predictions\n",
    "agreements_features['project_name_topic_predictions'] = project_name_topic_predictions"
   ]
  },
  {
   "cell_type": "code",
   "execution_count": 44,
   "metadata": {},
   "outputs": [
    {
     "output_type": "stream",
     "name": "stdout",
     "text": [
      "Accuracy: 0.38037486218302097 on 907 predictions\n"
     ]
    }
   ],
   "source": [
    "description_test_set = agreements_features.dropna(how='any',inplace=False,subset=['project_desc','sector_id'])\n",
    "correct_desc_pred = description_test_set.description_topic_predictions == description_test_set.sector_id\n",
    "description_accuracy = sum(correct_desc_pred) / len(correct_desc_pred)\n",
    "print(\"Accuracy:\", description_accuracy, \"on\", len(correct_desc_pred), \"predictions\")"
   ]
  },
  {
   "cell_type": "code",
   "execution_count": 45,
   "metadata": {},
   "outputs": [
    {
     "output_type": "stream",
     "name": "stdout",
     "text": [
      "Accuracy: 0.42408376963350786 on 955 predictions\n"
     ]
    }
   ],
   "source": [
    "name_test_set = agreements_features.dropna(how='any',inplace=False,subset=['Project Name','sector_id'])\n",
    "correct_name_pred = name_test_set.project_name_topic_predictions == name_test_set.sector_id\n",
    "name_accuracy = sum(correct_name_pred) / len(correct_name_pred)\n",
    "print(\"Accuracy:\", name_accuracy, \"on\", len(correct_name_pred), \"predictions\")"
   ]
  },
  {
   "source": [
    "Interestingly, the project names do better on a larger test set than the full project descriptions, despite having far less information. Maybe we should train the model differently.\n",
    "\n",
    "Some things to try:\n",
    "- Use only the words that appear in the sector descriptions. OK, tried it: it doesn't change the performance of the project name prediction, and makes the description set worse somehow. Possibly because the LSI was able to find connections between topics and words using the project descriptions... that's probably why you would want to use all the words. So that leaves the next steps:\n",
    "- Different thresholds for filtering words out. The project name prediction accuracy is pretty robust to this, which makes sense. \n",
    "- Figure out how to weight words based on the length of the sector description they belong to. Class 7 is the least frequently predicted, even though it's the most common, probably because its sector description is the shortest.\n",
    "- More sophisticated models like word2vec or doc2vec that include relationships between words. We probably want some pretrained model that knows that certain words are related to terms in the sector descriptions, even if they don't appear there."
   ],
   "cell_type": "markdown",
   "metadata": {}
  },
  {
   "cell_type": "code",
   "execution_count": 46,
   "metadata": {},
   "outputs": [
    {
     "output_type": "execute_result",
     "data": {
      "text/plain": [
       "5     137\n",
       "9     115\n",
       "3     102\n",
       "10     89\n",
       "6      88\n",
       "7      75\n",
       "1      70\n",
       "0      61\n",
       "8      59\n",
       "2      56\n",
       "4      55\n",
       "Name: project_name_topic_predictions, dtype: int64"
      ]
     },
     "metadata": {},
     "execution_count": 46
    }
   ],
   "source": [
    "description_test_set.project_name_topic_predictions.value_counts()"
   ]
  },
  {
   "cell_type": "code",
   "execution_count": 47,
   "metadata": {},
   "outputs": [
    {
     "output_type": "execute_result",
     "data": {
      "text/plain": [
       "7.0     178\n",
       "9.0     118\n",
       "10.0    116\n",
       "0.0     104\n",
       "2.0      79\n",
       "5.0      70\n",
       "1.0      69\n",
       "4.0      63\n",
       "8.0      56\n",
       "3.0      47\n",
       "6.0       7\n",
       "Name: sector_id, dtype: int64"
      ]
     },
     "metadata": {},
     "execution_count": 47
    }
   ],
   "source": [
    "description_test_set.sector_id.value_counts()"
   ]
  },
  {
   "source": [
    "Interesting: although the classes are unbalanced, this is not the reason the project name-based classification does better than chance."
   ],
   "cell_type": "markdown",
   "metadata": {}
  },
  {
   "cell_type": "code",
   "execution_count": 294,
   "metadata": {},
   "outputs": [
    {
     "output_type": "execute_result",
     "data": {
      "text/plain": [
       "['public',\n",
       " 'admin',\n",
       " 'central',\n",
       " 'government',\n",
       " '(',\n",
       " 'central',\n",
       " 'agencies',\n",
       " ')',\n",
       " 'law',\n",
       " 'and',\n",
       " 'justice',\n",
       " 'other',\n",
       " 'public',\n",
       " 'administration',\n",
       " 'sub-national',\n",
       " 'government']"
      ]
     },
     "metadata": {},
     "execution_count": 294
    }
   ],
   "source": [
    "sector_descriptions_tokens[7]"
   ]
  },
  {
   "source": [
    "## A Doc2Vec model\n",
    "\n",
    "Let's try using a more sophisticated model: Doc2Vec. This is technically an neural network, although a very shallow one, which is trained to predict words from local context (like word2vec) combined with a document context vector.\n",
    "\n",
    "We need to get our corpus in a slightly different format to use with gensim's doc2vec."
   ],
   "cell_type": "markdown",
   "metadata": {}
  },
  {
   "cell_type": "code",
   "execution_count": 48,
   "metadata": {},
   "outputs": [],
   "source": [
    "doc2vec_corpus = [gensim.models.doc2vec.TaggedDocument(tokens, [i]) for i, tokens in enumerate(filter(lambda x: len(x) > 0, descriptions_tokens + project_names_tokens + sector_descriptions_tokens))]"
   ]
  },
  {
   "cell_type": "code",
   "execution_count": 49,
   "metadata": {},
   "outputs": [
    {
     "output_type": "execute_result",
     "data": {
      "text/plain": [
       "[TaggedDocument(words=['schedule', '1', 'withdrawal', 'of', 'the', 'proceeds', 'of', 'the', 'loan', '1.', 'subject', 'to', 'the', 'provisions', 'set', 'forth', 'or', 'referred', 'to', 'in', 'this', 'schedule', ',', 'the', 'proceeds', 'of', 'the', 'loan', 'may', 'be', 'withdrawn', 'from', 'the', 'loan', 'account', 'for', 'expenditures', 'made', '(', 'or', ',', 'if', 'the', 'bank', 'shall', 'so', 'agree', ',', 'to', 'be', 'made', ')', 'in', 'respect', 'of', 'the', 'reasonable', 'cost', 'of', ':', '(', 'i', ')', 'goods', 'required', 'during', 'the', 'execution', 'of', 'the', 'program', 'and', 'to', 'be', 'financed', 'out', 'of', 'such', 'proceeds', ';', 'and', '(', 'ii', ')', 'other', 'items', 'of', 'expenditures', 'relating', 'to', 'technical', 'assistance', ',', 'all', 'as', 'listed', 'in', 'the', 'table', 'set', 'forth', 'below', ':', 'amount', 'of', 'the', 'loan', 'allocated', '%', 'of', '(', 'expressed', 'in', 'expenditures', 'category', 'dollar', 'equivalent', ')', 'to', 'be', 'financed', '(', '1', ')', 'imported', '148,500,000', '100', '%', 'of', 'foreign', 'goods', 'required', 'expenditures', 'during', 'the', 'execution', 'of', 'the', 'program', '(', '2', ')', 'consultant', '’', 's', '1,500,000', '100', '%', 'of', 'foreign', 'services', 'for', 'expenditures', 'the', 'activities', 'and', '90', '%', 'of', 'referred', 'to', 'in', 'local', 'expendi-', 'section', '3.03', 'tures', 'of', 'this', 'agreement', 'total', '150,000,000', '2.', 'for', 'the', 'purposes', 'of', 'this', 'schedule', ':', '(', 'a', ')', 'the', 'term', '``', 'foreign', 'expenditures', \"''\", 'means', 'expenditures', 'in', 'the', 'currency', 'of', 'any', 'country', 'other', 'than', 'that', 'of', 'the', 'borrower', 'for', 'goods', 'or', 'services', 'supplied', 'from', 'the', 'territory', 'of', 'any', 'country', 'other', 'than', 'that', 'of', 'the', 'borrower', ';', 'and', '(', 'b', ')', 'the', 'term', '``', 'local', 'expenditures', \"''\", 'means', 'expenditures', 'in', 'the', 'currency', 'of', 'the', 'borrower', 'or', 'for', 'goods', 'or', 'services', 'supplied', 'from', 'the', 'territory', 'of', 'the', 'borrower', '.', '3.', 'notwithstanding', 'the', 'provisions', 'of', 'paragraph', '1', 'above', ',', 'no', 'withdrawals', 'shall', 'be', 'made', 'in', 'respect', 'of', ':', '(', 'a', ')', 'expenditures', 'for', 'goods', 'included', 'in', 'the', 'following', 'sitc', 'groups', 'or', 'sub-groups', ',', 'or', 'any', 'successor', 'groups', 'or', 'sub-groups', 'under', 'future', 'revisions', 'to', 'the', 'sitc', ',', 'as', 'designated', 'by', 'the', 'bank', 'by', 'notice', 'to', 'the', 'borrower', ':', 'group', 'sub-group', 'description', 'of', 'items', '112', '-', 'alcoholic', 'beverages', '121', '-', 'tobacco', ',', 'unmanufactured', ',', 'tobacco', 'refuse', '122', '-', 'tobacco', ',', 'manufactured', '(', 'whether', 'or', 'not', 'con-', 'taining', 'tobacco', 'sub-', 'stitutes', ')', '525', '-', 'radioactive', 'and', 'associated', 'materials', '667', '-', 'pearls', ',', 'precious', 'and', 'semi-precious', 'stones', ',', 'unworked', 'or', 'worked', '718', '718.7', 'nuclear', 'reactors', ',', 'and', 'parts', 'thereof', ',', 'fuel', 'elements', '(', 'cartridges', ')', ',', 'non-', 'irradiated', 'for', 'nuclear', 'reactors', '897', '897.3', 'jewelry', 'of', 'gold', ',', 'silver', 'or', 'platinum', 'group', 'metals', '(', 'except', 'watches', 'and', 'watch', 'cases', ')', 'and', 'goldsmiths', '’', 'or', 'silversmiths', '’', 'wares', '(', 'including', 'set', 'gems', ')', '971', '-', 'gold', ',', 'non-monetary', '(', 'excluding', 'gold', 'ores', 'and', 'concentrates', ')', '(', 'b', ')', 'expenditures', 'in', 'the', 'currency', 'of', 'the', 'borrower', 'or', 'for', 'goods', 'or', 'services', 'supplied', 'from', 'the', 'territory', 'of', 'the', 'borrower', ';', '(', 'c', ')', 'payments', 'made', 'for', 'expenditures', 'prior', 'to', 'the', 'date', 'of', 'this', 'agreement', ',', 'except', 'that', 'withdrawals', 'in', 'an', 'aggregate', 'amount', 'not', 'exceeding', 'the', 'equivalent', 'of', '$', '29,000,000', 'may', 'be', 'made', 'on', 'account', 'of', 'payments', 'made', 'for', 'such', 'expenditures', 'before', 'that', 'date', 'but', 'after', 'july', '1', ',', '1989', ';', '(', 'd', ')', 'expenditures', 'for', 'goods', 'procured', 'under', 'contracts', 'costing', 'less', 'than', '$', '10,000', 'equivalent', ';', '(', 'e', ')', 'expenditures', 'for', 'goods', 'supplied', 'under', 'a', 'contract', 'which', 'any', 'national', 'or', 'international', 'financing', 'institution', 'or', 'agency', 'other', 'than', 'the', 'bank', 'shall', 'have', 'financed', 'or', 'agreed', 'to', 'finance', ';', '(', 'f', ')', 'expenditures', 'for', 'goods', 'intended', 'for', 'a', 'military', 'or', 'para-military', 'purpose', 'or', 'for', 'luxury', 'consumption', ';', 'and', '(', 'g', ')', 'expenditures', 'in', 'excess', 'of', 'an', 'amount', 'equivalent', 'to', '$', '30,000,000', 'for', 'each', 'of', 'petroleum', 'products', 'and', 'foodstuffs', '.', '4.', 'withdrawals', 'for', 'expenditures', 'under', 'contracts', 'for', 'the', 'procurements', 'of', 'goods', 'estimated', 'to', 'cost', 'less', 'than', '$', '2,000,000', 'may', 'be', 'permitted', 'by', 'the', 'bank', 'upon', 'the', 'basis', 'of', 'statements', 'of', 'expenditure', 'under', 'such', 'terms', 'and', 'conditions', 'as', 'the', 'bank', 'shall', 'specify', '.', '5.', 'no', 'withdrawal', 'shall', 'be', 'made', 'and', 'no', 'commitment', 'shall', 'be', 'entered', 'into', 'to', 'pay', 'amounts', 'to', 'or', 'on', 'the', 'order', 'of', 'the', 'borrower', 'in', 'respect', 'of', 'expenditures', 'to', 'be', 'financed', 'out', 'of', 'the', 'proceeds', 'of', 'the', 'loan', 'after', 'the', 'aggregate', 'of', 'the', 'proceeds', 'of', 'the', 'loan', 'withdrawn', 'from', 'the', 'loan', 'account', 'and', 'the', 'total', 'amount', 'of', 'such', 'commitments', 'shall', 'have', 'reached', 'the', 'equivalent', 'of', '$', '75,000,000', ',', 'unless', 'the', 'bank', 'shall', 'be', 'satisfied', ',', 'after', 'an', 'exchange', 'of', 'views', 'as', 'described', 'in', 'section', '3.01', 'of', 'this', 'agreement', 'based', 'on', 'evidence', 'satisfactory', 'to', 'the', 'bank', ':', '(', 'a', ')', 'with', 'the', 'progress', 'achieved', 'by', 'the', 'borrower', 'in', 'the', 'carrying', 'out', 'of', 'the', 'program', ',', 'and', '(', 'b', ')', 'that', 'the', 'actions', 'described', 'in', 'schedule', '4', 'to', 'this', 'agreement', 'have', 'been', 'taken', '.', '6.', 'if', ',', 'after', 'the', 'exchange', 'of', 'views', 'described', 'in', 'paragraph', '5', 'above', ',', 'the', 'bank', 'shall', 'have', 'given', 'notice', 'to', 'the', 'borrower', 'that', 'the', 'progress', 'achieved', 'and', 'actions', 'taken', 'are', 'not', 'satisfactory', 'and', 'within', '90', 'days', 'after', 'such', 'notice', ',', 'the', 'borrower', 'shall', 'not', 'have', 'achieved', 'progress', 'and', 'taken', 'actions', 'satisfactory', 'to', 'the', 'bank', ',', 'then', 'the', 'bank', 'may', ',', 'by', 'notice', 'to', 'the', 'borrower', ',', 'cancel', 'the', 'unwithdrawn', 'amount', 'of', 'the', 'loan', 'or', 'any', 'part', 'thereof', '.'], tags=[0]),\n",
       " TaggedDocument(words=['schedule', '2', 'description', 'of', 'the', 'project', 'the', 'objectives', 'of', 'the', 'project', 'are', ':', '(', 'i', ')', 'to', 'strengthen', 'embrapa', '’', 's', 'and', 'the', 'state', 'research', 'agencies', '’', 'capability', 'to', 'generate', 'and', 'disseminate', 'technology', 'which', 'would', 'contribute', 'to', 'sustained', 'agricultural', 'development', 'in', 'two', 'distinct', 'agro-ecological', 'regions', ',', 'the', 'legal', 'amazon', 'and', 'the', 'northeast', ';', 'and', '(', 'ii', ')', 'to', 'increase', 'the', 'efficiency', 'of', 'the', 'national', 'cooperative', 'research', 'system', 'by', 'consolidating', 'research', 'planning', 'and', 'monitoring', 'procedures', 'within', 'the', 'various', 'units', 'and', 'institutions', 'belonging', 'to', 'the', 'system', 'under', 'the', 'coordination', 'of', 'embrapa', '.', 'the', 'project', 'consists', 'of', 'the', 'following', 'parts', ':', 'part', 'a', ':', 'development', 'of', 'technology', 'i.', 'strengthening', 'agricultural', 'research', 'planning', 'and', 'implementation', 'capacity', 'and', 'carrying', 'out', 'agricultural', 'research', 'programs', 'in', 'the', 'northeast', 'including', ':', '(', 'i', ')', 'research', 'on', 'the', 'development', 'of', 'improved', 'production', 'systems', ',', 'including', 'integrated', 'crop-livestock', ',', 'and', 'inter-cropping', 'systems', ';', '(', 'ii', ')', 'research', 'on', 'water', 'harvesting', 'and', 'supplementary', 'irrigation', 'systems', ';', '(', 'iii', ')', 'research', 'on', 'the', 'production', 'of', 'high-value', 'crops', 'under', 'irrigated', 'conditions', ';', '(', 'iv', ')', 'the', 'development', 'of', 'improved', 'livestock', 'production', 'systems', 'through', 'the', 'selection', 'and', 'introduction', 'of', 'improved', 'breeds', 'of', 'small', 'ruminants', '(', 'goats', 'and', 'hairless', 'sheep', ')', 'and', 'improved', 'native', 'pasture', 'and', 'supplemental', 'feed', 'production', ';', '(', 'v', ')', 'the', 'improvement', 'of', 'infrastructure', 'at', 'certain', 'research', 'centers', ';', '(', 'vi', ')', 'the', 'acquisition', 'of', 'materials', ',', 'furniture', 'and', 'equipment', 'required', 'for', 'the', 'above', 'research', 'programs', ';', 'and', '(', 'vii', ')', 'staff', 'training', 'and', 'technical', 'assistance', '.', 'ii', '.', 'strengthening', 'agricultural', 'research', 'planning', 'and', 'implementation', 'capacity', 'and', 'carrying', 'out', 'agricultural', 'research', 'programs', 'in', 'the', 'legal', 'amazon', 'including', ':', '(', 'i', ')', 'research', 'on', 'production', 'potentials', 'and', 'constraints', ',', 'through', 'natural', 'resource', 'inventories', 'and', 'socioeconomic', 'studies', ';', '(', 'ii', ')', 'the', 'development', 'of', 'resource', 'management', 'and', 'production', 'systems', ',', 'through', 'basic', 'and', 'applied', 'research', 'involving', 'native', 'and', 'exotic', 'species', ';', '(', 'iii', ')', 'the', 'development', 'of', 'mixed', 'farming', 'systems', ',', 'in', 'collaboration', 'with', 'local', 'producers', ';', '(', 'iv', ')', 'selection', 'of', 'disease', 'resistant', 'cross-bred', 'cattle', ',', 'and', 'water', 'buffalo', ';', '(', 'v', ')', 'forestry', 'research', ',', 'with', 'particular', 'emphasis', 'on', 'germ', 'plasm', 'conservation', ';', 'management', 'of', 'natural', 'forest', 'formations', ';', 'silvicultural', 'research', ';', 'agro-forestry', 'and', 'the', 'pulping', 'quality', 'of', 'native', 'tree', 'species', ';', '(', 'vi', ')', 'improvement', 'of', 'infrastructure', 'at', 'certain', 'research', 'centers', ';', '(', 'vii', ')', 'acquisition', 'of', 'materials', ',', 'furniture', 'and', 'equipment', 'for', 'the', 'above', 'research', 'programs', ';', 'and', '(', 'viii', ')', 'staff', 'training', 'and', 'technical', 'assistance', '.', 'part', 'b', ':', 'research', 'support', 'programs', 'the', 'strengthening', 'and', 'improvement', 'of', 'research', 'centers', 'and', 'carrying', 'out', 'of', 'research', 'under', 'this', 'project', 'component', 'would', 'include', ':', '(', 'i', ')', 'biotechnology', 'research', '(', 'including', 'specific', 'work', 'on', 'beans', ',', 'vegetables', ',', 'oil', 'palm', ',', 'nitrogen', 'fixation', ',', 'animal', 'health', 'and', 'genetic', 'improvement', ',', 'and', 'the', 'cataloging', 'of', 'botanical', 'resources', ')', ';', '(', 'ii', ')', 'agro-industrial', 'and', 'food', 'technology', 'research', ';', '(', 'iii', ')', 'research', 'on', 'soils', ',', 'including', 'soil', 'microbiology', ',', 'soil', 'conservation', 'and', 'management', ';', '(', 'iv', ')', 'environmental', 'studies', 'related', 'to', 'crop', 'production', 'and', 'protection', 'techniques', ';', '(', 'v', ')', 'irrigation', 'and', 'drainage', 'research', '(', 'including', 'on', 'topics', 'such', 'as', 'hydrological', 'conditions', ',', 'watershed', 'characteristics', ',', 'water', 'and', 'soil', 'management', 'techniques', ',', 'engineering', ',', 'irrigation', 'and', 'drainage', 'techniques', 'for', 'specific', 'crops', 'and', 'on', 'the', 'profitability', 'and', 'socio-economic', 'impact', 'of', 'irrigated', 'production', 'systems', ')', ';', '(', 'vi', ')', 'construction', 'of', ',', 'and', 'provision', 'of', 'equipment', 'and', 'furniture', '(', 'including', 'books', 'and', 'periodicals', ')', 'such', 'as', 'laboratories', ',', 'offices', ',', 'administrative', 'offices', 'and', 'other', 'research', 'support', 'facilities', 'and', 'infrastructures', ';', '(', 'vii', ')', 'rehabilitation', 'and', 'renovation', 'of', ':', 'existing', 'facilities', 'at', 'itaguai', 'and', 'field', 'stations', 'at', 'recife', 'and', 'belem', 'for', 'the', 'carrying', 'out', 'of', 'research', 'referred', 'to', 'in', '(', 'iii', ')', 'above', 'and', 'the', 'provision', 'of', 'equipment', ',', 'furniture', ',', 'books', 'and', 'periodicals', 'there', 'for', ';', 'and', '(', 'viii', ')', 'training', 'and', 'technical', 'assistance', '.', 'part', 'c', ':', 'technology', 'transfer', 'and', 'dissemination', 'adaptation', 'and', 'dissemination', 'to', 'extension', 'workers', 'and', 'the', 'farming', 'community', ',', 'of', 'the', 'technology', 'developed', 'under', 'part', 'a', 'of', 'the', 'project', ',', 'including', 'demonstration', 'of', 'new', 'techniques', 'to', 'producers', 'in', 'the', 'project', 'area', 'through', 'field', 'demonstrations', ',', 'the', 'provision', 'of', 'written', 'information', ',', 'the', 'preparation', 'and', 'presentation', 'of', 'audiovisual', 'programs', 'and', 'courses', 'to', 'extension', 'staff', ',', 'farmers', ',', 'livestock', 'producers', ',', 'researchers', 'and', 'the', 'general', 'public', 'in', 'the', 'project', 'area', '.', 'part', 'd', ':', 'institutional', 'development', 'with', 'a', 'view', 'to', 'strengthening', 'particularly', 'the', 'state-based', 'agricultural', 'research', 'entities', ',', 'this', 'component', 'would', 'provide', 'for', ':', '(', 'i', ')', 'preparation', 'of', 'diagnostic', 'studies', 'of', 'each', 'of', 'the', 'decentralized', 'embrapa', 'units', 'and', 'state', 'research', 'agencies', ';', '(', 'ii', ')', 'preparation', 'of', 'an', 'action', 'plan', 'for', 'restructuring', 'and', 'strengthening', 'the', 'national', 'cooperative', 'agricultural', 'research', 'system', ';', '(', 'iii', ')', 'training', 'of', 'professional', 'and', 'administrative', 'staff', 'of', 'embrapa', 'and', 'state', 'research', 'agencies', ';', 'and', '(', 'iv', ')', 'upgrading', 'embrapa', '’', 's', 'central', 'and', 'decentralized', 'libraries', '.', 'part', 'e', ':', 'project', 'impact', 'assessment', 'and', 'special', 'studies', 'research', 'program', 'monitoring', 'and', 'assessment', 'of', 'the', 'impact', 'and', 'benefits', 'of', 'research', ',', 'through', 'socio-economic', 'and', 'policy', 'studies', ';', 'an', 'in-depth', 'mid-term', 'review', 'of', 'the', 'project', 'during', 'the', 'third', 'year', 'of', 'project', 'implementation', ',', 'the', 'preparation', 'of', 'future', 'research', 'programs', ',', 'and', 'studies', 'on', 'topics', 'to', 'be', 'approved', 'by', 'the', 'bank', '.', 'the', 'provision', 'of', 'training', 'and', 'equipment', 'and', 'furniture', '(', 'including', 'periodicals', 'and', 'books', ')', 'for', 'the', 'purposes', 'of', 'carrying', 'out', 'such', 'reports', 'and', 'studies', '.', 'the', 'project', 'is', 'expected', 'to', 'be', 'completed', 'by', 'december', '31', ',', '1994', '.'], tags=[1])]"
      ]
     },
     "metadata": {},
     "execution_count": 49
    }
   ],
   "source": [
    "doc2vec_corpus[:2]"
   ]
  },
  {
   "cell_type": "code",
   "execution_count": 50,
   "metadata": {},
   "outputs": [],
   "source": [
    "doc2vec = gensim.models.doc2vec.Doc2Vec(vector_size=100, min_count=5, epochs=50)"
   ]
  },
  {
   "cell_type": "code",
   "execution_count": 51,
   "metadata": {},
   "outputs": [],
   "source": [
    "doc2vec.build_vocab(doc2vec_corpus)"
   ]
  },
  {
   "cell_type": "code",
   "execution_count": 52,
   "metadata": {},
   "outputs": [],
   "source": [
    "doc2vec.train(doc2vec_corpus, total_examples=doc2vec.corpus_count, epochs=doc2vec.epochs)"
   ]
  },
  {
   "cell_type": "code",
   "execution_count": 53,
   "metadata": {},
   "outputs": [],
   "source": [
    "description_vectors = [doc2vec.infer_vector(desc) for desc in descriptions_tokens]\n",
    "project_name_vectors = [doc2vec.infer_vector(name) for name in project_names_tokens]\n",
    "sector_description_vectors = [doc2vec.infer_vector(desc) for desc in sector_descriptions_tokens]"
   ]
  },
  {
   "cell_type": "code",
   "execution_count": 54,
   "metadata": {},
   "outputs": [],
   "source": [
    "description_distances_doc2vec = np.zeros((len(sector_description_vectors),len(description_vectors)))\n",
    "for i in range(len(description_vectors)):\n",
    "    for j in range(len(sector_description_vectors)):\n",
    "        description_distances_doc2vec[j,i] = np.linalg.norm(description_vectors[i]-sector_description_vectors[j])\n",
    "project_name_distances_doc2vec = np.zeros((len(sector_description_vectors),len(project_name_vectors)))\n",
    "for i in range(len(project_name_vectors)):\n",
    "    for j in range(len(sector_description_vectors)):\n",
    "        project_name_distances_doc2vec[j,i] = np.linalg.norm(project_name_vectors[i]-sector_description_vectors[j])"
   ]
  },
  {
   "cell_type": "code",
   "execution_count": 55,
   "metadata": {},
   "outputs": [],
   "source": [
    "doc2vec_description_predictions = np.argmin(description_distances_doc2vec,axis=0)\n",
    "doc2vec_project_name_predictions = np.argmin(project_name_distances_doc2vec,axis=0)"
   ]
  },
  {
   "cell_type": "code",
   "execution_count": 56,
   "metadata": {},
   "outputs": [
    {
     "output_type": "execute_result",
     "data": {
      "text/plain": [
       "array([3, 0, 3, ..., 8, 7, 7])"
      ]
     },
     "metadata": {},
     "execution_count": 56
    }
   ],
   "source": [
    "doc2vec_description_predictions"
   ]
  },
  {
   "cell_type": "code",
   "execution_count": 57,
   "metadata": {},
   "outputs": [],
   "source": [
    "agreements_features['description_topic_predictions_doc2vec'] = doc2vec_description_predictions\n",
    "agreements_features['project_name_topic_predictions_doc2vec'] = doc2vec_project_name_predictions"
   ]
  },
  {
   "cell_type": "code",
   "execution_count": 58,
   "metadata": {},
   "outputs": [
    {
     "output_type": "stream",
     "name": "stdout",
     "text": [
      "Description-based Accuracy: 0.19845644983461963 on 907 predictions\n"
     ]
    }
   ],
   "source": [
    "correct_desc_pred = agreements_features.description_topic_predictions_doc2vec == agreements_features.sector_id\n",
    "description_accuracy = sum(correct_desc_pred) / len(description_test_set)\n",
    "print(\"Description-based Accuracy:\", description_accuracy, \"on\", len(description_test_set), \"predictions\")"
   ]
  },
  {
   "cell_type": "code",
   "execution_count": 59,
   "metadata": {},
   "outputs": [
    {
     "output_type": "stream",
     "name": "stdout",
     "text": [
      "Project Name-based Accuracy: 0.06806282722513089 on 955 predictions\n"
     ]
    }
   ],
   "source": [
    "correct_name_pred = agreements_features.project_name_topic_predictions_doc2vec == agreements_features.sector_id\n",
    "name_accuracy = sum(correct_name_pred) / len(name_test_set)\n",
    "print(\"Project Name-based Accuracy:\", name_accuracy, \"on\", len(name_test_set), \"predictions\")"
   ]
  },
  {
   "cell_type": "code",
   "execution_count": 60,
   "metadata": {},
   "outputs": [],
   "source": [
    "w = 0.95 #weighting factor for joint prediction\n",
    "combined_distances = w * description_distances_doc2vec + (1-w) * project_name_distances_doc2vec\n",
    "combined_predictions = np.argmin(combined_distances,axis=0)"
   ]
  },
  {
   "cell_type": "code",
   "execution_count": 61,
   "metadata": {},
   "outputs": [],
   "source": [
    "agreements_features['predictions_doc2vec'] = combined_predictions"
   ]
  },
  {
   "cell_type": "code",
   "execution_count": 62,
   "metadata": {},
   "outputs": [
    {
     "output_type": "stream",
     "name": "stdout",
     "text": [
      "Combined Accuracy: 0.1819184123484013 on 907 predictions\n"
     ]
    }
   ],
   "source": [
    "combined_test_set = agreements_features.dropna(how='any',inplace=False,subset=['project_desc','Project Name','sector_id'])\n",
    "correct_joint_pred = combined_test_set.predictions_doc2vec == combined_test_set.sector_id\n",
    "joint_accuracy = sum(correct_joint_pred) / len(correct_joint_pred)\n",
    "print(\"Combined Accuracy:\", joint_accuracy, \"on\", len(correct_joint_pred), \"predictions\")\n"
   ]
  },
  {
   "source": [
    "Well, the descriptions perform better with the doc2vec model. Still not very well, though. Actually, after fixing some bugs, it's worse than the LSI model."
   ],
   "cell_type": "markdown",
   "metadata": {}
  },
  {
   "source": [
    "Now save the features for use in supervised classification."
   ],
   "cell_type": "markdown",
   "metadata": {}
  },
  {
   "cell_type": "code",
   "execution_count": 63,
   "metadata": {},
   "outputs": [],
   "source": [
    "def make_np_vector(x):\n",
    "    out = np.zeros(len(x))\n",
    "    for i in range(len(x)):\n",
    "        out[i] = x[i][1]\n",
    "    return out"
   ]
  },
  {
   "cell_type": "code",
   "execution_count": 64,
   "metadata": {},
   "outputs": [],
   "source": [
    "agreements_features.project_description_lsi = agreements_features.project_description_lsi.apply(make_np_vector)\n",
    "agreements_features.project_name_lsi = agreements_features.project_name_lsi.apply(make_np_vector)"
   ]
  },
  {
   "cell_type": "code",
   "execution_count": null,
   "metadata": {},
   "outputs": [],
   "source": []
  },
  {
   "cell_type": "code",
   "execution_count": 65,
   "metadata": {},
   "outputs": [],
   "source": [
    "agreements_features.drop([\"project_description_tfidf\",\"project_name_tfidf\"],axis=1,inplace=True)"
   ]
  },
  {
   "cell_type": "code",
   "execution_count": 66,
   "metadata": {},
   "outputs": [
    {
     "output_type": "execute_result",
     "data": {
      "text/plain": [
       "Index(['id', 'date', 'country_code', 'country_name', 'named_countries',\n",
       "       'Project Name', 'project_desc', 'amount_standard', 'currency_standard',\n",
       "       'closing_month', 'closing_day', 'closing_year', 'loan_length in year',\n",
       "       'wb_project_id', 'major_sector_name', 'sector1_name', 'sector2_name',\n",
       "       'sector3_name', 'sector_id', 'project_description_lsi',\n",
       "       'project_name_lsi', 'description_similarities_lsi',\n",
       "       'project_name_similarities_lsi', 'description_topic_predictions',\n",
       "       'project_name_topic_predictions',\n",
       "       'description_topic_predictions_doc2vec',\n",
       "       'project_name_topic_predictions_doc2vec', 'predictions_doc2vec'],\n",
       "      dtype='object')"
      ]
     },
     "metadata": {},
     "execution_count": 66
    }
   ],
   "source": [
    "agreements_features.columns"
   ]
  },
  {
   "cell_type": "code",
   "execution_count": 68,
   "metadata": {},
   "outputs": [],
   "source": [
    "agreements_features[['id','project_name_lsi','project_description_lsi','project_name_similarities_lsi','description_similarities_lsi','wb_project_id','major_sector_name']].to_pickle(\"classification_features.pkl\")"
   ]
  },
  {
   "cell_type": "code",
   "execution_count": null,
   "metadata": {},
   "outputs": [],
   "source": []
  }
 ]
}