{
 "cells": [
  {
   "cell_type": "markdown",
   "metadata": {},
   "source": [
    "In this notebook, we explored the following things:\n",
    "- **Text Data Preprocessing (NLTK, SpaCy)**\n",
    "    - text cleaning\n",
    "    - tokenization \n",
    "    - lemmatization\n",
    "    - stopwords extracting and removing\n",
    "    - keywords extraction with frequency\n",
    "    \n",
    "    \n",
    "- **Word2vec Embedding (GenSim)**\n",
    "    - used pretrained word2vec matrix from [here](https://github.com/alexandres/lexvec#pre-trained-vectors)\n",
    "    - word space dimension: 300\n",
    "    \n",
    "    \n",
    "- **Unsupervised Classification**\n",
    "    - take the sector which has the highest weighted average cos similarity with common keywords in each file\n",
    "    - accuracy: 0.474 on 955 predictions\n",
    "    \n",
    "    \n",
    "- **Supervised Classification (Sklearn)**\n",
    "    - applied PCA to reduce the word dimension to 20\n",
    "    - used the same classifers in classification/supervised_sector_classification_3\n",
    "    - testing accuracies are pretty comparable"
   ]
  },
  {
   "cell_type": "code",
   "execution_count": 2,
   "metadata": {},
   "outputs": [
    {
     "name": "stderr",
     "output_type": "stream",
     "text": [
      "/opt/anaconda3/lib/python3.8/site-packages/gensim/similarities/__init__.py:15: UserWarning: The gensim.similarities.levenshtein submodule is disabled, because the optional Levenshtein package <https://pypi.org/project/python-Levenshtein/> is unavailable. Install Levenhstein (e.g. `pip install python-Levenshtein`) to suppress this warning.\n",
      "  warnings.warn(msg)\n"
     ]
    }
   ],
   "source": [
    "import pandas as pd\n",
    "import gensim\n",
    "import numpy as np\n",
    "import matplotlib.pyplot as plt"
   ]
  },
  {
   "cell_type": "code",
   "execution_count": 3,
   "metadata": {},
   "outputs": [],
   "source": [
    "df = pd.read_csv('../extraction_pipeline/word_bank_project_description.csv', index_col=0)"
   ]
  },
  {
   "cell_type": "markdown",
   "metadata": {},
   "source": [
    "## Text Data Preprocessing"
   ]
  },
  {
   "cell_type": "code",
   "execution_count": 4,
   "metadata": {},
   "outputs": [],
   "source": [
    "from nltk.stem import WordNetLemmatizer\n",
    "\n",
    "lemmatizer = WordNetLemmatizer()\n",
    "import spacy\n",
    "spacy_en = spacy.load('en_core_web_sm')\n",
    "from nltk.tokenize import SpaceTokenizer\n",
    "from collections import Counter\n",
    "\n",
    "from gensim.parsing.preprocessing import STOPWORDS\n",
    "my_stop_words = STOPWORDS.union(set(['project', '']))\n",
    "\n",
    "# basic text preprocessing\n",
    "from nlpretext.basic.preprocess import normalize_whitespace, remove_punct, remove_eol_characters, remove_stopwords, lower_text, replace_numbers\n",
    "from nlpretext import Preprocessor\n",
    "\n",
    "preprocessor = Preprocessor()\n",
    "functions = [remove_punct, remove_eol_characters, lower_text]\n",
    "for func in functions:\n",
    "    preprocessor.pipe(func)\n",
    "preprocessor.pipe(remove_stopwords, args = {'lang':'en'})\n",
    "preprocessor.pipe(replace_numbers, args = {'replace_with':''})\n",
    "preprocessor.pipe(normalize_whitespace)\n",
    "\n",
    "# token preprocessing\n",
    "from nlpretext.token.preprocess import remove_smallwords, remove_tokens_with_nonletters\n",
    "token_clean = Preprocessor()\n",
    "token_clean.pipe(remove_smallwords, args = {'smallwords_threshold': 2})\n",
    "token_clean.pipe(remove_tokens_with_nonletters)\n",
    "\n",
    "\n",
    "tk = SpaceTokenizer()\n",
    "def tokenize(text):\n",
    "    \"\"\"\n",
    "    Tokenizes English text from a string into a list of strings (tokens)\n",
    "    \"\"\"\n",
    "    text = preprocessor.run(text)\n",
    "    tokens = [tok.text for tok in spacy_en.tokenizer(text)]\n",
    "    tokens = token_clean.run(tokens)\n",
    "    return tokens\n",
    "\n",
    "def get_common(doc,k = 100, stop_words = my_stop_words):\n",
    "    \"\"\"\n",
    "    Take lemmatization and get top k common words\n",
    "    \"\"\"\n",
    "    try:\n",
    "        counter = Counter([lemmatizer.lemmatize(tok) for tok in tokenize(doc)])\n",
    "        words = counter.most_common(k)\n",
    "        words = [word for word in words if word[1] > 1]\n",
    "        return pd.Series([words, ' '.join([item[0] for item in words])], index = ['common_words_counts', 'common_words'] )\n",
    "    except:\n",
    "        return pd.Series(['',''], index = ['common_words_counts', 'common_words'])"
   ]
  },
  {
   "cell_type": "code",
   "execution_count": 5,
   "metadata": {},
   "outputs": [
    {
     "data": {
      "text/plain": [
       "common_words_counts    [(serbia, 5), (part, 5), (project, 4), (rehabi...\n",
       "common_words           serbia part project rehabilitation thermal mon...\n",
       "dtype: object"
      ]
     },
     "execution_count": 5,
     "metadata": {},
     "output_type": "execute_result"
    }
   ],
   "source": [
    "get_common(df.loc[0,'project_desc'])"
   ]
  },
  {
   "cell_type": "code",
   "execution_count": 6,
   "metadata": {},
   "outputs": [],
   "source": [
    "df[['common_words_counts', 'common_words']] = df['project_desc'].apply(lambda x: get_common(x, 100, my_stop_words))"
   ]
  },
  {
   "cell_type": "code",
   "execution_count": 7,
   "metadata": {},
   "outputs": [
    {
     "data": {
      "text/html": [
       "<div>\n",
       "<style scoped>\n",
       "    .dataframe tbody tr th:only-of-type {\n",
       "        vertical-align: middle;\n",
       "    }\n",
       "\n",
       "    .dataframe tbody tr th {\n",
       "        vertical-align: top;\n",
       "    }\n",
       "\n",
       "    .dataframe thead th {\n",
       "        text-align: right;\n",
       "    }\n",
       "</style>\n",
       "<table border=\"1\" class=\"dataframe\">\n",
       "  <thead>\n",
       "    <tr style=\"text-align: right;\">\n",
       "      <th></th>\n",
       "      <th>year</th>\n",
       "      <th>month</th>\n",
       "      <th>day</th>\n",
       "      <th>id</th>\n",
       "      <th>name</th>\n",
       "      <th>project_desc</th>\n",
       "      <th>top_common_40</th>\n",
       "      <th>common_words_counts</th>\n",
       "      <th>common_words</th>\n",
       "    </tr>\n",
       "  </thead>\n",
       "  <tbody>\n",
       "    <tr>\n",
       "      <th>0</th>\n",
       "      <td>1991</td>\n",
       "      <td>september</td>\n",
       "      <td>12</td>\n",
       "      <td>558671468103155868</td>\n",
       "      <td>conformed-copy--l3361--kolubara-b-thermal-powe...</td>\n",
       "      <td>SCHEDULE 2\\n\\n                    Description ...</td>\n",
       "      <td>serbia rehabilitation thermal monitoring progr...</td>\n",
       "      <td>[(serbia, 5), (part, 5), (project, 4), (rehabi...</td>\n",
       "      <td>serbia part project rehabilitation thermal mon...</td>\n",
       "    </tr>\n",
       "    <tr>\n",
       "      <th>1</th>\n",
       "      <td>2001</td>\n",
       "      <td>may</td>\n",
       "      <td>31</td>\n",
       "      <td>473681468094784501</td>\n",
       "      <td>conformed-copy--l7054--railway-restructuring-p...</td>\n",
       "      <td>SCHEDULE 2\\n\\nDescription of the Project\\n\\nTh...</td>\n",
       "      <td>borrower staff program objectives transport se...</td>\n",
       "      <td>[(program, 5), (project, 4), (borrower, 4), (p...</td>\n",
       "      <td>program project borrower part staff objective ...</td>\n",
       "    </tr>\n",
       "    <tr>\n",
       "      <th>2</th>\n",
       "      <td>1991</td>\n",
       "      <td>november</td>\n",
       "      <td>19</td>\n",
       "      <td>892131468028134392</td>\n",
       "      <td>china--beijing-environmental-project-:-loan-34...</td>\n",
       "      <td>NaN</td>\n",
       "      <td>NaN</td>\n",
       "      <td></td>\n",
       "      <td></td>\n",
       "    </tr>\n",
       "    <tr>\n",
       "      <th>3</th>\n",
       "      <td>2013</td>\n",
       "      <td>may</td>\n",
       "      <td>20</td>\n",
       "      <td>945021468224685176</td>\n",
       "      <td>official-documents-loan-agreement,-l8236-cn-cl...</td>\n",
       "      <td>SCHEDULE1\\n\\nProject Description\\n\\nThe  objec...</td>\n",
       "      <td>urban rehabilitation water construction city s...</td>\n",
       "      <td>[(project, 12), (city, 9), (urban, 7), (system...</td>\n",
       "      <td>project city urban system rehabilitation water...</td>\n",
       "    </tr>\n",
       "    <tr>\n",
       "      <th>4</th>\n",
       "      <td>1991</td>\n",
       "      <td>may</td>\n",
       "      <td>7</td>\n",
       "      <td>107521468303622178</td>\n",
       "      <td>conformed-copy--l3230--third-highway-sector-pr...</td>\n",
       "      <td>SCHEDULE 2\\n\\nDescription of the Project\\n\\nTh...</td>\n",
       "      <td>maintenance improve highway planning including...</td>\n",
       "      <td>[(maintenance, 6), (part, 5), (project, 4), (i...</td>\n",
       "      <td>maintenance part project improve highway plann...</td>\n",
       "    </tr>\n",
       "  </tbody>\n",
       "</table>\n",
       "</div>"
      ],
      "text/plain": [
       "   year      month  day                  id  \\\n",
       "0  1991  september   12  558671468103155868   \n",
       "1  2001        may   31  473681468094784501   \n",
       "2  1991   november   19  892131468028134392   \n",
       "3  2013        may   20  945021468224685176   \n",
       "4  1991        may    7  107521468303622178   \n",
       "\n",
       "                                                name  \\\n",
       "0  conformed-copy--l3361--kolubara-b-thermal-powe...   \n",
       "1  conformed-copy--l7054--railway-restructuring-p...   \n",
       "2  china--beijing-environmental-project-:-loan-34...   \n",
       "3  official-documents-loan-agreement,-l8236-cn-cl...   \n",
       "4  conformed-copy--l3230--third-highway-sector-pr...   \n",
       "\n",
       "                                        project_desc  \\\n",
       "0  SCHEDULE 2\\n\\n                    Description ...   \n",
       "1  SCHEDULE 2\\n\\nDescription of the Project\\n\\nTh...   \n",
       "2                                                NaN   \n",
       "3  SCHEDULE1\\n\\nProject Description\\n\\nThe  objec...   \n",
       "4  SCHEDULE 2\\n\\nDescription of the Project\\n\\nTh...   \n",
       "\n",
       "                                       top_common_40  \\\n",
       "0  serbia rehabilitation thermal monitoring progr...   \n",
       "1  borrower staff program objectives transport se...   \n",
       "2                                                NaN   \n",
       "3  urban rehabilitation water construction city s...   \n",
       "4  maintenance improve highway planning including...   \n",
       "\n",
       "                                 common_words_counts  \\\n",
       "0  [(serbia, 5), (part, 5), (project, 4), (rehabi...   \n",
       "1  [(program, 5), (project, 4), (borrower, 4), (p...   \n",
       "2                                                      \n",
       "3  [(project, 12), (city, 9), (urban, 7), (system...   \n",
       "4  [(maintenance, 6), (part, 5), (project, 4), (i...   \n",
       "\n",
       "                                        common_words  \n",
       "0  serbia part project rehabilitation thermal mon...  \n",
       "1  program project borrower part staff objective ...  \n",
       "2                                                     \n",
       "3  project city urban system rehabilitation water...  \n",
       "4  maintenance part project improve highway plann...  "
      ]
     },
     "execution_count": 7,
     "metadata": {},
     "output_type": "execute_result"
    }
   ],
   "source": [
    "df.head()"
   ]
  },
  {
   "cell_type": "markdown",
   "metadata": {},
   "source": [
    "### Extract my own stop words"
   ]
  },
  {
   "cell_type": "code",
   "execution_count": 8,
   "metadata": {},
   "outputs": [
    {
     "name": "stdout",
     "output_type": "stream",
     "text": [
      "Words existing in more than  639  files: \n",
      "\n",
      "['project' 'part' 'provision' 'borrower' 'management' 'system' 'time'\n",
      " 'including' 'objective' 'service' 'program' 'development' 'training'\n",
      " 'carrying' 'support' 'technical' 'capacity' 'implementation'\n",
      " 'strengthening' 'assistance' 'equipment' 'bank' 'institutional'\n",
      " 'monitoring' 'financial' 'study' 'good' 'construction' 'improve' 'area'\n",
      " 'activity' 'sector' 'loan' 'information']\n",
      "\n",
      "Words existing in less than  2  files: \n",
      "\n",
      "['applying' 'srbija' 'bizerte' ... 'harmonized' 'mapf' 'montt']\n"
     ]
    }
   ],
   "source": [
    "# get common words among all docs\n",
    "common_words_all = pd.Series(' '.join(df['common_words']).split())\n",
    "vocabulary = common_words_all.value_counts().reset_index(name = 'count')\n",
    "\n",
    "upper_threshold = int(len(df) / 5)\n",
    "print('Words existing in more than ', upper_threshold, ' files: \\n')\n",
    "print(vocabulary[vocabulary['count'] > upper_threshold]['index'].values)\n",
    "\n",
    "lower_threshold = 2\n",
    "print('\\nWords existing in less than ', lower_threshold, ' files: \\n')\n",
    "print(vocabulary[vocabulary['count'] < lower_threshold]['index'].values)\n",
    "\n",
    "\n",
    "# collecting low and high frequency words\n",
    "my_stop_words = set(vocabulary[vocabulary['count'] > upper_threshold]['index'].values).union(set(vocabulary[vocabulary['count'] < lower_threshold]['index'].values))\n",
    "\n",
    "# remove my_stop_words from vocabulary\n",
    "vocabulary_set = set(vocabulary['index'].values).difference(my_stop_words)"
   ]
  },
  {
   "cell_type": "code",
   "execution_count": 9,
   "metadata": {},
   "outputs": [
    {
     "name": "stdout",
     "output_type": "stream",
     "text": [
      "Number of my_stop_words:  3780\n",
      "Number of vocabulary:  3846\n"
     ]
    }
   ],
   "source": [
    "print('Number of my_stop_words: ', len(my_stop_words))\n",
    "print('Number of vocabulary: ', len(vocabulary_set))"
   ]
  },
  {
   "cell_type": "code",
   "execution_count": 10,
   "metadata": {},
   "outputs": [],
   "source": [
    "#load model and get vectors (takes several minutes)\n",
    "model = gensim.models.KeyedVectors.load_word2vec_format('../lexvec.enwiki+newscrawl.300d.W+C.pos.vectors', binary = False)"
   ]
  },
  {
   "cell_type": "code",
   "execution_count": 11,
   "metadata": {},
   "outputs": [],
   "source": [
    "# remove words not in the model\n",
    "words_not_in_model = set()\n",
    "for word in vocabulary_set:\n",
    "    if word not in model:\n",
    "        words_not_in_model.add(word)\n",
    "my_stop_words = my_stop_words.union(words_not_in_model)\n",
    "vocabulary_set = vocabulary_set.difference(words_not_in_model)"
   ]
  },
  {
   "cell_type": "code",
   "execution_count": 12,
   "metadata": {},
   "outputs": [
    {
     "name": "stdout",
     "output_type": "stream",
     "text": [
      "Number of words not in model:  315\n",
      "Number of my_stop_words:  4095\n",
      "Number of vocabulary:  3531\n"
     ]
    }
   ],
   "source": [
    "print('Number of words not in model: ', len(words_not_in_model))\n",
    "print('Number of my_stop_words: ', len(my_stop_words))\n",
    "print('Number of vocabulary: ', len(vocabulary_set))"
   ]
  },
  {
   "cell_type": "markdown",
   "metadata": {},
   "source": [
    "### Remove my own stopwords"
   ]
  },
  {
   "cell_type": "code",
   "execution_count": 13,
   "metadata": {},
   "outputs": [],
   "source": [
    "def remove_my_stopword(x, my_stop_words):\n",
    "    return [word for word in x if word[0] not in my_stop_words]\n",
    "\n",
    "df['common_words_counts_no_stopwords'] = df['common_words_counts'].apply(lambda x: remove_my_stopword(x, my_stop_words))\n",
    "\n",
    "df['common_words'] = df['common_words_counts_no_stopwords'].apply(lambda x: ' '.join([word[0] for word in x]))"
   ]
  },
  {
   "cell_type": "markdown",
   "metadata": {},
   "source": [
    "### Word Embedding and Document Clustering\n",
    "We apply the pretrained word2vec matrix from https://github.com/alexandres/lexvec#pre-trained-vectors. "
   ]
  },
  {
   "cell_type": "code",
   "execution_count": 14,
   "metadata": {},
   "outputs": [],
   "source": [
    "def get_weighted_vec(words):\n",
    "    try:\n",
    "        word_list = [w[0] for w in words]\n",
    "        word_vecs = model[word_list]\n",
    "        freq_list = [w[1] for w in words]\n",
    "        freq_list = np.array(freq_list)\n",
    "        return list(word_vecs.T @ freq_list / len(freq_list))\n",
    "    except:\n",
    "        return \n",
    "# get_weighted_vec(df.loc[0, 'common_words_counts_no_stopwords'])"
   ]
  },
  {
   "cell_type": "code",
   "execution_count": 15,
   "metadata": {},
   "outputs": [],
   "source": [
    "df['doc_vec'] = df['common_words_counts_no_stopwords'].apply(get_weighted_vec)"
   ]
  },
  {
   "cell_type": "code",
   "execution_count": 16,
   "metadata": {},
   "outputs": [],
   "source": [
    "def ave_cosim(word, words):  \n",
    "    word_list = [w[0] for w in words]\n",
    "    freq_list = [w[1] for w in words]\n",
    "    freq_list = np.array(freq_list)\n",
    "    similarities = model.cosine_similarities(model[word], model[word_list])\n",
    "    return np.dot(freq_list, similarities)/sum(freq_list)"
   ]
  },
  {
   "cell_type": "code",
   "execution_count": 17,
   "metadata": {},
   "outputs": [],
   "source": [
    "sectors = ['Transportation', 'Water/Sanitation/Waste', 'Agriculture',\n",
    "       'Industry and Trade/Services', 'Education', 'Health',\n",
    "       'Energy and Extractives', 'Public Admin', 'Financial Sector',\n",
    "       'Social Protection', 'Info and Communication']\n",
    "\n",
    "sector_lists = [['transportation'], ['water', 'sanitation', 'waste'], \n",
    "                ['agriculture'], ['industry', 'trade', 'services'],\n",
    "                ['education'], ['health'], ['energy', 'extractive'],\n",
    "                ['public', 'admin'], ['financial', 'sector'], \n",
    "                ['social', 'protection'], ['info', 'communication']]\n",
    "def get_sector(words):\n",
    "    try:\n",
    "        scores = []\n",
    "        for word in sector_lists:\n",
    "            score = 0\n",
    "            for w in word:\n",
    "                score += ave_cosim(w, words)\n",
    "            scores.append(score/len(word))\n",
    "        index = scores.index(max(scores))\n",
    "        return sectors[index]\n",
    "    except:\n",
    "        return None"
   ]
  },
  {
   "cell_type": "code",
   "execution_count": 18,
   "metadata": {},
   "outputs": [],
   "source": [
    "df['sectors_from_word2vec'] = df['common_words_counts_no_stopwords'].apply(get_sector)"
   ]
  },
  {
   "cell_type": "code",
   "execution_count": 19,
   "metadata": {},
   "outputs": [],
   "source": [
    "df1 = pd.read_pickle('../extraction_pipeline/agreement_features_join_projects.pkl')\n",
    "df1 = df1.join(df[['id', 'sectors_from_word2vec', 'doc_vec']].set_index('id'), on = 'id')"
   ]
  },
  {
   "cell_type": "code",
   "execution_count": 20,
   "metadata": {},
   "outputs": [
    {
     "data": {
      "text/plain": [
       "Transportation                 95\n",
       "Water/Sanitation/Waste         85\n",
       "Agriculture                    69\n",
       "Education                      67\n",
       "Health                         54\n",
       "Energy and Extractives         34\n",
       "Financial Sector               30\n",
       "Industry and Trade/Services    12\n",
       "Social Protection               7\n",
       "Name: major_sector_name, dtype: int64"
      ]
     },
     "execution_count": 20,
     "metadata": {},
     "output_type": "execute_result"
    }
   ],
   "source": [
    "# summary of correct predictions\n",
    "df1[df1['sectors_from_word2vec'] == df1['major_sector_name']]['major_sector_name'].value_counts()"
   ]
  },
  {
   "cell_type": "code",
   "execution_count": 21,
   "metadata": {},
   "outputs": [
    {
     "name": "stdout",
     "output_type": "stream",
     "text": [
      "Accuracy: 0.4743455497382199 on 955 predictions\n"
     ]
    }
   ],
   "source": [
    "number_correct_sectors_pred = (df1['sectors_from_word2vec'] == df1['major_sector_name']).sum()\n",
    "total_sectors_labeled = df1['major_sector_name'].notna().sum()\n",
    "accuracy = number_correct_sectors_pred / total_sectors_labeled\n",
    "print(\"Accuracy:\", accuracy, \"on\", total_sectors_labeled, \"predictions\")"
   ]
  },
  {
   "cell_type": "markdown",
   "metadata": {},
   "source": [
    "## Supervised Classification"
   ]
  },
  {
   "cell_type": "code",
   "execution_count": 22,
   "metadata": {},
   "outputs": [],
   "source": [
    "from sklearn import preprocessing\n",
    "from sklearn import ensemble\n",
    "from sklearn.linear_model import LogisticRegression\n",
    "from sklearn.svm import SVC\n",
    "from sklearn.pipeline import Pipeline\n",
    "from sklearn.preprocessing import StandardScaler\n",
    "from sklearn.metrics import plot_confusion_matrix\n",
    "from sklearn.metrics import accuracy_score\n",
    "from sklearn.metrics import balanced_accuracy_score\n",
    "# from sklearn.metrics import top_k_accuracy_score\n",
    "from sklearn.metrics import make_scorer\n",
    "from sklearn.neighbors import KNeighborsClassifier\n",
    "from sklearn.ensemble import VotingClassifier\n",
    "from sklearn.neural_network import MLPClassifier\n",
    "from sklearn.model_selection import GridSearchCV"
   ]
  },
  {
   "cell_type": "code",
   "execution_count": 23,
   "metadata": {},
   "outputs": [
    {
     "data": {
      "text/plain": [
       "(907, 20)"
      ]
     },
     "execution_count": 23,
     "metadata": {},
     "output_type": "execute_result"
    }
   ],
   "source": [
    "df1 = df1[(df1['major_sector_name'].notna()) & (df1['doc_vec'].notna())]\n",
    "df1.shape"
   ]
  },
  {
   "cell_type": "code",
   "execution_count": 43,
   "metadata": {},
   "outputs": [
    {
     "data": {
      "text/html": [
       "<div>\n",
       "<style scoped>\n",
       "    .dataframe tbody tr th:only-of-type {\n",
       "        vertical-align: middle;\n",
       "    }\n",
       "\n",
       "    .dataframe tbody tr th {\n",
       "        vertical-align: top;\n",
       "    }\n",
       "\n",
       "    .dataframe thead th {\n",
       "        text-align: right;\n",
       "    }\n",
       "</style>\n",
       "<table border=\"1\" class=\"dataframe\">\n",
       "  <thead>\n",
       "    <tr style=\"text-align: right;\">\n",
       "      <th></th>\n",
       "      <th>id</th>\n",
       "      <th>date</th>\n",
       "      <th>country_code</th>\n",
       "      <th>country_name</th>\n",
       "      <th>named_countries</th>\n",
       "      <th>Project Name</th>\n",
       "      <th>project_desc</th>\n",
       "      <th>amount_standard</th>\n",
       "      <th>currency_standard</th>\n",
       "      <th>closing_month</th>\n",
       "      <th>closing_day</th>\n",
       "      <th>closing_year</th>\n",
       "      <th>loan_length in year</th>\n",
       "      <th>wb_project_id</th>\n",
       "      <th>major_sector_name</th>\n",
       "      <th>sector1_name</th>\n",
       "      <th>sector2_name</th>\n",
       "      <th>sector3_name</th>\n",
       "      <th>sectors_from_word2vec</th>\n",
       "      <th>doc_vec</th>\n",
       "    </tr>\n",
       "  </thead>\n",
       "  <tbody>\n",
       "    <tr>\n",
       "      <th>3</th>\n",
       "      <td>125511468051878371</td>\n",
       "      <td>1990-01-11</td>\n",
       "      <td>ma</td>\n",
       "      <td>Malaysia</td>\n",
       "      <td>[Malaysia, United States]</td>\n",
       "      <td>Highway Rehabilitation and Improvement Project</td>\n",
       "      <td>SCHEDULE 2\\n\\n              Description of the...</td>\n",
       "      <td>83200000.0</td>\n",
       "      <td>us dollar</td>\n",
       "      <td>June</td>\n",
       "      <td>30</td>\n",
       "      <td>1995</td>\n",
       "      <td>5.0</td>\n",
       "      <td>P099112</td>\n",
       "      <td>Transportation</td>\n",
       "      <td>Rural and Inter-Urban Roads</td>\n",
       "      <td>Sub-National Government</td>\n",
       "      <td>NaN</td>\n",
       "      <td>Transportation</td>\n",
       "      <td>[-2.777964076027274, -2.047689789906144, 0.418...</td>\n",
       "    </tr>\n",
       "    <tr>\n",
       "      <th>12</th>\n",
       "      <td>328621468247829056</td>\n",
       "      <td>1990-02-01</td>\n",
       "      <td>yu</td>\n",
       "      <td>Yugoslavia</td>\n",
       "      <td>[United States]</td>\n",
       "      <td>Istria Water Supply and Sewerage Project</td>\n",
       "      <td>SCHEDULE 2\\n\\n              Description of the...</td>\n",
       "      <td>28000000.0</td>\n",
       "      <td>us dollar</td>\n",
       "      <td>December</td>\n",
       "      <td>31</td>\n",
       "      <td>1995</td>\n",
       "      <td>5.0</td>\n",
       "      <td>P039002</td>\n",
       "      <td>Water/Sanitation/Waste</td>\n",
       "      <td>Water Supply</td>\n",
       "      <td>NaN</td>\n",
       "      <td>NaN</td>\n",
       "      <td>Water/Sanitation/Waste</td>\n",
       "      <td>[-0.3309753746208217, -1.8834917064652674, -2....</td>\n",
       "    </tr>\n",
       "    <tr>\n",
       "      <th>28</th>\n",
       "      <td>262671468094782907</td>\n",
       "      <td>1990-02-22</td>\n",
       "      <td>pol</td>\n",
       "      <td>Poland</td>\n",
       "      <td>[Poland, United States]</td>\n",
       "      <td>Industrial Export Development Project</td>\n",
       "      <td>SCHEDULE 2\\n\\n              Description of the...</td>\n",
       "      <td>260000000.0</td>\n",
       "      <td>us dollar</td>\n",
       "      <td>June</td>\n",
       "      <td>30</td>\n",
       "      <td>1996</td>\n",
       "      <td>6.0</td>\n",
       "      <td>P008569</td>\n",
       "      <td>Industry and Trade/Services</td>\n",
       "      <td>Other Industry, Trade and Services</td>\n",
       "      <td>Banking Institutions</td>\n",
       "      <td>NaN</td>\n",
       "      <td>Financial Sector</td>\n",
       "      <td>[0.07670041263103484, -0.7551898404955864, 0.2...</td>\n",
       "    </tr>\n",
       "    <tr>\n",
       "      <th>57</th>\n",
       "      <td>631461468313480210</td>\n",
       "      <td>1990-05-18</td>\n",
       "      <td>tu</td>\n",
       "      <td>Turkey</td>\n",
       "      <td>[Turkey, United States]</td>\n",
       "      <td>National Education Development Project</td>\n",
       "      <td>SCHEDULE 2\\n\\n                    Description ...</td>\n",
       "      <td>90200000.0</td>\n",
       "      <td>us dollar</td>\n",
       "      <td>June</td>\n",
       "      <td>30</td>\n",
       "      <td>1997</td>\n",
       "      <td>7.0</td>\n",
       "      <td>P009029</td>\n",
       "      <td>Education</td>\n",
       "      <td>Tertiary Education</td>\n",
       "      <td>Primary Education</td>\n",
       "      <td>Secondary Education</td>\n",
       "      <td>Education</td>\n",
       "      <td>[0.5729999754192501, 0.12719300523368193, -0.8...</td>\n",
       "    </tr>\n",
       "    <tr>\n",
       "      <th>61</th>\n",
       "      <td>230091468332700242</td>\n",
       "      <td>1990-06-04</td>\n",
       "      <td>ph</td>\n",
       "      <td>Philippines</td>\n",
       "      <td>[United Kingdom, Philippines, United States]</td>\n",
       "      <td>Small Coconut Farms Development Project</td>\n",
       "      <td>SCHEDULE 2\\n\\n              Description of the...</td>\n",
       "      <td>121800000.0</td>\n",
       "      <td>us dollar</td>\n",
       "      <td>June</td>\n",
       "      <td>30</td>\n",
       "      <td>1996</td>\n",
       "      <td>6.0</td>\n",
       "      <td>P004552</td>\n",
       "      <td>Agriculture</td>\n",
       "      <td>Crops</td>\n",
       "      <td>Central Government (Central Agencies)</td>\n",
       "      <td>Agricultural Extension, Research, and Other Su...</td>\n",
       "      <td>Agriculture</td>\n",
       "      <td>[-0.3678096648460875, -0.9272364365557829, -0....</td>\n",
       "    </tr>\n",
       "  </tbody>\n",
       "</table>\n",
       "</div>"
      ],
      "text/plain": [
       "                    id        date country_code country_name  \\\n",
       "3   125511468051878371  1990-01-11           ma     Malaysia   \n",
       "12  328621468247829056  1990-02-01           yu   Yugoslavia   \n",
       "28  262671468094782907  1990-02-22          pol       Poland   \n",
       "57  631461468313480210  1990-05-18           tu       Turkey   \n",
       "61  230091468332700242  1990-06-04           ph  Philippines   \n",
       "\n",
       "                                 named_countries  \\\n",
       "3                      [Malaysia, United States]   \n",
       "12                               [United States]   \n",
       "28                       [Poland, United States]   \n",
       "57                       [Turkey, United States]   \n",
       "61  [United Kingdom, Philippines, United States]   \n",
       "\n",
       "                                      Project Name  \\\n",
       "3   Highway Rehabilitation and Improvement Project   \n",
       "12        Istria Water Supply and Sewerage Project   \n",
       "28           Industrial Export Development Project   \n",
       "57          National Education Development Project   \n",
       "61         Small Coconut Farms Development Project   \n",
       "\n",
       "                                         project_desc  amount_standard  \\\n",
       "3   SCHEDULE 2\\n\\n              Description of the...       83200000.0   \n",
       "12  SCHEDULE 2\\n\\n              Description of the...       28000000.0   \n",
       "28  SCHEDULE 2\\n\\n              Description of the...      260000000.0   \n",
       "57  SCHEDULE 2\\n\\n                    Description ...       90200000.0   \n",
       "61  SCHEDULE 2\\n\\n              Description of the...      121800000.0   \n",
       "\n",
       "   currency_standard closing_month closing_day closing_year  \\\n",
       "3          us dollar          June          30         1995   \n",
       "12         us dollar      December          31         1995   \n",
       "28         us dollar          June          30         1996   \n",
       "57         us dollar          June          30         1997   \n",
       "61         us dollar          June          30         1996   \n",
       "\n",
       "    loan_length in year wb_project_id            major_sector_name  \\\n",
       "3                   5.0       P099112               Transportation   \n",
       "12                  5.0       P039002       Water/Sanitation/Waste   \n",
       "28                  6.0       P008569  Industry and Trade/Services   \n",
       "57                  7.0       P009029                    Education   \n",
       "61                  6.0       P004552                  Agriculture   \n",
       "\n",
       "                          sector1_name                           sector2_name  \\\n",
       "3          Rural and Inter-Urban Roads                Sub-National Government   \n",
       "12                        Water Supply                                    NaN   \n",
       "28  Other Industry, Trade and Services                   Banking Institutions   \n",
       "57                  Tertiary Education                      Primary Education   \n",
       "61                               Crops  Central Government (Central Agencies)   \n",
       "\n",
       "                                         sector3_name   sectors_from_word2vec  \\\n",
       "3                                                 NaN          Transportation   \n",
       "12                                                NaN  Water/Sanitation/Waste   \n",
       "28                                                NaN        Financial Sector   \n",
       "57                                Secondary Education               Education   \n",
       "61  Agricultural Extension, Research, and Other Su...             Agriculture   \n",
       "\n",
       "                                              doc_vec  \n",
       "3   [-2.777964076027274, -2.047689789906144, 0.418...  \n",
       "12  [-0.3309753746208217, -1.8834917064652674, -2....  \n",
       "28  [0.07670041263103484, -0.7551898404955864, 0.2...  \n",
       "57  [0.5729999754192501, 0.12719300523368193, -0.8...  \n",
       "61  [-0.3678096648460875, -0.9272364365557829, -0....  "
      ]
     },
     "execution_count": 43,
     "metadata": {},
     "output_type": "execute_result"
    }
   ],
   "source": [
    "df1.head()"
   ]
  },
  {
   "cell_type": "code",
   "execution_count": 76,
   "metadata": {},
   "outputs": [
    {
     "name": "stdout",
     "output_type": "stream",
     "text": [
      "X.shape:  (907, 300)\n",
      "y.shape:  (907,)\n"
     ]
    }
   ],
   "source": [
    "X = np.stack(df1.doc_vec.values)\n",
    "print('X.shape: ', X.shape)\n",
    "\n",
    "# label encoding sectors\n",
    "le = preprocessing.LabelEncoder()\n",
    "le.fit(df1['major_sector_name'])\n",
    "y = le.transform(df1['major_sector_name'])\n",
    "sectors = le.classes_\n",
    "\n",
    "print('y.shape: ', y.shape)"
   ]
  },
  {
   "cell_type": "code",
   "execution_count": 77,
   "metadata": {},
   "outputs": [],
   "source": [
    "from sklearn.model_selection import train_test_split\n",
    "X_train_train, X_test_test, y_train, y_test = train_test_split(X,y,train_size=0.75,stratify=y,random_state=52323)"
   ]
  },
  {
   "cell_type": "markdown",
   "metadata": {},
   "source": [
    "### Dimension Reduction: PCA (n_components = 20)"
   ]
  },
  {
   "cell_type": "code",
   "execution_count": 78,
   "metadata": {},
   "outputs": [],
   "source": [
    "from sklearn.decomposition import PCA\n",
    "pca = PCA(n_components=20)\n",
    "pca.fit(X_train_train)\n",
    "X_train = pca.transform(X_train_train)\n",
    "X_test = pca.transform(X_test_test)"
   ]
  },
  {
   "cell_type": "code",
   "execution_count": 81,
   "metadata": {},
   "outputs": [
    {
     "data": {
      "text/plain": [
       "0.7379951084052812"
      ]
     },
     "execution_count": 81,
     "metadata": {},
     "output_type": "execute_result"
    }
   ],
   "source": [
    "# ratio of variance explained\n",
    "pca.explained_variance_ratio_.sum()"
   ]
  },
  {
   "cell_type": "markdown",
   "metadata": {},
   "source": [
    "### RandomForestClassifier"
   ]
  },
  {
   "cell_type": "code",
   "execution_count": 82,
   "metadata": {},
   "outputs": [],
   "source": [
    "rf_pred = ensemble.RandomForestClassifier(n_estimators=200,max_depth=7,class_weight=\"balanced\",random_state=4252)\n",
    "rf_grid = {\n",
    "    \"n_estimators\": [200, 300, 400],\n",
    "    \"max_depth\": [6, 7, 8],\n",
    "    #\"criterion\": ['gini','entropy'],\n",
    "    \"ccp_alpha\": [0, 0.001, 0.002, 0.005]\n",
    "}\n",
    "rf = GridSearchCV(estimator=rf_pred,param_grid=rf_grid,scoring=make_scorer(accuracy_score),n_jobs=4)"
   ]
  },
  {
   "cell_type": "code",
   "execution_count": 83,
   "metadata": {},
   "outputs": [
    {
     "data": {
      "text/plain": [
       "GridSearchCV(estimator=RandomForestClassifier(class_weight='balanced',\n",
       "                                              max_depth=7, n_estimators=200,\n",
       "                                              random_state=4252),\n",
       "             n_jobs=4,\n",
       "             param_grid={'ccp_alpha': [0, 0.001, 0.002, 0.005],\n",
       "                         'max_depth': [6, 7, 8],\n",
       "                         'n_estimators': [200, 300, 400]},\n",
       "             scoring=make_scorer(accuracy_score))"
      ]
     },
     "execution_count": 83,
     "metadata": {},
     "output_type": "execute_result"
    }
   ],
   "source": [
    "rf.fit(X_train,y_train)"
   ]
  },
  {
   "cell_type": "code",
   "execution_count": 89,
   "metadata": {},
   "outputs": [
    {
     "name": "stdout",
     "output_type": "stream",
     "text": [
      "Train Accuracy: 0.899\n",
      "Test Accuracy: 0.683\n"
     ]
    }
   ],
   "source": [
    "y_train_pred = rf.predict(X_train)\n",
    "rf_train_acc = accuracy_score(y_train,y_train_pred)\n",
    "y_test_pred = rf.predict(X_test)\n",
    "rf_test_acc = accuracy_score(y_test,y_test_pred)\n",
    "rf_test_balanced_acc = balanced_accuracy_score(y_test,y_test_pred)\n",
    "# rf_top2_test_acc = top_k_accuracy_score(y_test,rf.predict_proba(X_test),k=2)\n",
    "print(\"Train Accuracy:\", np.round(rf_train_acc,3))\n",
    "print(\"Test Accuracy:\", np.round(rf_test_acc,3))\n",
    "# print(\"Top 2 Test Accuracy:\", np.round(rf_top2_test_acc,3))"
   ]
  },
  {
   "cell_type": "code",
   "execution_count": 90,
   "metadata": {},
   "outputs": [
    {
     "data": {
      "text/plain": [
       "<Figure size 720x720 with 0 Axes>"
      ]
     },
     "metadata": {},
     "output_type": "display_data"
    },
    {
     "data": {
      "image/png": "[encoded data removed]",
      "text/plain": [
       "<Figure size 432x288 with 2 Axes>"
      ]
     },
     "metadata": {
      "needs_background": "light"
     },
     "output_type": "display_data"
    }
   ],
   "source": [
    "plt.figure(figsize=(10,10))\n",
    "plot_confusion_matrix(rf,X_test,y_test,display_labels=sectors)\n",
    "plt.xticks(rotation=50,fontsize=10,position=(1,0),horizontalalignment='right')\n",
    "plt.show()"
   ]
  },
  {
   "cell_type": "markdown",
   "metadata": {},
   "source": [
    "### LogisticRegression"
   ]
  },
  {
   "cell_type": "code",
   "execution_count": 91,
   "metadata": {},
   "outputs": [
    {
     "data": {
      "text/plain": [
       "Pipeline(steps=[('scale', StandardScaler()),\n",
       "                ('logistic',\n",
       "                 GridSearchCV(estimator=LogisticRegression(C=1,\n",
       "                                                           class_weight='balanced',\n",
       "                                                           l1_ratio=0.8,\n",
       "                                                           max_iter=5000,\n",
       "                                                           penalty='elasticnet',\n",
       "                                                           random_state=424,\n",
       "                                                           solver='saga'),\n",
       "                              n_jobs=4,\n",
       "                              param_grid={'C': [0.1, 0.2, 0.5, 0.75, 1]},\n",
       "                              scoring=make_scorer(accuracy_score)))])"
      ]
     },
     "execution_count": 91,
     "metadata": {},
     "output_type": "execute_result"
    }
   ],
   "source": [
    "lin = LogisticRegression(class_weight=\"balanced\",C=1,penalty=\"elasticnet\",l1_ratio=0.8,solver='saga',max_iter=5000, random_state=424)\n",
    "logistic_grid = {\n",
    "    \"C\": [0.1, 0.2, 0.5, 0.75, 1]\n",
    "}\n",
    "logistic_pipe = Pipeline([\n",
    "    ('scale',StandardScaler()),\n",
    "    ('logistic',GridSearchCV(estimator=lin,param_grid=logistic_grid,scoring=make_scorer(accuracy_score),n_jobs=4))\n",
    "])\n",
    "logistic_pipe.fit(X_train,y_train)"
   ]
  },
  {
   "cell_type": "code",
   "execution_count": 92,
   "metadata": {},
   "outputs": [
    {
     "data": {
      "text/plain": [
       "{'C': 0.2}"
      ]
     },
     "execution_count": 92,
     "metadata": {},
     "output_type": "execute_result"
    }
   ],
   "source": [
    "logistic_pipe['logistic'].best_params_"
   ]
  },
  {
   "cell_type": "code",
   "execution_count": 93,
   "metadata": {},
   "outputs": [
    {
     "name": "stdout",
     "output_type": "stream",
     "text": [
      "Train Accuracy: 0.651\n",
      "Test Accuracy: 0.652\n"
     ]
    }
   ],
   "source": [
    "y_train_pred = logistic_pipe.predict(X_train)\n",
    "log_train_acc = accuracy_score(y_train,y_train_pred)\n",
    "y_test_pred = logistic_pipe.predict(X_test)\n",
    "log_test_acc = accuracy_score(y_test,y_test_pred)\n",
    "log_test_balanced_acc = balanced_accuracy_score(y_test,y_test_pred)\n",
    "# log_top2_test_acc = top_k_accuracy_score(y_test,logistic_pipe.predict_proba(X_test),k=2)\n",
    "print(\"Train Accuracy:\", np.round(log_train_acc,3))\n",
    "print(\"Test Accuracy:\", np.round(log_test_acc,3))\n",
    "# print(\"Top 2 Test Accuracy:\", np.round(log_top2_test_acc,3))"
   ]
  },
  {
   "cell_type": "markdown",
   "metadata": {},
   "source": [
    "### Support Vector Machine"
   ]
  },
  {
   "cell_type": "code",
   "execution_count": 94,
   "metadata": {},
   "outputs": [
    {
     "data": {
      "text/plain": [
       "Pipeline(steps=[('scale', StandardScaler()),\n",
       "                ('svm',\n",
       "                 GridSearchCV(estimator=SVC(C=2, class_weight='balanced',\n",
       "                                            max_iter=5000, probability=True,\n",
       "                                            random_state=1212),\n",
       "                              n_jobs=4, param_grid={'C': [0.5, 1, 2, 5]},\n",
       "                              scoring=make_scorer(accuracy_score)))])"
      ]
     },
     "execution_count": 94,
     "metadata": {},
     "output_type": "execute_result"
    }
   ],
   "source": [
    "svm = SVC(max_iter=5000,probability=True,class_weight=\"balanced\",C=2,random_state=1212)\n",
    "svm_grid = {\n",
    "    \"C\": [0.5, 1, 2, 5]\n",
    "}\n",
    "pipe = Pipeline([('scale',StandardScaler()),('svm',GridSearchCV(estimator=svm,param_grid=svm_grid,scoring=make_scorer(accuracy_score),n_jobs=4))])\n",
    "pipe.fit(X_train,y_train)"
   ]
  },
  {
   "cell_type": "code",
   "execution_count": 95,
   "metadata": {},
   "outputs": [
    {
     "name": "stdout",
     "output_type": "stream",
     "text": [
      "Train Accuracy: 0.782\n",
      "Test Accuracy: 0.67\n"
     ]
    }
   ],
   "source": [
    "y_train_pred = pipe.predict(X_train)\n",
    "svm_train_acc = accuracy_score(y_train,y_train_pred)\n",
    "y_test_pred = pipe.predict(X_test)\n",
    "svm_test_acc = accuracy_score(y_test,y_test_pred)\n",
    "svm_test_balanced_acc = balanced_accuracy_score(y_test,y_test_pred)\n",
    "# svm_top2_test_acc = top_k_accuracy_score(y_test,pipe.predict_proba(X_test),k=2)\n",
    "print(\"Train Accuracy:\", np.round(svm_train_acc,3))\n",
    "print(\"Test Accuracy:\", np.round(svm_test_acc,3))\n",
    "# print(\"Top 2 Test Accuracy:\", np.round(svm_top2_test_acc,3))"
   ]
  },
  {
   "cell_type": "markdown",
   "metadata": {},
   "source": [
    "### neural_network.MLPClassifier"
   ]
  },
  {
   "cell_type": "code",
   "execution_count": 96,
   "metadata": {},
   "outputs": [
    {
     "name": "stderr",
     "output_type": "stream",
     "text": [
      "/opt/anaconda3/lib/python3.8/site-packages/sklearn/neural_network/_multilayer_perceptron.py:582: ConvergenceWarning: Stochastic Optimizer: Maximum iterations (200) reached and the optimization hasn't converged yet.\n",
      "  warnings.warn(\n"
     ]
    },
    {
     "data": {
      "text/plain": [
       "Pipeline(steps=[('scale', StandardScaler()),\n",
       "                ('mlp',\n",
       "                 GridSearchCV(estimator=MLPClassifier(hidden_layer_sizes=(32,\n",
       "                                                                          16),\n",
       "                                                      random_state=52234),\n",
       "                              n_jobs=4,\n",
       "                              param_grid={'hidden_layer_sizes': [(32, 16),\n",
       "                                                                 (32, 32)],\n",
       "                                          'max_iter': [200, 300, 400]},\n",
       "                              scoring=make_scorer(accuracy_score)))])"
      ]
     },
     "execution_count": 96,
     "metadata": {},
     "output_type": "execute_result"
    }
   ],
   "source": [
    "mlp_est = MLPClassifier(hidden_layer_sizes=(32,16),max_iter=200,random_state=52234)\n",
    "mlp_grid = {\n",
    "    \"hidden_layer_sizes\": [(32, 16), (32, 32)],\n",
    "    \"max_iter\": [200, 300, 400]\n",
    "}\n",
    "mlp = Pipeline([('scale', StandardScaler()),('mlp',GridSearchCV(estimator=mlp_est,param_grid=mlp_grid,scoring=make_scorer(accuracy_score),n_jobs=4))])\n",
    "mlp.fit(X_train,y_train)"
   ]
  },
  {
   "cell_type": "code",
   "execution_count": 97,
   "metadata": {},
   "outputs": [
    {
     "name": "stdout",
     "output_type": "stream",
     "text": [
      "Train Accuracy: 0.775\n",
      "Test Accuracy: 0.687\n"
     ]
    }
   ],
   "source": [
    "y_train_pred = mlp.predict(X_train)\n",
    "mlp_train_acc = accuracy_score(y_train,y_train_pred)\n",
    "y_test_pred = mlp.predict(X_test)\n",
    "mlp_test_acc = accuracy_score(y_test,y_test_pred)\n",
    "mlp_test_balanced_acc = balanced_accuracy_score(y_test,y_test_pred)\n",
    "# mlp_top2_test_acc = top_k_accuracy_score(y_test,mlp.predict_proba(X_test),k=2)\n",
    "print(\"Train Accuracy:\", np.round(mlp_train_acc,3))\n",
    "print(\"Test Accuracy:\", np.round(mlp_test_acc,3))\n",
    "# print(\"Top 2 Test Accuracy:\", np.round(mlp_top2_test_acc,3))"
   ]
  },
  {
   "cell_type": "markdown",
   "metadata": {},
   "source": [
    "### VotingClassifier"
   ]
  },
  {
   "cell_type": "code",
   "execution_count": 98,
   "metadata": {},
   "outputs": [
    {
     "name": "stderr",
     "output_type": "stream",
     "text": [
      "/opt/anaconda3/lib/python3.8/site-packages/sklearn/neural_network/_multilayer_perceptron.py:582: ConvergenceWarning: Stochastic Optimizer: Maximum iterations (200) reached and the optimization hasn't converged yet.\n",
      "  warnings.warn(\n"
     ]
    },
    {
     "data": {
      "text/plain": [
       "VotingClassifier(estimators=[('rf',\n",
       "                              GridSearchCV(estimator=RandomForestClassifier(class_weight='balanced',\n",
       "                                                                            max_depth=7,\n",
       "                                                                            n_estimators=200,\n",
       "                                                                            random_state=4252),\n",
       "                                           n_jobs=4,\n",
       "                                           param_grid={'ccp_alpha': [0, 0.001,\n",
       "                                                                     0.002,\n",
       "                                                                     0.005],\n",
       "                                                       'max_depth': [6, 7, 8],\n",
       "                                                       'n_estimators': [200,\n",
       "                                                                        300,\n",
       "                                                                        400]},\n",
       "                                           scoring=make_scorer(accuracy_score))),\n",
       "                             ('logistic',\n",
       "                              Pipeline(steps=[('scale', StandardScaler())...\n",
       "                                                            param_grid={'C': [0.5,\n",
       "                                                                              1,\n",
       "                                                                              2,\n",
       "                                                                              5]},\n",
       "                                                            scoring=make_scorer(accuracy_score)))])),\n",
       "                             ('mlp',\n",
       "                              Pipeline(steps=[('scale', StandardScaler()),\n",
       "                                              ('mlp',\n",
       "                                               GridSearchCV(estimator=MLPClassifier(hidden_layer_sizes=(32,\n",
       "                                                                                                        16),\n",
       "                                                                                    random_state=52234),\n",
       "                                                            n_jobs=4,\n",
       "                                                            param_grid={'hidden_layer_sizes': [(32,\n",
       "                                                                                                16),\n",
       "                                                                                               (32,\n",
       "                                                                                                32)],\n",
       "                                                                        'max_iter': [200,\n",
       "                                                                                     300,\n",
       "                                                                                     400]},\n",
       "                                                            scoring=make_scorer(accuracy_score)))]))],\n",
       "                 voting='soft')"
      ]
     },
     "execution_count": 98,
     "metadata": {},
     "output_type": "execute_result"
    }
   ],
   "source": [
    "ens = VotingClassifier([\n",
    "    ('rf',rf),\n",
    "    ('logistic',logistic_pipe),\n",
    "    ('svm',pipe),\n",
    "    ('mlp',mlp)\n",
    "],voting='soft')#,weights=[0.4,0.2,0.2,0.2])\n",
    "ens.fit(X_train,y_train)"
   ]
  },
  {
   "cell_type": "code",
   "execution_count": 99,
   "metadata": {},
   "outputs": [
    {
     "name": "stdout",
     "output_type": "stream",
     "text": [
      "Train Accuracy: 0.803\n",
      "Test Accuracy: 0.709\n"
     ]
    }
   ],
   "source": [
    "y_train_pred = ens.predict(X_train)\n",
    "ens_train_acc = accuracy_score(y_train,y_train_pred)\n",
    "y_test_pred = ens.predict(X_test)\n",
    "ens_test_acc = accuracy_score(y_test,y_test_pred)\n",
    "ens_test_balanced_acc = balanced_accuracy_score(y_test,y_test_pred)\n",
    "# ens_top2_test_acc = top_k_accuracy_score(y_test,ens.predict_proba(X_test),k=2)\n",
    "print(\"Train Accuracy:\", np.round(ens_train_acc,3))\n",
    "print(\"Test Accuracy:\", np.round(ens_test_acc,3))\n",
    "# print(\"Top 2 Test Accuracy:\", np.round(ens_top2_test_acc,3))"
   ]
  },
  {
   "cell_type": "code",
   "execution_count": 40,
   "metadata": {},
   "outputs": [
    {
     "data": {
      "text/html": [
       "<div>\n",
       "<style scoped>\n",
       "    .dataframe tbody tr th:only-of-type {\n",
       "        vertical-align: middle;\n",
       "    }\n",
       "\n",
       "    .dataframe tbody tr th {\n",
       "        vertical-align: top;\n",
       "    }\n",
       "\n",
       "    .dataframe thead th {\n",
       "        text-align: right;\n",
       "    }\n",
       "</style>\n",
       "<table border=\"1\" class=\"dataframe\">\n",
       "  <thead>\n",
       "    <tr style=\"text-align: right;\">\n",
       "      <th></th>\n",
       "      <th>year</th>\n",
       "      <th>month</th>\n",
       "      <th>day</th>\n",
       "      <th>id</th>\n",
       "      <th>name</th>\n",
       "      <th>project_desc</th>\n",
       "      <th>top_common_40</th>\n",
       "      <th>common_words_counts</th>\n",
       "      <th>common_words</th>\n",
       "      <th>common_words_counts_no_stopwords</th>\n",
       "      <th>doc_vec</th>\n",
       "      <th>sectors_from_word2vec</th>\n",
       "    </tr>\n",
       "  </thead>\n",
       "  <tbody>\n",
       "    <tr>\n",
       "      <th>0</th>\n",
       "      <td>1991</td>\n",
       "      <td>september</td>\n",
       "      <td>12</td>\n",
       "      <td>558671468103155868</td>\n",
       "      <td>conformed-copy--l3361--kolubara-b-thermal-powe...</td>\n",
       "      <td>SCHEDULE 2\\n\\n                    Description ...</td>\n",
       "      <td>serbia rehabilitation thermal monitoring progr...</td>\n",
       "      <td>[(serbia, 5), (part, 5), (project, 4), (rehabi...</td>\n",
       "      <td>serbia rehabilitation thermal kolubara mine po...</td>\n",
       "      <td>[(serbia, 5), (rehabilitation, 3), (thermal, 3...</td>\n",
       "      <td>[-0.3811501505283209, -0.2219032342903889, -1....</td>\n",
       "      <td>Energy and Extractives</td>\n",
       "    </tr>\n",
       "    <tr>\n",
       "      <th>1</th>\n",
       "      <td>2001</td>\n",
       "      <td>may</td>\n",
       "      <td>31</td>\n",
       "      <td>473681468094784501</td>\n",
       "      <td>conformed-copy--l7054--railway-restructuring-p...</td>\n",
       "      <td>SCHEDULE 2\\n\\nDescription of the Project\\n\\nTh...</td>\n",
       "      <td>borrower staff program objectives transport se...</td>\n",
       "      <td>[(program, 5), (project, 4), (borrower, 4), (p...</td>\n",
       "      <td>staff transport poland severance payment redun...</td>\n",
       "      <td>[(staff, 4), (transport, 2), (poland, 2), (sev...</td>\n",
       "      <td>[-0.05904500186443329, -1.6214983214934666, -0...</td>\n",
       "      <td>Financial Sector</td>\n",
       "    </tr>\n",
       "    <tr>\n",
       "      <th>2</th>\n",
       "      <td>1991</td>\n",
       "      <td>november</td>\n",
       "      <td>19</td>\n",
       "      <td>892131468028134392</td>\n",
       "      <td>china--beijing-environmental-project-:-loan-34...</td>\n",
       "      <td>NaN</td>\n",
       "      <td>NaN</td>\n",
       "      <td></td>\n",
       "      <td></td>\n",
       "      <td>[]</td>\n",
       "      <td>None</td>\n",
       "      <td>None</td>\n",
       "    </tr>\n",
       "    <tr>\n",
       "      <th>3</th>\n",
       "      <td>2013</td>\n",
       "      <td>may</td>\n",
       "      <td>20</td>\n",
       "      <td>945021468224685176</td>\n",
       "      <td>official-documents-loan-agreement,-l8236-cn-cl...</td>\n",
       "      <td>SCHEDULE1\\n\\nProject Description\\n\\nThe  objec...</td>\n",
       "      <td>urban rehabilitation water construction city s...</td>\n",
       "      <td>[(project, 12), (city, 9), (urban, 7), (system...</td>\n",
       "      <td>city urban rehabilitation water wastewater roa...</td>\n",
       "      <td>[(city, 9), (urban, 7), (rehabilitation, 7), (...</td>\n",
       "      <td>[-0.25809708514040514, -1.1124254476519362, -0...</td>\n",
       "      <td>Transportation</td>\n",
       "    </tr>\n",
       "    <tr>\n",
       "      <th>4</th>\n",
       "      <td>1991</td>\n",
       "      <td>may</td>\n",
       "      <td>7</td>\n",
       "      <td>107521468303622178</td>\n",
       "      <td>conformed-copy--l3230--third-highway-sector-pr...</td>\n",
       "      <td>SCHEDULE 2\\n\\nDescription of the Project\\n\\nTh...</td>\n",
       "      <td>maintenance improve highway planning including...</td>\n",
       "      <td>[(maintenance, 6), (part, 5), (project, 4), (i...</td>\n",
       "      <td>maintenance highway planning transport expendi...</td>\n",
       "      <td>[(maintenance, 6), (highway, 3), (planning, 3)...</td>\n",
       "      <td>[-1.3951792468627293, -1.8295084834098816, -0....</td>\n",
       "      <td>Transportation</td>\n",
       "    </tr>\n",
       "  </tbody>\n",
       "</table>\n",
       "</div>"
      ],
      "text/plain": [
       "   year      month  day                  id  \\\n",
       "0  1991  september   12  558671468103155868   \n",
       "1  2001        may   31  473681468094784501   \n",
       "2  1991   november   19  892131468028134392   \n",
       "3  2013        may   20  945021468224685176   \n",
       "4  1991        may    7  107521468303622178   \n",
       "\n",
       "                                                name  \\\n",
       "0  conformed-copy--l3361--kolubara-b-thermal-powe...   \n",
       "1  conformed-copy--l7054--railway-restructuring-p...   \n",
       "2  china--beijing-environmental-project-:-loan-34...   \n",
       "3  official-documents-loan-agreement,-l8236-cn-cl...   \n",
       "4  conformed-copy--l3230--third-highway-sector-pr...   \n",
       "\n",
       "                                        project_desc  \\\n",
       "0  SCHEDULE 2\\n\\n                    Description ...   \n",
       "1  SCHEDULE 2\\n\\nDescription of the Project\\n\\nTh...   \n",
       "2                                                NaN   \n",
       "3  SCHEDULE1\\n\\nProject Description\\n\\nThe  objec...   \n",
       "4  SCHEDULE 2\\n\\nDescription of the Project\\n\\nTh...   \n",
       "\n",
       "                                       top_common_40  \\\n",
       "0  serbia rehabilitation thermal monitoring progr...   \n",
       "1  borrower staff program objectives transport se...   \n",
       "2                                                NaN   \n",
       "3  urban rehabilitation water construction city s...   \n",
       "4  maintenance improve highway planning including...   \n",
       "\n",
       "                                 common_words_counts  \\\n",
       "0  [(serbia, 5), (part, 5), (project, 4), (rehabi...   \n",
       "1  [(program, 5), (project, 4), (borrower, 4), (p...   \n",
       "2                                                      \n",
       "3  [(project, 12), (city, 9), (urban, 7), (system...   \n",
       "4  [(maintenance, 6), (part, 5), (project, 4), (i...   \n",
       "\n",
       "                                        common_words  \\\n",
       "0  serbia rehabilitation thermal kolubara mine po...   \n",
       "1  staff transport poland severance payment redun...   \n",
       "2                                                      \n",
       "3  city urban rehabilitation water wastewater roa...   \n",
       "4  maintenance highway planning transport expendi...   \n",
       "\n",
       "                    common_words_counts_no_stopwords  \\\n",
       "0  [(serbia, 5), (rehabilitation, 3), (thermal, 3...   \n",
       "1  [(staff, 4), (transport, 2), (poland, 2), (sev...   \n",
       "2                                                 []   \n",
       "3  [(city, 9), (urban, 7), (rehabilitation, 7), (...   \n",
       "4  [(maintenance, 6), (highway, 3), (planning, 3)...   \n",
       "\n",
       "                                             doc_vec   sectors_from_word2vec  \n",
       "0  [-0.3811501505283209, -0.2219032342903889, -1....  Energy and Extractives  \n",
       "1  [-0.05904500186443329, -1.6214983214934666, -0...        Financial Sector  \n",
       "2                                               None                    None  \n",
       "3  [-0.25809708514040514, -1.1124254476519362, -0...          Transportation  \n",
       "4  [-1.3951792468627293, -1.8295084834098816, -0....          Transportation  "
      ]
     },
     "execution_count": 40,
     "metadata": {},
     "output_type": "execute_result"
    }
   ],
   "source": [
    "df.head()"
   ]
  },
  {
   "cell_type": "code",
   "execution_count": 42,
   "metadata": {},
   "outputs": [
    {
     "data": {
      "text/html": [
       "<div>\n",
       "<style scoped>\n",
       "    .dataframe tbody tr th:only-of-type {\n",
       "        vertical-align: middle;\n",
       "    }\n",
       "\n",
       "    .dataframe tbody tr th {\n",
       "        vertical-align: top;\n",
       "    }\n",
       "\n",
       "    .dataframe thead th {\n",
       "        text-align: right;\n",
       "    }\n",
       "</style>\n",
       "<table border=\"1\" class=\"dataframe\">\n",
       "  <thead>\n",
       "    <tr style=\"text-align: right;\">\n",
       "      <th></th>\n",
       "      <th>id</th>\n",
       "      <th>date</th>\n",
       "      <th>country_code</th>\n",
       "      <th>country_name</th>\n",
       "      <th>named_countries</th>\n",
       "      <th>Project Name</th>\n",
       "      <th>project_desc</th>\n",
       "      <th>amount_standard</th>\n",
       "      <th>currency_standard</th>\n",
       "      <th>closing_month</th>\n",
       "      <th>closing_day</th>\n",
       "      <th>closing_year</th>\n",
       "      <th>loan_length in year</th>\n",
       "      <th>wb_project_id</th>\n",
       "      <th>major_sector_name</th>\n",
       "      <th>sector1_name</th>\n",
       "      <th>sector2_name</th>\n",
       "      <th>sector3_name</th>\n",
       "      <th>sectors_from_word2vec</th>\n",
       "      <th>doc_vec</th>\n",
       "    </tr>\n",
       "  </thead>\n",
       "  <tbody>\n",
       "    <tr>\n",
       "      <th>3</th>\n",
       "      <td>125511468051878371</td>\n",
       "      <td>1990-01-11</td>\n",
       "      <td>ma</td>\n",
       "      <td>Malaysia</td>\n",
       "      <td>[Malaysia, United States]</td>\n",
       "      <td>Highway Rehabilitation and Improvement Project</td>\n",
       "      <td>SCHEDULE 2\\n\\n              Description of the...</td>\n",
       "      <td>83200000.0</td>\n",
       "      <td>us dollar</td>\n",
       "      <td>June</td>\n",
       "      <td>30</td>\n",
       "      <td>1995</td>\n",
       "      <td>5.0</td>\n",
       "      <td>P099112</td>\n",
       "      <td>Transportation</td>\n",
       "      <td>Rural and Inter-Urban Roads</td>\n",
       "      <td>Sub-National Government</td>\n",
       "      <td>NaN</td>\n",
       "      <td>Transportation</td>\n",
       "      <td>[-2.777964076027274, -2.047689789906144, 0.418...</td>\n",
       "    </tr>\n",
       "    <tr>\n",
       "      <th>12</th>\n",
       "      <td>328621468247829056</td>\n",
       "      <td>1990-02-01</td>\n",
       "      <td>yu</td>\n",
       "      <td>Yugoslavia</td>\n",
       "      <td>[United States]</td>\n",
       "      <td>Istria Water Supply and Sewerage Project</td>\n",
       "      <td>SCHEDULE 2\\n\\n              Description of the...</td>\n",
       "      <td>28000000.0</td>\n",
       "      <td>us dollar</td>\n",
       "      <td>December</td>\n",
       "      <td>31</td>\n",
       "      <td>1995</td>\n",
       "      <td>5.0</td>\n",
       "      <td>P039002</td>\n",
       "      <td>Water/Sanitation/Waste</td>\n",
       "      <td>Water Supply</td>\n",
       "      <td>NaN</td>\n",
       "      <td>NaN</td>\n",
       "      <td>Water/Sanitation/Waste</td>\n",
       "      <td>[-0.3309753746208217, -1.8834917064652674, -2....</td>\n",
       "    </tr>\n",
       "    <tr>\n",
       "      <th>28</th>\n",
       "      <td>262671468094782907</td>\n",
       "      <td>1990-02-22</td>\n",
       "      <td>pol</td>\n",
       "      <td>Poland</td>\n",
       "      <td>[Poland, United States]</td>\n",
       "      <td>Industrial Export Development Project</td>\n",
       "      <td>SCHEDULE 2\\n\\n              Description of the...</td>\n",
       "      <td>260000000.0</td>\n",
       "      <td>us dollar</td>\n",
       "      <td>June</td>\n",
       "      <td>30</td>\n",
       "      <td>1996</td>\n",
       "      <td>6.0</td>\n",
       "      <td>P008569</td>\n",
       "      <td>Industry and Trade/Services</td>\n",
       "      <td>Other Industry, Trade and Services</td>\n",
       "      <td>Banking Institutions</td>\n",
       "      <td>NaN</td>\n",
       "      <td>Financial Sector</td>\n",
       "      <td>[0.07670041263103484, -0.7551898404955864, 0.2...</td>\n",
       "    </tr>\n",
       "    <tr>\n",
       "      <th>57</th>\n",
       "      <td>631461468313480210</td>\n",
       "      <td>1990-05-18</td>\n",
       "      <td>tu</td>\n",
       "      <td>Turkey</td>\n",
       "      <td>[Turkey, United States]</td>\n",
       "      <td>National Education Development Project</td>\n",
       "      <td>SCHEDULE 2\\n\\n                    Description ...</td>\n",
       "      <td>90200000.0</td>\n",
       "      <td>us dollar</td>\n",
       "      <td>June</td>\n",
       "      <td>30</td>\n",
       "      <td>1997</td>\n",
       "      <td>7.0</td>\n",
       "      <td>P009029</td>\n",
       "      <td>Education</td>\n",
       "      <td>Tertiary Education</td>\n",
       "      <td>Primary Education</td>\n",
       "      <td>Secondary Education</td>\n",
       "      <td>Education</td>\n",
       "      <td>[0.5729999754192501, 0.12719300523368193, -0.8...</td>\n",
       "    </tr>\n",
       "    <tr>\n",
       "      <th>61</th>\n",
       "      <td>230091468332700242</td>\n",
       "      <td>1990-06-04</td>\n",
       "      <td>ph</td>\n",
       "      <td>Philippines</td>\n",
       "      <td>[United Kingdom, Philippines, United States]</td>\n",
       "      <td>Small Coconut Farms Development Project</td>\n",
       "      <td>SCHEDULE 2\\n\\n              Description of the...</td>\n",
       "      <td>121800000.0</td>\n",
       "      <td>us dollar</td>\n",
       "      <td>June</td>\n",
       "      <td>30</td>\n",
       "      <td>1996</td>\n",
       "      <td>6.0</td>\n",
       "      <td>P004552</td>\n",
       "      <td>Agriculture</td>\n",
       "      <td>Crops</td>\n",
       "      <td>Central Government (Central Agencies)</td>\n",
       "      <td>Agricultural Extension, Research, and Other Su...</td>\n",
       "      <td>Agriculture</td>\n",
       "      <td>[-0.3678096648460875, -0.9272364365557829, -0....</td>\n",
       "    </tr>\n",
       "  </tbody>\n",
       "</table>\n",
       "</div>"
      ],
      "text/plain": [
       "                    id        date country_code country_name  \\\n",
       "3   125511468051878371  1990-01-11           ma     Malaysia   \n",
       "12  328621468247829056  1990-02-01           yu   Yugoslavia   \n",
       "28  262671468094782907  1990-02-22          pol       Poland   \n",
       "57  631461468313480210  1990-05-18           tu       Turkey   \n",
       "61  230091468332700242  1990-06-04           ph  Philippines   \n",
       "\n",
       "                                 named_countries  \\\n",
       "3                      [Malaysia, United States]   \n",
       "12                               [United States]   \n",
       "28                       [Poland, United States]   \n",
       "57                       [Turkey, United States]   \n",
       "61  [United Kingdom, Philippines, United States]   \n",
       "\n",
       "                                      Project Name  \\\n",
       "3   Highway Rehabilitation and Improvement Project   \n",
       "12        Istria Water Supply and Sewerage Project   \n",
       "28           Industrial Export Development Project   \n",
       "57          National Education Development Project   \n",
       "61         Small Coconut Farms Development Project   \n",
       "\n",
       "                                         project_desc  amount_standard  \\\n",
       "3   SCHEDULE 2\\n\\n              Description of the...       83200000.0   \n",
       "12  SCHEDULE 2\\n\\n              Description of the...       28000000.0   \n",
       "28  SCHEDULE 2\\n\\n              Description of the...      260000000.0   \n",
       "57  SCHEDULE 2\\n\\n                    Description ...       90200000.0   \n",
       "61  SCHEDULE 2\\n\\n              Description of the...      121800000.0   \n",
       "\n",
       "   currency_standard closing_month closing_day closing_year  \\\n",
       "3          us dollar          June          30         1995   \n",
       "12         us dollar      December          31         1995   \n",
       "28         us dollar          June          30         1996   \n",
       "57         us dollar          June          30         1997   \n",
       "61         us dollar          June          30         1996   \n",
       "\n",
       "    loan_length in year wb_project_id            major_sector_name  \\\n",
       "3                   5.0       P099112               Transportation   \n",
       "12                  5.0       P039002       Water/Sanitation/Waste   \n",
       "28                  6.0       P008569  Industry and Trade/Services   \n",
       "57                  7.0       P009029                    Education   \n",
       "61                  6.0       P004552                  Agriculture   \n",
       "\n",
       "                          sector1_name                           sector2_name  \\\n",
       "3          Rural and Inter-Urban Roads                Sub-National Government   \n",
       "12                        Water Supply                                    NaN   \n",
       "28  Other Industry, Trade and Services                   Banking Institutions   \n",
       "57                  Tertiary Education                      Primary Education   \n",
       "61                               Crops  Central Government (Central Agencies)   \n",
       "\n",
       "                                         sector3_name   sectors_from_word2vec  \\\n",
       "3                                                 NaN          Transportation   \n",
       "12                                                NaN  Water/Sanitation/Waste   \n",
       "28                                                NaN        Financial Sector   \n",
       "57                                Secondary Education               Education   \n",
       "61  Agricultural Extension, Research, and Other Su...             Agriculture   \n",
       "\n",
       "                                              doc_vec  \n",
       "3   [-2.777964076027274, -2.047689789906144, 0.418...  \n",
       "12  [-0.3309753746208217, -1.8834917064652674, -2....  \n",
       "28  [0.07670041263103484, -0.7551898404955864, 0.2...  \n",
       "57  [0.5729999754192501, 0.12719300523368193, -0.8...  \n",
       "61  [-0.3678096648460875, -0.9272364365557829, -0....  "
      ]
     },
     "execution_count": 42,
     "metadata": {},
     "output_type": "execute_result"
    }
   ],
   "source": [
    "df1.head()"
   ]
  },
  {
   "cell_type": "code",
   "execution_count": 85,
   "metadata": {},
   "outputs": [],
   "source": [
    "df_sectors = pd.read_pickle('predicted_sectors_2.pkl')"
   ]
  },
  {
   "cell_type": "code",
   "execution_count": 88,
   "metadata": {},
   "outputs": [
    {
     "data": {
      "text/html": [
       "<div>\n",
       "<style scoped>\n",
       "    .dataframe tbody tr th:only-of-type {\n",
       "        vertical-align: middle;\n",
       "    }\n",
       "\n",
       "    .dataframe tbody tr th {\n",
       "        vertical-align: top;\n",
       "    }\n",
       "\n",
       "    .dataframe thead th {\n",
       "        text-align: right;\n",
       "    }\n",
       "</style>\n",
       "<table border=\"1\" class=\"dataframe\">\n",
       "  <thead>\n",
       "    <tr style=\"text-align: right;\">\n",
       "      <th></th>\n",
       "      <th>id</th>\n",
       "      <th>Project Name</th>\n",
       "      <th>sector_id</th>\n",
       "      <th>major_sector_name</th>\n",
       "      <th>supervised_predictions</th>\n",
       "      <th>predicted_sector</th>\n",
       "    </tr>\n",
       "  </thead>\n",
       "  <tbody>\n",
       "    <tr>\n",
       "      <th>0</th>\n",
       "      <td>658601468273303198</td>\n",
       "      <td>Industry and Trade Policy Adjustment Loan</td>\n",
       "      <td>NaN</td>\n",
       "      <td>NaN</td>\n",
       "      <td>5</td>\n",
       "      <td>Industry and Trade/Services</td>\n",
       "    </tr>\n",
       "    <tr>\n",
       "      <th>1</th>\n",
       "      <td>784351468234894668</td>\n",
       "      <td>Third Agricultural Research Project</td>\n",
       "      <td>NaN</td>\n",
       "      <td>NaN</td>\n",
       "      <td>0</td>\n",
       "      <td>Agriculture</td>\n",
       "    </tr>\n",
       "    <tr>\n",
       "      <th>2</th>\n",
       "      <td>891941468049466312</td>\n",
       "      <td>Rubber Industry Smallholders\\n            Deve...</td>\n",
       "      <td>NaN</td>\n",
       "      <td>NaN</td>\n",
       "      <td>0</td>\n",
       "      <td>Agriculture</td>\n",
       "    </tr>\n",
       "    <tr>\n",
       "      <th>3</th>\n",
       "      <td>125511468051878371</td>\n",
       "      <td>Highway Rehabilitation and Improvement Project</td>\n",
       "      <td>9.0</td>\n",
       "      <td>Transportation</td>\n",
       "      <td>9</td>\n",
       "      <td>Transportation</td>\n",
       "    </tr>\n",
       "    <tr>\n",
       "      <th>4</th>\n",
       "      <td>733341468033245855</td>\n",
       "      <td>Abidjan Environmental Protection Project</td>\n",
       "      <td>NaN</td>\n",
       "      <td>NaN</td>\n",
       "      <td>7</td>\n",
       "      <td>Public Admin</td>\n",
       "    </tr>\n",
       "  </tbody>\n",
       "</table>\n",
       "</div>"
      ],
      "text/plain": [
       "                   id                                       Project Name  \\\n",
       "0  658601468273303198          Industry and Trade Policy Adjustment Loan   \n",
       "1  784351468234894668                Third Agricultural Research Project   \n",
       "2  891941468049466312  Rubber Industry Smallholders\\n            Deve...   \n",
       "3  125511468051878371     Highway Rehabilitation and Improvement Project   \n",
       "4  733341468033245855           Abidjan Environmental Protection Project   \n",
       "\n",
       "   sector_id major_sector_name  supervised_predictions  \\\n",
       "0        NaN               NaN                       5   \n",
       "1        NaN               NaN                       0   \n",
       "2        NaN               NaN                       0   \n",
       "3        9.0    Transportation                       9   \n",
       "4        NaN               NaN                       7   \n",
       "\n",
       "              predicted_sector  \n",
       "0  Industry and Trade/Services  \n",
       "1                  Agriculture  \n",
       "2                  Agriculture  \n",
       "3               Transportation  \n",
       "4                 Public Admin  "
      ]
     },
     "execution_count": 88,
     "metadata": {},
     "output_type": "execute_result"
    }
   ],
   "source": [
    "df_sectors.head()"
   ]
  },
  {
   "cell_type": "code",
   "execution_count": null,
   "metadata": {},
   "outputs": [],
   "source": []
  }
 ],
 "metadata": {
  "kernelspec": {
   "display_name": "Python 3",
   "language": "python",
   "name": "python3"
  },
  "language_info": {
   "codemirror_mode": {
    "name": "ipython",
    "version": 3
   },
   "file_extension": ".py",
   "mimetype": "text/x-python",
   "name": "python",
   "nbconvert_exporter": "python",
   "pygments_lexer": "ipython3",
   "version": "3.8.5"
  }
 },
 "nbformat": 4,
 "nbformat_minor": 4
}
