{
 "metadata": {
  "language_info": {
   "codemirror_mode": {
    "name": "ipython",
    "version": 3
   },
   "file_extension": ".py",
   "mimetype": "text/x-python",
   "name": "python",
   "nbconvert_exporter": "python",
   "pygments_lexer": "ipython3",
   "version": "3.9.2"
  },
  "orig_nbformat": 2,
  "kernelspec": {
   "name": "python392jvsc74a57bd09c14091437e567b69b891d2838af0ae9212f4b16ac91005526a4e98434c6baeb",
   "display_name": "Python 3.9.2 64-bit ('erdos': conda)"
  },
  "metadata": {
   "interpreter": {
    "hash": "9c14091437e567b69b891d2838af0ae9212f4b16ac91005526a4e98434c6baeb"
   }
  }
 },
 "nbformat": 4,
 "nbformat_minor": 2,
 "cells": [
  {
   "cell_type": "code",
   "execution_count": 1,
   "metadata": {},
   "outputs": [],
   "source": [
    "with open(\"world_bank_sectors.txt\") as f:\n",
    "  sectors = f.read()"
   ]
  },
  {
   "cell_type": "code",
   "execution_count": 7,
   "metadata": {},
   "outputs": [],
   "source": [
    "sectors_list = sectors.split(\"\\n\")\n",
    "sector_dict = dict()\n",
    "current_major_sector = ''\n",
    "for sector in sectors_list:\n",
    "    if sector == '':\n",
    "        current_major_sector = ''\n",
    "        continue\n",
    "    if current_major_sector == '':\n",
    "        current_major_sector = sector\n",
    "        sector_dict[current_major_sector] = []\n",
    "        continue\n",
    "    if current_major_sector in sector_dict.keys():\n",
    "        sector_dict[current_major_sector].append(sector)"
   ]
  },
  {
   "cell_type": "code",
   "execution_count": 8,
   "metadata": {},
   "outputs": [
    {
     "output_type": "execute_result",
     "data": {
      "text/plain": [
       "{'Agriculture': ['Agricultural Extension, Research, and Other Support Activities',\n",
       "  'Crops',\n",
       "  'Fisheries',\n",
       "  'Forestry',\n",
       "  'Irrigation and Drainage',\n",
       "  'Livestock',\n",
       "  'Other Agriculture, Fishing and Forestry',\n",
       "  'Public Administration - Agriculture, Fishing and Forestry'],\n",
       " 'Education': ['Adult, Basic and Continuing Education',\n",
       "  'Early Childhood Education',\n",
       "  'Other Education',\n",
       "  'Primary Education',\n",
       "  'Public Administration - Education',\n",
       "  'Secondary Education',\n",
       "  'Tertiary Education',\n",
       "  'Workforce Development/Skills'],\n",
       " 'Energy and Extractives': ['Energy Transmission and Distribution',\n",
       "  'Mining',\n",
       "  'Non-Renewable Energy Generation',\n",
       "  'Oil and Gas',\n",
       "  'Other Energy and Extractives',\n",
       "  'Public Administration - Energy and Extractives',\n",
       "  'Renewable Energy Biomass',\n",
       "  'Renewable Energy Geothermal',\n",
       "  'Renewable Energy Hydro',\n",
       "  'Renewable Energy Solar',\n",
       "  'Renewable Energy Wind'],\n",
       " 'Financial Sector': ['Banking Institutions',\n",
       "  'Capital Markets',\n",
       "  'Insurance and Pension',\n",
       "  'Other Non-bank Financial Institutions',\n",
       "  'Public Administration - Financial Sector'],\n",
       " 'Health': ['Health',\n",
       "  'Health Facilities and Construction',\n",
       "  'Public Administration - Health'],\n",
       " 'Industry and Trade/Services': ['Agricultural markets, commercialization and agri-business',\n",
       "  'Housing Construction',\n",
       "  'Manufacturing',\n",
       "  'Other Industry, Trade and Services',\n",
       "  'Public Administration - Industry, Trade and Services',\n",
       "  'Services',\n",
       "  'Tourism',\n",
       "  'Trade'],\n",
       " 'Info and Communication': ['ICT Infrastructure',\n",
       "  'ICT Services',\n",
       "  'Other Information and Communications Technologies',\n",
       "  'Public Administration - Information and Communications Technologies'],\n",
       " 'Public Admin': ['Central Government (Central Agencies)',\n",
       "  'Law and Justice',\n",
       "  'Other Public Administration',\n",
       "  'Sub-National Government'],\n",
       " 'Social Protection': ['Public Administration - Social Protection',\n",
       "  'Social Protection'],\n",
       " 'Transportation': ['Aviation',\n",
       "  'Other Transportation',\n",
       "  'Ports/Waterways',\n",
       "  'Public Administration - Transportation',\n",
       "  'Railways',\n",
       "  'Rural and Inter-Urban Roads',\n",
       "  'Urban Transport'],\n",
       " 'Water/Sanitation/Waste': ['Other Water Supply, Sanitation and Waste Management',\n",
       "  'Public Administration - Water, Sanitation and Waste Management',\n",
       "  'Sanitation',\n",
       "  'Waste Management',\n",
       "  'Water Supply']}"
      ]
     },
     "metadata": {},
     "execution_count": 8
    }
   ],
   "source": [
    "sector_dict"
   ]
  },
  {
   "cell_type": "code",
   "execution_count": 10,
   "metadata": {},
   "outputs": [],
   "source": [
    "reverse_sector_dict = dict()\n",
    "for major_sector in sector_dict:\n",
    "    for sector in sector_dict[major_sector]:\n",
    "        reverse_sector_dict[sector] = major_sector"
   ]
  },
  {
   "cell_type": "code",
   "execution_count": 11,
   "metadata": {},
   "outputs": [
    {
     "output_type": "execute_result",
     "data": {
      "text/plain": [
       "{'Agricultural Extension, Research, and Other Support Activities': 'Agriculture',\n",
       " 'Crops': 'Agriculture',\n",
       " 'Fisheries': 'Agriculture',\n",
       " 'Forestry': 'Agriculture',\n",
       " 'Irrigation and Drainage': 'Agriculture',\n",
       " 'Livestock': 'Agriculture',\n",
       " 'Other Agriculture, Fishing and Forestry': 'Agriculture',\n",
       " 'Public Administration - Agriculture, Fishing and Forestry': 'Agriculture',\n",
       " 'Adult, Basic and Continuing Education': 'Education',\n",
       " 'Early Childhood Education': 'Education',\n",
       " 'Other Education': 'Education',\n",
       " 'Primary Education': 'Education',\n",
       " 'Public Administration - Education': 'Education',\n",
       " 'Secondary Education': 'Education',\n",
       " 'Tertiary Education': 'Education',\n",
       " 'Workforce Development/Skills': 'Education',\n",
       " 'Energy Transmission and Distribution': 'Energy and Extractives',\n",
       " 'Mining': 'Energy and Extractives',\n",
       " 'Non-Renewable Energy Generation': 'Energy and Extractives',\n",
       " 'Oil and Gas': 'Energy and Extractives',\n",
       " 'Other Energy and Extractives': 'Energy and Extractives',\n",
       " 'Public Administration - Energy and Extractives': 'Energy and Extractives',\n",
       " 'Renewable Energy Biomass': 'Energy and Extractives',\n",
       " 'Renewable Energy Geothermal': 'Energy and Extractives',\n",
       " 'Renewable Energy Hydro': 'Energy and Extractives',\n",
       " 'Renewable Energy Solar': 'Energy and Extractives',\n",
       " 'Renewable Energy Wind': 'Energy and Extractives',\n",
       " 'Banking Institutions': 'Financial Sector',\n",
       " 'Capital Markets': 'Financial Sector',\n",
       " 'Insurance and Pension': 'Financial Sector',\n",
       " 'Other Non-bank Financial Institutions': 'Financial Sector',\n",
       " 'Public Administration - Financial Sector': 'Financial Sector',\n",
       " 'Health': 'Health',\n",
       " 'Health Facilities and Construction': 'Health',\n",
       " 'Public Administration - Health': 'Health',\n",
       " 'Agricultural markets, commercialization and agri-business': 'Industry and Trade/Services',\n",
       " 'Housing Construction': 'Industry and Trade/Services',\n",
       " 'Manufacturing': 'Industry and Trade/Services',\n",
       " 'Other Industry, Trade and Services': 'Industry and Trade/Services',\n",
       " 'Public Administration - Industry, Trade and Services': 'Industry and Trade/Services',\n",
       " 'Services': 'Industry and Trade/Services',\n",
       " 'Tourism': 'Industry and Trade/Services',\n",
       " 'Trade': 'Industry and Trade/Services',\n",
       " 'ICT Infrastructure': 'Info and Communication',\n",
       " 'ICT Services': 'Info and Communication',\n",
       " 'Other Information and Communications Technologies': 'Info and Communication',\n",
       " 'Public Administration - Information and Communications Technologies': 'Info and Communication',\n",
       " 'Central Government (Central Agencies)': 'Public Admin',\n",
       " 'Law and Justice': 'Public Admin',\n",
       " 'Other Public Administration': 'Public Admin',\n",
       " 'Sub-National Government': 'Public Admin',\n",
       " 'Public Administration - Social Protection': 'Social Protection',\n",
       " 'Social Protection': 'Social Protection',\n",
       " 'Aviation': 'Transportation',\n",
       " 'Other Transportation': 'Transportation',\n",
       " 'Ports/Waterways': 'Transportation',\n",
       " 'Public Administration - Transportation': 'Transportation',\n",
       " 'Railways': 'Transportation',\n",
       " 'Rural and Inter-Urban Roads': 'Transportation',\n",
       " 'Urban Transport': 'Transportation',\n",
       " 'Other Water Supply, Sanitation and Waste Management': 'Water/Sanitation/Waste',\n",
       " 'Public Administration - Water, Sanitation and Waste Management': 'Water/Sanitation/Waste',\n",
       " 'Sanitation': 'Water/Sanitation/Waste',\n",
       " 'Waste Management': 'Water/Sanitation/Waste',\n",
       " 'Water Supply': 'Water/Sanitation/Waste'}"
      ]
     },
     "metadata": {},
     "execution_count": 11
    }
   ],
   "source": [
    "reverse_sector_dict"
   ]
  },
  {
   "cell_type": "code",
   "execution_count": null,
   "metadata": {},
   "outputs": [],
   "source": []
  }
 ]
}