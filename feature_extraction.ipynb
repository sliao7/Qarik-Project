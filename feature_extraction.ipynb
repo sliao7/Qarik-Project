{
 "cells": [
  {
   "cell_type": "code",
   "execution_count": 2,
   "metadata": {},
   "outputs": [],
   "source": [
    "import io\n",
    "\n",
    "from pathlib import Path\n",
    "import pandas as pd\n",
    "import glob\n",
    "import pickle\n",
    "import pycountry"
   ]
  },
  {
   "cell_type": "code",
   "execution_count": 3,
   "metadata": {},
   "outputs": [],
   "source": [
    "files = []\n",
    "for filepath in glob.iglob('world_bank_loans_txt_clean/*.txt'):\n",
    "    file_txt = Path(filepath).read_text()\n",
    "    file_name = filepath.split('/')[1]\n",
    "    year, month, day, id_, name = file_name.split('_')\n",
    "    files.append([year, month, day, id_, name, file_txt])"
   ]
  },
  {
   "cell_type": "code",
   "execution_count": 4,
   "metadata": {},
   "outputs": [
    {
     "output_type": "execute_result",
     "data": {
      "text/plain": [
       "      year      month day                  id  \\\n",
       "0     1991  september  12  558671468103155868   \n",
       "1     2001        may  31  473681468094784501   \n",
       "2     1991   november  19  892131468028134392   \n",
       "3     2013        may  20  945021468224685176   \n",
       "4     1991        may   7  107521468303622178   \n",
       "...    ...        ...  ..                 ...   \n",
       "3190  1993    october  15  268921468048527743   \n",
       "3191  2013      march  21  584611468237295236   \n",
       "3192  2008      april  18  448831468262773500   \n",
       "3193  2007       june   8  642541468034864651   \n",
       "3194  2014   february  18  277931468279946325   \n",
       "\n",
       "                                                   name  \\\n",
       "0     conformed-copy--l3361--kolubara-b-thermal-powe...   \n",
       "1     conformed-copy--l7054--railway-restructuring-p...   \n",
       "2     china--beijing-environmental-project-:-loan-34...   \n",
       "3     official-documents-loan-agreement,-l8236-cn-cl...   \n",
       "4     conformed-copy--l3230--third-highway-sector-pr...   \n",
       "...                                                 ...   \n",
       "3190  conformed-copy--l3642--technical-assistance-pr...   \n",
       "3191  official-documents-loan-agreement-for-loan-812...   \n",
       "3192             loan-agreement,-l7496-ec-conformed.txt   \n",
       "3193  loan-agreement-l4857-in--andhra-pradesh-commun...   \n",
       "3194  official-documents-loan-agreement,-l8314-mx-cl...   \n",
       "\n",
       "                                           file_content  \n",
       "0     World Bank Document\\n\\nCONFORMED COPY\\n\\n     ...  \n",
       "1     World Bank Document\\n\\nCONFORMED COPY\\n\\nLOAN ...  \n",
       "2     World Bank Document\\n\\nLOAN NUMBER 3415 CHA \\n...  \n",
       "3     World Bank Document\\n\\nMENTS\\n\\nLOAN NUMBER 82...  \n",
       "4     World Bank Document\\n\\nCONFORMED COPY\\n\\nLOAN ...  \n",
       "...                                                 ...  \n",
       "3190  World Bank Document\\n\\nCONFORMED COPY\\n\\n     ...  \n",
       "3191  World Bank Document\\n\\nDOC r'1 3 2013OFFICIAL ...  \n",
       "3192  World Bank Document\\n\\nCONFORMED COPY \\n\\nLOAN...  \n",
       "3193  World Bank Document\\n\\nCONFORMED COPY \\n\\nLOAN...  \n",
       "3194  World Bank Document\\n\\nOFFICIAL\\n00CUMENTS\\n\\n...  \n",
       "\n",
       "[3195 rows x 6 columns]"
      ],
      "text/html": "<div>\n<style scoped>\n    .dataframe tbody tr th:only-of-type {\n        vertical-align: middle;\n    }\n\n    .dataframe tbody tr th {\n        vertical-align: top;\n    }\n\n    .dataframe thead th {\n        text-align: right;\n    }\n</style>\n<table border=\"1\" class=\"dataframe\">\n  <thead>\n    <tr style=\"text-align: right;\">\n      <th></th>\n      <th>year</th>\n      <th>month</th>\n      <th>day</th>\n      <th>id</th>\n      <th>name</th>\n      <th>file_content</th>\n    </tr>\n  </thead>\n  <tbody>\n    <tr>\n      <th>0</th>\n      <td>1991</td>\n      <td>september</td>\n      <td>12</td>\n      <td>558671468103155868</td>\n      <td>conformed-copy--l3361--kolubara-b-thermal-powe...</td>\n      <td>World Bank Document\\n\\nCONFORMED COPY\\n\\n     ...</td>\n    </tr>\n    <tr>\n      <th>1</th>\n      <td>2001</td>\n      <td>may</td>\n      <td>31</td>\n      <td>473681468094784501</td>\n      <td>conformed-copy--l7054--railway-restructuring-p...</td>\n      <td>World Bank Document\\n\\nCONFORMED COPY\\n\\nLOAN ...</td>\n    </tr>\n    <tr>\n      <th>2</th>\n      <td>1991</td>\n      <td>november</td>\n      <td>19</td>\n      <td>892131468028134392</td>\n      <td>china--beijing-environmental-project-:-loan-34...</td>\n      <td>World Bank Document\\n\\nLOAN NUMBER 3415 CHA \\n...</td>\n    </tr>\n    <tr>\n      <th>3</th>\n      <td>2013</td>\n      <td>may</td>\n      <td>20</td>\n      <td>945021468224685176</td>\n      <td>official-documents-loan-agreement,-l8236-cn-cl...</td>\n      <td>World Bank Document\\n\\nMENTS\\n\\nLOAN NUMBER 82...</td>\n    </tr>\n    <tr>\n      <th>4</th>\n      <td>1991</td>\n      <td>may</td>\n      <td>7</td>\n      <td>107521468303622178</td>\n      <td>conformed-copy--l3230--third-highway-sector-pr...</td>\n      <td>World Bank Document\\n\\nCONFORMED COPY\\n\\nLOAN ...</td>\n    </tr>\n    <tr>\n      <th>...</th>\n      <td>...</td>\n      <td>...</td>\n      <td>...</td>\n      <td>...</td>\n      <td>...</td>\n      <td>...</td>\n    </tr>\n    <tr>\n      <th>3190</th>\n      <td>1993</td>\n      <td>october</td>\n      <td>15</td>\n      <td>268921468048527743</td>\n      <td>conformed-copy--l3642--technical-assistance-pr...</td>\n      <td>World Bank Document\\n\\nCONFORMED COPY\\n\\n     ...</td>\n    </tr>\n    <tr>\n      <th>3191</th>\n      <td>2013</td>\n      <td>march</td>\n      <td>21</td>\n      <td>584611468237295236</td>\n      <td>official-documents-loan-agreement-for-loan-812...</td>\n      <td>World Bank Document\\n\\nDOC r'1 3 2013OFFICIAL ...</td>\n    </tr>\n    <tr>\n      <th>3192</th>\n      <td>2008</td>\n      <td>april</td>\n      <td>18</td>\n      <td>448831468262773500</td>\n      <td>loan-agreement,-l7496-ec-conformed.txt</td>\n      <td>World Bank Document\\n\\nCONFORMED COPY \\n\\nLOAN...</td>\n    </tr>\n    <tr>\n      <th>3193</th>\n      <td>2007</td>\n      <td>june</td>\n      <td>8</td>\n      <td>642541468034864651</td>\n      <td>loan-agreement-l4857-in--andhra-pradesh-commun...</td>\n      <td>World Bank Document\\n\\nCONFORMED COPY \\n\\nLOAN...</td>\n    </tr>\n    <tr>\n      <th>3194</th>\n      <td>2014</td>\n      <td>february</td>\n      <td>18</td>\n      <td>277931468279946325</td>\n      <td>official-documents-loan-agreement,-l8314-mx-cl...</td>\n      <td>World Bank Document\\n\\nOFFICIAL\\n00CUMENTS\\n\\n...</td>\n    </tr>\n  </tbody>\n</table>\n<p>3195 rows × 6 columns</p>\n</div>"
     },
     "metadata": {},
     "execution_count": 4
    }
   ],
   "source": [
    "df = pd.DataFrame(files, columns = ['year', 'month', 'day', 'id', 'name', 'file_content'])\n",
    "df"
   ]
  },
  {
   "cell_type": "code",
   "execution_count": 5,
   "metadata": {},
   "outputs": [],
   "source": [
    "def remove_header(x):\n",
    "    for i in range(len(x)-1):\n",
    "        if x[i].isupper() and x[i+1].isupper():\n",
    "            return x[i:]\n",
    "    return x\n",
    "df['file_content'] = df['file_content'].apply(remove_header)"
   ]
  },
  {
   "cell_type": "code",
   "execution_count": 6,
   "metadata": {},
   "outputs": [],
   "source": [
    "def get_country(x):\n",
    "    ans = []\n",
    "    for country in pycountry.countries:\n",
    "        if country.name in x:\n",
    "            ans.append(country.name)\n",
    "    return ans\n",
    "df['countries'] = df['file_content'].apply(lambda x: get_country(x))"
   ]
  },
  {
   "cell_type": "code",
   "execution_count": 7,
   "metadata": {},
   "outputs": [],
   "source": [
    "sec_names = ['LOAN AGREEMENT', 'ARTICLE I', 'ARTICLE II', 'ARTICLE III', 'ARTICLE IV', 'ARTICLE V', 'ARTICLE VI',\n",
    "'ARTICLE VII', 'ARTICLE VIII','ARTICLE IX','ARTICLE X','ARTICLE XI', 'SCHEDULE 1', 'SCHEDULE 2', 'SCHEDULE 3', \n",
    "             'SCHEDULE 4', 'SCHEDULE 5','SCHEDULE 6','SCHEDULE 7','SCHEDULE 8']"
   ]
  },
  {
   "cell_type": "code",
   "execution_count": 8,
   "metadata": {},
   "outputs": [],
   "source": [
    "def get_sections(x):\n",
    "    keys = ['TITLE']\n",
    "    inds = [0]\n",
    "    start, stop = 0, len(x)\n",
    "    for sec in sec_names:\n",
    "        ss = sec.split(' ')\n",
    "        for name in [sec + '\\n', sec + ' ', ss[0] + ss[1] + ' ',ss[0] + ss[1] + '\\n', ss[0] + '  ' + ss[1] + ' ',ss[0] + '  ' + ss[1] + '\\n']:\n",
    "            if name in x:\n",
    "#                 print(name)\n",
    "                index = x.find(name, start, stop)\n",
    "#                 print(index)\n",
    "                keys.append(sec)\n",
    "                inds.append(index)\n",
    "                start = index\n",
    "                break\n",
    "#     print(keys, inds)   \n",
    "    res = {}\n",
    "    for i, key in enumerate(keys[:-1]):\n",
    "        res[key] = (inds[i], inds[i+1])\n",
    "    res[keys[-1]] = (inds[-1], stop)\n",
    "    return res\n",
    "\n",
    "df['sections'] = df['file_content'].apply(get_sections)\n",
    "# df['sections'].apply(lambda x: len(x)).sum()"
   ]
  },
  {
   "cell_type": "code",
   "execution_count": 9,
   "metadata": {},
   "outputs": [],
   "source": [
    "def get_section(df, section):\n",
    "    try:\n",
    "        start, stop = df['sections'][section]\n",
    "\n",
    "        return df['file_content'][start:stop]\n",
    "    except:\n",
    "        return \n",
    "\n",
    "title = df.apply(lambda x: get_section(x, 'TITLE'),axis=1)\n",
    "df.loc[title.index,'TITLE'] =  title\n",
    "\n",
    "df['LOAN AGREEMENT'] = df.apply(lambda x:get_section(x,'LOAN AGREEMENT'),axis=1)"
   ]
  },
  {
   "cell_type": "code",
   "execution_count": 10,
   "metadata": {},
   "outputs": [],
   "source": [
    "def find_number(start, end, x):\n",
    "    try:\n",
    "        total = ''\n",
    "        found = False\n",
    "        for i in range(start, end):\n",
    "            if x[i].isdigit():\n",
    "                found = True\n",
    "                total = total + x[i]\n",
    "            else:\n",
    "                if found and (x[i] != ',' or i == end):\n",
    "#                     if ',' in x[start:i]:\n",
    "                    return int(total), i\n",
    "    except:\n",
    "        return\n",
    "\n",
    "def find_max_amount(x):\n",
    "\n",
    "    res = 0\n",
    "    start, end = 0, len(x)\n",
    "    while start < end:\n",
    "        if x[start].isdigit():\n",
    "            find_num = find_number(start, end, x)\n",
    "            if find_num and ',' in x[start:find_num[1]]:\n",
    "                number, start = find_num\n",
    "                res = max(res, number)\n",
    "            else:\n",
    "                start += 1\n",
    "        else:\n",
    "            start += 1\n",
    "    return res\n",
    "    \n",
    "df['Total Amount'] = df['file_content'].apply(find_max_amount)   \n",
    "\n",
    "# def find_total_amount(x):\n",
    "#     start, end = None, None\n",
    "    \n",
    "#     if x and 'TOTAL' in x:\n",
    "#         start, end = x.find('TOTAL'), len(x)  \n",
    "#     elif x and '$' in x:\n",
    "#         start, end = x.find('$'), len(x)\n",
    "\n",
    "        \n",
    "#     if start and end:\n",
    "#         number = find_number(start, end, x)\n",
    "#         if number:\n",
    "#             return number[0]\n",
    "#     else:\n",
    "#         return \n",
    "    \n",
    "# df['Total Amount'] = df['file_content'].apply(find_total_amount)        "
   ]
  },
  {
   "cell_type": "code",
   "execution_count": 11,
   "metadata": {},
   "outputs": [],
   "source": [
    "# def find_borrow(x):\n",
    "#     if not x:\n",
    "#         return \n",
    "#     poss = ['(the Borrower)', '(the  Borrower)', '(the\\nBorrower)','(the \\nBorrower)', '“the  Borrower”', '(\"Borrower\")', '(“Borrower”)']\n",
    "#     for bor in poss:\n",
    "#         if bor in x.replace('\\n\\n','\\n'):\n",
    "#             return True\n",
    "        \n",
    "# df['file_content'].apply(find_borrow).sum()"
   ]
  },
  {
   "cell_type": "code",
   "execution_count": 12,
   "metadata": {},
   "outputs": [
    {
     "output_type": "stream",
     "name": "stdout",
     "text": [
      "LOAN AGREEMENT \nAGREEMENT dated as of the Signature Date between REPÚBLICA ORIENTAL DEL \nURUGUAY (“Borrower”) and INTERNATIONAL BANK FOR RECONSTRUCTION AND \nDEVELOPMENT (“Bank”) for the purpose of providing additional financing for the Original \nProject (as defined in the Appendix to this Agreement).  The Borrower and the Bank hereby agree \nas follows: \n\n"
     ]
    },
    {
     "output_type": "execute_result",
     "data": {
      "text/plain": [
       "'LOAN AGREEMENT \\nAGREEMENT dated as of the Signature Date between REPÚBLICA ORIENTAL DEL \\nURUGUAY (“Borrower”) and INTERNATIONAL BANK FOR RECONSTRUCTION AND \\nDEVELOPMENT (“Bank”) for the purpose of providing additional financing for the Original \\nProject (as defined in the Appendix to this Agreement).  The Borrower and the Bank hereby agree \\nas follows: \\n'"
      ]
     },
     "metadata": {},
     "execution_count": 12
    }
   ],
   "source": [
    "i = 139\n",
    "print(df.loc[i,'LOAN AGREEMENT'].replace('\\n\\n','\\n'))\n",
    "df.loc[i,'LOAN AGREEMENT'].replace('\\n\\n','\\n')"
   ]
  },
  {
   "cell_type": "code",
   "execution_count": 13,
   "metadata": {},
   "outputs": [],
   "source": [
    "def get_project_name(x):\n",
    "    start, end = None, None\n",
    "    if '(' in x:\n",
    "        start = x.find('(')\n",
    "    if ')' in x:\n",
    "        end = x.find(')')\n",
    "    if start and end:\n",
    "        return x[start+1:end]\n",
    "df['Project Name'] = df['TITLE'].apply(get_project_name)     "
   ]
  },
  {
   "cell_type": "code",
   "execution_count": 14,
   "metadata": {},
   "outputs": [
    {
     "output_type": "execute_result",
     "data": {
      "text/plain": [
       "      year      month day                  id  \\\n",
       "0     1991  september  12  558671468103155868   \n",
       "1     2001        may  31  473681468094784501   \n",
       "2     1991   november  19  892131468028134392   \n",
       "3     2013        may  20  945021468224685176   \n",
       "4     1991        may   7  107521468303622178   \n",
       "...    ...        ...  ..                 ...   \n",
       "3190  1993    october  15  268921468048527743   \n",
       "3191  2013      march  21  584611468237295236   \n",
       "3192  2008      april  18  448831468262773500   \n",
       "3193  2007       june   8  642541468034864651   \n",
       "3194  2014   february  18  277931468279946325   \n",
       "\n",
       "                                                   name  \\\n",
       "0     conformed-copy--l3361--kolubara-b-thermal-powe...   \n",
       "1     conformed-copy--l7054--railway-restructuring-p...   \n",
       "2     china--beijing-environmental-project-:-loan-34...   \n",
       "3     official-documents-loan-agreement,-l8236-cn-cl...   \n",
       "4     conformed-copy--l3230--third-highway-sector-pr...   \n",
       "...                                                 ...   \n",
       "3190  conformed-copy--l3642--technical-assistance-pr...   \n",
       "3191  official-documents-loan-agreement-for-loan-812...   \n",
       "3192             loan-agreement,-l7496-ec-conformed.txt   \n",
       "3193  loan-agreement-l4857-in--andhra-pradesh-commun...   \n",
       "3194  official-documents-loan-agreement,-l8314-mx-cl...   \n",
       "\n",
       "                                           file_content  \\\n",
       "0     CONFORMED COPY\\n\\n                            ...   \n",
       "1     CONFORMED COPY\\n\\nLOAN NUMBER 7054 POL\\n\\nLoan...   \n",
       "2     LOAN NUMBER 3415 CHA \\n\\nLoan Agreement \\n\\n(B...   \n",
       "3     MENTS\\n\\nLOAN NUMBER 8236-CN\\n\\nLoan Agreement...   \n",
       "4     CONFORMED COPY\\n\\nLOAN NUMBER 3230 YU\\n\\nLoan ...   \n",
       "...                                                 ...   \n",
       "3190  CONFORMED COPY\\n\\n                            ...   \n",
       "3191  DOC r'1 3 2013OFFICIAL \\nN, 321\\n\\nDOCUMENTS\\n...   \n",
       "3192  CONFORMED COPY \\n\\nLOAN NUMBER 7496-EC \\n\\nLoa...   \n",
       "3193  CONFORMED COPY \\n\\nLOAN NUMBER 4857-IN \\n\\nLoa...   \n",
       "3194  OFFICIAL\\n00CUMENTS\\n\\nLOAN NUMBER 8314-MX\\n\\n...   \n",
       "\n",
       "                                    countries  \\\n",
       "0                     [Serbia, United States]   \n",
       "1                     [Poland, United States]   \n",
       "2                      [China, United States]   \n",
       "3                      [China, United States]   \n",
       "4     [Bosnia and Herzegovina, United States]   \n",
       "...                                       ...   \n",
       "3190              [Kazakhstan, United States]   \n",
       "3191                   [Chile, United States]   \n",
       "3192                 [Ecuador, United States]   \n",
       "3193                   [India, United States]   \n",
       "3194                          [United States]   \n",
       "\n",
       "                                               sections  \\\n",
       "0     {'TITLE': (0, 506), 'LOAN AGREEMENT': (506, 25...   \n",
       "1     {'TITLE': (0, 239), 'LOAN AGREEMENT': (239, 15...   \n",
       "2     {'TITLE': (0, 228), 'LOAN AGREEMENT': (228, 21...   \n",
       "3     {'TITLE': (0, 267), 'LOAN AGREEMENT': (267, 48...   \n",
       "4     {'TITLE': (0, 364), 'LOAN AGREEMENT': (364, 14...   \n",
       "...                                                 ...   \n",
       "3190  {'TITLE': (0, 533), 'LOAN AGREEMENT': (533, 11...   \n",
       "3191  {'TITLE': (0, 235), 'LOAN AGREEMENT': (235, 50...   \n",
       "3192  {'TITLE': (0, 262), 'LOAN AGREEMENT': (262, 63...   \n",
       "3193  {'TITLE': (0, 242), 'LOAN AGREEMENT': (242, 27...   \n",
       "3194  {'TITLE': (0, 1322), 'ARTICLE I': (1322, 1681)...   \n",
       "\n",
       "                                                  TITLE  \\\n",
       "0     CONFORMED COPY\\n\\n                            ...   \n",
       "1     CONFORMED COPY\\n\\nLOAN NUMBER 7054 POL\\n\\nLoan...   \n",
       "2     LOAN NUMBER 3415 CHA \\n\\nLoan Agreement \\n\\n(B...   \n",
       "3     MENTS\\n\\nLOAN NUMBER 8236-CN\\n\\nLoan Agreement...   \n",
       "4     CONFORMED COPY\\n\\nLOAN NUMBER 3230 YU\\n\\nLoan ...   \n",
       "...                                                 ...   \n",
       "3190  CONFORMED COPY\\n\\n                            ...   \n",
       "3191  DOC r'1 3 2013OFFICIAL \\nN, 321\\n\\nDOCUMENTS\\n...   \n",
       "3192  CONFORMED COPY \\n\\nLOAN NUMBER 7496-EC \\n\\nLoa...   \n",
       "3193  CONFORMED COPY \\n\\nLOAN NUMBER 4857-IN \\n\\nLoa...   \n",
       "3194  OFFICIAL\\n00CUMENTS\\n\\nLOAN NUMBER 8314-MX\\n\\n...   \n",
       "\n",
       "                                         LOAN AGREEMENT Total Amount  \\\n",
       "0     LOAN AGREEMENT\\n\\n      AGREEMENT, dated Septe...    300000000   \n",
       "1     LOAN AGREEMENT\\n\\nAGREEMENT, dated May 31, 200...    110000000   \n",
       "2     LOAN AGREEMENT \\n\\nAGREEMENT, dated Literal 4b...     60100000   \n",
       "3     LOAN AGREEMENT\\n\\nAgreement dated ^46 , 2013, ...    150000000   \n",
       "4     LOAN AGREEMENT\\n\\nAGREEMENT, dated May 7, 1991...     55000000   \n",
       "...                                                 ...          ...   \n",
       "3190  LOAN AGREEMENT\\n\\n      AGREEMENT, dated Octob...     38000000   \n",
       "3191  LOAN AGREEMENT\\n\\nAgreement, as of the Signatu...     40000000   \n",
       "3192  LOAN AGREEMENT \\n\\nAgreement dated April 18, 2...     15300000   \n",
       "3193  LOAN AGREEMENT \\n\\n AGREEMENT dated June 8, 20...     94500000   \n",
       "3194                                               None    300751879   \n",
       "\n",
       "                                           Project Name  \n",
       "0     Kolubara B Thermal Power and Lignite Mine Project  \n",
       "1                         Railway Restructuring Project  \n",
       "2                         Beijing Environmental Project  \n",
       "3     Liaoning Coastal Economic Zone Urban Infrastru...  \n",
       "4                          Third Highway Sector Project  \n",
       "...                                                 ...  \n",
       "3190                       Technical Assistance Project  \n",
       "3191  Tertiary Education Finance for Results Project...  \n",
       "3192    Chimborazo Development Investment Project (PIDD  \n",
       "3193  Andhra Pradesh Community-Based Tank Management...  \n",
       "3194  Third Upper Secondary Education\\nDevelopment P...  \n",
       "\n",
       "[3195 rows x 12 columns]"
      ],
      "text/html": "<div>\n<style scoped>\n    .dataframe tbody tr th:only-of-type {\n        vertical-align: middle;\n    }\n\n    .dataframe tbody tr th {\n        vertical-align: top;\n    }\n\n    .dataframe thead th {\n        text-align: right;\n    }\n</style>\n<table border=\"1\" class=\"dataframe\">\n  <thead>\n    <tr style=\"text-align: right;\">\n      <th></th>\n      <th>year</th>\n      <th>month</th>\n      <th>day</th>\n      <th>id</th>\n      <th>name</th>\n      <th>file_content</th>\n      <th>countries</th>\n      <th>sections</th>\n      <th>TITLE</th>\n      <th>LOAN AGREEMENT</th>\n      <th>Total Amount</th>\n      <th>Project Name</th>\n    </tr>\n  </thead>\n  <tbody>\n    <tr>\n      <th>0</th>\n      <td>1991</td>\n      <td>september</td>\n      <td>12</td>\n      <td>558671468103155868</td>\n      <td>conformed-copy--l3361--kolubara-b-thermal-powe...</td>\n      <td>CONFORMED COPY\\n\\n                            ...</td>\n      <td>[Serbia, United States]</td>\n      <td>{'TITLE': (0, 506), 'LOAN AGREEMENT': (506, 25...</td>\n      <td>CONFORMED COPY\\n\\n                            ...</td>\n      <td>LOAN AGREEMENT\\n\\n      AGREEMENT, dated Septe...</td>\n      <td>300000000</td>\n      <td>Kolubara B Thermal Power and Lignite Mine Project</td>\n    </tr>\n    <tr>\n      <th>1</th>\n      <td>2001</td>\n      <td>may</td>\n      <td>31</td>\n      <td>473681468094784501</td>\n      <td>conformed-copy--l7054--railway-restructuring-p...</td>\n      <td>CONFORMED COPY\\n\\nLOAN NUMBER 7054 POL\\n\\nLoan...</td>\n      <td>[Poland, United States]</td>\n      <td>{'TITLE': (0, 239), 'LOAN AGREEMENT': (239, 15...</td>\n      <td>CONFORMED COPY\\n\\nLOAN NUMBER 7054 POL\\n\\nLoan...</td>\n      <td>LOAN AGREEMENT\\n\\nAGREEMENT, dated May 31, 200...</td>\n      <td>110000000</td>\n      <td>Railway Restructuring Project</td>\n    </tr>\n    <tr>\n      <th>2</th>\n      <td>1991</td>\n      <td>november</td>\n      <td>19</td>\n      <td>892131468028134392</td>\n      <td>china--beijing-environmental-project-:-loan-34...</td>\n      <td>LOAN NUMBER 3415 CHA \\n\\nLoan Agreement \\n\\n(B...</td>\n      <td>[China, United States]</td>\n      <td>{'TITLE': (0, 228), 'LOAN AGREEMENT': (228, 21...</td>\n      <td>LOAN NUMBER 3415 CHA \\n\\nLoan Agreement \\n\\n(B...</td>\n      <td>LOAN AGREEMENT \\n\\nAGREEMENT, dated Literal 4b...</td>\n      <td>60100000</td>\n      <td>Beijing Environmental Project</td>\n    </tr>\n    <tr>\n      <th>3</th>\n      <td>2013</td>\n      <td>may</td>\n      <td>20</td>\n      <td>945021468224685176</td>\n      <td>official-documents-loan-agreement,-l8236-cn-cl...</td>\n      <td>MENTS\\n\\nLOAN NUMBER 8236-CN\\n\\nLoan Agreement...</td>\n      <td>[China, United States]</td>\n      <td>{'TITLE': (0, 267), 'LOAN AGREEMENT': (267, 48...</td>\n      <td>MENTS\\n\\nLOAN NUMBER 8236-CN\\n\\nLoan Agreement...</td>\n      <td>LOAN AGREEMENT\\n\\nAgreement dated ^46 , 2013, ...</td>\n      <td>150000000</td>\n      <td>Liaoning Coastal Economic Zone Urban Infrastru...</td>\n    </tr>\n    <tr>\n      <th>4</th>\n      <td>1991</td>\n      <td>may</td>\n      <td>7</td>\n      <td>107521468303622178</td>\n      <td>conformed-copy--l3230--third-highway-sector-pr...</td>\n      <td>CONFORMED COPY\\n\\nLOAN NUMBER 3230 YU\\n\\nLoan ...</td>\n      <td>[Bosnia and Herzegovina, United States]</td>\n      <td>{'TITLE': (0, 364), 'LOAN AGREEMENT': (364, 14...</td>\n      <td>CONFORMED COPY\\n\\nLOAN NUMBER 3230 YU\\n\\nLoan ...</td>\n      <td>LOAN AGREEMENT\\n\\nAGREEMENT, dated May 7, 1991...</td>\n      <td>55000000</td>\n      <td>Third Highway Sector Project</td>\n    </tr>\n    <tr>\n      <th>...</th>\n      <td>...</td>\n      <td>...</td>\n      <td>...</td>\n      <td>...</td>\n      <td>...</td>\n      <td>...</td>\n      <td>...</td>\n      <td>...</td>\n      <td>...</td>\n      <td>...</td>\n      <td>...</td>\n      <td>...</td>\n    </tr>\n    <tr>\n      <th>3190</th>\n      <td>1993</td>\n      <td>october</td>\n      <td>15</td>\n      <td>268921468048527743</td>\n      <td>conformed-copy--l3642--technical-assistance-pr...</td>\n      <td>CONFORMED COPY\\n\\n                            ...</td>\n      <td>[Kazakhstan, United States]</td>\n      <td>{'TITLE': (0, 533), 'LOAN AGREEMENT': (533, 11...</td>\n      <td>CONFORMED COPY\\n\\n                            ...</td>\n      <td>LOAN AGREEMENT\\n\\n      AGREEMENT, dated Octob...</td>\n      <td>38000000</td>\n      <td>Technical Assistance Project</td>\n    </tr>\n    <tr>\n      <th>3191</th>\n      <td>2013</td>\n      <td>march</td>\n      <td>21</td>\n      <td>584611468237295236</td>\n      <td>official-documents-loan-agreement-for-loan-812...</td>\n      <td>DOC r'1 3 2013OFFICIAL \\nN, 321\\n\\nDOCUMENTS\\n...</td>\n      <td>[Chile, United States]</td>\n      <td>{'TITLE': (0, 235), 'LOAN AGREEMENT': (235, 50...</td>\n      <td>DOC r'1 3 2013OFFICIAL \\nN, 321\\n\\nDOCUMENTS\\n...</td>\n      <td>LOAN AGREEMENT\\n\\nAgreement, as of the Signatu...</td>\n      <td>40000000</td>\n      <td>Tertiary Education Finance for Results Project...</td>\n    </tr>\n    <tr>\n      <th>3192</th>\n      <td>2008</td>\n      <td>april</td>\n      <td>18</td>\n      <td>448831468262773500</td>\n      <td>loan-agreement,-l7496-ec-conformed.txt</td>\n      <td>CONFORMED COPY \\n\\nLOAN NUMBER 7496-EC \\n\\nLoa...</td>\n      <td>[Ecuador, United States]</td>\n      <td>{'TITLE': (0, 262), 'LOAN AGREEMENT': (262, 63...</td>\n      <td>CONFORMED COPY \\n\\nLOAN NUMBER 7496-EC \\n\\nLoa...</td>\n      <td>LOAN AGREEMENT \\n\\nAgreement dated April 18, 2...</td>\n      <td>15300000</td>\n      <td>Chimborazo Development Investment Project (PIDD</td>\n    </tr>\n    <tr>\n      <th>3193</th>\n      <td>2007</td>\n      <td>june</td>\n      <td>8</td>\n      <td>642541468034864651</td>\n      <td>loan-agreement-l4857-in--andhra-pradesh-commun...</td>\n      <td>CONFORMED COPY \\n\\nLOAN NUMBER 4857-IN \\n\\nLoa...</td>\n      <td>[India, United States]</td>\n      <td>{'TITLE': (0, 242), 'LOAN AGREEMENT': (242, 27...</td>\n      <td>CONFORMED COPY \\n\\nLOAN NUMBER 4857-IN \\n\\nLoa...</td>\n      <td>LOAN AGREEMENT \\n\\n AGREEMENT dated June 8, 20...</td>\n      <td>94500000</td>\n      <td>Andhra Pradesh Community-Based Tank Management...</td>\n    </tr>\n    <tr>\n      <th>3194</th>\n      <td>2014</td>\n      <td>february</td>\n      <td>18</td>\n      <td>277931468279946325</td>\n      <td>official-documents-loan-agreement,-l8314-mx-cl...</td>\n      <td>OFFICIAL\\n00CUMENTS\\n\\nLOAN NUMBER 8314-MX\\n\\n...</td>\n      <td>[United States]</td>\n      <td>{'TITLE': (0, 1322), 'ARTICLE I': (1322, 1681)...</td>\n      <td>OFFICIAL\\n00CUMENTS\\n\\nLOAN NUMBER 8314-MX\\n\\n...</td>\n      <td>None</td>\n      <td>300751879</td>\n      <td>Third Upper Secondary Education\\nDevelopment P...</td>\n    </tr>\n  </tbody>\n</table>\n<p>3195 rows × 12 columns</p>\n</div>"
     },
     "metadata": {},
     "execution_count": 14
    }
   ],
   "source": [
    "df"
   ]
  },
  {
   "cell_type": "code",
   "execution_count": 15,
   "metadata": {},
   "outputs": [
    {
     "output_type": "stream",
     "name": "stdout",
     "text": [
      "\nNon-consulting Services under IBRD Loans and IDA Credits and Grants by World Bank\nBorrowers\" dated January 2011.\n\n13. \"Procurement Plan\" means the Borrower's procurement plan for the Project, dated\nNovember 26, 2012, and referred to in paragraph 1.18 of the Procurement Guidelines and\nparagraph 1.25 of the Consultant Guidelines, as the same shall be updated from time to\ntime in accordance with the provisions of said paragraphs.\n\n14. \"Project Agreement\" means the agreement between the Bank and the Project\nImplementing Entity -of even date herewith, as the same may be amended from time to\ntime; and such term includes all schedules and agreements supplemental to the Project\nAgreement.\n\n15. \"Project Cities\" means the Borrower's counties/cities/district of: (a) Panjin City; (b)\nDonggang City and Kuandian County (under the jurisdiction of Dandong City); (c)\nLongcheng District and Lingyuan City (under the jurisdiction of Chaoyang City); and (d)\nSuizhong County (under the jurisdiction of Hu Lu Dao City); all located in the Borrower's\nLiaoning Province, and any successors thereto; and a \"Project City\" means, individually,\nany of said Project Cities.\n\n16. \"Project Companies\" means, collectively: (a) Chaoyang West New Industrial Zone\nConstruction and Investment Company, Ltd.; (b) Kuandian Rural-Urban Real Estate\nConstruction and Development Company, Ltd.; and (c) Panjin Public Transport\nCompany, Ltd.; and \"Project Company\" means, individually, any of the Project\nCompanies.\n\n17. \"Project Implementing Entity\" means the Borrower's Province of Liaoning and any\nsuccessor thereto.\n18. \"Project Leading Groups\" means the groups referred to in Section I.A. 1(a) of the\nSchedule to the Project Agreement, and organized as follows: (a) at the provincial level,\nthe group shall be chaired by the relevant provincial Vice-Governor, along with the\nleaders of the relevant provincial bureaus (including, without limitation: the Development\nand Reform Commission, the Finance Bureau, the Transportation Bureau, the Water\nResources Bureau, the Land Resources Bureau, the Environmental Protection Bureau,\nand other institutions and/or agencies as appropriate); and (b) at the county/city/district\nlevel, the group shall be chaired by the respective county/city/district Vice Mayor, along\nwith the leaders of the relevant institutions and/or agencies at the county/city/district\nlevel, as appropriate.\n\n19. \"Project Management Office\" means the office (the Foreign Fund Utilization Project\nOffice) referred to in paragraph 1(b) of Section I of the Schedule to the Project\nAgreement, established under the Liaoning Provincial Development and Reform\nCommission, and any successor thereto.\n\n20. \"Resettlement Action Plans\" or the acronym \"RAPs\" means, collectively, the following\nplans (included as part of the Operational Manual) which set out the principles and\nprocedures governing the acquisition of land and other assets, and the resettlement,\ncompensation and rehabilitation of Displaced Persons on account of the execution of the\nProject, as well as monitoring and reporting arrangements to ensure compliance with said\nplans, as the same may be revised from time to time with the prior agreement of the\nBank:\n\n(a) Chaoyang-Longcheng District RAP, dated October 23, 2012; (b) Donggang City\nRAP, dated October 23, 2012; (c) Kuandian County RAP, dated October 23, 2012; (d)\nLingyuan City RAP, dated October 23, 2012; (e) Panjin City RAP, dated October 23,\n2012; and (f) Suizhong City RAP, dated October 23, 2012.\n\nThe acronym \"RAP\" means, individually, any such plan.\n\n21. \"Resettlement Policy Framework\" or the acronym \"RPF\" means the policy framework,\ndated October 17, 2012, adopted by the Project Implementing Entity and included as part\nof the Operational Manual, which sets out the policies and procedures for resettlement,\ncompensation and rehabilitation of Displaced Persons, and for the preparation of\nresettlement action plans during the implementation of the Project, as said policy\nframework may be revised from time to time with the prior written agreement of the\nBank; and such term includes all attachments and annexes supplemental to said Policy\nFramework.\n\n22. \"Respective Part of the Project\" means, in respect of:\n\n(a) The Project Implementing Entity, acting through the Donggang Municipal\nAdministration Department: Part A. I of the Project.\n\n(b) Kuandian Rural-Urban Real Estate Construction and Development Company,\nLtd.: Part A.2 of the Project.\n(c) The Project Implementing Entity, acting through the Lingyuan Municipal\nAdministration Department: Part A.3 of the Project.\n\n(d) Chaoyang West New Industrial Zone Construction and Investment Company,\nLtd.: Part A.4 of the Project.\n\n(e) Panjin Public Transport Company, Ltd.: Part A.5 of the Project.\n\n(f) The Project Implementing Entity, acting through the Lingyuan Emergency Water\nSupply and Administration Department: Part B. I of the Project.\n\n(g) The Project Implementing Entity, acting through the Suizhong Municipal\nAdministration Department: Part B.2 of the Project.\n\n(h) The Project implementing Entity: Part C of the Project.\n\n23. \"Respective Project Company\" means in respect of:\n\n(a) Kuandian County: Kuandian Rural-Urban Real Estate Construction .and\nDevelopment Company, Ltd.\n\n(b) Longcheng District: Chaoyang West New Industrial Zone Construction and\nInvestment Company, Ltd.\n\n(c) Panjin City: Panjin Public Transport Company, Ltd.\n\n24. \"Subsidiary Loan Agreements\" means, collectively, the agreements to be entered into\nbetween each Project City, as applicable, and its Respective Project Company pursuant to\nSection I.E.1 of the Schedule to the Project Agreement, as the same may be amended\nfrom time to time, and such term includes all schedules and supplements to said\nagreements; a \"Subsidiary Loan Agreement\" means, individually, any of said Subsidiary\nLoan Agreements.\n\n25. \"Training\" means the costs of training activities under the Project, based on annual work\nplans and budgets approved by the Bank, and attributable to seminars, workshops, and\ndomestic and overseas study tours, along with travel and subsistence allowances for\ntraining participants, services of trainers, rental of training facilities, preparation and\nreproduction of training materials, and other activities directly related to course\npreparation and implementation.\n\n"
     ]
    }
   ],
   "source": [
    "print(df.loc[3,'file_content'][31000:])"
   ]
  },
  {
   "cell_type": "code",
   "execution_count": 16,
   "metadata": {},
   "outputs": [
    {
     "output_type": "execute_result",
     "data": {
      "text/plain": [
       "count                3195\n",
       "unique                352\n",
       "top       [United States]\n",
       "freq                  215\n",
       "Name: countries, dtype: object"
      ]
     },
     "metadata": {},
     "execution_count": 16
    }
   ],
   "source": [
    "df.countries.describe()"
   ]
  },
  {
   "cell_type": "code",
   "execution_count": 17,
   "metadata": {},
   "outputs": [
    {
     "output_type": "execute_result",
     "data": {
      "text/plain": [
       "count    3195.000000\n",
       "mean        2.195618\n",
       "std         0.821734\n",
       "min         0.000000\n",
       "25%         2.000000\n",
       "50%         2.000000\n",
       "75%         2.000000\n",
       "max        12.000000\n",
       "Name: countries, dtype: float64"
      ]
     },
     "metadata": {},
     "execution_count": 17
    }
   ],
   "source": [
    "df.countries.apply(len).describe()"
   ]
  },
  {
   "cell_type": "code",
   "execution_count": 18,
   "metadata": {},
   "outputs": [
    {
     "output_type": "execute_result",
     "data": {
      "text/plain": [
       "Index(['year', 'month', 'day', 'id', 'name', 'file_content', 'countries',\n",
       "       'sections', 'TITLE', 'LOAN AGREEMENT', 'Total Amount', 'Project Name'],\n",
       "      dtype='object')"
      ]
     },
     "metadata": {},
     "execution_count": 18
    }
   ],
   "source": [
    "df.columns"
   ]
  },
  {
   "cell_type": "code",
   "execution_count": 19,
   "metadata": {},
   "outputs": [],
   "source": [
    "df_features = df[['year','month','day','id','name','countries','Total Amount','Project Name']]\n",
    "df_features.to_pickle(\"extracted_features.pkl\")"
   ]
  },
  {
   "cell_type": "code",
   "execution_count": null,
   "metadata": {},
   "outputs": [],
   "source": []
  }
 ],
 "metadata": {
  "kernelspec": {
   "name": "python392jvsc74a57bd09c14091437e567b69b891d2838af0ae9212f4b16ac91005526a4e98434c6baeb",
   "display_name": "Python 3.9.2 64-bit ('erdos': conda)"
  },
  "language_info": {
   "codemirror_mode": {
    "name": "ipython",
    "version": 3
   },
   "file_extension": ".py",
   "mimetype": "text/x-python",
   "name": "python",
   "nbconvert_exporter": "python",
   "pygments_lexer": "ipython3",
   "version": "3.9.2"
  },
  "metadata": {
   "interpreter": {
    "hash": "9c14091437e567b69b891d2838af0ae9212f4b16ac91005526a4e98434c6baeb"
   }
  }
 },
 "nbformat": 4,
 "nbformat_minor": 4
}