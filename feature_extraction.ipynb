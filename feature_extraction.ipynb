{
 "cells": [
  {
   "cell_type": "code",
<<<<<<< HEAD
   "execution_count": 4,
=======
   "execution_count": 2,
>>>>>>> ad77e0742b0d2d7c02c379d6e19d0722724f5689
   "metadata": {},
   "outputs": [],
   "source": [
    "import io\n",
    "\n",
    "from pathlib import Path\n",
    "import pandas as pd\n",
    "import glob\n",
    "import pickle\n",
    "import pycountry"
   ]
  },
  {
   "cell_type": "code",
<<<<<<< HEAD
   "execution_count": 13,
=======
   "execution_count": 3,
>>>>>>> ad77e0742b0d2d7c02c379d6e19d0722724f5689
   "metadata": {},
   "outputs": [],
   "source": [
    "files = []\n",
    "for filepath in glob.iglob('world_bank_loans_txt_clean/*.txt'):\n",
    "    file_txt = Path(filepath).read_text()\n",
    "    file_name = filepath.split('/')[1]\n",
    "    year, month, day, id_, name = file_name.split('_')\n",
    "    files.append([year, month, day, id_, name, file_txt])"
   ]
  },
  {
   "cell_type": "code",
<<<<<<< HEAD
   "execution_count": 16,
=======
   "execution_count": 4,
>>>>>>> ad77e0742b0d2d7c02c379d6e19d0722724f5689
   "metadata": {},
   "outputs": [
    {
     "output_type": "execute_result",
     "data": {
      "text/plain": [
       "      year      month day                  id  \\\n",
       "0     1991  september  12  558671468103155868   \n",
       "1     2001        may  31  473681468094784501   \n",
       "2     1991   november  19  892131468028134392   \n",
       "3     2013        may  20  945021468224685176   \n",
       "4     1991        may   7  107521468303622178   \n",
       "...    ...        ...  ..                 ...   \n",
       "3190  1993    october  15  268921468048527743   \n",
       "3191  2013      march  21  584611468237295236   \n",
       "3192  2008      april  18  448831468262773500   \n",
       "3193  2007       june   8  642541468034864651   \n",
       "3194  2014   february  18  277931468279946325   \n",
       "\n",
       "                                                   name  \\\n",
       "0     conformed-copy--l3361--kolubara-b-thermal-powe...   \n",
       "1     conformed-copy--l7054--railway-restructuring-p...   \n",
       "2     china--beijing-environmental-project-:-loan-34...   \n",
       "3     official-documents-loan-agreement,-l8236-cn-cl...   \n",
       "4     conformed-copy--l3230--third-highway-sector-pr...   \n",
       "...                                                 ...   \n",
       "3190  conformed-copy--l3642--technical-assistance-pr...   \n",
       "3191  official-documents-loan-agreement-for-loan-812...   \n",
       "3192             loan-agreement,-l7496-ec-conformed.txt   \n",
       "3193  loan-agreement-l4857-in--andhra-pradesh-commun...   \n",
       "3194  official-documents-loan-agreement,-l8314-mx-cl...   \n",
       "\n",
       "                                           file_content  \n",
       "0     World Bank Document\\n\\nCONFORMED COPY\\n\\n     ...  \n",
       "1     World Bank Document\\n\\nCONFORMED COPY\\n\\nLOAN ...  \n",
       "2     World Bank Document\\n\\nLOAN NUMBER 3415 CHA \\n...  \n",
       "3     World Bank Document\\n\\nMENTS\\n\\nLOAN NUMBER 82...  \n",
       "4     World Bank Document\\n\\nCONFORMED COPY\\n\\nLOAN ...  \n",
       "...                                                 ...  \n",
       "3190  World Bank Document\\n\\nCONFORMED COPY\\n\\n     ...  \n",
       "3191  World Bank Document\\n\\nDOC r'1 3 2013OFFICIAL ...  \n",
       "3192  World Bank Document\\n\\nCONFORMED COPY \\n\\nLOAN...  \n",
       "3193  World Bank Document\\n\\nCONFORMED COPY \\n\\nLOAN...  \n",
       "3194  World Bank Document\\n\\nOFFICIAL\\n00CUMENTS\\n\\n...  \n",
       "\n",
       "[3195 rows x 6 columns]"
      ],
      "text/html": "<div>\n<style scoped>\n    .dataframe tbody tr th:only-of-type {\n        vertical-align: middle;\n    }\n\n    .dataframe tbody tr th {\n        vertical-align: top;\n    }\n\n    .dataframe thead th {\n        text-align: right;\n    }\n</style>\n<table border=\"1\" class=\"dataframe\">\n  <thead>\n    <tr style=\"text-align: right;\">\n      <th></th>\n      <th>year</th>\n      <th>month</th>\n      <th>day</th>\n      <th>id</th>\n      <th>name</th>\n      <th>file_content</th>\n    </tr>\n  </thead>\n  <tbody>\n    <tr>\n      <th>0</th>\n      <td>1991</td>\n      <td>september</td>\n      <td>12</td>\n      <td>558671468103155868</td>\n      <td>conformed-copy--l3361--kolubara-b-thermal-powe...</td>\n      <td>World Bank Document\\n\\nCONFORMED COPY\\n\\n     ...</td>\n    </tr>\n    <tr>\n      <th>1</th>\n      <td>2001</td>\n      <td>may</td>\n      <td>31</td>\n      <td>473681468094784501</td>\n      <td>conformed-copy--l7054--railway-restructuring-p...</td>\n      <td>World Bank Document\\n\\nCONFORMED COPY\\n\\nLOAN ...</td>\n    </tr>\n    <tr>\n      <th>2</th>\n      <td>1991</td>\n      <td>november</td>\n      <td>19</td>\n      <td>892131468028134392</td>\n      <td>china--beijing-environmental-project-:-loan-34...</td>\n      <td>World Bank Document\\n\\nLOAN NUMBER 3415 CHA \\n...</td>\n    </tr>\n    <tr>\n      <th>3</th>\n      <td>2013</td>\n      <td>may</td>\n      <td>20</td>\n      <td>945021468224685176</td>\n      <td>official-documents-loan-agreement,-l8236-cn-cl...</td>\n      <td>World Bank Document\\n\\nMENTS\\n\\nLOAN NUMBER 82...</td>\n    </tr>\n    <tr>\n      <th>4</th>\n      <td>1991</td>\n      <td>may</td>\n      <td>7</td>\n      <td>107521468303622178</td>\n      <td>conformed-copy--l3230--third-highway-sector-pr...</td>\n      <td>World Bank Document\\n\\nCONFORMED COPY\\n\\nLOAN ...</td>\n    </tr>\n    <tr>\n      <th>...</th>\n      <td>...</td>\n      <td>...</td>\n      <td>...</td>\n      <td>...</td>\n      <td>...</td>\n      <td>...</td>\n    </tr>\n    <tr>\n      <th>3190</th>\n      <td>1993</td>\n      <td>october</td>\n      <td>15</td>\n      <td>268921468048527743</td>\n      <td>conformed-copy--l3642--technical-assistance-pr...</td>\n      <td>World Bank Document\\n\\nCONFORMED COPY\\n\\n     ...</td>\n    </tr>\n    <tr>\n      <th>3191</th>\n      <td>2013</td>\n      <td>march</td>\n      <td>21</td>\n      <td>584611468237295236</td>\n      <td>official-documents-loan-agreement-for-loan-812...</td>\n      <td>World Bank Document\\n\\nDOC r'1 3 2013OFFICIAL ...</td>\n    </tr>\n    <tr>\n      <th>3192</th>\n      <td>2008</td>\n      <td>april</td>\n      <td>18</td>\n      <td>448831468262773500</td>\n      <td>loan-agreement,-l7496-ec-conformed.txt</td>\n      <td>World Bank Document\\n\\nCONFORMED COPY \\n\\nLOAN...</td>\n    </tr>\n    <tr>\n      <th>3193</th>\n      <td>2007</td>\n      <td>june</td>\n      <td>8</td>\n      <td>642541468034864651</td>\n      <td>loan-agreement-l4857-in--andhra-pradesh-commun...</td>\n      <td>World Bank Document\\n\\nCONFORMED COPY \\n\\nLOAN...</td>\n    </tr>\n    <tr>\n      <th>3194</th>\n      <td>2014</td>\n      <td>february</td>\n      <td>18</td>\n      <td>277931468279946325</td>\n      <td>official-documents-loan-agreement,-l8314-mx-cl...</td>\n      <td>World Bank Document\\n\\nOFFICIAL\\n00CUMENTS\\n\\n...</td>\n    </tr>\n  </tbody>\n</table>\n<p>3195 rows × 6 columns</p>\n</div>"
     },
<<<<<<< HEAD
     "execution_count": 16,
=======
>>>>>>> ad77e0742b0d2d7c02c379d6e19d0722724f5689
     "metadata": {},
     "execution_count": 4
    }
   ],
   "source": [
    "df = pd.DataFrame(files, columns = ['year', 'month', 'day', 'id', 'name', 'file_content'])\n",
    "df"
   ]
  },
  {
   "cell_type": "code",
<<<<<<< HEAD
   "execution_count": 17,
=======
   "execution_count": 5,
>>>>>>> ad77e0742b0d2d7c02c379d6e19d0722724f5689
   "metadata": {},
   "outputs": [],
   "source": [
    "def remove_header(x):\n",
    "    for i in range(len(x)-1):\n",
    "        if x[i].isupper() and x[i+1].isupper():\n",
    "            return x[i:]\n",
    "    return x\n",
    "df['file_content'] = df['file_content'].apply(remove_header)"
   ]
  },
  {
   "cell_type": "code",
<<<<<<< HEAD
   "execution_count": 18,
=======
   "execution_count": 6,
>>>>>>> ad77e0742b0d2d7c02c379d6e19d0722724f5689
   "metadata": {},
   "outputs": [],
   "source": [
    "def get_country(x):\n",
    "    ans = []\n",
    "    for country in pycountry.countries:\n",
    "        if country.name in x:\n",
    "            ans.append(country.name)\n",
    "    return ans\n",
    "df['countries'] = df['file_content'].apply(lambda x: get_country(x))"
   ]
  },
  {
   "cell_type": "code",
<<<<<<< HEAD
   "execution_count": 19,
=======
   "execution_count": 7,
>>>>>>> ad77e0742b0d2d7c02c379d6e19d0722724f5689
   "metadata": {},
   "outputs": [],
   "source": [
    "sec_names = ['LOAN AGREEMENT', 'ARTICLE I', 'ARTICLE II', 'ARTICLE III', 'ARTICLE IV', 'ARTICLE V', 'ARTICLE VI',\n",
    "'ARTICLE VII', 'ARTICLE VIII','ARTICLE IX','ARTICLE X','ARTICLE XI', 'SCHEDULE 1', 'SCHEDULE 2', 'SCHEDULE 3', \n",
    "             'SCHEDULE 4', 'SCHEDULE 5','SCHEDULE 6','SCHEDULE 7','SCHEDULE 8']"
   ]
  },
  {
   "cell_type": "code",
<<<<<<< HEAD
   "execution_count": 20,
=======
   "execution_count": 8,
>>>>>>> ad77e0742b0d2d7c02c379d6e19d0722724f5689
   "metadata": {},
   "outputs": [],
   "source": [
    "def get_sections(x):\n",
    "    keys = ['TITLE']\n",
    "    inds = [0]\n",
    "    start, stop = 0, len(x)\n",
    "    for sec in sec_names:\n",
    "        ss = sec.split(' ')\n",
    "        for name in [sec + '\\n', sec + ' ', ss[0] + ss[1] + ' ',ss[0] + ss[1] + '\\n', ss[0] + '  ' + ss[1] + ' ',ss[0] + '  ' + ss[1] + '\\n']:\n",
    "            if name in x:\n",
    "#                 print(name)\n",
    "                index = x.find(name, start, stop)\n",
    "#                 print(index)\n",
    "                keys.append(sec)\n",
    "                inds.append(index)\n",
    "                start = index\n",
    "                break\n",
    "#     print(keys, inds)   \n",
    "    res = {}\n",
    "    for i, key in enumerate(keys[:-1]):\n",
    "        res[key] = (inds[i], inds[i+1])\n",
    "    res[keys[-1]] = (inds[-1], stop)\n",
    "    return res\n",
    "\n",
    "df['sections'] = df['file_content'].apply(get_sections)\n",
    "# df['sections'].apply(lambda x: len(x)).sum()"
   ]
  },
  {
   "cell_type": "code",
<<<<<<< HEAD
   "execution_count": 21,
=======
   "execution_count": 9,
>>>>>>> ad77e0742b0d2d7c02c379d6e19d0722724f5689
   "metadata": {},
   "outputs": [],
   "source": [
    "def get_section(df, section):\n",
    "    try:\n",
    "        start, stop = df['sections'][section]\n",
    "\n",
    "        return df['file_content'][start:stop]\n",
    "    except:\n",
    "        return \n",
    "\n",
    "title = df.apply(lambda x: get_section(x, 'TITLE'),axis=1)\n",
    "df.loc[title.index,'TITLE'] =  title\n",
    "\n",
    "df['LOAN AGREEMENT'] = df.apply(lambda x:get_section(x,'LOAN AGREEMENT'),axis=1)"
   ]
  },
  {
   "cell_type": "code",
<<<<<<< HEAD
   "execution_count": 22,
=======
   "execution_count": 10,
>>>>>>> ad77e0742b0d2d7c02c379d6e19d0722724f5689
   "metadata": {},
   "outputs": [],
   "source": [
    "def find_number(start, end, x):\n",
    "    try:\n",
    "        total = ''\n",
    "        found = False\n",
    "        for i in range(start, end):\n",
    "            if x[i].isdigit():\n",
    "                found = True\n",
    "                total = total + x[i]\n",
    "            else:\n",
    "                if found and (x[i] != ',' or i == end):\n",
    "#                     if ',' in x[start:i]:\n",
    "                    return int(total), i\n",
    "    except:\n",
    "        return\n",
    "\n",
    "def find_max_amount(x):\n",
    "\n",
    "    res = 0\n",
    "    start, end = 0, len(x)\n",
    "    while start < end:\n",
    "        if x[start].isdigit():\n",
    "            find_num = find_number(start, end, x)\n",
    "            if find_num and ',' in x[start:find_num[1]]:\n",
    "                number, start = find_num\n",
    "                res = max(res, number)\n",
    "            else:\n",
    "                start += 1\n",
    "        else:\n",
    "            start += 1\n",
    "    return res\n",
    "    \n",
    "df['Total Amount'] = df['file_content'].apply(find_max_amount)   \n",
    "\n",
    "# def find_total_amount(x):\n",
    "#     start, end = None, None\n",
    "    \n",
    "#     if x and 'TOTAL' in x:\n",
    "#         start, end = x.find('TOTAL'), len(x)  \n",
    "#     elif x and '$' in x:\n",
    "#         start, end = x.find('$'), len(x)\n",
    "\n",
    "        \n",
    "#     if start and end:\n",
    "#         number = find_number(start, end, x)\n",
    "#         if number:\n",
    "#             return number[0]\n",
    "#     else:\n",
    "#         return \n",
    "    \n",
    "# df['Total Amount'] = df['file_content'].apply(find_total_amount)        "
   ]
  },
  {
   "cell_type": "code",
   "execution_count": 11,
   "metadata": {},
   "outputs": [],
   "source": [
    "# def find_borrow(x):\n",
    "#     if not x:\n",
    "#         return \n",
    "#     poss = ['(the Borrower)', '(the  Borrower)', '(the\\nBorrower)','(the \\nBorrower)', '“the  Borrower”', '(\"Borrower\")', '(“Borrower”)']\n",
    "#     for bor in poss:\n",
    "#         if bor in x.replace('\\n\\n','\\n'):\n",
    "#             return True\n",
    "        \n",
    "# df['file_content'].apply(find_borrow).sum()"
   ]
  },
  {
   "cell_type": "code",
   "execution_count": 12,
   "metadata": {},
   "outputs": [
    {
     "output_type": "stream",
     "name": "stdout",
     "text": [
      "LOAN AGREEMENT \nAGREEMENT dated as of the Signature Date between REPÚBLICA ORIENTAL DEL \nURUGUAY (“Borrower”) and INTERNATIONAL BANK FOR RECONSTRUCTION AND \nDEVELOPMENT (“Bank”) for the purpose of providing additional financing for the Original \nProject (as defined in the Appendix to this Agreement).  The Borrower and the Bank hereby agree \nas follows: \n\n"
     ]
    },
    {
     "output_type": "execute_result",
     "data": {
      "text/plain": [
       "'LOAN AGREEMENT \\nAGREEMENT dated as of the Signature Date between REPÚBLICA ORIENTAL DEL \\nURUGUAY (“Borrower”) and INTERNATIONAL BANK FOR RECONSTRUCTION AND \\nDEVELOPMENT (“Bank”) for the purpose of providing additional financing for the Original \\nProject (as defined in the Appendix to this Agreement).  The Borrower and the Bank hereby agree \\nas follows: \\n'"
      ]
     },
     "metadata": {},
     "execution_count": 12
    }
   ],
   "source": [
    "i = 139\n",
    "print(df.loc[i,'LOAN AGREEMENT'].replace('\\n\\n','\\n'))\n",
    "df.loc[i,'LOAN AGREEMENT'].replace('\\n\\n','\\n')"
   ]
  },
  {
   "cell_type": "code",
<<<<<<< HEAD
   "execution_count": 23,
=======
   "execution_count": 13,
>>>>>>> ad77e0742b0d2d7c02c379d6e19d0722724f5689
   "metadata": {},
   "outputs": [],
   "source": [
    "def get_project_name(x):\n",
    "    start, end = None, None\n",
    "    if '(' in x:\n",
    "        start = x.find('(')\n",
    "    if ')' in x:\n",
    "        end = x.find(')')\n",
    "    if start and end:\n",
    "        return x[start+1:end]\n",
    "df['Project Name'] = df['TITLE'].apply(get_project_name)     "
   ]
  },
  {
   "cell_type": "code",
<<<<<<< HEAD
   "execution_count": 25,
   "metadata": {},
   "outputs": [],
   "source": [
    "df.to_pickle('world_bank.pickle')"
   ]
  },
  {
   "cell_type": "code",
   "execution_count": 108,
=======
   "execution_count": 14,
>>>>>>> ad77e0742b0d2d7c02c379d6e19d0722724f5689
   "metadata": {},
   "outputs": [
    {
     "output_type": "execute_result",
     "data": {
      "text/plain": [
       "      year      month day                  id  \\\n",
       "0     1991  september  12  558671468103155868   \n",
       "1     2001        may  31  473681468094784501   \n",
       "2     1991   november  19  892131468028134392   \n",
       "3     2013        may  20  945021468224685176   \n",
       "4     1991        may   7  107521468303622178   \n",
       "...    ...        ...  ..                 ...   \n",
       "3190  1993    october  15  268921468048527743   \n",
       "3191  2013      march  21  584611468237295236   \n",
       "3192  2008      april  18  448831468262773500   \n",
       "3193  2007       june   8  642541468034864651   \n",
       "3194  2014   february  18  277931468279946325   \n",
       "\n",
       "                                                   name  \\\n",
       "0     conformed-copy--l3361--kolubara-b-thermal-powe...   \n",
       "1     conformed-copy--l7054--railway-restructuring-p...   \n",
       "2     china--beijing-environmental-project-:-loan-34...   \n",
       "3     official-documents-loan-agreement,-l8236-cn-cl...   \n",
       "4     conformed-copy--l3230--third-highway-sector-pr...   \n",
       "...                                                 ...   \n",
       "3190  conformed-copy--l3642--technical-assistance-pr...   \n",
       "3191  official-documents-loan-agreement-for-loan-812...   \n",
       "3192             loan-agreement,-l7496-ec-conformed.txt   \n",
       "3193  loan-agreement-l4857-in--andhra-pradesh-commun...   \n",
       "3194  official-documents-loan-agreement,-l8314-mx-cl...   \n",
       "\n",
       "                                           file_content  \\\n",
       "0     CONFORMED COPY\\n\\n                            ...   \n",
       "1     CONFORMED COPY\\n\\nLOAN NUMBER 7054 POL\\n\\nLoan...   \n",
       "2     LOAN NUMBER 3415 CHA \\n\\nLoan Agreement \\n\\n(B...   \n",
       "3     MENTS\\n\\nLOAN NUMBER 8236-CN\\n\\nLoan Agreement...   \n",
       "4     CONFORMED COPY\\n\\nLOAN NUMBER 3230 YU\\n\\nLoan ...   \n",
       "...                                                 ...   \n",
       "3190  CONFORMED COPY\\n\\n                            ...   \n",
       "3191  DOC r'1 3 2013OFFICIAL \\nN, 321\\n\\nDOCUMENTS\\n...   \n",
       "3192  CONFORMED COPY \\n\\nLOAN NUMBER 7496-EC \\n\\nLoa...   \n",
       "3193  CONFORMED COPY \\n\\nLOAN NUMBER 4857-IN \\n\\nLoa...   \n",
       "3194  OFFICIAL\\n00CUMENTS\\n\\nLOAN NUMBER 8314-MX\\n\\n...   \n",
       "\n",
       "                                    countries  \\\n",
       "0                     [Serbia, United States]   \n",
       "1                     [Poland, United States]   \n",
       "2                      [China, United States]   \n",
       "3                      [China, United States]   \n",
       "4     [Bosnia and Herzegovina, United States]   \n",
       "...                                       ...   \n",
       "3190              [Kazakhstan, United States]   \n",
       "3191                   [Chile, United States]   \n",
       "3192                 [Ecuador, United States]   \n",
       "3193                   [India, United States]   \n",
       "3194                          [United States]   \n",
       "\n",
       "                                               sections  \\\n",
       "0     {'TITLE': (0, 506), 'LOAN AGREEMENT': (506, 25...   \n",
       "1     {'TITLE': (0, 239), 'LOAN AGREEMENT': (239, 15...   \n",
       "2     {'TITLE': (0, 228), 'LOAN AGREEMENT': (228, 21...   \n",
       "3     {'TITLE': (0, 267), 'LOAN AGREEMENT': (267, 48...   \n",
       "4     {'TITLE': (0, 364), 'LOAN AGREEMENT': (364, 14...   \n",
       "...                                                 ...   \n",
       "3190  {'TITLE': (0, 533), 'LOAN AGREEMENT': (533, 11...   \n",
       "3191  {'TITLE': (0, 235), 'LOAN AGREEMENT': (235, 50...   \n",
       "3192  {'TITLE': (0, 262), 'LOAN AGREEMENT': (262, 63...   \n",
       "3193  {'TITLE': (0, 242), 'LOAN AGREEMENT': (242, 27...   \n",
       "3194  {'TITLE': (0, 1322), 'ARTICLE I': (1322, 1681)...   \n",
       "\n",
       "                                                  TITLE  \\\n",
       "0     CONFORMED COPY\\n\\n                            ...   \n",
       "1     CONFORMED COPY\\n\\nLOAN NUMBER 7054 POL\\n\\nLoan...   \n",
       "2     LOAN NUMBER 3415 CHA \\n\\nLoan Agreement \\n\\n(B...   \n",
       "3     MENTS\\n\\nLOAN NUMBER 8236-CN\\n\\nLoan Agreement...   \n",
       "4     CONFORMED COPY\\n\\nLOAN NUMBER 3230 YU\\n\\nLoan ...   \n",
       "...                                                 ...   \n",
       "3190  CONFORMED COPY\\n\\n                            ...   \n",
       "3191  DOC r'1 3 2013OFFICIAL \\nN, 321\\n\\nDOCUMENTS\\n...   \n",
       "3192  CONFORMED COPY \\n\\nLOAN NUMBER 7496-EC \\n\\nLoa...   \n",
       "3193  CONFORMED COPY \\n\\nLOAN NUMBER 4857-IN \\n\\nLoa...   \n",
       "3194  OFFICIAL\\n00CUMENTS\\n\\nLOAN NUMBER 8314-MX\\n\\n...   \n",
       "\n",
       "                                         LOAN AGREEMENT Total Amount  \\\n",
       "0     LOAN AGREEMENT\\n\\n      AGREEMENT, dated Septe...    300000000   \n",
       "1     LOAN AGREEMENT\\n\\nAGREEMENT, dated May 31, 200...    110000000   \n",
       "2     LOAN AGREEMENT \\n\\nAGREEMENT, dated Literal 4b...     60100000   \n",
       "3     LOAN AGREEMENT\\n\\nAgreement dated ^46 , 2013, ...    150000000   \n",
       "4     LOAN AGREEMENT\\n\\nAGREEMENT, dated May 7, 1991...     55000000   \n",
       "...                                                 ...          ...   \n",
       "3190  LOAN AGREEMENT\\n\\n      AGREEMENT, dated Octob...     38000000   \n",
       "3191  LOAN AGREEMENT\\n\\nAgreement, as of the Signatu...     40000000   \n",
       "3192  LOAN AGREEMENT \\n\\nAgreement dated April 18, 2...     15300000   \n",
       "3193  LOAN AGREEMENT \\n\\n AGREEMENT dated June 8, 20...     94500000   \n",
       "3194                                               None    300751879   \n",
       "\n",
       "                                           Project Name  \n",
       "0     Kolubara B Thermal Power and Lignite Mine Project  \n",
       "1                         Railway Restructuring Project  \n",
       "2                         Beijing Environmental Project  \n",
       "3     Liaoning Coastal Economic Zone Urban Infrastru...  \n",
       "4                          Third Highway Sector Project  \n",
       "...                                                 ...  \n",
       "3190                       Technical Assistance Project  \n",
       "3191  Tertiary Education Finance for Results Project...  \n",
       "3192    Chimborazo Development Investment Project (PIDD  \n",
       "3193  Andhra Pradesh Community-Based Tank Management...  \n",
       "3194  Third Upper Secondary Education\\nDevelopment P...  \n",
       "\n",
       "[3195 rows x 12 columns]"
      ],
      "text/html": "<div>\n<style scoped>\n    .dataframe tbody tr th:only-of-type {\n        vertical-align: middle;\n    }\n\n    .dataframe tbody tr th {\n        vertical-align: top;\n    }\n\n    .dataframe thead th {\n        text-align: right;\n    }\n</style>\n<table border=\"1\" class=\"dataframe\">\n  <thead>\n    <tr style=\"text-align: right;\">\n      <th></th>\n      <th>year</th>\n      <th>month</th>\n      <th>day</th>\n      <th>id</th>\n      <th>name</th>\n      <th>file_content</th>\n      <th>countries</th>\n      <th>sections</th>\n      <th>TITLE</th>\n      <th>LOAN AGREEMENT</th>\n      <th>Total Amount</th>\n      <th>Project Name</th>\n    </tr>\n  </thead>\n  <tbody>\n    <tr>\n      <th>0</th>\n      <td>1991</td>\n      <td>september</td>\n      <td>12</td>\n      <td>558671468103155868</td>\n      <td>conformed-copy--l3361--kolubara-b-thermal-powe...</td>\n      <td>CONFORMED COPY\\n\\n                            ...</td>\n      <td>[Serbia, United States]</td>\n      <td>{'TITLE': (0, 506), 'LOAN AGREEMENT': (506, 25...</td>\n      <td>CONFORMED COPY\\n\\n                            ...</td>\n      <td>LOAN AGREEMENT\\n\\n      AGREEMENT, dated Septe...</td>\n      <td>300000000</td>\n      <td>Kolubara B Thermal Power and Lignite Mine Project</td>\n    </tr>\n    <tr>\n      <th>1</th>\n      <td>2001</td>\n      <td>may</td>\n      <td>31</td>\n      <td>473681468094784501</td>\n      <td>conformed-copy--l7054--railway-restructuring-p...</td>\n      <td>CONFORMED COPY\\n\\nLOAN NUMBER 7054 POL\\n\\nLoan...</td>\n      <td>[Poland, United States]</td>\n      <td>{'TITLE': (0, 239), 'LOAN AGREEMENT': (239, 15...</td>\n      <td>CONFORMED COPY\\n\\nLOAN NUMBER 7054 POL\\n\\nLoan...</td>\n      <td>LOAN AGREEMENT\\n\\nAGREEMENT, dated May 31, 200...</td>\n      <td>110000000</td>\n      <td>Railway Restructuring Project</td>\n    </tr>\n    <tr>\n      <th>2</th>\n      <td>1991</td>\n      <td>november</td>\n      <td>19</td>\n      <td>892131468028134392</td>\n      <td>china--beijing-environmental-project-:-loan-34...</td>\n      <td>LOAN NUMBER 3415 CHA \\n\\nLoan Agreement \\n\\n(B...</td>\n      <td>[China, United States]</td>\n      <td>{'TITLE': (0, 228), 'LOAN AGREEMENT': (228, 21...</td>\n      <td>LOAN NUMBER 3415 CHA \\n\\nLoan Agreement \\n\\n(B...</td>\n      <td>LOAN AGREEMENT \\n\\nAGREEMENT, dated Literal 4b...</td>\n      <td>60100000</td>\n      <td>Beijing Environmental Project</td>\n    </tr>\n    <tr>\n      <th>3</th>\n      <td>2013</td>\n      <td>may</td>\n      <td>20</td>\n      <td>945021468224685176</td>\n      <td>official-documents-loan-agreement,-l8236-cn-cl...</td>\n      <td>MENTS\\n\\nLOAN NUMBER 8236-CN\\n\\nLoan Agreement...</td>\n      <td>[China, United States]</td>\n      <td>{'TITLE': (0, 267), 'LOAN AGREEMENT': (267, 48...</td>\n      <td>MENTS\\n\\nLOAN NUMBER 8236-CN\\n\\nLoan Agreement...</td>\n      <td>LOAN AGREEMENT\\n\\nAgreement dated ^46 , 2013, ...</td>\n      <td>150000000</td>\n      <td>Liaoning Coastal Economic Zone Urban Infrastru...</td>\n    </tr>\n    <tr>\n      <th>4</th>\n      <td>1991</td>\n      <td>may</td>\n      <td>7</td>\n      <td>107521468303622178</td>\n      <td>conformed-copy--l3230--third-highway-sector-pr...</td>\n      <td>CONFORMED COPY\\n\\nLOAN NUMBER 3230 YU\\n\\nLoan ...</td>\n      <td>[Bosnia and Herzegovina, United States]</td>\n      <td>{'TITLE': (0, 364), 'LOAN AGREEMENT': (364, 14...</td>\n      <td>CONFORMED COPY\\n\\nLOAN NUMBER 3230 YU\\n\\nLoan ...</td>\n      <td>LOAN AGREEMENT\\n\\nAGREEMENT, dated May 7, 1991...</td>\n      <td>55000000</td>\n      <td>Third Highway Sector Project</td>\n    </tr>\n    <tr>\n      <th>...</th>\n      <td>...</td>\n      <td>...</td>\n      <td>...</td>\n      <td>...</td>\n      <td>...</td>\n      <td>...</td>\n      <td>...</td>\n      <td>...</td>\n      <td>...</td>\n      <td>...</td>\n      <td>...</td>\n      <td>...</td>\n    </tr>\n    <tr>\n      <th>3190</th>\n      <td>1993</td>\n      <td>october</td>\n      <td>15</td>\n      <td>268921468048527743</td>\n      <td>conformed-copy--l3642--technical-assistance-pr...</td>\n      <td>CONFORMED COPY\\n\\n                            ...</td>\n      <td>[Kazakhstan, United States]</td>\n      <td>{'TITLE': (0, 533), 'LOAN AGREEMENT': (533, 11...</td>\n      <td>CONFORMED COPY\\n\\n                            ...</td>\n      <td>LOAN AGREEMENT\\n\\n      AGREEMENT, dated Octob...</td>\n      <td>38000000</td>\n      <td>Technical Assistance Project</td>\n    </tr>\n    <tr>\n      <th>3191</th>\n      <td>2013</td>\n      <td>march</td>\n      <td>21</td>\n      <td>584611468237295236</td>\n      <td>official-documents-loan-agreement-for-loan-812...</td>\n      <td>DOC r'1 3 2013OFFICIAL \\nN, 321\\n\\nDOCUMENTS\\n...</td>\n      <td>[Chile, United States]</td>\n      <td>{'TITLE': (0, 235), 'LOAN AGREEMENT': (235, 50...</td>\n      <td>DOC r'1 3 2013OFFICIAL \\nN, 321\\n\\nDOCUMENTS\\n...</td>\n      <td>LOAN AGREEMENT\\n\\nAgreement, as of the Signatu...</td>\n      <td>40000000</td>\n      <td>Tertiary Education Finance for Results Project...</td>\n    </tr>\n    <tr>\n      <th>3192</th>\n      <td>2008</td>\n      <td>april</td>\n      <td>18</td>\n      <td>448831468262773500</td>\n      <td>loan-agreement,-l7496-ec-conformed.txt</td>\n      <td>CONFORMED COPY \\n\\nLOAN NUMBER 7496-EC \\n\\nLoa...</td>\n      <td>[Ecuador, United States]</td>\n      <td>{'TITLE': (0, 262), 'LOAN AGREEMENT': (262, 63...</td>\n      <td>CONFORMED COPY \\n\\nLOAN NUMBER 7496-EC \\n\\nLoa...</td>\n      <td>LOAN AGREEMENT \\n\\nAgreement dated April 18, 2...</td>\n      <td>15300000</td>\n      <td>Chimborazo Development Investment Project (PIDD</td>\n    </tr>\n    <tr>\n      <th>3193</th>\n      <td>2007</td>\n      <td>june</td>\n      <td>8</td>\n      <td>642541468034864651</td>\n      <td>loan-agreement-l4857-in--andhra-pradesh-commun...</td>\n      <td>CONFORMED COPY \\n\\nLOAN NUMBER 4857-IN \\n\\nLoa...</td>\n      <td>[India, United States]</td>\n      <td>{'TITLE': (0, 242), 'LOAN AGREEMENT': (242, 27...</td>\n      <td>CONFORMED COPY \\n\\nLOAN NUMBER 4857-IN \\n\\nLoa...</td>\n      <td>LOAN AGREEMENT \\n\\n AGREEMENT dated June 8, 20...</td>\n      <td>94500000</td>\n      <td>Andhra Pradesh Community-Based Tank Management...</td>\n    </tr>\n    <tr>\n      <th>3194</th>\n      <td>2014</td>\n      <td>february</td>\n      <td>18</td>\n      <td>277931468279946325</td>\n      <td>official-documents-loan-agreement,-l8314-mx-cl...</td>\n      <td>OFFICIAL\\n00CUMENTS\\n\\nLOAN NUMBER 8314-MX\\n\\n...</td>\n      <td>[United States]</td>\n      <td>{'TITLE': (0, 1322), 'ARTICLE I': (1322, 1681)...</td>\n      <td>OFFICIAL\\n00CUMENTS\\n\\nLOAN NUMBER 8314-MX\\n\\n...</td>\n      <td>None</td>\n      <td>300751879</td>\n      <td>Third Upper Secondary Education\\nDevelopment P...</td>\n    </tr>\n  </tbody>\n</table>\n<p>3195 rows × 12 columns</p>\n</div>"
     },
<<<<<<< HEAD
     "execution_count": 108,
=======
>>>>>>> ad77e0742b0d2d7c02c379d6e19d0722724f5689
     "metadata": {},
     "execution_count": 14
    }
   ],
   "source": [
    "df"
   ]
  },
  {
   "cell_type": "code",
<<<<<<< HEAD
   "execution_count": 17,
   "metadata": {},
   "outputs": [
    {
     "name": "stdout",
     "output_type": "stream",
     "text": [
      "CONFORMED COPY\n",
      "\n",
      "LOAN NUMBER 7054 POL\n",
      "\n",
      "Loan Agreement\n",
      "\n",
      "(Railway Restructuring Project)\n",
      "\n",
      "INTERNATIONAL BANK FOR RECONSTRUCTION\n",
      "AND DEVELOPMENT\n",
      "\n",
      "between\n",
      "\n",
      "and\n",
      "\n",
      "POLSKIE KOLEJE PANSTWOWE SPOLKA AKCYJNA\n",
      "\n",
      "Dated May 31, 2001\n",
      "\n",
      "\n"
     ]
    }
   ],
   "source": [
    "print(df.loc[1,'TITLE'])"
   ]
  },
  {
   "cell_type": "markdown",
   "metadata": {},
   "source": [
    "## Some NLP\n",
    "Tried to train a deep learning model to extract the borrower\n",
    "Resources:\n",
    "1. Sequence_to_Sequence: https://towardsdatascience.com/attention-seq2seq-with-pytorch-learning-to-invert-a-sequence-34faf4133e53 (predict the next sentence)\n",
    "\n",
    "2. Sequence_to_Sequence: "
   ]
  },
  {
   "cell_type": "code",
   "execution_count": 22,
   "metadata": {},
   "outputs": [],
   "source": [
    "import torch\n",
    "import torch.nn as nn\n",
    "import torch.optim as optim\n",
    "\n",
    "from torchtext.legacy.datasets import Multi30k\n",
    "from torchtext.legacy.data import Field, BucketIterator\n",
    "\n",
    "import spacy\n",
    "import numpy as np\n",
    "\n",
    "import random\n",
    "import math\n",
    "import time"
   ]
  },
  {
   "cell_type": "code",
   "execution_count": 26,
   "metadata": {},
   "outputs": [],
   "source": [
    "import spacy"
   ]
  },
  {
   "cell_type": "code",
   "execution_count": 23,
   "metadata": {},
   "outputs": [],
   "source": [
    "SEED = 1234\n",
    "\n",
    "random.seed(SEED)\n",
    "np.random.seed(SEED)\n",
    "torch.manual_seed(SEED)\n",
    "torch.cuda.manual_seed(SEED)\n",
    "torch.backends.cudnn.deterministic = True"
   ]
  },
  {
   "cell_type": "code",
   "execution_count": 66,
   "metadata": {},
   "outputs": [],
   "source": [
    "spacy_de = spacy.load('de_core_news_sm')\n",
    "spacy_en = spacy.load('en_core_web_sm')"
   ]
  },
  {
   "cell_type": "code",
   "execution_count": 67,
   "metadata": {},
   "outputs": [],
   "source": [
    "def tokenize_de(text):\n",
    "    \"\"\"\n",
    "    Tokenizes German text from a string into a list of strings (tokens) and reverses it\n",
    "    \"\"\"\n",
    "    return [tok.text for tok in spacy_de.tokenizer(text)][::-1]\n",
    "\n",
    "def tokenize_en(text):\n",
    "    \"\"\"\n",
    "    Tokenizes English text from a string into a list of strings (tokens)\n",
    "    \"\"\"\n",
    "    return [tok.text for tok in spacy_en.tokenizer(text)]"
   ]
  },
  {
   "cell_type": "code",
   "execution_count": 68,
   "metadata": {},
   "outputs": [],
   "source": [
    "SRC = Field(tokenize = tokenize_de, \n",
    "            init_token = '<sos>', \n",
    "            eos_token = '<eos>', \n",
    "            lower = True)\n",
    "\n",
    "TRG = Field(tokenize = tokenize_en, \n",
    "            init_token = '<sos>', \n",
    "            eos_token = '<eos>', \n",
    "            lower = True)"
   ]
  },
  {
   "cell_type": "code",
   "execution_count": 69,
   "metadata": {
    "scrolled": true
   },
   "outputs": [
    {
     "name": "stdout",
     "output_type": "stream",
     "text": [
      "downloading training.tar.gz\n"
     ]
    },
    {
     "name": "stderr",
     "output_type": "stream",
     "text": [
      "training.tar.gz: 100%|██████████| 1.21M/1.21M [00:01<00:00, 624kB/s]\n"
     ]
    },
    {
     "name": "stdout",
     "output_type": "stream",
     "text": [
      "downloading validation.tar.gz\n"
     ]
    },
    {
     "name": "stderr",
     "output_type": "stream",
     "text": [
      "validation.tar.gz: 100%|██████████| 46.3k/46.3k [00:00<00:00, 220kB/s]\n"
     ]
    },
    {
     "name": "stdout",
     "output_type": "stream",
     "text": [
      "downloading mmt_task1_test2016.tar.gz\n"
     ]
    },
    {
     "name": "stderr",
     "output_type": "stream",
     "text": [
      "mmt_task1_test2016.tar.gz: 100%|██████████| 66.2k/66.2k [00:00<00:00, 152kB/s]\n"
     ]
    }
   ],
   "source": [
    "train_data, valid_data, test_data = Multi30k.splits(exts = ('.de', '.en'), \n",
    "                                                    fields = (SRC, TRG))"
   ]
  },
  {
   "cell_type": "code",
   "execution_count": 77,
   "metadata": {},
   "outputs": [
    {
     "data": {
      "text/plain": [
       "torchtext.legacy.datasets.translation.Multi30k"
      ]
     },
     "execution_count": 77,
     "metadata": {},
     "output_type": "execute_result"
    }
   ],
   "source": [
    "Multi30k"
   ]
  },
  {
   "cell_type": "code",
   "execution_count": 76,
   "metadata": {},
   "outputs": [
    {
     "name": "stdout",
     "output_type": "stream",
     "text": [
      "{'src': ['.', 'büsche', 'vieler', 'nähe', 'der', 'in', 'freien', 'im', 'sind', 'männer', 'weiße', 'junge', 'zwei'], 'trg': ['two', 'young', ',', 'white', 'males', 'are', 'outside', 'near', 'many', 'bushes', '.']}\n"
     ]
    }
   ],
   "source": [
    "print(vars(train_data.examples[0]))"
   ]
  },
  {
   "cell_type": "code",
   "execution_count": 54,
   "metadata": {},
   "outputs": [],
   "source": [
    "doc = df.loc[3,'TITLE']"
   ]
  },
  {
   "cell_type": "code",
   "execution_count": 55,
   "metadata": {},
   "outputs": [],
   "source": [
    "doc = doc.split('\\n')"
   ]
  },
  {
   "cell_type": "code",
   "execution_count": 58,
   "metadata": {},
   "outputs": [
    {
     "data": {
      "text/plain": [
       "['MENTS',\n",
       " '',\n",
       " 'LOAN  NUMBER  8236-CN',\n",
       " '',\n",
       " 'Loan Agreement',\n",
       " '',\n",
       " '(Liaoning  Coastal Economic  Zone Urban  Infrastructure',\n",
       " 'and  Environmental  Management  Project)',\n",
       " '',\n",
       " \"PEOPLE'S REPUBLIC  OF CHINA\",\n",
       " '',\n",
       " 'between',\n",
       " '',\n",
       " 'and',\n",
       " '',\n",
       " 'INTERNATIONAL  BANK FOR RECONSTRUCTION',\n",
       " 'AND  DEVELOPMENT',\n",
       " '',\n",
       " 'Dated ',\n",
       " '',\n",
       " ',2013',\n",
       " '',\n",
       " '\\x0cLOAN  NUMBER  8236-CN',\n",
       " '',\n",
       " '']"
      ]
     },
     "execution_count": 58,
     "metadata": {},
     "output_type": "execute_result"
    }
   ],
   "source": [
    "doc"
   ]
  },
  {
   "cell_type": "code",
   "execution_count": 35,
   "metadata": {},
   "outputs": [
    {
     "name": "stderr",
     "output_type": "stream",
     "text": [
      "wikitext-2-v1.zip: 100%|██████████| 4.48M/4.48M [00:01<00:00, 2.38MB/s]\n"
     ]
    }
   ],
   "source": [
    "import io\n",
    "import torch\n",
    "from torchtext.datasets import WikiText2\n",
    "from torchtext.data.utils import get_tokenizer\n",
    "from collections import Counter\n",
    "from torchtext.vocab import Vocab\n",
    "\n",
    "train_iter = WikiText2(split='train')\n",
    "tokenizer = get_tokenizer('basic_english')\n",
    "counter = Counter()\n",
    "for line in train_iter:\n",
    "    counter.update(tokenizer(line))\n",
    "vocab = Vocab(counter)\n",
    "\n",
    "def data_process(raw_text_iter):\n",
    "    data = [torch.tensor([vocab[token] for token in tokenizer(item)],\n",
    "                       dtype=torch.long) for item in raw_text_iter]\n",
    "    return torch.cat(tuple(filter(lambda t: t.numel() > 0, data)))"
   ]
  },
  {
   "cell_type": "code",
   "execution_count": 37,
   "metadata": {},
   "outputs": [
    {
     "data": {
      "text/plain": [
       "<torchtext.data.datasets_utils._RawTextIterableDataset at 0x7ff199842c40>"
      ]
     },
     "execution_count": 37,
     "metadata": {},
     "output_type": "execute_result"
    }
   ],
   "source": [
    "train_iter"
   ]
  },
  {
   "cell_type": "code",
   "execution_count": 44,
   "metadata": {},
   "outputs": [],
   "source": [
    "train_iter, val_iter, test_iter = WikiText2()\n",
    "train_data = data_process(train_iter)\n",
    "val_data = data_process(val_iter)\n",
    "test_data = data_process(test_iter)\n",
    "\n",
    "# device = torch.device(\"cuda\" if torch.cuda.is_available() else \"cpu\")\n",
    "\n",
    "# def batchify(data, bsz):\n",
    "#     # Divide the dataset into bsz parts.\n",
    "#     nbatch = data.size(0) // bsz\n",
    "#     # Trim off any extra elements that wouldn't cleanly fit (remainders).\n",
    "#     data = data.narrow(0, 0, nbatch * bsz)\n",
    "#     # Evenly divide the data across the bsz batches.\n",
    "#     data = data.view(bsz, -1).t().contiguous()\n",
    "#     return data.to(device)\n",
    "\n",
    "# batch_size = 20\n",
    "# eval_batch_size = 10\n",
    "# train_data = batchify(train_data, batch_size)\n",
    "# val_data = batchify(val_data, eval_batch_size)\n",
    "# test_data = batchify(test_data, eval_batch_size)"
   ]
  },
  {
   "cell_type": "code",
   "execution_count": 46,
   "metadata": {},
   "outputs": [
    {
     "data": {
      "text/plain": [
       "tensor([  10, 3850, 3870,  ..., 2443, 4811,    4])"
      ]
     },
     "execution_count": 46,
     "metadata": {},
     "output_type": "execute_result"
    }
   ],
   "source": [
    "train_data"
   ]
  },
  {
   "cell_type": "code",
   "execution_count": 43,
   "metadata": {},
   "outputs": [
    {
     "data": {
      "text/plain": [
       "28782"
      ]
     },
     "execution_count": 43,
     "metadata": {},
     "output_type": "execute_result"
    }
   ],
   "source": [
    "len(counter)"
   ]
  },
  {
   "cell_type": "code",
   "execution_count": 88,
=======
   "execution_count": 15,
>>>>>>> ad77e0742b0d2d7c02c379d6e19d0722724f5689
   "metadata": {},
   "outputs": [
    {
     "output_type": "stream",
     "name": "stdout",
     "text": [
<<<<<<< HEAD
      "OFFICIAL\n",
      "DOCUMENTS\n",
      "\n",
      "ORIGINAL  GRANT\n",
      "SCF-PPCR  GRANT  NUMBER  TF014588\n",
      "\n",
      "ADDITIONAL  GRANT\n",
      "SCF-PPCR GRANT NUMBER  TF0A7482-ZM\n",
      "\n",
      "Strategic Climate  Fund- Pilot Program\n",
      "for Climate Resilience  Grant Agreement\n",
      "\n",
      "(Providing Additional  Financing  and Amending  and Restating  the Original  Grant\n",
      "Agreement  for the  Strengthening  Climate  Resilience  PPCR (Phase II) Project)\n",
      "\n",
      "REPUBLIC  OF ZAMBIA\n",
      "\n",
      "between\n",
      "\n",
      "and\n",
      "\n",
      "Dated \n",
      "\n",
      "\\  Q \n",
      "\n",
      ",2018\n",
      "\n",
      "INTERNATIONAL  DEVELOPMENT  ASSOCIATION\n",
      "acting  as an  implementing  entity  of the  Strategic  Climate Fund-  Pilot Program  for\n",
      "Climate  Resilience\n",
      "\n",
      "\f",
      "SCF-PPCR GRANT  NUMBER  TF014588\n",
      "SCF-PPCR  GRANT  NUMBER  TF TF0A7482-ZM\n",
      "\n",
      "STRATEGIC  CLIMATE FUND-  PILOT PROGRAM  FOR CLIMATE\n",
      "RESILIENCE GRANT  AGREEMENT\n",
      "\n",
      ",  2018,  entered  into  between  REPUBLIC  OF  ZAMBIA\n",
      "AGREEMENT  dated \n",
      "(\"World\n",
      "(\"Recipient\");  and  INTERNATIONAL  DEVELOPMENT  ASSOCIATION \n",
      "Bank\"),  acting  in  its  capacity  as  an  implementing  entity  of the  Strategic  Climate  Fund\n",
      "(\"SCF\") - Pilot Program  for Climate  Resilience  (\"PPCR\").\n",
      "\n",
      "(A) \n",
      "\n",
      "under an  agreement  dated  June  14,  2013  as amended to  date,  between the\n",
      "Recipient  and  the  World  Bank  (\"Original  Grant  Agreement\"),  the  World  Bank,  acting  in\n",
      "its capacity  as  an  implementing  entity  of the  SCF-PPCR,  agreed  to  provide  the  Recipient\n",
      "with a  grant (SCF-PPCR  Grant  No. TFO  14588)  in  an  amount  of thirty-one  million  Dollars\n",
      "($3  1,000,000)  (\"Original  Grant\") to  assist in financing the  project described  in Schedule  I\n",
      "to the  Original  Grant  Agreement  (\"Original  Project\");\n",
      "\n",
      "(B) \n",
      "\n",
      "under  an  agreement  dated  June  14,  2013  as  amended  to  date,  between  the\n",
      "Recipient  and  the  World  Bank,  (\"Loan  Agreement\"),  the  World  Bank,  acting  not  in  its\n",
      "individual  capacity  but  solely  in  its  capacity  as an  implementing  entity  SCF-PPCR,  agreed\n",
      "to  provide  the  Recipient  with  a  loan (SCF-PPCR  loan number  TFO 14573)  in an  amount of\n",
      "five  million  Dollars  (US$5,000,000)  (\"Original  Loan\")  to  assist  in  financing  the  Original\n",
      "Project;\n",
      "\n",
      "(C) \n",
      "\n",
      "the  Recipient  has  requested  the  World  Bank,  acting  in  its  capacity  as  an\n",
      "implementing  entity  of  the  Strategic  Climate  Fund  SCF-PPCR  to  provide  additional\n",
      "financing  from  SCF-PPCR  in  support  of  activities  related  to  the  Original  Project,  by\n",
      "providing  a  grant in  an  amount  of one  million  one  hundred  thousand  Dollars  ($1,100,000)\n",
      "(\"Additional  Grant\")  and  a  Loan  in  an  amount  equivalent  to  thirteen  million  five  hundred\n",
      "thousand  Dollars  ($13,500,000)  (\"Additional  Loan\");  and\n",
      "\n",
      "(D) \n",
      "\n",
      "the  World  Bank  has  agreed,  on  the  basis,  inter alia, of the  foregoing,  to\n",
      "extend  such  additional  financing  to  the  Recipient  upon  the  terms  and  conditions  set forth\n",
      "in  this Agreement.\n",
      "\n",
      "NOW THEREFORE  the  Recipient  and the World  Bank hereby agree  to amend and\n",
      "restate  the  Original  Grant  Agreement  with  effect  from  the  Effective  Date  of  this\n",
      "Agreement,  to  read as  follows:\n",
      "\n",
      "Article  I\n",
      "Standard Conditions; Definitions\n",
      "\n",
      "\f",
      "1.01. \n",
      "\n",
      "The  Standard  Conditions  for  Grants  Made  by  the  World  Bank  Out  of  Various\n",
      "Funds,  dated  February  15,  2012  (\"Standard  Conditions\"),  constitute  an  integral\n",
      "part of this  Agreement.\n",
      "\n",
      "1.02.  Unless the context  requires  otherwise, the capitalized terms used in  this Agreement\n",
      "have  the  meanings  ascribed  to  them  in  the  Standard  Conditions  or  in  this\n",
      "Agreement.\n",
      "\n",
      "2.01.  The  Recipient  declares  its  commitment  to  the  objectives  of the  Project  described\n",
      "in  Schedule  I  to this  Agreement (\"Project\").  To this end,  the Recipient  shall carry\n",
      "out  the  Project  through  the  Ministry  of  National  Development  Planning  in\n",
      "accordance  with  the  provisions  of Article II  of the  Standard  Conditions.\n",
      "\n",
      "2.02.  Without  limitation  upon  the  provisions  of  Section  2.01  of this  Agreement,  and\n",
      "except  as  the  Recipient  and  the  World  Bank  shall  otherwise  agree,  the  Recipient\n",
      "shall  ensure  that  the  Project  is  carried  out  in  accordance  with  the  provisions  of\n",
      "Schedule  2  to  this Agreement.\n",
      "\n",
      "-2-\n",
      "\n",
      "Article  II\n",
      "The  Project\n",
      "\n",
      "Article  III\n",
      "The  Grant\n",
      "\n",
      "3.01. \n",
      "\n",
      "The  World Bank  agrees to  extend to the  Recipient,  on the terms and conditions  set\n",
      "forth  or referred  to  in  this  Agreement,  a  grant  in  a  total  amount thirty-two  million\n",
      "one  hundred  thousand  United  States  Dollars  ($32,100,000)  (\"Grant\")  (consisting\n",
      "of the  Original  Grant  in the amount  of ($3  1,000,000)  and  Additional  Grant  in  the\n",
      "amount  of $1,100,000)  to  assist  in  financing the  Project.\n",
      "\n",
      "3.02. \n",
      "\n",
      "The  Recipient  may  withdraw the proceeds  of the Grant  in  accordance  with  Section\n",
      "IV  of Schedule  2  to this  Agreement.\n",
      "\n",
      "3.03. \n",
      "\n",
      "The Grant  is funded  out of the above-mentioned  trust fund  for which the World Bank\n",
      "receives  periodic  contributions  from the donors to the trust fund.  In accordance  with\n",
      "Section  3.02  of the  Standard  Conditions,  the  World  Bank's  payment  obligations  in\n",
      "connection  with this Agreement  are  limited to the amount  of funds made  available to\n",
      "it  by  the  donors  under the  abovementioned  trust  fund,  and  the  Recipient's  right  to\n",
      "withdraw  the  Grant  proceeds  is  subject to the availability  of such  funds.\n",
      "\n",
      "\f",
      "-3-\n",
      "\n",
      "Article  IV\n",
      "Effectiveness;  Termination\n",
      "\n",
      "4.01. \n",
      "\n",
      "This Agreement  shall  not become  effective  until  evidence  satisfactory  to the  World\n",
      "Bank has  been  furnished to the World Bank that the conditions  specified below have\n",
      "been  satisfied:\n",
      "\n",
      "(a) \n",
      "\n",
      "(b) \n",
      "\n",
      "The  execution  and  delivery  of this  Agreement  on  behalf  of the  Recipient\n",
      "have  been  duly authorized  or ratified  by all  necessary  governmental  action.\n",
      "\n",
      "The  SCF-PPCR  Loan  Agreement  has  been  signed  and  delivered,  and  all\n",
      "conditions  of effectiveness  of said  agreement or the right  of the Recipient to\n",
      "withdraw  funds thereunder  have been satisfied,  except  for the condition  that\n",
      "this Agreement  has  become  effective.\n",
      "\n",
      "4.02.  As  part  of the  evidence  to  be  furnished  pursuant  to  Section  4.01,  there  shall  be\n",
      "furnished  to the  World  Bank an  opinion or opinions  satisfactory  to  the World  Bank\n",
      "of  counsel  acceptable  to  the  World  Bank  or,  if  the  World  Bank  so  requests,  a\n",
      "certificate  satisfactory  to  the  World  Bank  of a  competent  official  of the  Recipient,\n",
      "showing on  behalf of the Recipient,  that this Agreement  has  been duly  authorized  or\n",
      "ratified  by,  and  executed  and  delivered  on  its  behalf and  is legally  binding upon  it in\n",
      "accordance  with  its terms.\n",
      "\n",
      "4.03. \n",
      "\n",
      "Except as  the  Recipient  and the  World  Bank  shall  otherwise  agree,  this  Agreement\n",
      "shall  enter  into  effect  on  the  date  upon  which  the  World  Bank  dispatches  to  the\n",
      "Recipient  notice  of its acceptance  of the  evidence  required  pursuant  to Section  4.01\n",
      "of this  Agreement  (\"Effective  Date\").  If,  before  the Effective  Date,  any  event  has\n",
      "occurred  which  would  have  entitled  the  World  Bank  to  suspend  the  right  of the\n",
      "Recipient  to  make withdrawals  from  the Grant  Account  if this Agreement  had been\n",
      "effective,  the World  Bank may  postpone the  dispatch of the notice  referred to  in this\n",
      "Section  until such  event  (or  events)  has (or  have) ceased to  exist.\n",
      "\n",
      "4.04.  This  Agreement  and  all  obligations  of the  parties  under  it  shall  terminate  if it  has\n",
      "not entered  into effect  by the  date  90 days  after the date  of this  Agreement,  unless\n",
      "the  World Bank,  after consideration  of the  reasons for the  delay,  establishes a later\n",
      "date  for  the  purpose  of this  Section.  The  World  Bank  shall  promptly  notify  the\n",
      "Recipient  of such  later date.\n",
      "\n",
      "Article  V\n",
      "Recipient's Representative;  Addresses\n",
      "\n",
      "5.01. \n",
      "\n",
      "The  Recipient's  Representative  referred  to \n",
      "Conditions  is  its  minister  responsible  for finance.\n",
      "\n",
      "in  Section  7.02  of  the  Standard\n",
      "\n",
      "5.02. \n",
      "\n",
      "The  Recipient's  Address referred  to  in  Section  7.01  of the  Standard  Conditions  is:\n",
      "\n",
      "\f",
      "-4-\n",
      "\n",
      "Ministry  of Finance\n",
      "P.O.  Box  50062\n",
      "Lusaka\n",
      "Zambia\n",
      "\n",
      "Telex: \n",
      "\n",
      "Facsimile:\n",
      "\n",
      "(+260)  42221 \n",
      "\n",
      "(+260  211) 253494/251078\n",
      "\n",
      "5.03.  The  World  Bank's Address  referred  to  in  Section  7.01  of the  Standard  Conditions\n",
      "\n",
      "is:\n",
      "\n",
      "International  Development  Association\n",
      "1818  H  Street, N.W.\n",
      "Washington,  D.C.  20433\n",
      "United  States  of America\n",
      "\n",
      "Cable: \n",
      "\n",
      "Telex: \n",
      "\n",
      "Facsimile:\n",
      "\n",
      "INDEVAS \n",
      "Washington,  D.C. \n",
      "\n",
      "248423  (MCI)  or \n",
      "64145  (MCI)\n",
      "\n",
      "1-202-477-6391\n",
      "\n",
      "\f",
      "-5-\n",
      "\n",
      "AGREED  at  LYL^VKA \n",
      "\n",
      "isus I,  as  of the day  and year  first  above\n",
      "\n",
      "written.\n",
      "\n",
      "By\n",
      "\n",
      "By \n",
      "\n",
      "REPUBLIC  OF ZAMBIA\n",
      "\n",
      "Authorized  Representative\n",
      "\n",
      "Name:  kjq4  yA  cT\n",
      "\n",
      "Title:  M_  ______\n",
      "\n",
      "INTERNATIONAL  DEVELOPMENT  ASSOCIATION\n",
      "acting  as  an implementing  entity of the  Strategic Climate\n",
      "Fund - Pilot Program  for Climate  Resilience\n",
      "\n",
      "Authorized  Represen \n",
      "\n",
      "tive\n",
      "\n",
      "Name:\n",
      "\n",
      "Title:__ \n",
      "\n",
      "_ \n",
      "\n",
      "_ \n",
      "\n",
      "_ \n",
      "\n",
      "_ \n",
      "\n",
      "_ \n",
      "\n",
      "_ \n",
      "\n",
      "_ \n",
      "\n",
      "_ \n",
      "\n",
      "_\n",
      "\n",
      "/\n",
      "\f",
      "-6-\n",
      "\n",
      "\n"
=======
      "\nNon-consulting Services under IBRD Loans and IDA Credits and Grants by World Bank\nBorrowers\" dated January 2011.\n\n13. \"Procurement Plan\" means the Borrower's procurement plan for the Project, dated\nNovember 26, 2012, and referred to in paragraph 1.18 of the Procurement Guidelines and\nparagraph 1.25 of the Consultant Guidelines, as the same shall be updated from time to\ntime in accordance with the provisions of said paragraphs.\n\n14. \"Project Agreement\" means the agreement between the Bank and the Project\nImplementing Entity -of even date herewith, as the same may be amended from time to\ntime; and such term includes all schedules and agreements supplemental to the Project\nAgreement.\n\n15. \"Project Cities\" means the Borrower's counties/cities/district of: (a) Panjin City; (b)\nDonggang City and Kuandian County (under the jurisdiction of Dandong City); (c)\nLongcheng District and Lingyuan City (under the jurisdiction of Chaoyang City); and (d)\nSuizhong County (under the jurisdiction of Hu Lu Dao City); all located in the Borrower's\nLiaoning Province, and any successors thereto; and a \"Project City\" means, individually,\nany of said Project Cities.\n\n16. \"Project Companies\" means, collectively: (a) Chaoyang West New Industrial Zone\nConstruction and Investment Company, Ltd.; (b) Kuandian Rural-Urban Real Estate\nConstruction and Development Company, Ltd.; and (c) Panjin Public Transport\nCompany, Ltd.; and \"Project Company\" means, individually, any of the Project\nCompanies.\n\n17. \"Project Implementing Entity\" means the Borrower's Province of Liaoning and any\nsuccessor thereto.\n18. \"Project Leading Groups\" means the groups referred to in Section I.A. 1(a) of the\nSchedule to the Project Agreement, and organized as follows: (a) at the provincial level,\nthe group shall be chaired by the relevant provincial Vice-Governor, along with the\nleaders of the relevant provincial bureaus (including, without limitation: the Development\nand Reform Commission, the Finance Bureau, the Transportation Bureau, the Water\nResources Bureau, the Land Resources Bureau, the Environmental Protection Bureau,\nand other institutions and/or agencies as appropriate); and (b) at the county/city/district\nlevel, the group shall be chaired by the respective county/city/district Vice Mayor, along\nwith the leaders of the relevant institutions and/or agencies at the county/city/district\nlevel, as appropriate.\n\n19. \"Project Management Office\" means the office (the Foreign Fund Utilization Project\nOffice) referred to in paragraph 1(b) of Section I of the Schedule to the Project\nAgreement, established under the Liaoning Provincial Development and Reform\nCommission, and any successor thereto.\n\n20. \"Resettlement Action Plans\" or the acronym \"RAPs\" means, collectively, the following\nplans (included as part of the Operational Manual) which set out the principles and\nprocedures governing the acquisition of land and other assets, and the resettlement,\ncompensation and rehabilitation of Displaced Persons on account of the execution of the\nProject, as well as monitoring and reporting arrangements to ensure compliance with said\nplans, as the same may be revised from time to time with the prior agreement of the\nBank:\n\n(a) Chaoyang-Longcheng District RAP, dated October 23, 2012; (b) Donggang City\nRAP, dated October 23, 2012; (c) Kuandian County RAP, dated October 23, 2012; (d)\nLingyuan City RAP, dated October 23, 2012; (e) Panjin City RAP, dated October 23,\n2012; and (f) Suizhong City RAP, dated October 23, 2012.\n\nThe acronym \"RAP\" means, individually, any such plan.\n\n21. \"Resettlement Policy Framework\" or the acronym \"RPF\" means the policy framework,\ndated October 17, 2012, adopted by the Project Implementing Entity and included as part\nof the Operational Manual, which sets out the policies and procedures for resettlement,\ncompensation and rehabilitation of Displaced Persons, and for the preparation of\nresettlement action plans during the implementation of the Project, as said policy\nframework may be revised from time to time with the prior written agreement of the\nBank; and such term includes all attachments and annexes supplemental to said Policy\nFramework.\n\n22. \"Respective Part of the Project\" means, in respect of:\n\n(a) The Project Implementing Entity, acting through the Donggang Municipal\nAdministration Department: Part A. I of the Project.\n\n(b) Kuandian Rural-Urban Real Estate Construction and Development Company,\nLtd.: Part A.2 of the Project.\n(c) The Project Implementing Entity, acting through the Lingyuan Municipal\nAdministration Department: Part A.3 of the Project.\n\n(d) Chaoyang West New Industrial Zone Construction and Investment Company,\nLtd.: Part A.4 of the Project.\n\n(e) Panjin Public Transport Company, Ltd.: Part A.5 of the Project.\n\n(f) The Project Implementing Entity, acting through the Lingyuan Emergency Water\nSupply and Administration Department: Part B. I of the Project.\n\n(g) The Project Implementing Entity, acting through the Suizhong Municipal\nAdministration Department: Part B.2 of the Project.\n\n(h) The Project implementing Entity: Part C of the Project.\n\n23. \"Respective Project Company\" means in respect of:\n\n(a) Kuandian County: Kuandian Rural-Urban Real Estate Construction .and\nDevelopment Company, Ltd.\n\n(b) Longcheng District: Chaoyang West New Industrial Zone Construction and\nInvestment Company, Ltd.\n\n(c) Panjin City: Panjin Public Transport Company, Ltd.\n\n24. \"Subsidiary Loan Agreements\" means, collectively, the agreements to be entered into\nbetween each Project City, as applicable, and its Respective Project Company pursuant to\nSection I.E.1 of the Schedule to the Project Agreement, as the same may be amended\nfrom time to time, and such term includes all schedules and supplements to said\nagreements; a \"Subsidiary Loan Agreement\" means, individually, any of said Subsidiary\nLoan Agreements.\n\n25. \"Training\" means the costs of training activities under the Project, based on annual work\nplans and budgets approved by the Bank, and attributable to seminars, workshops, and\ndomestic and overseas study tours, along with travel and subsistence allowances for\ntraining participants, services of trainers, rental of training facilities, preparation and\nreproduction of training materials, and other activities directly related to course\npreparation and implementation.\n\n"
>>>>>>> ad77e0742b0d2d7c02c379d6e19d0722724f5689
     ]
    }
   ],
   "source": [
    "print(df.loc[16, 'TITLE'])"
   ]
  },
  {
   "cell_type": "code",
   "execution_count": 106,
   "metadata": {},
   "outputs": [
    {
     "data": {
      "text/html": [
       "<div>\n",
       "<style scoped>\n",
       "    .dataframe tbody tr th:only-of-type {\n",
       "        vertical-align: middle;\n",
       "    }\n",
       "\n",
       "    .dataframe tbody tr th {\n",
       "        vertical-align: top;\n",
       "    }\n",
       "\n",
       "    .dataframe thead th {\n",
       "        text-align: right;\n",
       "    }\n",
       "</style>\n",
       "<table border=\"1\" class=\"dataframe\">\n",
       "  <thead>\n",
       "    <tr style=\"text-align: right;\">\n",
       "      <th></th>\n",
       "      <th>id</th>\n",
       "      <th>regionname</th>\n",
       "      <th>countryname</th>\n",
       "      <th>projectstatusdisplay</th>\n",
       "      <th>project_name</th>\n",
       "      <th>pdo</th>\n",
       "      <th>impagency</th>\n",
       "      <th>cons_serv_reqd_ind</th>\n",
       "      <th>url</th>\n",
       "      <th>boardapprovaldate</th>\n",
       "      <th>...</th>\n",
       "      <th>grantamt</th>\n",
       "      <th>borrower</th>\n",
       "      <th>lendinginstr</th>\n",
       "      <th>envassesmentcategorycode</th>\n",
       "      <th>esrc_ovrl_risk_rate</th>\n",
       "      <th>sector1</th>\n",
       "      <th>sector2</th>\n",
       "      <th>sector3</th>\n",
       "      <th>theme1</th>\n",
       "      <th>theme2</th>\n",
       "    </tr>\n",
       "  </thead>\n",
       "  <tbody>\n",
       "    <tr>\n",
       "      <th>0</th>\n",
       "      <td>P173975</td>\n",
       "      <td>Europe and Central Asia</td>\n",
       "      <td>Georgia</td>\n",
       "      <td>Active</td>\n",
       "      <td>Georgia Relief and Recovery for Micro, Small, ...</td>\n",
       "      <td>The Project Development Objective (PDO) is to ...</td>\n",
       "      <td>Ministry of Economy and Sustainable Developmen...</td>\n",
       "      <td>NaN</td>\n",
       "      <td>http://projects.worldbank.org/P173975/null?lan...</td>\n",
       "      <td>2021-05-11T00:00:00Z</td>\n",
       "      <td>...</td>\n",
       "      <td>0</td>\n",
       "      <td>Georgia</td>\n",
       "      <td>Investment Project Financing</td>\n",
       "      <td>NaN</td>\n",
       "      <td>Substantial</td>\n",
       "      <td>NaN</td>\n",
       "      <td>NaN</td>\n",
       "      <td>NaN</td>\n",
       "      <td>NaN</td>\n",
       "      <td>NaN</td>\n",
       "    </tr>\n",
       "    <tr>\n",
       "      <th>1</th>\n",
       "      <td>P175895</td>\n",
       "      <td>Europe and Central Asia</td>\n",
       "      <td>Ukraine</td>\n",
       "      <td>Active</td>\n",
       "      <td>Ukraine Emergency COVID-19 Response and Vaccin...</td>\n",
       "      <td>The Program Development Objective is to preven...</td>\n",
       "      <td>Ministry of Health of Ukraine</td>\n",
       "      <td>NaN</td>\n",
       "      <td>http://projects.worldbank.org/P175895/null?lan...</td>\n",
       "      <td>2021-05-10T00:00:00Z</td>\n",
       "      <td>...</td>\n",
       "      <td>0</td>\n",
       "      <td>Ministry of Finance of Ukraine</td>\n",
       "      <td>Investment Project Financing</td>\n",
       "      <td>NaN</td>\n",
       "      <td>Substantial</td>\n",
       "      <td>NaN</td>\n",
       "      <td>NaN</td>\n",
       "      <td>NaN</td>\n",
       "      <td>NaN</td>\n",
       "      <td>NaN</td>\n",
       "    </tr>\n",
       "    <tr>\n",
       "      <th>2</th>\n",
       "      <td>P171050</td>\n",
       "      <td>Europe and Central Asia</td>\n",
       "      <td>Ukraine</td>\n",
       "      <td>Active</td>\n",
       "      <td>Ukraine Improving Higher Education for Results...</td>\n",
       "      <td>The Project Development Objective is to improv...</td>\n",
       "      <td>Ministry of Education and Science of Ukraine</td>\n",
       "      <td>N</td>\n",
       "      <td>http://projects.worldbank.org/P171050/null?lan...</td>\n",
       "      <td>2021-05-05T00:00:00Z</td>\n",
       "      <td>...</td>\n",
       "      <td>0</td>\n",
       "      <td>Ukraine</td>\n",
       "      <td>Investment Project Financing</td>\n",
       "      <td>NaN</td>\n",
       "      <td>Moderate</td>\n",
       "      <td>NaN</td>\n",
       "      <td>NaN</td>\n",
       "      <td>NaN</td>\n",
       "      <td>NaN</td>\n",
       "      <td>NaN</td>\n",
       "    </tr>\n",
       "    <tr>\n",
       "      <th>3</th>\n",
       "      <td>P175138</td>\n",
       "      <td>Latin America and Caribbean</td>\n",
       "      <td>Argentine Republic</td>\n",
       "      <td>Active</td>\n",
       "      <td>Buenos Aires &amp;#8211; Mitre Passenger Railway L...</td>\n",
       "      <td>The Project Development Objectives are to: (a)...</td>\n",
       "      <td>Ministry of Transport of Argentina</td>\n",
       "      <td>Y</td>\n",
       "      <td>http://projects.worldbank.org/P175138/null?lan...</td>\n",
       "      <td>2021-04-30T00:00:00Z</td>\n",
       "      <td>...</td>\n",
       "      <td>0</td>\n",
       "      <td>Argentine Republic</td>\n",
       "      <td>Investment Project Financing</td>\n",
       "      <td>NaN</td>\n",
       "      <td>Moderate</td>\n",
       "      <td>NaN</td>\n",
       "      <td>NaN</td>\n",
       "      <td>NaN</td>\n",
       "      <td>NaN</td>\n",
       "      <td>NaN</td>\n",
       "    </tr>\n",
       "    <tr>\n",
       "      <th>4</th>\n",
       "      <td>P168699</td>\n",
       "      <td>Africa East</td>\n",
       "      <td>Republic of Angola</td>\n",
       "      <td>Active</td>\n",
       "      <td>Girls Empowerment and Learning for All Project</td>\n",
       "      <td>To empower Angolan youth, especially girls, an...</td>\n",
       "      <td>Ministry of Education</td>\n",
       "      <td>NaN</td>\n",
       "      <td>http://projects.worldbank.org/P168699/null?lan...</td>\n",
       "      <td>2021-04-29T00:00:00Z</td>\n",
       "      <td>...</td>\n",
       "      <td>0</td>\n",
       "      <td>Republic of Angola</td>\n",
       "      <td>Investment Project Financing</td>\n",
       "      <td>NaN</td>\n",
       "      <td>Substantial</td>\n",
       "      <td>NaN</td>\n",
       "      <td>NaN</td>\n",
       "      <td>NaN</td>\n",
       "      <td>NaN</td>\n",
       "      <td>NaN</td>\n",
       "    </tr>\n",
       "    <tr>\n",
       "      <th>...</th>\n",
       "      <td>...</td>\n",
       "      <td>...</td>\n",
       "      <td>...</td>\n",
       "      <td>...</td>\n",
       "      <td>...</td>\n",
       "      <td>...</td>\n",
       "      <td>...</td>\n",
       "      <td>...</td>\n",
       "      <td>...</td>\n",
       "      <td>...</td>\n",
       "      <td>...</td>\n",
       "      <td>...</td>\n",
       "      <td>...</td>\n",
       "      <td>...</td>\n",
       "      <td>...</td>\n",
       "      <td>...</td>\n",
       "      <td>...</td>\n",
       "      <td>...</td>\n",
       "      <td>...</td>\n",
       "      <td>...</td>\n",
       "      <td>...</td>\n",
       "    </tr>\n",
       "    <tr>\n",
       "      <th>3691</th>\n",
       "      <td>P008346</td>\n",
       "      <td>Europe and Central Asia</td>\n",
       "      <td>Republic of Cyprus</td>\n",
       "      <td>Closed</td>\n",
       "      <td>Paphos Irrigation Project</td>\n",
       "      <td>NaN</td>\n",
       "      <td>NaN</td>\n",
       "      <td>NaN</td>\n",
       "      <td>http://projects.worldbank.org/P008346/null?lan...</td>\n",
       "      <td>NaN</td>\n",
       "      <td>...</td>\n",
       "      <td>0</td>\n",
       "      <td>NaN</td>\n",
       "      <td>Specific Investment Loan</td>\n",
       "      <td>NaN</td>\n",
       "      <td>NaN</td>\n",
       "      <td>Irrigation and Drainage</td>\n",
       "      <td>NaN</td>\n",
       "      <td>NaN</td>\n",
       "      <td>NaN</td>\n",
       "      <td>NaN</td>\n",
       "    </tr>\n",
       "    <tr>\n",
       "      <th>3692</th>\n",
       "      <td>P008921</td>\n",
       "      <td>Europe and Central Asia</td>\n",
       "      <td>Republic of Turkey</td>\n",
       "      <td>Closed</td>\n",
       "      <td>Grain Storage Project</td>\n",
       "      <td>NaN</td>\n",
       "      <td>NaN</td>\n",
       "      <td>NaN</td>\n",
       "      <td>http://projects.worldbank.org/P008921/null?lan...</td>\n",
       "      <td>NaN</td>\n",
       "      <td>...</td>\n",
       "      <td>0</td>\n",
       "      <td>NaN</td>\n",
       "      <td>Specific Investment Loan</td>\n",
       "      <td>NaN</td>\n",
       "      <td>NaN</td>\n",
       "      <td>(Historic)Agro-industry and marketing</td>\n",
       "      <td>NaN</td>\n",
       "      <td>NaN</td>\n",
       "      <td>NaN</td>\n",
       "      <td>NaN</td>\n",
       "    </tr>\n",
       "    <tr>\n",
       "      <th>3693</th>\n",
       "      <td>P007051</td>\n",
       "      <td>Latin America and Caribbean</td>\n",
       "      <td>Republic of Ecuador</td>\n",
       "      <td>Closed</td>\n",
       "      <td>Highways Project (04)</td>\n",
       "      <td>NaN</td>\n",
       "      <td>NaN</td>\n",
       "      <td>NaN</td>\n",
       "      <td>http://projects.worldbank.org/P007051/null?lan...</td>\n",
       "      <td>NaN</td>\n",
       "      <td>...</td>\n",
       "      <td>0</td>\n",
       "      <td>NaN</td>\n",
       "      <td>Specific Investment Loan</td>\n",
       "      <td>NaN</td>\n",
       "      <td>NaN</td>\n",
       "      <td>(Historic)Highways</td>\n",
       "      <td>NaN</td>\n",
       "      <td>NaN</td>\n",
       "      <td>NaN</td>\n",
       "      <td>NaN</td>\n",
       "    </tr>\n",
       "    <tr>\n",
       "      <th>3694</th>\n",
       "      <td>P003748</td>\n",
       "      <td>East Asia and Pacific</td>\n",
       "      <td>Republic of Indonesia</td>\n",
       "      <td>Closed</td>\n",
       "      <td>Irrigation Project (07)</td>\n",
       "      <td>NaN</td>\n",
       "      <td>NaN</td>\n",
       "      <td>NaN</td>\n",
       "      <td>http://projects.worldbank.org/P003748/null?lan...</td>\n",
       "      <td>NaN</td>\n",
       "      <td>...</td>\n",
       "      <td>0</td>\n",
       "      <td>NaN</td>\n",
       "      <td>Specific Investment Loan</td>\n",
       "      <td>NaN</td>\n",
       "      <td>NaN</td>\n",
       "      <td>Irrigation and Drainage</td>\n",
       "      <td>NaN</td>\n",
       "      <td>NaN</td>\n",
       "      <td>NaN</td>\n",
       "      <td>NaN</td>\n",
       "    </tr>\n",
       "    <tr>\n",
       "      <th>3695</th>\n",
       "      <td>P003771</td>\n",
       "      <td>East Asia and Pacific</td>\n",
       "      <td>Republic of Indonesia</td>\n",
       "      <td>Closed</td>\n",
       "      <td>Nucleus Estates Project (02) Smallholders Proj...</td>\n",
       "      <td>NaN</td>\n",
       "      <td>NaN</td>\n",
       "      <td>NaN</td>\n",
       "      <td>http://projects.worldbank.org/P003771/null?lan...</td>\n",
       "      <td>NaN</td>\n",
       "      <td>...</td>\n",
       "      <td>0</td>\n",
       "      <td>NaN</td>\n",
       "      <td>Specific Investment Loan</td>\n",
       "      <td>NaN</td>\n",
       "      <td>NaN</td>\n",
       "      <td>(Historic)Perennial crops</td>\n",
       "      <td>NaN</td>\n",
       "      <td>NaN</td>\n",
       "      <td>NaN</td>\n",
       "      <td>NaN</td>\n",
       "    </tr>\n",
       "  </tbody>\n",
       "</table>\n",
       "<p>3696 rows × 26 columns</p>\n",
       "</div>"
      ],
      "text/plain": [
       "           id                   regionname            countryname  \\\n",
       "0     P173975      Europe and Central Asia                Georgia   \n",
       "1     P175895      Europe and Central Asia                Ukraine   \n",
       "2     P171050      Europe and Central Asia                Ukraine   \n",
       "3     P175138  Latin America and Caribbean     Argentine Republic   \n",
       "4     P168699                  Africa East     Republic of Angola   \n",
       "...       ...                          ...                    ...   \n",
       "3691  P008346      Europe and Central Asia     Republic of Cyprus   \n",
       "3692  P008921      Europe and Central Asia     Republic of Turkey   \n",
       "3693  P007051  Latin America and Caribbean    Republic of Ecuador   \n",
       "3694  P003748        East Asia and Pacific  Republic of Indonesia   \n",
       "3695  P003771        East Asia and Pacific  Republic of Indonesia   \n",
       "\n",
       "     projectstatusdisplay                                       project_name  \\\n",
       "0                  Active  Georgia Relief and Recovery for Micro, Small, ...   \n",
       "1                  Active  Ukraine Emergency COVID-19 Response and Vaccin...   \n",
       "2                  Active  Ukraine Improving Higher Education for Results...   \n",
       "3                  Active  Buenos Aires &#8211; Mitre Passenger Railway L...   \n",
       "4                  Active     Girls Empowerment and Learning for All Project   \n",
       "...                   ...                                                ...   \n",
       "3691               Closed                          Paphos Irrigation Project   \n",
       "3692               Closed                              Grain Storage Project   \n",
       "3693               Closed                              Highways Project (04)   \n",
       "3694               Closed                            Irrigation Project (07)   \n",
       "3695               Closed  Nucleus Estates Project (02) Smallholders Proj...   \n",
       "\n",
       "                                                    pdo  \\\n",
       "0     The Project Development Objective (PDO) is to ...   \n",
       "1     The Program Development Objective is to preven...   \n",
       "2     The Project Development Objective is to improv...   \n",
       "3     The Project Development Objectives are to: (a)...   \n",
       "4     To empower Angolan youth, especially girls, an...   \n",
       "...                                                 ...   \n",
       "3691                                                NaN   \n",
       "3692                                                NaN   \n",
       "3693                                                NaN   \n",
       "3694                                                NaN   \n",
       "3695                                                NaN   \n",
       "\n",
       "                                              impagency cons_serv_reqd_ind  \\\n",
       "0     Ministry of Economy and Sustainable Developmen...                NaN   \n",
       "1                         Ministry of Health of Ukraine                NaN   \n",
       "2          Ministry of Education and Science of Ukraine                  N   \n",
       "3                    Ministry of Transport of Argentina                  Y   \n",
       "4                                 Ministry of Education                NaN   \n",
       "...                                                 ...                ...   \n",
       "3691                                                NaN                NaN   \n",
       "3692                                                NaN                NaN   \n",
       "3693                                                NaN                NaN   \n",
       "3694                                                NaN                NaN   \n",
       "3695                                                NaN                NaN   \n",
       "\n",
       "                                                    url     boardapprovaldate  \\\n",
       "0     http://projects.worldbank.org/P173975/null?lan...  2021-05-11T00:00:00Z   \n",
       "1     http://projects.worldbank.org/P175895/null?lan...  2021-05-10T00:00:00Z   \n",
       "2     http://projects.worldbank.org/P171050/null?lan...  2021-05-05T00:00:00Z   \n",
       "3     http://projects.worldbank.org/P175138/null?lan...  2021-04-30T00:00:00Z   \n",
       "4     http://projects.worldbank.org/P168699/null?lan...  2021-04-29T00:00:00Z   \n",
       "...                                                 ...                   ...   \n",
       "3691  http://projects.worldbank.org/P008346/null?lan...                   NaN   \n",
       "3692  http://projects.worldbank.org/P008921/null?lan...                   NaN   \n",
       "3693  http://projects.worldbank.org/P007051/null?lan...                   NaN   \n",
       "3694  http://projects.worldbank.org/P003748/null?lan...                   NaN   \n",
       "3695  http://projects.worldbank.org/P003771/null?lan...                   NaN   \n",
       "\n",
       "      ... grantamt                        borrower  \\\n",
       "0     ...        0                         Georgia   \n",
       "1     ...        0  Ministry of Finance of Ukraine   \n",
       "2     ...        0                         Ukraine   \n",
       "3     ...        0              Argentine Republic   \n",
       "4     ...        0              Republic of Angola   \n",
       "...   ...      ...                             ...   \n",
       "3691  ...        0                             NaN   \n",
       "3692  ...        0                             NaN   \n",
       "3693  ...        0                             NaN   \n",
       "3694  ...        0                             NaN   \n",
       "3695  ...        0                             NaN   \n",
       "\n",
       "                      lendinginstr  envassesmentcategorycode  \\\n",
       "0     Investment Project Financing                       NaN   \n",
       "1     Investment Project Financing                       NaN   \n",
       "2     Investment Project Financing                       NaN   \n",
       "3     Investment Project Financing                       NaN   \n",
       "4     Investment Project Financing                       NaN   \n",
       "...                            ...                       ...   \n",
       "3691      Specific Investment Loan                       NaN   \n",
       "3692      Specific Investment Loan                       NaN   \n",
       "3693      Specific Investment Loan                       NaN   \n",
       "3694      Specific Investment Loan                       NaN   \n",
       "3695      Specific Investment Loan                       NaN   \n",
       "\n",
       "      esrc_ovrl_risk_rate                                sector1  sector2  \\\n",
       "0             Substantial                                    NaN      NaN   \n",
       "1             Substantial                                    NaN      NaN   \n",
       "2                Moderate                                    NaN      NaN   \n",
       "3                Moderate                                    NaN      NaN   \n",
       "4             Substantial                                    NaN      NaN   \n",
       "...                   ...                                    ...      ...   \n",
       "3691                  NaN                Irrigation and Drainage      NaN   \n",
       "3692                  NaN  (Historic)Agro-industry and marketing      NaN   \n",
       "3693                  NaN                     (Historic)Highways      NaN   \n",
       "3694                  NaN                Irrigation and Drainage      NaN   \n",
       "3695                  NaN              (Historic)Perennial crops      NaN   \n",
       "\n",
       "     sector3 theme1 theme2  \n",
       "0        NaN    NaN    NaN  \n",
       "1        NaN    NaN    NaN  \n",
       "2        NaN    NaN    NaN  \n",
       "3        NaN    NaN    NaN  \n",
       "4        NaN    NaN    NaN  \n",
       "...      ...    ...    ...  \n",
       "3691     NaN    NaN    NaN  \n",
       "3692     NaN    NaN    NaN  \n",
       "3693     NaN    NaN    NaN  \n",
       "3694     NaN    NaN    NaN  \n",
       "3695     NaN    NaN    NaN  \n",
       "\n",
       "[3696 rows x 26 columns]"
      ]
     },
     "execution_count": 106,
     "metadata": {},
     "output_type": "execute_result"
    }
   ],
   "source": [
    "wb = pd.read_csv('IBRD_projects_data.csv')\n",
    "wb"
   ]
  },
  {
   "cell_type": "code",
   "execution_count": 16,
   "metadata": {},
   "outputs": [
    {
     "output_type": "execute_result",
     "data": {
      "text/plain": [
       "count                3195\n",
       "unique                352\n",
       "top       [United States]\n",
       "freq                  215\n",
       "Name: countries, dtype: object"
      ]
     },
     "metadata": {},
     "execution_count": 16
    }
   ],
   "source": [
    "df.countries.describe()"
   ]
  },
  {
   "cell_type": "code",
   "execution_count": 17,
   "metadata": {},
   "outputs": [
    {
     "output_type": "execute_result",
     "data": {
      "text/plain": [
       "count    3195.000000\n",
       "mean        2.195618\n",
       "std         0.821734\n",
       "min         0.000000\n",
       "25%         2.000000\n",
       "50%         2.000000\n",
       "75%         2.000000\n",
       "max        12.000000\n",
       "Name: countries, dtype: float64"
      ]
     },
     "metadata": {},
     "execution_count": 17
    }
   ],
   "source": [
    "df.countries.apply(len).describe()"
   ]
  },
  {
   "cell_type": "code",
   "execution_count": 18,
   "metadata": {},
   "outputs": [
    {
     "output_type": "execute_result",
     "data": {
      "text/plain": [
       "Index(['year', 'month', 'day', 'id', 'name', 'file_content', 'countries',\n",
       "       'sections', 'TITLE', 'LOAN AGREEMENT', 'Total Amount', 'Project Name'],\n",
       "      dtype='object')"
      ]
     },
     "metadata": {},
     "execution_count": 18
    }
   ],
   "source": [
    "df.columns"
   ]
  },
  {
   "cell_type": "code",
   "execution_count": 19,
   "metadata": {},
   "outputs": [],
   "source": [
    "df_features = df[['year','month','day','id','name','countries','Total Amount','Project Name']]\n",
    "df_features.to_pickle(\"extracted_features.pkl\")"
   ]
  },
  {
   "cell_type": "code",
   "execution_count": null,
   "metadata": {},
   "outputs": [],
   "source": []
  }
 ],
 "metadata": {
  "kernelspec": {
   "name": "python392jvsc74a57bd09c14091437e567b69b891d2838af0ae9212f4b16ac91005526a4e98434c6baeb",
   "display_name": "Python 3.9.2 64-bit ('erdos': conda)"
  },
  "language_info": {
   "codemirror_mode": {
    "name": "ipython",
    "version": 3
   },
   "file_extension": ".py",
   "mimetype": "text/x-python",
   "name": "python",
   "nbconvert_exporter": "python",
   "pygments_lexer": "ipython3",
   "version": "3.9.2"
  },
  "metadata": {
   "interpreter": {
    "hash": "9c14091437e567b69b891d2838af0ae9212f4b16ac91005526a4e98434c6baeb"
   }
  }
 },
 "nbformat": 4,
 "nbformat_minor": 4
}