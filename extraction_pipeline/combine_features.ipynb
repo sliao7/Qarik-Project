{
 "metadata": {
  "language_info": {
   "codemirror_mode": {
    "name": "ipython",
    "version": 3
   },
   "file_extension": ".py",
   "mimetype": "text/x-python",
   "name": "python",
   "nbconvert_exporter": "python",
   "pygments_lexer": "ipython3",
   "version": "3.9.2"
  },
  "orig_nbformat": 2,
  "kernelspec": {
   "name": "python392jvsc74a57bd09c14091437e567b69b891d2838af0ae9212f4b16ac91005526a4e98434c6baeb",
   "display_name": "Python 3.9.2 64-bit ('erdos': conda)"
  },
  "metadata": {
   "interpreter": {
    "hash": "9c14091437e567b69b891d2838af0ae9212f4b16ac91005526a4e98434c6baeb"
   }
  }
 },
 "nbformat": 4,
 "nbformat_minor": 2,
 "cells": [
  {
   "cell_type": "code",
   "execution_count": 47,
   "metadata": {},
   "outputs": [],
   "source": [
    "import io\n",
    "from pathlib import Path\n",
    "import pandas as pd\n",
    "import glob\n",
    "import pickle\n",
    "import pycountry\n",
    "import time"
   ]
  },
  {
   "cell_type": "code",
   "execution_count": 48,
   "metadata": {},
   "outputs": [],
   "source": [
    "country_codes = pd.read_csv(\"id_date_country.csv\")\n",
    "sections = pd.read_pickle(\"sections.pkl\")\n",
    "loan_amounts = pd.read_pickle(\"world_bank_amounts.pickle\")"
   ]
  },
  {
   "cell_type": "code",
   "execution_count": 49,
   "metadata": {},
   "outputs": [],
   "source": [
    "sections = pd.read_pickle(\"sections.pkl\")"
   ]
  },
  {
   "cell_type": "code",
   "execution_count": 50,
   "metadata": {},
   "outputs": [
    {
     "output_type": "execute_result",
     "data": {
      "text/plain": [
       "Index(['id', 'date', 'country_code', 'country_name', 'filename'], dtype='object')"
      ]
     },
     "metadata": {},
     "execution_count": 50
    }
   ],
   "source": [
    "country_codes.columns"
   ]
  },
  {
   "cell_type": "code",
   "execution_count": 51,
   "metadata": {},
   "outputs": [
    {
     "output_type": "execute_result",
     "data": {
      "text/plain": [
       "0       658601468273303198\n",
       "1       784351468234894668\n",
       "2       891941468049466312\n",
       "3       125511468051878371\n",
       "4       733341468033245855\n",
       "               ...        \n",
       "3190    876531576597901004\n",
       "3191    430041576700944955\n",
       "3192    915561578948029352\n",
       "3193    701581579789087668\n",
       "3194    931611577726651104\n",
       "Name: id, Length: 3195, dtype: int64"
      ]
     },
     "metadata": {},
     "execution_count": 51
    }
   ],
   "source": [
    "country_codes.id"
   ]
  },
  {
   "cell_type": "code",
   "execution_count": 52,
   "metadata": {},
   "outputs": [
    {
     "output_type": "execute_result",
     "data": {
      "text/plain": [
       "Index(['year', 'month', 'day', 'id', 'name', 'file_content', 'named_countries',\n",
       "       'sections', 'TITLE', 'ARTICLE II', 'Project Name', 'project_desc',\n",
       "       'closing_month', 'closing_day', 'closing_year', 'loan_length in year'],\n",
       "      dtype='object')"
      ]
     },
     "metadata": {},
     "execution_count": 52
    }
   ],
   "source": [
    "sections.columns"
   ]
  },
  {
   "cell_type": "code",
   "execution_count": 53,
   "metadata": {},
   "outputs": [],
   "source": [
    "sections.id = sections.id.astype(int)"
   ]
  },
  {
   "cell_type": "code",
   "execution_count": 54,
   "metadata": {},
   "outputs": [
    {
     "output_type": "execute_result",
     "data": {
      "text/plain": [
       "Index(['year', 'month', 'day', 'id', 'name', 'ARTICLE II', 'Amount_G',\n",
       "       'Amount_G_num'],\n",
       "      dtype='object')"
      ]
     },
     "metadata": {},
     "execution_count": 54
    }
   ],
   "source": [
    "loan_amounts.columns"
   ]
  },
  {
   "cell_type": "code",
   "execution_count": 55,
   "metadata": {},
   "outputs": [],
   "source": [
    "loan_amounts.id = loan_amounts.id.astype(int)"
   ]
  },
  {
   "cell_type": "code",
   "execution_count": 56,
   "metadata": {},
   "outputs": [],
   "source": [
    "big_table = country_codes.merge(loan_amounts, left_on='id', right_on='id')"
   ]
  },
  {
   "cell_type": "code",
   "execution_count": 57,
   "metadata": {},
   "outputs": [],
   "source": [
    "big_table = big_table.merge(sections, left_on='id', right_on='id')"
   ]
  },
  {
   "cell_type": "code",
   "execution_count": 58,
   "metadata": {},
   "outputs": [
    {
     "output_type": "execute_result",
     "data": {
      "text/plain": [
       "Index(['id', 'date', 'country_code', 'country_name', 'filename', 'year_x',\n",
       "       'month_x', 'day_x', 'name_x', 'ARTICLE II_x', 'Amount_G',\n",
       "       'Amount_G_num', 'year_y', 'month_y', 'day_y', 'name_y', 'file_content',\n",
       "       'named_countries', 'sections', 'TITLE', 'ARTICLE II_y', 'Project Name',\n",
       "       'project_desc', 'closing_month', 'closing_day', 'closing_year',\n",
       "       'loan_length in year'],\n",
       "      dtype='object')"
      ]
     },
     "metadata": {},
     "execution_count": 58
    }
   ],
   "source": [
    "big_table.columns"
   ]
  },
  {
   "cell_type": "code",
   "execution_count": 59,
   "metadata": {},
   "outputs": [],
   "source": [
    "currency_amounts = pd.read_pickle(\"currency_amounts_country.pickle\")"
   ]
  },
  {
   "cell_type": "code",
   "execution_count": 60,
   "metadata": {},
   "outputs": [],
   "source": [
    "currency_amounts.id = currency_amounts.id.astype(int)"
   ]
  },
  {
   "cell_type": "code",
   "execution_count": 61,
   "metadata": {},
   "outputs": [],
   "source": [
    "big_table = big_table.merge(currency_amounts[['id','amount_standard','currency_standard']],left_on='id', right_on='id')"
   ]
  },
  {
   "cell_type": "code",
   "execution_count": 62,
   "metadata": {},
   "outputs": [],
   "source": [
    "columns_list = ['id', 'date', 'country_code', 'country_name', 'named_countries', 'Project Name', 'project_desc', 'amount_standard','currency_standard', 'closing_month', 'closing_day', 'closing_year', 'loan_length in year' ]"
   ]
  },
  {
   "cell_type": "code",
   "execution_count": 63,
   "metadata": {},
   "outputs": [],
   "source": [
    "big_table_small = big_table[columns_list]"
   ]
  },
  {
   "cell_type": "code",
   "execution_count": 64,
   "metadata": {},
   "outputs": [],
   "source": [
    "big_table_small.to_pickle(\"agreement_features.pickle\")"
   ]
  },
  {
   "cell_type": "code",
   "execution_count": null,
   "metadata": {},
   "outputs": [],
   "source": []
  }
 ]
}