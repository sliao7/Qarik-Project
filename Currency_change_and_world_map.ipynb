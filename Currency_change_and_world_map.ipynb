{
 "cells": [
  {
   "cell_type": "code",
   "execution_count": 229,
   "metadata": {},
   "outputs": [],
   "source": [
    "import pandas as pd\n",
    "import matplotlib.pyplot as plt"
   ]
  },
  {
   "cell_type": "code",
   "execution_count": 230,
   "metadata": {},
   "outputs": [],
   "source": [
    "df = pd.read_pickle('extraction_pipeline/agreement_features_join_projects.pkl')\n",
    "df_sectors = pd.read_pickle('classification/predicted_sectors_2.pkl')\n",
    "df = df.join(df_sectors[['id', 'predicted_sector']].set_index('id'), on = 'id')\n",
    "df['date'] = pd.to_datetime(df['date'])"
   ]
  },
  {
   "cell_type": "code",
   "execution_count": 231,
   "metadata": {},
   "outputs": [
    {
     "data": {
      "text/plain": [
       "array(['us dollar', '', 'dem', 'french francs', 'yen', 'euro',\n",
       "       'egyptian pounds', 'gbp'], dtype=object)"
      ]
     },
     "execution_count": 231,
     "metadata": {},
     "output_type": "execute_result"
    }
   ],
   "source": [
    "df['currency_standard'].unique()"
   ]
  },
  {
   "cell_type": "code",
   "execution_count": 232,
   "metadata": {},
   "outputs": [
    {
     "data": {
      "text/plain": [
       "array(['USD', None, 'DEM', 'FRF', 'JPY', 'EUR', 'EGP', 'GBP'],\n",
       "      dtype=object)"
      ]
     },
     "execution_count": 232,
     "metadata": {},
     "output_type": "execute_result"
    }
   ],
   "source": [
    "currency_map = {'us dollar': 'USD', 'euro': 'EUR', 'dem': 'DEM', \n",
    "                'french francs': 'FRF', 'gbp': 'GBP', 'egyptian pounds': 'EGP', 'yen': 'JPY'}\n",
    "def get_stand_curr(x):\n",
    "    try:\n",
    "        return currency_map[x]\n",
    "    except:\n",
    "        return None\n",
    "df['cur_usd'] = df['currency_standard'].apply(get_stand_curr)\n",
    "# df = df[~df['cur_usd'].isin(['EGP'])]\n",
    "df['cur_usd'].unique()"
   ]
  },
  {
   "cell_type": "code",
   "execution_count": 233,
   "metadata": {},
   "outputs": [],
   "source": [
    "from currency_converter import CurrencyConverter\n",
    "c = CurrencyConverter(fallback_on_missing_rate=True)"
   ]
  },
  {
   "cell_type": "code",
   "execution_count": 234,
   "metadata": {},
   "outputs": [
    {
     "data": {
      "text/html": [
       "<div>\n",
       "<style scoped>\n",
       "    .dataframe tbody tr th:only-of-type {\n",
       "        vertical-align: middle;\n",
       "    }\n",
       "\n",
       "    .dataframe tbody tr th {\n",
       "        vertical-align: top;\n",
       "    }\n",
       "\n",
       "    .dataframe thead th {\n",
       "        text-align: right;\n",
       "    }\n",
       "</style>\n",
       "<table border=\"1\" class=\"dataframe\">\n",
       "  <thead>\n",
       "    <tr style=\"text-align: right;\">\n",
       "      <th></th>\n",
       "      <th>id</th>\n",
       "      <th>date</th>\n",
       "      <th>country_code</th>\n",
       "      <th>country_name</th>\n",
       "      <th>named_countries</th>\n",
       "      <th>Project Name</th>\n",
       "      <th>project_desc</th>\n",
       "      <th>amount_standard</th>\n",
       "      <th>currency_standard</th>\n",
       "      <th>closing_month</th>\n",
       "      <th>closing_day</th>\n",
       "      <th>closing_year</th>\n",
       "      <th>loan_length in year</th>\n",
       "      <th>wb_project_id</th>\n",
       "      <th>major_sector_name</th>\n",
       "      <th>sector1_name</th>\n",
       "      <th>sector2_name</th>\n",
       "      <th>sector3_name</th>\n",
       "      <th>predicted_sector</th>\n",
       "      <th>cur_usd</th>\n",
       "    </tr>\n",
       "  </thead>\n",
       "  <tbody>\n",
       "    <tr>\n",
       "      <th>0</th>\n",
       "      <td>658601468273303198</td>\n",
       "      <td>1990-01-05</td>\n",
       "      <td>jo</td>\n",
       "      <td>Jordan</td>\n",
       "      <td>[Jordan, United States]</td>\n",
       "      <td>Industry and Trade Policy Adjustment Loan</td>\n",
       "      <td>SCHEDULE 1\\n\\n        Withdrawal of the Procee...</td>\n",
       "      <td>150000000.0</td>\n",
       "      <td>us dollar</td>\n",
       "      <td>December</td>\n",
       "      <td>31</td>\n",
       "      <td>1992</td>\n",
       "      <td>2.0</td>\n",
       "      <td>None</td>\n",
       "      <td>NaN</td>\n",
       "      <td>NaN</td>\n",
       "      <td>NaN</td>\n",
       "      <td>NaN</td>\n",
       "      <td>Industry and Trade/Services</td>\n",
       "      <td>USD</td>\n",
       "    </tr>\n",
       "    <tr>\n",
       "      <th>1</th>\n",
       "      <td>784351468234894668</td>\n",
       "      <td>1990-01-10</td>\n",
       "      <td>br</td>\n",
       "      <td>Brazil</td>\n",
       "      <td>[Brazil, United States]</td>\n",
       "      <td>Third Agricultural Research Project</td>\n",
       "      <td>SCHEDULE 2\\n\\nDescription of the Project\\n\\nTh...</td>\n",
       "      <td>47000000.0</td>\n",
       "      <td>us dollar</td>\n",
       "      <td>June</td>\n",
       "      <td>30</td>\n",
       "      <td>1995</td>\n",
       "      <td>5.0</td>\n",
       "      <td>None</td>\n",
       "      <td>NaN</td>\n",
       "      <td>NaN</td>\n",
       "      <td>NaN</td>\n",
       "      <td>NaN</td>\n",
       "      <td>Agriculture</td>\n",
       "      <td>USD</td>\n",
       "    </tr>\n",
       "    <tr>\n",
       "      <th>2</th>\n",
       "      <td>891941468049466312</td>\n",
       "      <td>1990-01-11</td>\n",
       "      <td>ma</td>\n",
       "      <td>Malaysia</td>\n",
       "      <td>[Malaysia, United States]</td>\n",
       "      <td>Rubber Industry Smallholders\\n            Deve...</td>\n",
       "      <td>SCHEDULE 2\\n\\n              Description of the...</td>\n",
       "      <td>71000000.0</td>\n",
       "      <td>us dollar</td>\n",
       "      <td>December</td>\n",
       "      <td>31</td>\n",
       "      <td>1993</td>\n",
       "      <td>3.0</td>\n",
       "      <td>None</td>\n",
       "      <td>NaN</td>\n",
       "      <td>NaN</td>\n",
       "      <td>NaN</td>\n",
       "      <td>NaN</td>\n",
       "      <td>Agriculture</td>\n",
       "      <td>USD</td>\n",
       "    </tr>\n",
       "    <tr>\n",
       "      <th>3</th>\n",
       "      <td>125511468051878371</td>\n",
       "      <td>1990-01-11</td>\n",
       "      <td>ma</td>\n",
       "      <td>Malaysia</td>\n",
       "      <td>[Malaysia, United States]</td>\n",
       "      <td>Highway Rehabilitation and Improvement Project</td>\n",
       "      <td>SCHEDULE 2\\n\\n              Description of the...</td>\n",
       "      <td>83200000.0</td>\n",
       "      <td>us dollar</td>\n",
       "      <td>June</td>\n",
       "      <td>30</td>\n",
       "      <td>1995</td>\n",
       "      <td>5.0</td>\n",
       "      <td>P099112</td>\n",
       "      <td>Transportation</td>\n",
       "      <td>Rural and Inter-Urban Roads</td>\n",
       "      <td>Sub-National Government</td>\n",
       "      <td>NaN</td>\n",
       "      <td>Transportation</td>\n",
       "      <td>USD</td>\n",
       "    </tr>\n",
       "    <tr>\n",
       "      <th>4</th>\n",
       "      <td>733341468033245855</td>\n",
       "      <td>1990-01-16</td>\n",
       "      <td>ivc</td>\n",
       "      <td>Cote d'Ivoire</td>\n",
       "      <td>[United States]</td>\n",
       "      <td>Abidjan Environmental Protection Project</td>\n",
       "      <td>SCHEDULE 2\\n\\nDescription of the Project\\n\\nTh...</td>\n",
       "      <td>21900000.0</td>\n",
       "      <td>us dollar</td>\n",
       "      <td>December</td>\n",
       "      <td>31</td>\n",
       "      <td>1993</td>\n",
       "      <td>3.0</td>\n",
       "      <td>None</td>\n",
       "      <td>NaN</td>\n",
       "      <td>NaN</td>\n",
       "      <td>NaN</td>\n",
       "      <td>NaN</td>\n",
       "      <td>Public Admin</td>\n",
       "      <td>USD</td>\n",
       "    </tr>\n",
       "  </tbody>\n",
       "</table>\n",
       "</div>"
      ],
      "text/plain": [
       "                   id       date country_code   country_name  \\\n",
       "0  658601468273303198 1990-01-05           jo         Jordan   \n",
       "1  784351468234894668 1990-01-10           br         Brazil   \n",
       "2  891941468049466312 1990-01-11           ma       Malaysia   \n",
       "3  125511468051878371 1990-01-11           ma       Malaysia   \n",
       "4  733341468033245855 1990-01-16          ivc  Cote d'Ivoire   \n",
       "\n",
       "             named_countries  \\\n",
       "0    [Jordan, United States]   \n",
       "1    [Brazil, United States]   \n",
       "2  [Malaysia, United States]   \n",
       "3  [Malaysia, United States]   \n",
       "4            [United States]   \n",
       "\n",
       "                                        Project Name  \\\n",
       "0          Industry and Trade Policy Adjustment Loan   \n",
       "1                Third Agricultural Research Project   \n",
       "2  Rubber Industry Smallholders\\n            Deve...   \n",
       "3     Highway Rehabilitation and Improvement Project   \n",
       "4           Abidjan Environmental Protection Project   \n",
       "\n",
       "                                        project_desc  amount_standard  \\\n",
       "0  SCHEDULE 1\\n\\n        Withdrawal of the Procee...      150000000.0   \n",
       "1  SCHEDULE 2\\n\\nDescription of the Project\\n\\nTh...       47000000.0   \n",
       "2  SCHEDULE 2\\n\\n              Description of the...       71000000.0   \n",
       "3  SCHEDULE 2\\n\\n              Description of the...       83200000.0   \n",
       "4  SCHEDULE 2\\n\\nDescription of the Project\\n\\nTh...       21900000.0   \n",
       "\n",
       "  currency_standard closing_month closing_day closing_year  \\\n",
       "0         us dollar      December          31         1992   \n",
       "1         us dollar          June          30         1995   \n",
       "2         us dollar      December          31         1993   \n",
       "3         us dollar          June          30         1995   \n",
       "4         us dollar      December          31         1993   \n",
       "\n",
       "   loan_length in year wb_project_id major_sector_name  \\\n",
       "0                  2.0          None               NaN   \n",
       "1                  5.0          None               NaN   \n",
       "2                  3.0          None               NaN   \n",
       "3                  5.0       P099112    Transportation   \n",
       "4                  3.0          None               NaN   \n",
       "\n",
       "                  sector1_name             sector2_name sector3_name  \\\n",
       "0                          NaN                      NaN          NaN   \n",
       "1                          NaN                      NaN          NaN   \n",
       "2                          NaN                      NaN          NaN   \n",
       "3  Rural and Inter-Urban Roads  Sub-National Government          NaN   \n",
       "4                          NaN                      NaN          NaN   \n",
       "\n",
       "              predicted_sector cur_usd  \n",
       "0  Industry and Trade/Services     USD  \n",
       "1                  Agriculture     USD  \n",
       "2                  Agriculture     USD  \n",
       "3               Transportation     USD  \n",
       "4                 Public Admin     USD  "
      ]
     },
     "execution_count": 234,
     "metadata": {},
     "output_type": "execute_result"
    }
   ],
   "source": [
    "df.head()"
   ]
  },
  {
   "cell_type": "code",
   "execution_count": 235,
   "metadata": {},
   "outputs": [],
   "source": [
    "def get_usd(x):\n",
    "    try:\n",
    "        return c.convert(x['amount_standard'], x['cur_usd'], 'USD', x['date'])\n",
    "    except:\n",
    "        return None\n",
    "df['amount_cur_usd'] = df.apply(get_usd, axis = 1)"
   ]
  },
  {
   "cell_type": "code",
   "execution_count": 236,
   "metadata": {},
   "outputs": [
    {
     "data": {
      "text/html": [
       "<div>\n",
       "<style scoped>\n",
       "    .dataframe tbody tr th:only-of-type {\n",
       "        vertical-align: middle;\n",
       "    }\n",
       "\n",
       "    .dataframe tbody tr th {\n",
       "        vertical-align: top;\n",
       "    }\n",
       "\n",
       "    .dataframe thead th {\n",
       "        text-align: right;\n",
       "    }\n",
       "</style>\n",
       "<table border=\"1\" class=\"dataframe\">\n",
       "  <thead>\n",
       "    <tr style=\"text-align: right;\">\n",
       "      <th></th>\n",
       "      <th>id</th>\n",
       "      <th>date</th>\n",
       "      <th>country_code</th>\n",
       "      <th>country_name</th>\n",
       "      <th>named_countries</th>\n",
       "      <th>Project Name</th>\n",
       "      <th>project_desc</th>\n",
       "      <th>amount_standard</th>\n",
       "      <th>currency_standard</th>\n",
       "      <th>closing_month</th>\n",
       "      <th>...</th>\n",
       "      <th>closing_year</th>\n",
       "      <th>loan_length in year</th>\n",
       "      <th>wb_project_id</th>\n",
       "      <th>major_sector_name</th>\n",
       "      <th>sector1_name</th>\n",
       "      <th>sector2_name</th>\n",
       "      <th>sector3_name</th>\n",
       "      <th>predicted_sector</th>\n",
       "      <th>cur_usd</th>\n",
       "      <th>amount_cur_usd</th>\n",
       "    </tr>\n",
       "  </thead>\n",
       "  <tbody>\n",
       "    <tr>\n",
       "      <th>1243</th>\n",
       "      <td>392401468231871368</td>\n",
       "      <td>1999-01-20</td>\n",
       "      <td>hr</td>\n",
       "      <td>Croatia</td>\n",
       "      <td>[Germany, Croatia, United States]</td>\n",
       "      <td>Railway Modernization and Restructuring Project</td>\n",
       "      <td>SCHEDULE 2 \\n\\nDescription of the Project\\n\\nT...</td>\n",
       "      <td>85400000.0</td>\n",
       "      <td>euro</td>\n",
       "      <td>June</td>\n",
       "      <td>...</td>\n",
       "      <td>2003</td>\n",
       "      <td>4.0</td>\n",
       "      <td>P039161</td>\n",
       "      <td>Transportation</td>\n",
       "      <td>Railways</td>\n",
       "      <td>Social Protection</td>\n",
       "      <td>NaN</td>\n",
       "      <td>Transportation</td>\n",
       "      <td>EUR</td>\n",
       "      <td>98850500.0</td>\n",
       "    </tr>\n",
       "    <tr>\n",
       "      <th>1244</th>\n",
       "      <td>285271468095363256</td>\n",
       "      <td>1999-01-20</td>\n",
       "      <td>ro</td>\n",
       "      <td>Romania</td>\n",
       "      <td>[Bulgaria, Romania, United States]</td>\n",
       "      <td>Social Development Fund Project</td>\n",
       "      <td>SCHEDULE 2\\n\\nDescription of the Project\\n\\nTh...</td>\n",
       "      <td>10000000.0</td>\n",
       "      <td>us dollar</td>\n",
       "      <td>June</td>\n",
       "      <td>...</td>\n",
       "      <td>2002</td>\n",
       "      <td>3.0</td>\n",
       "      <td>P008204</td>\n",
       "      <td>Health</td>\n",
       "      <td>Health</td>\n",
       "      <td>Early Childhood Education</td>\n",
       "      <td>Central Government (Central Agencies)</td>\n",
       "      <td>Health</td>\n",
       "      <td>USD</td>\n",
       "      <td>10000000.0</td>\n",
       "    </tr>\n",
       "    <tr>\n",
       "      <th>1245</th>\n",
       "      <td>738661468332674245</td>\n",
       "      <td>1999-01-21</td>\n",
       "      <td>pak</td>\n",
       "      <td>Pakistan</td>\n",
       "      <td>[Pakistan, United States]</td>\n",
       "      <td>Structural Adjustment Loan</td>\n",
       "      <td>SCHEDULE 1\\n\\nExcluded Expenditures\\n\\nFor pur...</td>\n",
       "      <td>350000000.0</td>\n",
       "      <td>us dollar</td>\n",
       "      <td>June</td>\n",
       "      <td>...</td>\n",
       "      <td>1999</td>\n",
       "      <td>0.0</td>\n",
       "      <td>None</td>\n",
       "      <td>NaN</td>\n",
       "      <td>NaN</td>\n",
       "      <td>NaN</td>\n",
       "      <td>NaN</td>\n",
       "      <td>Financial Sector</td>\n",
       "      <td>USD</td>\n",
       "      <td>350000000.0</td>\n",
       "    </tr>\n",
       "    <tr>\n",
       "      <th>1246</th>\n",
       "      <td>469841468295188118</td>\n",
       "      <td>1999-01-29</td>\n",
       "      <td>in</td>\n",
       "      <td>India</td>\n",
       "      <td>[India, United States]</td>\n",
       "      <td>Andhra Pradesh Economic Restructuring Project</td>\n",
       "      <td>None</td>\n",
       "      <td>301300000.0</td>\n",
       "      <td>us dollar</td>\n",
       "      <td>March</td>\n",
       "      <td>...</td>\n",
       "      <td>2004</td>\n",
       "      <td>5.0</td>\n",
       "      <td>None</td>\n",
       "      <td>NaN</td>\n",
       "      <td>NaN</td>\n",
       "      <td>NaN</td>\n",
       "      <td>NaN</td>\n",
       "      <td>NaN</td>\n",
       "      <td>USD</td>\n",
       "      <td>301300000.0</td>\n",
       "    </tr>\n",
       "    <tr>\n",
       "      <th>1247</th>\n",
       "      <td>617561468256168053</td>\n",
       "      <td>1999-02-04</td>\n",
       "      <td>in</td>\n",
       "      <td>India</td>\n",
       "      <td>[India, United States]</td>\n",
       "      <td>Andhra Pradesh Economic Restructuring Project</td>\n",
       "      <td>None</td>\n",
       "      <td>301300000.0</td>\n",
       "      <td>us dollar</td>\n",
       "      <td>March</td>\n",
       "      <td>...</td>\n",
       "      <td>2004</td>\n",
       "      <td>5.0</td>\n",
       "      <td>None</td>\n",
       "      <td>NaN</td>\n",
       "      <td>NaN</td>\n",
       "      <td>NaN</td>\n",
       "      <td>NaN</td>\n",
       "      <td>NaN</td>\n",
       "      <td>USD</td>\n",
       "      <td>301300000.0</td>\n",
       "    </tr>\n",
       "  </tbody>\n",
       "</table>\n",
       "<p>5 rows × 21 columns</p>\n",
       "</div>"
      ],
      "text/plain": [
       "                      id       date country_code country_name  \\\n",
       "1243  392401468231871368 1999-01-20           hr      Croatia   \n",
       "1244  285271468095363256 1999-01-20           ro      Romania   \n",
       "1245  738661468332674245 1999-01-21          pak     Pakistan   \n",
       "1246  469841468295188118 1999-01-29           in        India   \n",
       "1247  617561468256168053 1999-02-04           in        India   \n",
       "\n",
       "                         named_countries  \\\n",
       "1243   [Germany, Croatia, United States]   \n",
       "1244  [Bulgaria, Romania, United States]   \n",
       "1245           [Pakistan, United States]   \n",
       "1246              [India, United States]   \n",
       "1247              [India, United States]   \n",
       "\n",
       "                                         Project Name  \\\n",
       "1243  Railway Modernization and Restructuring Project   \n",
       "1244                  Social Development Fund Project   \n",
       "1245                       Structural Adjustment Loan   \n",
       "1246    Andhra Pradesh Economic Restructuring Project   \n",
       "1247    Andhra Pradesh Economic Restructuring Project   \n",
       "\n",
       "                                           project_desc  amount_standard  \\\n",
       "1243  SCHEDULE 2 \\n\\nDescription of the Project\\n\\nT...       85400000.0   \n",
       "1244  SCHEDULE 2\\n\\nDescription of the Project\\n\\nTh...       10000000.0   \n",
       "1245  SCHEDULE 1\\n\\nExcluded Expenditures\\n\\nFor pur...      350000000.0   \n",
       "1246                                               None      301300000.0   \n",
       "1247                                               None      301300000.0   \n",
       "\n",
       "     currency_standard closing_month  ... closing_year loan_length in year  \\\n",
       "1243              euro          June  ...         2003                 4.0   \n",
       "1244         us dollar          June  ...         2002                 3.0   \n",
       "1245         us dollar          June  ...         1999                 0.0   \n",
       "1246         us dollar         March  ...         2004                 5.0   \n",
       "1247         us dollar         March  ...         2004                 5.0   \n",
       "\n",
       "      wb_project_id major_sector_name sector1_name               sector2_name  \\\n",
       "1243        P039161    Transportation     Railways          Social Protection   \n",
       "1244        P008204            Health       Health  Early Childhood Education   \n",
       "1245           None               NaN          NaN                        NaN   \n",
       "1246           None               NaN          NaN                        NaN   \n",
       "1247           None               NaN          NaN                        NaN   \n",
       "\n",
       "                               sector3_name  predicted_sector cur_usd  \\\n",
       "1243                                    NaN    Transportation     EUR   \n",
       "1244  Central Government (Central Agencies)            Health     USD   \n",
       "1245                                    NaN  Financial Sector     USD   \n",
       "1246                                    NaN               NaN     USD   \n",
       "1247                                    NaN               NaN     USD   \n",
       "\n",
       "     amount_cur_usd  \n",
       "1243     98850500.0  \n",
       "1244     10000000.0  \n",
       "1245    350000000.0  \n",
       "1246    301300000.0  \n",
       "1247    301300000.0  \n",
       "\n",
       "[5 rows x 21 columns]"
      ]
     },
     "execution_count": 236,
     "metadata": {},
     "output_type": "execute_result"
    }
   ],
   "source": [
    "df[df.amount_cur_usd.notna()].head()"
   ]
  },
  {
   "cell_type": "code",
   "execution_count": 237,
   "metadata": {},
   "outputs": [
    {
     "data": {
      "text/plain": [
       "<matplotlib.legend.Legend at 0x7ffab2e3fc40>"
      ]
     },
     "execution_count": 237,
     "metadata": {},
     "output_type": "execute_result"
    },
    {
     "data": {
      "image/png": "[encoded data removed]",
      "text/plain": [
       "<Figure size 1152x432 with 1 Axes>"
      ]
     },
     "metadata": {
      "needs_background": "light"
     },
     "output_type": "display_data"
    }
   ],
   "source": [
    "plt.figure(figsize = (16,6))\n",
    "df.groupby(df.date.dt.year)['amount_cur_usd'].sum().plot(label = 'current usd')\n",
    "df.groupby(df.date.dt.year)['amount_standard'].sum().plot(label = 'original amount' )\n",
    "plt.ylabel('Total Amount of Loans')\n",
    "plt.legend()"
   ]
  },
  {
   "cell_type": "code",
   "execution_count": 238,
   "metadata": {},
   "outputs": [],
   "source": [
    "# Get Country Code\n",
    "df_ct = pd.read_csv('https://raw.githubusercontent.com/plotly/datasets/master/2014_world_gdp_with_codes.csv')\n",
    "country_map = {}\n",
    "for i in range(len(df_ct)):\n",
    "    country_name, country_code = df_ct.loc[i,'COUNTRY'], df_ct.loc[i,'CODE']\n",
    "    country_map[country_name] = country_code\n",
    "    \n",
    "country_map['Korea'] = country_map['Korea, South']\n",
    "country_map[\"People's Republic of the Congo\"] = country_map['Congo, Republic of the']\n",
    "country_map[\"Congo\"] = country_map['Congo, Democratic Republic of the']\n",
    "country_map['Cape Verde'] = country_map['Cabo Verde']\n",
    "country_map[\"Côte d'Ivoire\"] = country_map[\"Cote d'Ivoire\"]\n",
    "country_map['Venezuela, Bolivarian Republic of'] = country_map[\"Venezuela\"]\n",
    "country_map['Bolivia, Plurinational State of'] = country_map[\"Bolivia\"]\n",
    "country_map['Viet Nam'] = country_map[\"Vietnam\"]\n",
    "country_map['Yugoslavia'] = country_map['Macedonia']\n",
    "country_map['Macedonia, the former Yugoslav Republic of'] = country_map['Macedonia']\n",
    "country_map['Moldova, Republic of'] = country_map['Moldova']\n",
    "country_map['Russian Federation'] = country_map['Russia']\n",
    "country_map['Slovak Republic'] = country_map['Slovakia']\n",
    "country_map['Iran, Islamic Republic of'] = country_map['Iran']\n",
    "\n",
    "def get_country_code(x):\n",
    "    try:\n",
    "        return country_map[x]\n",
    "    except:\n",
    "        return None\n",
    "    \n",
    "df['country_code_'] = df['country_name'].apply(get_country_code)"
   ]
  },
  {
   "cell_type": "code",
   "execution_count": 239,
   "metadata": {},
   "outputs": [],
   "source": [
    "import plotly.graph_objects as go\n",
    "import pandas as pd\n",
    "\n",
    "# dff = pd.read_csv('https://raw.githubusercontent.com/plotly/datasets/master/2014_world_gdp_with_codes.csv')\n",
    "\n",
    "def plot_heatmap(dff):\n",
    "    fig = go.Figure(data=go.Choropleth(\n",
    "        locations = dff['country_code_'],\n",
    "        z = dff['amount sum'],\n",
    "        text = dff['country_name'],\n",
    "        colorscale = 'Oranges',\n",
    "        autocolorscale=False,\n",
    "        reversescale=False,\n",
    "        marker_line_color='darkgray',\n",
    "        marker_line_width=0.5,\n",
    "        colorbar_tickprefix = '$',\n",
    "        colorbar_title = 'Total Loan Amount<br>Billions current US$',\n",
    "    ))\n",
    "\n",
    "    fig.update_layout(\n",
    "        title_text='World Bank (IBRD) Loans 1990-2019',\n",
    "        geo=dict(\n",
    "            showframe=False,\n",
    "            showcoastlines=False,\n",
    "            projection_type='equirectangular'\n",
    "        ),\n",
    "        annotations = [dict(\n",
    "            x=0.55,\n",
    "            y=0.1,\n",
    "            xref='paper',\n",
    "            yref='paper',\n",
    "            text='Source: <a href=\"https://github.com/xushuo0/Qarik-Project\">\\\n",
    "                Qurik-Project (May 28, 2021)</a>',\n",
    "            showarrow = False\n",
    "        )]\n",
    "    )\n",
    "    fig.show()"
   ]
  },
  {
   "cell_type": "code",
   "execution_count": 240,
   "metadata": {},
   "outputs": [],
   "source": [
    "dff = df.groupby(['country_name', 'country_code_'])['amount_cur_usd'].sum().reset_index(name = 'amount sum').sort_values(by='amount sum', ascending = False)"
   ]
  },
  {
   "cell_type": "code",
   "execution_count": 241,
   "metadata": {},
   "outputs": [
    {
     "data": {
      "text/html": [
       "<div>\n",
       "<style scoped>\n",
       "    .dataframe tbody tr th:only-of-type {\n",
       "        vertical-align: middle;\n",
       "    }\n",
       "\n",
       "    .dataframe tbody tr th {\n",
       "        vertical-align: top;\n",
       "    }\n",
       "\n",
       "    .dataframe thead th {\n",
       "        text-align: right;\n",
       "    }\n",
       "</style>\n",
       "<table border=\"1\" class=\"dataframe\">\n",
       "  <thead>\n",
       "    <tr style=\"text-align: right;\">\n",
       "      <th></th>\n",
       "      <th>country_name</th>\n",
       "      <th>country_code_</th>\n",
       "      <th>amount sum</th>\n",
       "    </tr>\n",
       "  </thead>\n",
       "  <tbody>\n",
       "    <tr>\n",
       "      <th>44</th>\n",
       "      <td>India</td>\n",
       "      <td>IND</td>\n",
       "      <td>3.111331e+10</td>\n",
       "    </tr>\n",
       "    <tr>\n",
       "      <th>14</th>\n",
       "      <td>Brazil</td>\n",
       "      <td>BRA</td>\n",
       "      <td>2.237138e+10</td>\n",
       "    </tr>\n",
       "    <tr>\n",
       "      <th>19</th>\n",
       "      <td>China</td>\n",
       "      <td>CHN</td>\n",
       "      <td>2.156715e+10</td>\n",
       "    </tr>\n",
       "    <tr>\n",
       "      <th>96</th>\n",
       "      <td>Turkey</td>\n",
       "      <td>TUR</td>\n",
       "      <td>1.899606e+10</td>\n",
       "    </tr>\n",
       "    <tr>\n",
       "      <th>45</th>\n",
       "      <td>Indonesia</td>\n",
       "      <td>IDN</td>\n",
       "      <td>1.585007e+10</td>\n",
       "    </tr>\n",
       "  </tbody>\n",
       "</table>\n",
       "</div>"
      ],
      "text/plain": [
       "   country_name country_code_    amount sum\n",
       "44        India           IND  3.111331e+10\n",
       "14       Brazil           BRA  2.237138e+10\n",
       "19        China           CHN  2.156715e+10\n",
       "96       Turkey           TUR  1.899606e+10\n",
       "45    Indonesia           IDN  1.585007e+10"
      ]
     },
     "execution_count": 241,
     "metadata": {},
     "output_type": "execute_result"
    }
   ],
   "source": [
    "dff.head()"
   ]
  },
  {
   "cell_type": "code",
   "execution_count": 242,
   "metadata": {},
   "outputs": [
    {
     "data": {
      "application/vnd.plotly.v1+json": {
       "config": {
        "plotlyServerURL": "https://plot.ly"
       },
       "data": [
        {
         "autocolorscale": false,
         "colorbar": {
          "tickprefix": "$",
          "title": {
           "text": "Total Loan Amount<br>Billions current US$"
          }
         },
         "colorscale": [
          [
           0,
           "rgb(255,245,235)"
          ],
          [
           0.125,
           "rgb(254,230,206)"
          ],
          [
           0.25,
           "rgb(253,208,162)"
          ],
          [
           0.375,
           "rgb(253,174,107)"
          ],
          [
           0.5,
           "rgb(253,141,60)"
          ],
          [
           0.625,
           "rgb(241,105,19)"
          ],
          [
           0.75,
           "rgb(217,72,1)"
          ],
          [
           0.875,
           "rgb(166,54,3)"
          ],
          [
           1,
           "rgb(127,39,4)"
          ]
         ],
         "locations": [
          "IND",
          "BRA",
          "CHN",
          "TUR",
          "IDN",
          "MEX",
          "EGY",
          "ARG",
          "COL",
          "POL",
          "UKR",
          "ROU",
          "PER",
          "PHL",
          "MNE",
          "KAZ",
          "MYS",
          "JOR",
          "TUN",
          "PAK",
          "RUS",
          "HRV",
          "SRB",
          "URY",
          "AZE",
          "AGO",
          "MAR",
          "PAN",
          "LBN",
          "IRQ",
          "VNM",
          "ECU",
          "DOM",
          "CRI",
          "BLR",
          "UZB",
          "IRN",
          "SLV",
          "MKD",
          "BGR",
          "ALB",
          "ARM",
          "GEO",
          "JAM",
          "GUM",
          "CMR",
          "GAB",
          "GTM",
          "EST",
          "BOL",
          "LVA",
          "PRY",
          "CHE",
          "ESP",
          "BIH",
          "SVK",
          "MUS",
          "KEN",
          "CHL",
          "LTU",
          "CIV",
          "BWA",
          "PNG",
          "COD",
          "LSO",
          "LKA",
          "DZA",
          "ZAF",
          "MDA",
          "BRB",
          "HUN",
          "SVN",
          "SYC",
          "LCA",
          "COG",
          "GRD",
          "BLZ",
          "SAU",
          "FJI",
          "NAM",
          "CPV",
          "GRC",
          "ATG",
          "THA",
          "TLS",
          "MKD",
          "SWZ",
          "VEN",
          "TKM",
          "SUR",
          "KOR",
          "SVK",
          "SLE",
          "VCT",
          "NGA",
          "MNG",
          "MDA",
          "HND",
          "GHA",
          "ETH",
          "CZE",
          "CYP",
          "CIV",
          "BEL",
          "ZWE"
         ],
         "marker": {
          "line": {
           "color": "darkgray",
           "width": 0.5
          }
         },
         "reversescale": false,
         "text": [
          "India",
          "Brazil",
          "China",
          "Turkey",
          "Indonesia",
          "Mexico",
          "Egypt",
          "Argentina",
          "Colombia",
          "Poland",
          "Ukraine",
          "Romania",
          "Peru",
          "Philippines",
          "Montenegro",
          "Kazakhstan",
          "Malaysia",
          "Jordan",
          "Tunisia",
          "Pakistan",
          "Russian Federation",
          "Croatia",
          "Serbia",
          "Uruguay",
          "Azerbaijan",
          "Angola",
          "Morocco",
          "Panama",
          "Lebanon",
          "Iraq",
          "Viet Nam",
          "Ecuador",
          "Dominican Republic",
          "Costa Rica",
          "Belarus",
          "Uzbekistan",
          "Iran, Islamic Republic of",
          "El Salvador",
          "Macedonia, the former Yugoslav Republic of",
          "Bulgaria",
          "Albania",
          "Armenia",
          "Georgia",
          "Jamaica",
          "Guam",
          "Cameroon",
          "Gabon",
          "Guatemala",
          "Estonia",
          "Bolivia, Plurinational State of",
          "Latvia",
          "Paraguay",
          "Switzerland",
          "Spain",
          "Bosnia and Herzegovina",
          "Slovakia",
          "Mauritius",
          "Kenya",
          "Chile",
          "Lithuania",
          "Côte d'Ivoire",
          "Botswana",
          "Papua New Guinea",
          "Congo",
          "Lesotho",
          "Sri Lanka",
          "Algeria",
          "South Africa",
          "Moldova, Republic of",
          "Barbados",
          "Hungary",
          "Slovenia",
          "Seychelles",
          "Saint Lucia",
          "People's Republic of the Congo",
          "Grenada",
          "Belize",
          "Saudi Arabia",
          "Fiji",
          "Namibia",
          "Cape Verde",
          "Greece",
          "Antigua and Barbuda",
          "Thailand",
          "Timor-Leste",
          "Yugoslavia",
          "Swaziland",
          "Venezuela, Bolivarian Republic of",
          "Turkmenistan",
          "Suriname",
          "Korea",
          "Slovak Republic",
          "Sierra Leone",
          "Saint Vincent and the Grenadines",
          "Nigeria",
          "Mongolia",
          "Moldova",
          "Honduras",
          "Ghana",
          "Ethiopia",
          "Czech Republic",
          "Cyprus",
          "Cote d'Ivoire",
          "Belgium",
          "Zimbabwe"
         ],
         "type": "choropleth",
         "z": [
          31113310000,
          22371382984,
          21567152820,
          18996058598,
          15850072000,
          13653540243,
          11717450000,
          11434196000,
          10930566470,
          6950856040,
          6551557000,
          6421115850,
          6311100000,
          5395198154.16096,
          5160803213,
          5141010000,
          5011796420,
          4343200000,
          3073419370,
          2991183992.7386656,
          2624600000,
          2484281546.6666665,
          2290730464,
          1784140000,
          1759900000,
          1714253400,
          1639549703.8562093,
          1499800000,
          1484300000,
          1465000000,
          1395000000,
          1380960000,
          1291800000,
          1274500000,
          1132011800,
          1075430000,
          1011000000,
          996872161,
          863165378,
          858888790,
          849738730,
          761600000,
          751316130,
          737000000,
          733910000,
          715642270,
          707751270,
          667000000,
          662724240,
          632950000,
          472682593,
          464000000,
          438310000,
          395000000,
          393703250,
          293672640,
          260027871.7557252,
          242958600,
          220126000,
          206106681,
          201110906.66666666,
          195500000,
          172620000,
          171613520,
          110000000,
          102000000,
          95000000,
          93000000,
          83780000,
          50150000,
          29004840,
          23170540,
          22544322,
          17172161,
          15800000,
          15772161,
          15000000.000000002,
          15000000,
          15000000,
          7500000.000000001,
          5000000,
          4000000,
          2000000,
          0,
          0,
          0,
          0,
          0,
          0,
          0,
          0,
          0,
          0,
          0,
          0,
          0,
          0,
          0,
          0,
          0,
          0,
          0,
          0,
          0,
          0
         ]
        }
       ],
       "layout": {
        "annotations": [
         {
          "showarrow": false,
          "text": "Source: <a href=\"https://github.com/xushuo0/Qarik-Project\">                Qurik-Project (May 28, 2021)</a>",
          "x": 0.55,
          "xref": "paper",
          "y": 0.1,
          "yref": "paper"
         }
        ],
        "geo": {
         "projection": {
          "type": "equirectangular"
         },
         "showcoastlines": false,
         "showframe": false
        },
        "template": {
         "data": {
          "bar": [
           {
            "error_x": {
             "color": "#2a3f5f"
            },
            "error_y": {
             "color": "#2a3f5f"
            },
            "marker": {
             "line": {
              "color": "#E5ECF6",
              "width": 0.5
             }
            },
            "type": "bar"
           }
          ],
          "barpolar": [
           {
            "marker": {
             "line": {
              "color": "#E5ECF6",
              "width": 0.5
             }
            },
            "type": "barpolar"
           }
          ],
          "carpet": [
           {
            "aaxis": {
             "endlinecolor": "#2a3f5f",
             "gridcolor": "white",
             "linecolor": "white",
             "minorgridcolor": "white",
             "startlinecolor": "#2a3f5f"
            },
            "baxis": {
             "endlinecolor": "#2a3f5f",
             "gridcolor": "white",
             "linecolor": "white",
             "minorgridcolor": "white",
             "startlinecolor": "#2a3f5f"
            },
            "type": "carpet"
           }
          ],
          "choropleth": [
           {
            "colorbar": {
             "outlinewidth": 0,
             "ticks": ""
            },
            "type": "choropleth"
           }
          ],
          "contour": [
           {
            "colorbar": {
             "outlinewidth": 0,
             "ticks": ""
            },
            "colorscale": [
             [
              0,
              "#0d0887"
             ],
             [
              0.1111111111111111,
              "#46039f"
             ],
             [
              0.2222222222222222,
              "#7201a8"
             ],
             [
              0.3333333333333333,
              "#9c179e"
             ],
             [
              0.4444444444444444,
              "#bd3786"
             ],
             [
              0.5555555555555556,
              "#d8576b"
             ],
             [
              0.6666666666666666,
              "#ed7953"
             ],
             [
              0.7777777777777778,
              "#fb9f3a"
             ],
             [
              0.8888888888888888,
              "#fdca26"
             ],
             [
              1,
              "#f0f921"
             ]
            ],
            "type": "contour"
           }
          ],
          "contourcarpet": [
           {
            "colorbar": {
             "outlinewidth": 0,
             "ticks": ""
            },
            "type": "contourcarpet"
           }
          ],
          "heatmap": [
           {
            "colorbar": {
             "outlinewidth": 0,
             "ticks": ""
            },
            "colorscale": [
             [
              0,
              "#0d0887"
             ],
             [
              0.1111111111111111,
              "#46039f"
             ],
             [
              0.2222222222222222,
              "#7201a8"
             ],
             [
              0.3333333333333333,
              "#9c179e"
             ],
             [
              0.4444444444444444,
              "#bd3786"
             ],
             [
              0.5555555555555556,
              "#d8576b"
             ],
             [
              0.6666666666666666,
              "#ed7953"
             ],
             [
              0.7777777777777778,
              "#fb9f3a"
             ],
             [
              0.8888888888888888,
              "#fdca26"
             ],
             [
              1,
              "#f0f921"
             ]
            ],
            "type": "heatmap"
           }
          ],
          "heatmapgl": [
           {
            "colorbar": {
             "outlinewidth": 0,
             "ticks": ""
            },
            "colorscale": [
             [
              0,
              "#0d0887"
             ],
             [
              0.1111111111111111,
              "#46039f"
             ],
             [
              0.2222222222222222,
              "#7201a8"
             ],
             [
              0.3333333333333333,
              "#9c179e"
             ],
             [
              0.4444444444444444,
              "#bd3786"
             ],
             [
              0.5555555555555556,
              "#d8576b"
             ],
             [
              0.6666666666666666,
              "#ed7953"
             ],
             [
              0.7777777777777778,
              "#fb9f3a"
             ],
             [
              0.8888888888888888,
              "#fdca26"
             ],
             [
              1,
              "#f0f921"
             ]
            ],
            "type": "heatmapgl"
           }
          ],
          "histogram": [
           {
            "marker": {
             "colorbar": {
              "outlinewidth": 0,
              "ticks": ""
             }
            },
            "type": "histogram"
           }
          ],
          "histogram2d": [
           {
            "colorbar": {
             "outlinewidth": 0,
             "ticks": ""
            },
            "colorscale": [
             [
              0,
              "#0d0887"
             ],
             [
              0.1111111111111111,
              "#46039f"
             ],
             [
              0.2222222222222222,
              "#7201a8"
             ],
             [
              0.3333333333333333,
              "#9c179e"
             ],
             [
              0.4444444444444444,
              "#bd3786"
             ],
             [
              0.5555555555555556,
              "#d8576b"
             ],
             [
              0.6666666666666666,
              "#ed7953"
             ],
             [
              0.7777777777777778,
              "#fb9f3a"
             ],
             [
              0.8888888888888888,
              "#fdca26"
             ],
             [
              1,
              "#f0f921"
             ]
            ],
            "type": "histogram2d"
           }
          ],
          "histogram2dcontour": [
           {
            "colorbar": {
             "outlinewidth": 0,
             "ticks": ""
            },
            "colorscale": [
             [
              0,
              "#0d0887"
             ],
             [
              0.1111111111111111,
              "#46039f"
             ],
             [
              0.2222222222222222,
              "#7201a8"
             ],
             [
              0.3333333333333333,
              "#9c179e"
             ],
             [
              0.4444444444444444,
              "#bd3786"
             ],
             [
              0.5555555555555556,
              "#d8576b"
             ],
             [
              0.6666666666666666,
              "#ed7953"
             ],
             [
              0.7777777777777778,
              "#fb9f3a"
             ],
             [
              0.8888888888888888,
              "#fdca26"
             ],
             [
              1,
              "#f0f921"
             ]
            ],
            "type": "histogram2dcontour"
           }
          ],
          "mesh3d": [
           {
            "colorbar": {
             "outlinewidth": 0,
             "ticks": ""
            },
            "type": "mesh3d"
           }
          ],
          "parcoords": [
           {
            "line": {
             "colorbar": {
              "outlinewidth": 0,
              "ticks": ""
             }
            },
            "type": "parcoords"
           }
          ],
          "pie": [
           {
            "automargin": true,
            "type": "pie"
           }
          ],
          "scatter": [
           {
            "marker": {
             "colorbar": {
              "outlinewidth": 0,
              "ticks": ""
             }
            },
            "type": "scatter"
           }
          ],
          "scatter3d": [
           {
            "line": {
             "colorbar": {
              "outlinewidth": 0,
              "ticks": ""
             }
            },
            "marker": {
             "colorbar": {
              "outlinewidth": 0,
              "ticks": ""
             }
            },
            "type": "scatter3d"
           }
          ],
          "scattercarpet": [
           {
            "marker": {
             "colorbar": {
              "outlinewidth": 0,
              "ticks": ""
             }
            },
            "type": "scattercarpet"
           }
          ],
          "scattergeo": [
           {
            "marker": {
             "colorbar": {
              "outlinewidth": 0,
              "ticks": ""
             }
            },
            "type": "scattergeo"
           }
          ],
          "scattergl": [
           {
            "marker": {
             "colorbar": {
              "outlinewidth": 0,
              "ticks": ""
             }
            },
            "type": "scattergl"
           }
          ],
          "scattermapbox": [
           {
            "marker": {
             "colorbar": {
              "outlinewidth": 0,
              "ticks": ""
             }
            },
            "type": "scattermapbox"
           }
          ],
          "scatterpolar": [
           {
            "marker": {
             "colorbar": {
              "outlinewidth": 0,
              "ticks": ""
             }
            },
            "type": "scatterpolar"
           }
          ],
          "scatterpolargl": [
           {
            "marker": {
             "colorbar": {
              "outlinewidth": 0,
              "ticks": ""
             }
            },
            "type": "scatterpolargl"
           }
          ],
          "scatterternary": [
           {
            "marker": {
             "colorbar": {
              "outlinewidth": 0,
              "ticks": ""
             }
            },
            "type": "scatterternary"
           }
          ],
          "surface": [
           {
            "colorbar": {
             "outlinewidth": 0,
             "ticks": ""
            },
            "colorscale": [
             [
              0,
              "#0d0887"
             ],
             [
              0.1111111111111111,
              "#46039f"
             ],
             [
              0.2222222222222222,
              "#7201a8"
             ],
             [
              0.3333333333333333,
              "#9c179e"
             ],
             [
              0.4444444444444444,
              "#bd3786"
             ],
             [
              0.5555555555555556,
              "#d8576b"
             ],
             [
              0.6666666666666666,
              "#ed7953"
             ],
             [
              0.7777777777777778,
              "#fb9f3a"
             ],
             [
              0.8888888888888888,
              "#fdca26"
             ],
             [
              1,
              "#f0f921"
             ]
            ],
            "type": "surface"
           }
          ],
          "table": [
           {
            "cells": {
             "fill": {
              "color": "#EBF0F8"
             },
             "line": {
              "color": "white"
             }
            },
            "header": {
             "fill": {
              "color": "#C8D4E3"
             },
             "line": {
              "color": "white"
             }
            },
            "type": "table"
           }
          ]
         },
         "layout": {
          "annotationdefaults": {
           "arrowcolor": "#2a3f5f",
           "arrowhead": 0,
           "arrowwidth": 1
          },
          "autotypenumbers": "strict",
          "coloraxis": {
           "colorbar": {
            "outlinewidth": 0,
            "ticks": ""
           }
          },
          "colorscale": {
           "diverging": [
            [
             0,
             "#8e0152"
            ],
            [
             0.1,
             "#c51b7d"
            ],
            [
             0.2,
             "#de77ae"
            ],
            [
             0.3,
             "#f1b6da"
            ],
            [
             0.4,
             "#fde0ef"
            ],
            [
             0.5,
             "#f7f7f7"
            ],
            [
             0.6,
             "#e6f5d0"
            ],
            [
             0.7,
             "#b8e186"
            ],
            [
             0.8,
             "#7fbc41"
            ],
            [
             0.9,
             "#4d9221"
            ],
            [
             1,
             "#276419"
            ]
           ],
           "sequential": [
            [
             0,
             "#0d0887"
            ],
            [
             0.1111111111111111,
             "#46039f"
            ],
            [
             0.2222222222222222,
             "#7201a8"
            ],
            [
             0.3333333333333333,
             "#9c179e"
            ],
            [
             0.4444444444444444,
             "#bd3786"
            ],
            [
             0.5555555555555556,
             "#d8576b"
            ],
            [
             0.6666666666666666,
             "#ed7953"
            ],
            [
             0.7777777777777778,
             "#fb9f3a"
            ],
            [
             0.8888888888888888,
             "#fdca26"
            ],
            [
             1,
             "#f0f921"
            ]
           ],
           "sequentialminus": [
            [
             0,
             "#0d0887"
            ],
            [
             0.1111111111111111,
             "#46039f"
            ],
            [
             0.2222222222222222,
             "#7201a8"
            ],
            [
             0.3333333333333333,
             "#9c179e"
            ],
            [
             0.4444444444444444,
             "#bd3786"
            ],
            [
             0.5555555555555556,
             "#d8576b"
            ],
            [
             0.6666666666666666,
             "#ed7953"
            ],
            [
             0.7777777777777778,
             "#fb9f3a"
            ],
            [
             0.8888888888888888,
             "#fdca26"
            ],
            [
             1,
             "#f0f921"
            ]
           ]
          },
          "colorway": [
           "#636efa",
           "#EF553B",
           "#00cc96",
           "#ab63fa",
           "#FFA15A",
           "#19d3f3",
           "#FF6692",
           "#B6E880",
           "#FF97FF",
           "#FECB52"
          ],
          "font": {
           "color": "#2a3f5f"
          },
          "geo": {
           "bgcolor": "white",
           "lakecolor": "white",
           "landcolor": "#E5ECF6",
           "showlakes": true,
           "showland": true,
           "subunitcolor": "white"
          },
          "hoverlabel": {
           "align": "left"
          },
          "hovermode": "closest",
          "mapbox": {
           "style": "light"
          },
          "paper_bgcolor": "white",
          "plot_bgcolor": "#E5ECF6",
          "polar": {
           "angularaxis": {
            "gridcolor": "white",
            "linecolor": "white",
            "ticks": ""
           },
           "bgcolor": "#E5ECF6",
           "radialaxis": {
            "gridcolor": "white",
            "linecolor": "white",
            "ticks": ""
           }
          },
          "scene": {
           "xaxis": {
            "backgroundcolor": "#E5ECF6",
            "gridcolor": "white",
            "gridwidth": 2,
            "linecolor": "white",
            "showbackground": true,
            "ticks": "",
            "zerolinecolor": "white"
           },
           "yaxis": {
            "backgroundcolor": "#E5ECF6",
            "gridcolor": "white",
            "gridwidth": 2,
            "linecolor": "white",
            "showbackground": true,
            "ticks": "",
            "zerolinecolor": "white"
           },
           "zaxis": {
            "backgroundcolor": "#E5ECF6",
            "gridcolor": "white",
            "gridwidth": 2,
            "linecolor": "white",
            "showbackground": true,
            "ticks": "",
            "zerolinecolor": "white"
           }
          },
          "shapedefaults": {
           "line": {
            "color": "#2a3f5f"
           }
          },
          "ternary": {
           "aaxis": {
            "gridcolor": "white",
            "linecolor": "white",
            "ticks": ""
           },
           "baxis": {
            "gridcolor": "white",
            "linecolor": "white",
            "ticks": ""
           },
           "bgcolor": "#E5ECF6",
           "caxis": {
            "gridcolor": "white",
            "linecolor": "white",
            "ticks": ""
           }
          },
          "title": {
           "x": 0.05
          },
          "xaxis": {
           "automargin": true,
           "gridcolor": "white",
           "linecolor": "white",
           "ticks": "",
           "title": {
            "standoff": 15
           },
           "zerolinecolor": "white",
           "zerolinewidth": 2
          },
          "yaxis": {
           "automargin": true,
           "gridcolor": "white",
           "linecolor": "white",
           "ticks": "",
           "title": {
            "standoff": 15
           },
           "zerolinecolor": "white",
           "zerolinewidth": 2
          }
         }
        },
        "title": {
         "text": "World Bank (IBRD) Loans 1990-2019"
        }
       }
      },
      "text/html": [
       "<div>                            <div id=\"c25d3385-0a36-4d40-986c-b8cd8cd89b7c\" class=\"plotly-graph-div\" style=\"height:525px; width:100%;\"></div>            <script type=\"text/javascript\">                require([\"plotly\"], function(Plotly) {                    window.PLOTLYENV=window.PLOTLYENV || {};                                    if (document.getElementById(\"c25d3385-0a36-4d40-986c-b8cd8cd89b7c\")) {                    Plotly.newPlot(                        \"c25d3385-0a36-4d40-986c-b8cd8cd89b7c\",                        [{\"autocolorscale\": false, \"colorbar\": {\"tickprefix\": \"$\", \"title\": {\"text\": \"Total Loan Amount<br>Billions current US$\"}}, \"colorscale\": [[0.0, \"rgb(255,245,235)\"], [0.125, \"rgb(254,230,206)\"], [0.25, \"rgb(253,208,162)\"], [0.375, \"rgb(253,174,107)\"], [0.5, \"rgb(253,141,60)\"], [0.625, \"rgb(241,105,19)\"], [0.75, \"rgb(217,72,1)\"], [0.875, \"rgb(166,54,3)\"], [1.0, \"rgb(127,39,4)\"]], \"locations\": [\"IND\", \"BRA\", \"CHN\", \"TUR\", \"IDN\", \"MEX\", \"EGY\", \"ARG\", \"COL\", \"POL\", \"UKR\", \"ROU\", \"PER\", \"PHL\", \"MNE\", \"KAZ\", \"MYS\", \"JOR\", \"TUN\", \"PAK\", \"RUS\", \"HRV\", \"SRB\", \"URY\", \"AZE\", \"AGO\", \"MAR\", \"PAN\", \"LBN\", \"IRQ\", \"VNM\", \"ECU\", \"DOM\", \"CRI\", \"BLR\", \"UZB\", \"IRN\", \"SLV\", \"MKD\", \"BGR\", \"ALB\", \"ARM\", \"GEO\", \"JAM\", \"GUM\", \"CMR\", \"GAB\", \"GTM\", \"EST\", \"BOL\", \"LVA\", \"PRY\", \"CHE\", \"ESP\", \"BIH\", \"SVK\", \"MUS\", \"KEN\", \"CHL\", \"LTU\", \"CIV\", \"BWA\", \"PNG\", \"COD\", \"LSO\", \"LKA\", \"DZA\", \"ZAF\", \"MDA\", \"BRB\", \"HUN\", \"SVN\", \"SYC\", \"LCA\", \"COG\", \"GRD\", \"BLZ\", \"SAU\", \"FJI\", \"NAM\", \"CPV\", \"GRC\", \"ATG\", \"THA\", \"TLS\", \"MKD\", \"SWZ\", \"VEN\", \"TKM\", \"SUR\", \"KOR\", \"SVK\", \"SLE\", \"VCT\", \"NGA\", \"MNG\", \"MDA\", \"HND\", \"GHA\", \"ETH\", \"CZE\", \"CYP\", \"CIV\", \"BEL\", \"ZWE\"], \"marker\": {\"line\": {\"color\": \"darkgray\", \"width\": 0.5}}, \"reversescale\": false, \"text\": [\"India\", \"Brazil\", \"China\", \"Turkey\", \"Indonesia\", \"Mexico\", \"Egypt\", \"Argentina\", \"Colombia\", \"Poland\", \"Ukraine\", \"Romania\", \"Peru\", \"Philippines\", \"Montenegro\", \"Kazakhstan\", \"Malaysia\", \"Jordan\", \"Tunisia\", \"Pakistan\", \"Russian Federation\", \"Croatia\", \"Serbia\", \"Uruguay\", \"Azerbaijan\", \"Angola\", \"Morocco\", \"Panama\", \"Lebanon\", \"Iraq\", \"Viet Nam\", \"Ecuador\", \"Dominican Republic\", \"Costa Rica\", \"Belarus\", \"Uzbekistan\", \"Iran, Islamic Republic of\", \"El Salvador\", \"Macedonia, the former Yugoslav Republic of\", \"Bulgaria\", \"Albania\", \"Armenia\", \"Georgia\", \"Jamaica\", \"Guam\", \"Cameroon\", \"Gabon\", \"Guatemala\", \"Estonia\", \"Bolivia, Plurinational State of\", \"Latvia\", \"Paraguay\", \"Switzerland\", \"Spain\", \"Bosnia and Herzegovina\", \"Slovakia\", \"Mauritius\", \"Kenya\", \"Chile\", \"Lithuania\", \"C\\u00f4te d'Ivoire\", \"Botswana\", \"Papua New Guinea\", \"Congo\", \"Lesotho\", \"Sri Lanka\", \"Algeria\", \"South Africa\", \"Moldova, Republic of\", \"Barbados\", \"Hungary\", \"Slovenia\", \"Seychelles\", \"Saint Lucia\", \"People's Republic of the Congo\", \"Grenada\", \"Belize\", \"Saudi Arabia\", \"Fiji\", \"Namibia\", \"Cape Verde\", \"Greece\", \"Antigua and Barbuda\", \"Thailand\", \"Timor-Leste\", \"Yugoslavia\", \"Swaziland\", \"Venezuela, Bolivarian Republic of\", \"Turkmenistan\", \"Suriname\", \"Korea\", \"Slovak Republic\", \"Sierra Leone\", \"Saint Vincent and the Grenadines\", \"Nigeria\", \"Mongolia\", \"Moldova\", \"Honduras\", \"Ghana\", \"Ethiopia\", \"Czech Republic\", \"Cyprus\", \"Cote d'Ivoire\", \"Belgium\", \"Zimbabwe\"], \"type\": \"choropleth\", \"z\": [31113310000.0, 22371382984.0, 21567152820.0, 18996058598.0, 15850072000.0, 13653540243.0, 11717450000.0, 11434196000.0, 10930566470.0, 6950856040.0, 6551557000.0, 6421115850.0, 6311100000.0, 5395198154.16096, 5160803213.0, 5141010000.0, 5011796420.0, 4343200000.0, 3073419370.0, 2991183992.7386656, 2624600000.0, 2484281546.6666665, 2290730464.0, 1784140000.0, 1759900000.0, 1714253400.0, 1639549703.8562093, 1499800000.0, 1484300000.0, 1465000000.0, 1395000000.0, 1380960000.0, 1291800000.0, 1274500000.0, 1132011800.0, 1075430000.0, 1011000000.0, 996872161.0, 863165378.0, 858888790.0, 849738730.0, 761600000.0, 751316130.0, 737000000.0, 733910000.0, 715642270.0, 707751270.0, 667000000.0, 662724240.0, 632950000.0, 472682593.0, 464000000.0, 438310000.0, 395000000.0, 393703250.0, 293672640.0, 260027871.7557252, 242958600.0, 220126000.0, 206106681.0, 201110906.66666666, 195500000.0, 172620000.0, 171613520.0, 110000000.0, 102000000.0, 95000000.0, 93000000.0, 83780000.0, 50150000.0, 29004840.0, 23170540.0, 22544322.0, 17172161.0, 15800000.0, 15772161.0, 15000000.000000002, 15000000.0, 15000000.0, 7500000.000000001, 5000000.0, 4000000.0, 2000000.0, 0.0, 0.0, 0.0, 0.0, 0.0, 0.0, 0.0, 0.0, 0.0, 0.0, 0.0, 0.0, 0.0, 0.0, 0.0, 0.0, 0.0, 0.0, 0.0, 0.0, 0.0, 0.0]}],                        {\"annotations\": [{\"showarrow\": false, \"text\": \"Source: <a href=\\\"https://github.com/xushuo0/Qarik-Project\\\">                Qurik-Project (May 28, 2021)</a>\", \"x\": 0.55, \"xref\": \"paper\", \"y\": 0.1, \"yref\": \"paper\"}], \"geo\": {\"projection\": {\"type\": \"equirectangular\"}, \"showcoastlines\": false, \"showframe\": false}, \"template\": {\"data\": {\"bar\": [{\"error_x\": {\"color\": \"#2a3f5f\"}, \"error_y\": {\"color\": \"#2a3f5f\"}, \"marker\": {\"line\": {\"color\": \"#E5ECF6\", \"width\": 0.5}}, \"type\": \"bar\"}], \"barpolar\": [{\"marker\": {\"line\": {\"color\": \"#E5ECF6\", \"width\": 0.5}}, \"type\": \"barpolar\"}], \"carpet\": [{\"aaxis\": {\"endlinecolor\": \"#2a3f5f\", \"gridcolor\": \"white\", \"linecolor\": \"white\", \"minorgridcolor\": \"white\", \"startlinecolor\": \"#2a3f5f\"}, \"baxis\": {\"endlinecolor\": \"#2a3f5f\", \"gridcolor\": \"white\", \"linecolor\": \"white\", \"minorgridcolor\": \"white\", \"startlinecolor\": \"#2a3f5f\"}, \"type\": \"carpet\"}], \"choropleth\": [{\"colorbar\": {\"outlinewidth\": 0, \"ticks\": \"\"}, \"type\": \"choropleth\"}], \"contour\": [{\"colorbar\": {\"outlinewidth\": 0, \"ticks\": \"\"}, \"colorscale\": [[0.0, \"#0d0887\"], [0.1111111111111111, \"#46039f\"], [0.2222222222222222, \"#7201a8\"], [0.3333333333333333, \"#9c179e\"], [0.4444444444444444, \"#bd3786\"], [0.5555555555555556, \"#d8576b\"], [0.6666666666666666, \"#ed7953\"], [0.7777777777777778, \"#fb9f3a\"], [0.8888888888888888, \"#fdca26\"], [1.0, \"#f0f921\"]], \"type\": \"contour\"}], \"contourcarpet\": [{\"colorbar\": {\"outlinewidth\": 0, \"ticks\": \"\"}, \"type\": \"contourcarpet\"}], \"heatmap\": [{\"colorbar\": {\"outlinewidth\": 0, \"ticks\": \"\"}, \"colorscale\": [[0.0, \"#0d0887\"], [0.1111111111111111, \"#46039f\"], [0.2222222222222222, \"#7201a8\"], [0.3333333333333333, \"#9c179e\"], [0.4444444444444444, \"#bd3786\"], [0.5555555555555556, \"#d8576b\"], [0.6666666666666666, \"#ed7953\"], [0.7777777777777778, \"#fb9f3a\"], [0.8888888888888888, \"#fdca26\"], [1.0, \"#f0f921\"]], \"type\": \"heatmap\"}], \"heatmapgl\": [{\"colorbar\": {\"outlinewidth\": 0, \"ticks\": \"\"}, \"colorscale\": [[0.0, \"#0d0887\"], [0.1111111111111111, \"#46039f\"], [0.2222222222222222, \"#7201a8\"], [0.3333333333333333, \"#9c179e\"], [0.4444444444444444, \"#bd3786\"], [0.5555555555555556, \"#d8576b\"], [0.6666666666666666, \"#ed7953\"], [0.7777777777777778, \"#fb9f3a\"], [0.8888888888888888, \"#fdca26\"], [1.0, \"#f0f921\"]], \"type\": \"heatmapgl\"}], \"histogram\": [{\"marker\": {\"colorbar\": {\"outlinewidth\": 0, \"ticks\": \"\"}}, \"type\": \"histogram\"}], \"histogram2d\": [{\"colorbar\": {\"outlinewidth\": 0, \"ticks\": \"\"}, \"colorscale\": [[0.0, \"#0d0887\"], [0.1111111111111111, \"#46039f\"], [0.2222222222222222, \"#7201a8\"], [0.3333333333333333, \"#9c179e\"], [0.4444444444444444, \"#bd3786\"], [0.5555555555555556, \"#d8576b\"], [0.6666666666666666, \"#ed7953\"], [0.7777777777777778, \"#fb9f3a\"], [0.8888888888888888, \"#fdca26\"], [1.0, \"#f0f921\"]], \"type\": \"histogram2d\"}], \"histogram2dcontour\": [{\"colorbar\": {\"outlinewidth\": 0, \"ticks\": \"\"}, \"colorscale\": [[0.0, \"#0d0887\"], [0.1111111111111111, \"#46039f\"], [0.2222222222222222, \"#7201a8\"], [0.3333333333333333, \"#9c179e\"], [0.4444444444444444, \"#bd3786\"], [0.5555555555555556, \"#d8576b\"], [0.6666666666666666, \"#ed7953\"], [0.7777777777777778, \"#fb9f3a\"], [0.8888888888888888, \"#fdca26\"], [1.0, \"#f0f921\"]], \"type\": \"histogram2dcontour\"}], \"mesh3d\": [{\"colorbar\": {\"outlinewidth\": 0, \"ticks\": \"\"}, \"type\": \"mesh3d\"}], \"parcoords\": [{\"line\": {\"colorbar\": {\"outlinewidth\": 0, \"ticks\": \"\"}}, \"type\": \"parcoords\"}], \"pie\": [{\"automargin\": true, \"type\": \"pie\"}], \"scatter\": [{\"marker\": {\"colorbar\": {\"outlinewidth\": 0, \"ticks\": \"\"}}, \"type\": \"scatter\"}], \"scatter3d\": [{\"line\": {\"colorbar\": {\"outlinewidth\": 0, \"ticks\": \"\"}}, \"marker\": {\"colorbar\": {\"outlinewidth\": 0, \"ticks\": \"\"}}, \"type\": \"scatter3d\"}], \"scattercarpet\": [{\"marker\": {\"colorbar\": {\"outlinewidth\": 0, \"ticks\": \"\"}}, \"type\": \"scattercarpet\"}], \"scattergeo\": [{\"marker\": {\"colorbar\": {\"outlinewidth\": 0, \"ticks\": \"\"}}, \"type\": \"scattergeo\"}], \"scattergl\": [{\"marker\": {\"colorbar\": {\"outlinewidth\": 0, \"ticks\": \"\"}}, \"type\": \"scattergl\"}], \"scattermapbox\": [{\"marker\": {\"colorbar\": {\"outlinewidth\": 0, \"ticks\": \"\"}}, \"type\": \"scattermapbox\"}], \"scatterpolar\": [{\"marker\": {\"colorbar\": {\"outlinewidth\": 0, \"ticks\": \"\"}}, \"type\": \"scatterpolar\"}], \"scatterpolargl\": [{\"marker\": {\"colorbar\": {\"outlinewidth\": 0, \"ticks\": \"\"}}, \"type\": \"scatterpolargl\"}], \"scatterternary\": [{\"marker\": {\"colorbar\": {\"outlinewidth\": 0, \"ticks\": \"\"}}, \"type\": \"scatterternary\"}], \"surface\": [{\"colorbar\": {\"outlinewidth\": 0, \"ticks\": \"\"}, \"colorscale\": [[0.0, \"#0d0887\"], [0.1111111111111111, \"#46039f\"], [0.2222222222222222, \"#7201a8\"], [0.3333333333333333, \"#9c179e\"], [0.4444444444444444, \"#bd3786\"], [0.5555555555555556, \"#d8576b\"], [0.6666666666666666, \"#ed7953\"], [0.7777777777777778, \"#fb9f3a\"], [0.8888888888888888, \"#fdca26\"], [1.0, \"#f0f921\"]], \"type\": \"surface\"}], \"table\": [{\"cells\": {\"fill\": {\"color\": \"#EBF0F8\"}, \"line\": {\"color\": \"white\"}}, \"header\": {\"fill\": {\"color\": \"#C8D4E3\"}, \"line\": {\"color\": \"white\"}}, \"type\": \"table\"}]}, \"layout\": {\"annotationdefaults\": {\"arrowcolor\": \"#2a3f5f\", \"arrowhead\": 0, \"arrowwidth\": 1}, \"autotypenumbers\": \"strict\", \"coloraxis\": {\"colorbar\": {\"outlinewidth\": 0, \"ticks\": \"\"}}, \"colorscale\": {\"diverging\": [[0, \"#8e0152\"], [0.1, \"#c51b7d\"], [0.2, \"#de77ae\"], [0.3, \"#f1b6da\"], [0.4, \"#fde0ef\"], [0.5, \"#f7f7f7\"], [0.6, \"#e6f5d0\"], [0.7, \"#b8e186\"], [0.8, \"#7fbc41\"], [0.9, \"#4d9221\"], [1, \"#276419\"]], \"sequential\": [[0.0, \"#0d0887\"], [0.1111111111111111, \"#46039f\"], [0.2222222222222222, \"#7201a8\"], [0.3333333333333333, \"#9c179e\"], [0.4444444444444444, \"#bd3786\"], [0.5555555555555556, \"#d8576b\"], [0.6666666666666666, \"#ed7953\"], [0.7777777777777778, \"#fb9f3a\"], [0.8888888888888888, \"#fdca26\"], [1.0, \"#f0f921\"]], \"sequentialminus\": [[0.0, \"#0d0887\"], [0.1111111111111111, \"#46039f\"], [0.2222222222222222, \"#7201a8\"], [0.3333333333333333, \"#9c179e\"], [0.4444444444444444, \"#bd3786\"], [0.5555555555555556, \"#d8576b\"], [0.6666666666666666, \"#ed7953\"], [0.7777777777777778, \"#fb9f3a\"], [0.8888888888888888, \"#fdca26\"], [1.0, \"#f0f921\"]]}, \"colorway\": [\"#636efa\", \"#EF553B\", \"#00cc96\", \"#ab63fa\", \"#FFA15A\", \"#19d3f3\", \"#FF6692\", \"#B6E880\", \"#FF97FF\", \"#FECB52\"], \"font\": {\"color\": \"#2a3f5f\"}, \"geo\": {\"bgcolor\": \"white\", \"lakecolor\": \"white\", \"landcolor\": \"#E5ECF6\", \"showlakes\": true, \"showland\": true, \"subunitcolor\": \"white\"}, \"hoverlabel\": {\"align\": \"left\"}, \"hovermode\": \"closest\", \"mapbox\": {\"style\": \"light\"}, \"paper_bgcolor\": \"white\", \"plot_bgcolor\": \"#E5ECF6\", \"polar\": {\"angularaxis\": {\"gridcolor\": \"white\", \"linecolor\": \"white\", \"ticks\": \"\"}, \"bgcolor\": \"#E5ECF6\", \"radialaxis\": {\"gridcolor\": \"white\", \"linecolor\": \"white\", \"ticks\": \"\"}}, \"scene\": {\"xaxis\": {\"backgroundcolor\": \"#E5ECF6\", \"gridcolor\": \"white\", \"gridwidth\": 2, \"linecolor\": \"white\", \"showbackground\": true, \"ticks\": \"\", \"zerolinecolor\": \"white\"}, \"yaxis\": {\"backgroundcolor\": \"#E5ECF6\", \"gridcolor\": \"white\", \"gridwidth\": 2, \"linecolor\": \"white\", \"showbackground\": true, \"ticks\": \"\", \"zerolinecolor\": \"white\"}, \"zaxis\": {\"backgroundcolor\": \"#E5ECF6\", \"gridcolor\": \"white\", \"gridwidth\": 2, \"linecolor\": \"white\", \"showbackground\": true, \"ticks\": \"\", \"zerolinecolor\": \"white\"}}, \"shapedefaults\": {\"line\": {\"color\": \"#2a3f5f\"}}, \"ternary\": {\"aaxis\": {\"gridcolor\": \"white\", \"linecolor\": \"white\", \"ticks\": \"\"}, \"baxis\": {\"gridcolor\": \"white\", \"linecolor\": \"white\", \"ticks\": \"\"}, \"bgcolor\": \"#E5ECF6\", \"caxis\": {\"gridcolor\": \"white\", \"linecolor\": \"white\", \"ticks\": \"\"}}, \"title\": {\"x\": 0.05}, \"xaxis\": {\"automargin\": true, \"gridcolor\": \"white\", \"linecolor\": \"white\", \"ticks\": \"\", \"title\": {\"standoff\": 15}, \"zerolinecolor\": \"white\", \"zerolinewidth\": 2}, \"yaxis\": {\"automargin\": true, \"gridcolor\": \"white\", \"linecolor\": \"white\", \"ticks\": \"\", \"title\": {\"standoff\": 15}, \"zerolinecolor\": \"white\", \"zerolinewidth\": 2}}}, \"title\": {\"text\": \"World Bank (IBRD) Loans 1990-2019\"}},                        {\"responsive\": true}                    ).then(function(){\n",
       "                            \n",
       "var gd = document.getElementById('c25d3385-0a36-4d40-986c-b8cd8cd89b7c');\n",
       "var x = new MutationObserver(function (mutations, observer) {{\n",
       "        var display = window.getComputedStyle(gd).display;\n",
       "        if (!display || display === 'none') {{\n",
       "            console.log([gd, 'removed!']);\n",
       "            Plotly.purge(gd);\n",
       "            observer.disconnect();\n",
       "        }}\n",
       "}});\n",
       "\n",
       "// Listen for the removal of the full notebook cells\n",
       "var notebookContainer = gd.closest('#notebook-container');\n",
       "if (notebookContainer) {{\n",
       "    x.observe(notebookContainer, {childList: true});\n",
       "}}\n",
       "\n",
       "// Listen for the clearing of the current output cell\n",
       "var outputEl = gd.closest('.output');\n",
       "if (outputEl) {{\n",
       "    x.observe(outputEl, {childList: true});\n",
       "}}\n",
       "\n",
       "                        })                };                });            </script>        </div>"
      ]
     },
     "metadata": {},
     "output_type": "display_data"
    }
   ],
   "source": [
    "plot_heatmap(dff.dropna())"
   ]
  },
  {
   "cell_type": "code",
   "execution_count": 244,
   "metadata": {},
   "outputs": [
    {
     "data": {
      "text/html": [
       "<div>\n",
       "<style scoped>\n",
       "    .dataframe tbody tr th:only-of-type {\n",
       "        vertical-align: middle;\n",
       "    }\n",
       "\n",
       "    .dataframe tbody tr th {\n",
       "        vertical-align: top;\n",
       "    }\n",
       "\n",
       "    .dataframe thead th {\n",
       "        text-align: right;\n",
       "    }\n",
       "</style>\n",
       "<table border=\"1\" class=\"dataframe\">\n",
       "  <thead>\n",
       "    <tr style=\"text-align: right;\">\n",
       "      <th></th>\n",
       "      <th>id</th>\n",
       "      <th>date</th>\n",
       "      <th>country_code</th>\n",
       "      <th>country_name</th>\n",
       "      <th>named_countries</th>\n",
       "      <th>Project Name</th>\n",
       "      <th>project_desc</th>\n",
       "      <th>amount_standard</th>\n",
       "      <th>currency_standard</th>\n",
       "      <th>closing_month</th>\n",
       "      <th>...</th>\n",
       "      <th>loan_length in year</th>\n",
       "      <th>wb_project_id</th>\n",
       "      <th>major_sector_name</th>\n",
       "      <th>sector1_name</th>\n",
       "      <th>sector2_name</th>\n",
       "      <th>sector3_name</th>\n",
       "      <th>predicted_sector</th>\n",
       "      <th>cur_usd</th>\n",
       "      <th>amount_cur_usd</th>\n",
       "      <th>country_code_</th>\n",
       "    </tr>\n",
       "  </thead>\n",
       "  <tbody>\n",
       "    <tr>\n",
       "      <th>0</th>\n",
       "      <td>658601468273303198</td>\n",
       "      <td>1990-01-05</td>\n",
       "      <td>jo</td>\n",
       "      <td>Jordan</td>\n",
       "      <td>[Jordan, United States]</td>\n",
       "      <td>Industry and Trade Policy Adjustment Loan</td>\n",
       "      <td>SCHEDULE 1\\n\\n        Withdrawal of the Procee...</td>\n",
       "      <td>150000000.0</td>\n",
       "      <td>us dollar</td>\n",
       "      <td>December</td>\n",
       "      <td>...</td>\n",
       "      <td>2.0</td>\n",
       "      <td>None</td>\n",
       "      <td>NaN</td>\n",
       "      <td>NaN</td>\n",
       "      <td>NaN</td>\n",
       "      <td>NaN</td>\n",
       "      <td>Industry and Trade/Services</td>\n",
       "      <td>USD</td>\n",
       "      <td>NaN</td>\n",
       "      <td>JOR</td>\n",
       "    </tr>\n",
       "    <tr>\n",
       "      <th>1</th>\n",
       "      <td>784351468234894668</td>\n",
       "      <td>1990-01-10</td>\n",
       "      <td>br</td>\n",
       "      <td>Brazil</td>\n",
       "      <td>[Brazil, United States]</td>\n",
       "      <td>Third Agricultural Research Project</td>\n",
       "      <td>SCHEDULE 2\\n\\nDescription of the Project\\n\\nTh...</td>\n",
       "      <td>47000000.0</td>\n",
       "      <td>us dollar</td>\n",
       "      <td>June</td>\n",
       "      <td>...</td>\n",
       "      <td>5.0</td>\n",
       "      <td>None</td>\n",
       "      <td>NaN</td>\n",
       "      <td>NaN</td>\n",
       "      <td>NaN</td>\n",
       "      <td>NaN</td>\n",
       "      <td>Agriculture</td>\n",
       "      <td>USD</td>\n",
       "      <td>NaN</td>\n",
       "      <td>BRA</td>\n",
       "    </tr>\n",
       "    <tr>\n",
       "      <th>2</th>\n",
       "      <td>891941468049466312</td>\n",
       "      <td>1990-01-11</td>\n",
       "      <td>ma</td>\n",
       "      <td>Malaysia</td>\n",
       "      <td>[Malaysia, United States]</td>\n",
       "      <td>Rubber Industry Smallholders\\n            Deve...</td>\n",
       "      <td>SCHEDULE 2\\n\\n              Description of the...</td>\n",
       "      <td>71000000.0</td>\n",
       "      <td>us dollar</td>\n",
       "      <td>December</td>\n",
       "      <td>...</td>\n",
       "      <td>3.0</td>\n",
       "      <td>None</td>\n",
       "      <td>NaN</td>\n",
       "      <td>NaN</td>\n",
       "      <td>NaN</td>\n",
       "      <td>NaN</td>\n",
       "      <td>Agriculture</td>\n",
       "      <td>USD</td>\n",
       "      <td>NaN</td>\n",
       "      <td>MYS</td>\n",
       "    </tr>\n",
       "    <tr>\n",
       "      <th>3</th>\n",
       "      <td>125511468051878371</td>\n",
       "      <td>1990-01-11</td>\n",
       "      <td>ma</td>\n",
       "      <td>Malaysia</td>\n",
       "      <td>[Malaysia, United States]</td>\n",
       "      <td>Highway Rehabilitation and Improvement Project</td>\n",
       "      <td>SCHEDULE 2\\n\\n              Description of the...</td>\n",
       "      <td>83200000.0</td>\n",
       "      <td>us dollar</td>\n",
       "      <td>June</td>\n",
       "      <td>...</td>\n",
       "      <td>5.0</td>\n",
       "      <td>P099112</td>\n",
       "      <td>Transportation</td>\n",
       "      <td>Rural and Inter-Urban Roads</td>\n",
       "      <td>Sub-National Government</td>\n",
       "      <td>NaN</td>\n",
       "      <td>Transportation</td>\n",
       "      <td>USD</td>\n",
       "      <td>NaN</td>\n",
       "      <td>MYS</td>\n",
       "    </tr>\n",
       "    <tr>\n",
       "      <th>4</th>\n",
       "      <td>733341468033245855</td>\n",
       "      <td>1990-01-16</td>\n",
       "      <td>ivc</td>\n",
       "      <td>Cote d'Ivoire</td>\n",
       "      <td>[United States]</td>\n",
       "      <td>Abidjan Environmental Protection Project</td>\n",
       "      <td>SCHEDULE 2\\n\\nDescription of the Project\\n\\nTh...</td>\n",
       "      <td>21900000.0</td>\n",
       "      <td>us dollar</td>\n",
       "      <td>December</td>\n",
       "      <td>...</td>\n",
       "      <td>3.0</td>\n",
       "      <td>None</td>\n",
       "      <td>NaN</td>\n",
       "      <td>NaN</td>\n",
       "      <td>NaN</td>\n",
       "      <td>NaN</td>\n",
       "      <td>Public Admin</td>\n",
       "      <td>USD</td>\n",
       "      <td>NaN</td>\n",
       "      <td>CIV</td>\n",
       "    </tr>\n",
       "    <tr>\n",
       "      <th>...</th>\n",
       "      <td>...</td>\n",
       "      <td>...</td>\n",
       "      <td>...</td>\n",
       "      <td>...</td>\n",
       "      <td>...</td>\n",
       "      <td>...</td>\n",
       "      <td>...</td>\n",
       "      <td>...</td>\n",
       "      <td>...</td>\n",
       "      <td>...</td>\n",
       "      <td>...</td>\n",
       "      <td>...</td>\n",
       "      <td>...</td>\n",
       "      <td>...</td>\n",
       "      <td>...</td>\n",
       "      <td>...</td>\n",
       "      <td>...</td>\n",
       "      <td>...</td>\n",
       "      <td>...</td>\n",
       "      <td>...</td>\n",
       "      <td>...</td>\n",
       "    </tr>\n",
       "    <tr>\n",
       "      <th>3190</th>\n",
       "      <td>876531576597901004</td>\n",
       "      <td>2019-12-04</td>\n",
       "      <td>br</td>\n",
       "      <td>Brazil</td>\n",
       "      <td>[United States]</td>\n",
       "      <td>SABESP - Improving Water Service Access and Se...</td>\n",
       "      <td>SCHEDULE1\\n\\nProject Description\\n\\nThe object...</td>\n",
       "      <td>250000000.0</td>\n",
       "      <td>us dollar</td>\n",
       "      <td>June</td>\n",
       "      <td>...</td>\n",
       "      <td>6.0</td>\n",
       "      <td>None</td>\n",
       "      <td>NaN</td>\n",
       "      <td>NaN</td>\n",
       "      <td>NaN</td>\n",
       "      <td>NaN</td>\n",
       "      <td>Water/Sanitation/Waste</td>\n",
       "      <td>USD</td>\n",
       "      <td>250000000.0</td>\n",
       "      <td>BRA</td>\n",
       "    </tr>\n",
       "    <tr>\n",
       "      <th>3191</th>\n",
       "      <td>430041576700944955</td>\n",
       "      <td>2019-12-05</td>\n",
       "      <td>ke</td>\n",
       "      <td>Kenya</td>\n",
       "      <td>[Kenya, United States]</td>\n",
       "      <td>Affordable Housing Finance Project</td>\n",
       "      <td>SCHEDULE 1\\n\\nProject Description\\n\\nThe objec...</td>\n",
       "      <td>219000000.0</td>\n",
       "      <td>euro</td>\n",
       "      <td>June</td>\n",
       "      <td>...</td>\n",
       "      <td>5.0</td>\n",
       "      <td>P165034</td>\n",
       "      <td>Financial Sector</td>\n",
       "      <td>Banking Institutions</td>\n",
       "      <td>Housing Construction</td>\n",
       "      <td>Public Administration - Industry, Trade and Se...</td>\n",
       "      <td>Financial Sector</td>\n",
       "      <td>EUR</td>\n",
       "      <td>242958600.0</td>\n",
       "      <td>KEN</td>\n",
       "    </tr>\n",
       "    <tr>\n",
       "      <th>3192</th>\n",
       "      <td>915561578948029352</td>\n",
       "      <td>2019-12-09</td>\n",
       "      <td>yf</td>\n",
       "      <td>Serbia</td>\n",
       "      <td>[Serbia, United States]</td>\n",
       "      <td>Competitive Agriculture Project</td>\n",
       "      <td>SCHEDULE 1 \\n\\nProject Description \\n\\nThe obj...</td>\n",
       "      <td>45800000.0</td>\n",
       "      <td>euro</td>\n",
       "      <td>December</td>\n",
       "      <td>...</td>\n",
       "      <td>5.0</td>\n",
       "      <td>None</td>\n",
       "      <td>NaN</td>\n",
       "      <td>NaN</td>\n",
       "      <td>NaN</td>\n",
       "      <td>NaN</td>\n",
       "      <td>Agriculture</td>\n",
       "      <td>EUR</td>\n",
       "      <td>50723500.0</td>\n",
       "      <td>SRB</td>\n",
       "    </tr>\n",
       "    <tr>\n",
       "      <th>3193</th>\n",
       "      <td>701581579789087668</td>\n",
       "      <td>2019-12-10</td>\n",
       "      <td>do</td>\n",
       "      <td>Dominican Republic</td>\n",
       "      <td>[Dominica, United States]</td>\n",
       "      <td>Additional Financing for the Support to the Na...</td>\n",
       "      <td>SCHEDULE 1 \\n\\nProject Description \\n\\nThe Pro...</td>\n",
       "      <td>NaN</td>\n",
       "      <td></td>\n",
       "      <td>September</td>\n",
       "      <td>...</td>\n",
       "      <td>3.0</td>\n",
       "      <td>P167815</td>\n",
       "      <td>Education</td>\n",
       "      <td>Public Administration - Education</td>\n",
       "      <td>Primary Education</td>\n",
       "      <td>Secondary Education</td>\n",
       "      <td>Education</td>\n",
       "      <td>None</td>\n",
       "      <td>NaN</td>\n",
       "      <td>DOM</td>\n",
       "    </tr>\n",
       "    <tr>\n",
       "      <th>3194</th>\n",
       "      <td>931611577726651104</td>\n",
       "      <td>2019-12-12</td>\n",
       "      <td>NaN</td>\n",
       "      <td>NaN</td>\n",
       "      <td>[Mali, Turkey, United States]</td>\n",
       "      <td>Energy Efficiency in Public Buildings Project</td>\n",
       "      <td>SCHEDULE 1 \\nProject Description \\n\\nThe objec...</td>\n",
       "      <td>NaN</td>\n",
       "      <td></td>\n",
       "      <td>December</td>\n",
       "      <td>...</td>\n",
       "      <td>6.0</td>\n",
       "      <td>None</td>\n",
       "      <td>NaN</td>\n",
       "      <td>NaN</td>\n",
       "      <td>NaN</td>\n",
       "      <td>NaN</td>\n",
       "      <td>Energy and Extractives</td>\n",
       "      <td>None</td>\n",
       "      <td>NaN</td>\n",
       "      <td>None</td>\n",
       "    </tr>\n",
       "  </tbody>\n",
       "</table>\n",
       "<p>3195 rows × 22 columns</p>\n",
       "</div>"
      ],
      "text/plain": [
       "                      id       date country_code        country_name  \\\n",
       "0     658601468273303198 1990-01-05           jo              Jordan   \n",
       "1     784351468234894668 1990-01-10           br              Brazil   \n",
       "2     891941468049466312 1990-01-11           ma            Malaysia   \n",
       "3     125511468051878371 1990-01-11           ma            Malaysia   \n",
       "4     733341468033245855 1990-01-16          ivc       Cote d'Ivoire   \n",
       "...                  ...        ...          ...                 ...   \n",
       "3190  876531576597901004 2019-12-04           br              Brazil   \n",
       "3191  430041576700944955 2019-12-05           ke               Kenya   \n",
       "3192  915561578948029352 2019-12-09           yf              Serbia   \n",
       "3193  701581579789087668 2019-12-10           do  Dominican Republic   \n",
       "3194  931611577726651104 2019-12-12          NaN                 NaN   \n",
       "\n",
       "                    named_countries  \\\n",
       "0           [Jordan, United States]   \n",
       "1           [Brazil, United States]   \n",
       "2         [Malaysia, United States]   \n",
       "3         [Malaysia, United States]   \n",
       "4                   [United States]   \n",
       "...                             ...   \n",
       "3190                [United States]   \n",
       "3191         [Kenya, United States]   \n",
       "3192        [Serbia, United States]   \n",
       "3193      [Dominica, United States]   \n",
       "3194  [Mali, Turkey, United States]   \n",
       "\n",
       "                                           Project Name  \\\n",
       "0             Industry and Trade Policy Adjustment Loan   \n",
       "1                   Third Agricultural Research Project   \n",
       "2     Rubber Industry Smallholders\\n            Deve...   \n",
       "3        Highway Rehabilitation and Improvement Project   \n",
       "4              Abidjan Environmental Protection Project   \n",
       "...                                                 ...   \n",
       "3190  SABESP - Improving Water Service Access and Se...   \n",
       "3191                 Affordable Housing Finance Project   \n",
       "3192                    Competitive Agriculture Project   \n",
       "3193  Additional Financing for the Support to the Na...   \n",
       "3194      Energy Efficiency in Public Buildings Project   \n",
       "\n",
       "                                           project_desc  amount_standard  \\\n",
       "0     SCHEDULE 1\\n\\n        Withdrawal of the Procee...      150000000.0   \n",
       "1     SCHEDULE 2\\n\\nDescription of the Project\\n\\nTh...       47000000.0   \n",
       "2     SCHEDULE 2\\n\\n              Description of the...       71000000.0   \n",
       "3     SCHEDULE 2\\n\\n              Description of the...       83200000.0   \n",
       "4     SCHEDULE 2\\n\\nDescription of the Project\\n\\nTh...       21900000.0   \n",
       "...                                                 ...              ...   \n",
       "3190  SCHEDULE1\\n\\nProject Description\\n\\nThe object...      250000000.0   \n",
       "3191  SCHEDULE 1\\n\\nProject Description\\n\\nThe objec...      219000000.0   \n",
       "3192  SCHEDULE 1 \\n\\nProject Description \\n\\nThe obj...       45800000.0   \n",
       "3193  SCHEDULE 1 \\n\\nProject Description \\n\\nThe Pro...              NaN   \n",
       "3194  SCHEDULE 1 \\nProject Description \\n\\nThe objec...              NaN   \n",
       "\n",
       "     currency_standard closing_month  ... loan_length in year wb_project_id  \\\n",
       "0            us dollar      December  ...                 2.0          None   \n",
       "1            us dollar          June  ...                 5.0          None   \n",
       "2            us dollar      December  ...                 3.0          None   \n",
       "3            us dollar          June  ...                 5.0       P099112   \n",
       "4            us dollar      December  ...                 3.0          None   \n",
       "...                ...           ...  ...                 ...           ...   \n",
       "3190         us dollar          June  ...                 6.0          None   \n",
       "3191              euro          June  ...                 5.0       P165034   \n",
       "3192              euro      December  ...                 5.0          None   \n",
       "3193                       September  ...                 3.0       P167815   \n",
       "3194                        December  ...                 6.0          None   \n",
       "\n",
       "      major_sector_name                       sector1_name  \\\n",
       "0                   NaN                                NaN   \n",
       "1                   NaN                                NaN   \n",
       "2                   NaN                                NaN   \n",
       "3        Transportation        Rural and Inter-Urban Roads   \n",
       "4                   NaN                                NaN   \n",
       "...                 ...                                ...   \n",
       "3190                NaN                                NaN   \n",
       "3191   Financial Sector               Banking Institutions   \n",
       "3192                NaN                                NaN   \n",
       "3193          Education  Public Administration - Education   \n",
       "3194                NaN                                NaN   \n",
       "\n",
       "                 sector2_name  \\\n",
       "0                         NaN   \n",
       "1                         NaN   \n",
       "2                         NaN   \n",
       "3     Sub-National Government   \n",
       "4                         NaN   \n",
       "...                       ...   \n",
       "3190                      NaN   \n",
       "3191     Housing Construction   \n",
       "3192                      NaN   \n",
       "3193        Primary Education   \n",
       "3194                      NaN   \n",
       "\n",
       "                                           sector3_name  \\\n",
       "0                                                   NaN   \n",
       "1                                                   NaN   \n",
       "2                                                   NaN   \n",
       "3                                                   NaN   \n",
       "4                                                   NaN   \n",
       "...                                                 ...   \n",
       "3190                                                NaN   \n",
       "3191  Public Administration - Industry, Trade and Se...   \n",
       "3192                                                NaN   \n",
       "3193                                Secondary Education   \n",
       "3194                                                NaN   \n",
       "\n",
       "                 predicted_sector cur_usd amount_cur_usd country_code_  \n",
       "0     Industry and Trade/Services     USD            NaN           JOR  \n",
       "1                     Agriculture     USD            NaN           BRA  \n",
       "2                     Agriculture     USD            NaN           MYS  \n",
       "3                  Transportation     USD            NaN           MYS  \n",
       "4                    Public Admin     USD            NaN           CIV  \n",
       "...                           ...     ...            ...           ...  \n",
       "3190       Water/Sanitation/Waste     USD    250000000.0           BRA  \n",
       "3191             Financial Sector     EUR    242958600.0           KEN  \n",
       "3192                  Agriculture     EUR     50723500.0           SRB  \n",
       "3193                    Education    None            NaN           DOM  \n",
       "3194       Energy and Extractives    None            NaN          None  \n",
       "\n",
       "[3195 rows x 22 columns]"
      ]
     },
     "execution_count": 244,
     "metadata": {},
     "output_type": "execute_result"
    }
   ],
   "source": [
    "df"
   ]
  },
  {
   "cell_type": "code",
   "execution_count": 245,
   "metadata": {},
   "outputs": [],
   "source": [
    "df.to_pickle('extraction_pipeline/agreement_features_join_projects.pkl')"
   ]
  },
  {
   "cell_type": "code",
   "execution_count": null,
   "metadata": {},
   "outputs": [],
   "source": []
  }
 ],
 "metadata": {
  "kernelspec": {
   "display_name": "Python 3",
   "language": "python",
   "name": "python3"
  },
  "language_info": {
   "codemirror_mode": {
    "name": "ipython",
    "version": 3
   },
   "file_extension": ".py",
   "mimetype": "text/x-python",
   "name": "python",
   "nbconvert_exporter": "python",
   "pygments_lexer": "ipython3",
   "version": "3.8.5"
  }
 },
 "nbformat": 4,
 "nbformat_minor": 4
}
