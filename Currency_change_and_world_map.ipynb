{
 "cells": [
  {
   "cell_type": "code",
   "execution_count": 412,
   "metadata": {},
   "outputs": [],
   "source": [
    "import pandas as pd\n",
    "import matplotlib.pyplot as plt\n",
    "import seaborn"
   ]
  },
  {
   "cell_type": "code",
   "execution_count": 485,
   "metadata": {},
   "outputs": [],
   "source": [
    "df = pd.read_pickle('extraction_pipeline/agreement_features_join_projects.pkl')\n",
    "# df_sectors = pd.read_pickle('classification/predicted_sectors_2.pkl')\n",
    "# df = df.join(df_sectors[['id', 'predicted_sector']].set_index('id'), on = 'id')\n",
    "# df['date'] = pd.to_datetime(df['date'])"
   ]
  },
  {
   "cell_type": "code",
   "execution_count": 486,
   "metadata": {},
   "outputs": [
    {
     "data": {
      "text/html": [
       "<div>\n",
       "<style scoped>\n",
       "    .dataframe tbody tr th:only-of-type {\n",
       "        vertical-align: middle;\n",
       "    }\n",
       "\n",
       "    .dataframe tbody tr th {\n",
       "        vertical-align: top;\n",
       "    }\n",
       "\n",
       "    .dataframe thead th {\n",
       "        text-align: right;\n",
       "    }\n",
       "</style>\n",
       "<table border=\"1\" class=\"dataframe\">\n",
       "  <thead>\n",
       "    <tr style=\"text-align: right;\">\n",
       "      <th></th>\n",
       "      <th>id</th>\n",
       "      <th>date</th>\n",
       "      <th>country_code</th>\n",
       "      <th>country_name</th>\n",
       "      <th>named_countries</th>\n",
       "      <th>Project Name</th>\n",
       "      <th>project_desc</th>\n",
       "      <th>amount_standard</th>\n",
       "      <th>currency_standard</th>\n",
       "      <th>closing_month</th>\n",
       "      <th>...</th>\n",
       "      <th>loan_length in year</th>\n",
       "      <th>wb_project_id</th>\n",
       "      <th>major_sector_name</th>\n",
       "      <th>sector1_name</th>\n",
       "      <th>sector2_name</th>\n",
       "      <th>sector3_name</th>\n",
       "      <th>predicted_sector</th>\n",
       "      <th>amount_cur_usd</th>\n",
       "      <th>country_code_</th>\n",
       "      <th>cur_stand</th>\n",
       "    </tr>\n",
       "  </thead>\n",
       "  <tbody>\n",
       "    <tr>\n",
       "      <th>0</th>\n",
       "      <td>658601468273303198</td>\n",
       "      <td>1990-01-05</td>\n",
       "      <td>jo</td>\n",
       "      <td>Jordan</td>\n",
       "      <td>[Jordan, United States]</td>\n",
       "      <td>Industry and Trade Policy Adjustment Loan</td>\n",
       "      <td>SCHEDULE 1\\n\\n        Withdrawal of the Procee...</td>\n",
       "      <td>150000000.0</td>\n",
       "      <td>us dollar</td>\n",
       "      <td>December</td>\n",
       "      <td>...</td>\n",
       "      <td>2.0</td>\n",
       "      <td>None</td>\n",
       "      <td>NaN</td>\n",
       "      <td>NaN</td>\n",
       "      <td>NaN</td>\n",
       "      <td>NaN</td>\n",
       "      <td>Industry and Trade/Services</td>\n",
       "      <td>NaN</td>\n",
       "      <td>JOR</td>\n",
       "      <td>USD</td>\n",
       "    </tr>\n",
       "    <tr>\n",
       "      <th>1</th>\n",
       "      <td>784351468234894668</td>\n",
       "      <td>1990-01-10</td>\n",
       "      <td>br</td>\n",
       "      <td>Brazil</td>\n",
       "      <td>[Brazil, United States]</td>\n",
       "      <td>Third Agricultural Research Project</td>\n",
       "      <td>SCHEDULE 2\\n\\nDescription of the Project\\n\\nTh...</td>\n",
       "      <td>47000000.0</td>\n",
       "      <td>us dollar</td>\n",
       "      <td>June</td>\n",
       "      <td>...</td>\n",
       "      <td>5.0</td>\n",
       "      <td>None</td>\n",
       "      <td>NaN</td>\n",
       "      <td>NaN</td>\n",
       "      <td>NaN</td>\n",
       "      <td>NaN</td>\n",
       "      <td>Agriculture</td>\n",
       "      <td>NaN</td>\n",
       "      <td>BRA</td>\n",
       "      <td>USD</td>\n",
       "    </tr>\n",
       "    <tr>\n",
       "      <th>2</th>\n",
       "      <td>891941468049466312</td>\n",
       "      <td>1990-01-11</td>\n",
       "      <td>ma</td>\n",
       "      <td>Malaysia</td>\n",
       "      <td>[Malaysia, United States]</td>\n",
       "      <td>Rubber Industry Smallholders\\n            Deve...</td>\n",
       "      <td>SCHEDULE 2\\n\\n              Description of the...</td>\n",
       "      <td>71000000.0</td>\n",
       "      <td>us dollar</td>\n",
       "      <td>December</td>\n",
       "      <td>...</td>\n",
       "      <td>3.0</td>\n",
       "      <td>None</td>\n",
       "      <td>NaN</td>\n",
       "      <td>NaN</td>\n",
       "      <td>NaN</td>\n",
       "      <td>NaN</td>\n",
       "      <td>Agriculture</td>\n",
       "      <td>NaN</td>\n",
       "      <td>MYS</td>\n",
       "      <td>USD</td>\n",
       "    </tr>\n",
       "    <tr>\n",
       "      <th>3</th>\n",
       "      <td>125511468051878371</td>\n",
       "      <td>1990-01-11</td>\n",
       "      <td>ma</td>\n",
       "      <td>Malaysia</td>\n",
       "      <td>[Malaysia, United States]</td>\n",
       "      <td>Highway Rehabilitation and Improvement Project</td>\n",
       "      <td>SCHEDULE 2\\n\\n              Description of the...</td>\n",
       "      <td>83200000.0</td>\n",
       "      <td>us dollar</td>\n",
       "      <td>June</td>\n",
       "      <td>...</td>\n",
       "      <td>5.0</td>\n",
       "      <td>P099112</td>\n",
       "      <td>Transportation</td>\n",
       "      <td>Rural and Inter-Urban Roads</td>\n",
       "      <td>Sub-National Government</td>\n",
       "      <td>NaN</td>\n",
       "      <td>Transportation</td>\n",
       "      <td>NaN</td>\n",
       "      <td>MYS</td>\n",
       "      <td>USD</td>\n",
       "    </tr>\n",
       "    <tr>\n",
       "      <th>4</th>\n",
       "      <td>733341468033245855</td>\n",
       "      <td>1990-01-16</td>\n",
       "      <td>ivc</td>\n",
       "      <td>Cote d'Ivoire</td>\n",
       "      <td>[United States]</td>\n",
       "      <td>Abidjan Environmental Protection Project</td>\n",
       "      <td>SCHEDULE 2\\n\\nDescription of the Project\\n\\nTh...</td>\n",
       "      <td>21900000.0</td>\n",
       "      <td>us dollar</td>\n",
       "      <td>December</td>\n",
       "      <td>...</td>\n",
       "      <td>3.0</td>\n",
       "      <td>None</td>\n",
       "      <td>NaN</td>\n",
       "      <td>NaN</td>\n",
       "      <td>NaN</td>\n",
       "      <td>NaN</td>\n",
       "      <td>Public Admin</td>\n",
       "      <td>NaN</td>\n",
       "      <td>CIV</td>\n",
       "      <td>USD</td>\n",
       "    </tr>\n",
       "  </tbody>\n",
       "</table>\n",
       "<p>5 rows × 22 columns</p>\n",
       "</div>"
      ],
      "text/plain": [
       "                   id       date country_code   country_name  \\\n",
       "0  658601468273303198 1990-01-05           jo         Jordan   \n",
       "1  784351468234894668 1990-01-10           br         Brazil   \n",
       "2  891941468049466312 1990-01-11           ma       Malaysia   \n",
       "3  125511468051878371 1990-01-11           ma       Malaysia   \n",
       "4  733341468033245855 1990-01-16          ivc  Cote d'Ivoire   \n",
       "\n",
       "             named_countries  \\\n",
       "0    [Jordan, United States]   \n",
       "1    [Brazil, United States]   \n",
       "2  [Malaysia, United States]   \n",
       "3  [Malaysia, United States]   \n",
       "4            [United States]   \n",
       "\n",
       "                                        Project Name  \\\n",
       "0          Industry and Trade Policy Adjustment Loan   \n",
       "1                Third Agricultural Research Project   \n",
       "2  Rubber Industry Smallholders\\n            Deve...   \n",
       "3     Highway Rehabilitation and Improvement Project   \n",
       "4           Abidjan Environmental Protection Project   \n",
       "\n",
       "                                        project_desc  amount_standard  \\\n",
       "0  SCHEDULE 1\\n\\n        Withdrawal of the Procee...      150000000.0   \n",
       "1  SCHEDULE 2\\n\\nDescription of the Project\\n\\nTh...       47000000.0   \n",
       "2  SCHEDULE 2\\n\\n              Description of the...       71000000.0   \n",
       "3  SCHEDULE 2\\n\\n              Description of the...       83200000.0   \n",
       "4  SCHEDULE 2\\n\\nDescription of the Project\\n\\nTh...       21900000.0   \n",
       "\n",
       "  currency_standard closing_month  ... loan_length in year wb_project_id  \\\n",
       "0         us dollar      December  ...                 2.0          None   \n",
       "1         us dollar          June  ...                 5.0          None   \n",
       "2         us dollar      December  ...                 3.0          None   \n",
       "3         us dollar          June  ...                 5.0       P099112   \n",
       "4         us dollar      December  ...                 3.0          None   \n",
       "\n",
       "   major_sector_name                 sector1_name             sector2_name  \\\n",
       "0                NaN                          NaN                      NaN   \n",
       "1                NaN                          NaN                      NaN   \n",
       "2                NaN                          NaN                      NaN   \n",
       "3     Transportation  Rural and Inter-Urban Roads  Sub-National Government   \n",
       "4                NaN                          NaN                      NaN   \n",
       "\n",
       "  sector3_name             predicted_sector amount_cur_usd country_code_  \\\n",
       "0          NaN  Industry and Trade/Services            NaN           JOR   \n",
       "1          NaN                  Agriculture            NaN           BRA   \n",
       "2          NaN                  Agriculture            NaN           MYS   \n",
       "3          NaN               Transportation            NaN           MYS   \n",
       "4          NaN                 Public Admin            NaN           CIV   \n",
       "\n",
       "   cur_stand  \n",
       "0        USD  \n",
       "1        USD  \n",
       "2        USD  \n",
       "3        USD  \n",
       "4        USD  \n",
       "\n",
       "[5 rows x 22 columns]"
      ]
     },
     "execution_count": 486,
     "metadata": {},
     "output_type": "execute_result"
    }
   ],
   "source": [
    "df.head()"
   ]
  },
  {
   "cell_type": "code",
   "execution_count": 487,
   "metadata": {},
   "outputs": [
    {
     "data": {
      "text/plain": [
       "array(['us dollar', '', 'dem', 'french francs', 'yen', 'euro',\n",
       "       'egyptian pounds', 'gbp'], dtype=object)"
      ]
     },
     "execution_count": 487,
     "metadata": {},
     "output_type": "execute_result"
    }
   ],
   "source": [
    "df['currency_standard'].unique()"
   ]
  },
  {
   "cell_type": "code",
   "execution_count": 488,
   "metadata": {},
   "outputs": [
    {
     "data": {
      "text/plain": [
       "array(['USD', None, 'DEM', 'FRF', 'JPY', 'EUR', 'EGP', 'GBP'],\n",
       "      dtype=object)"
      ]
     },
     "execution_count": 488,
     "metadata": {},
     "output_type": "execute_result"
    }
   ],
   "source": [
    "currency_map = {'us dollar': 'USD', 'euro': 'EUR', 'dem': 'DEM', \n",
    "                'french francs': 'FRF', 'gbp': 'GBP', 'egyptian pounds': 'EGP', 'yen': 'JPY'}\n",
    "def get_stand_curr(x):\n",
    "    try:\n",
    "        return currency_map[x]\n",
    "    except:\n",
    "        return None\n",
    "df['cur_stand'] = df['currency_standard'].apply(get_stand_curr)\n",
    "# df = df[~df['cur_usd'].isin(['EGP'])]\n",
    "df['cur_stand'].unique()"
   ]
  },
  {
   "cell_type": "code",
   "execution_count": 489,
   "metadata": {},
   "outputs": [],
   "source": [
    "from currency_converter import CurrencyConverter\n",
    "c = CurrencyConverter(fallback_on_missing_rate=True)"
   ]
  },
  {
   "cell_type": "code",
   "execution_count": 490,
   "metadata": {},
   "outputs": [
    {
     "data": {
      "text/html": [
       "<div>\n",
       "<style scoped>\n",
       "    .dataframe tbody tr th:only-of-type {\n",
       "        vertical-align: middle;\n",
       "    }\n",
       "\n",
       "    .dataframe tbody tr th {\n",
       "        vertical-align: top;\n",
       "    }\n",
       "\n",
       "    .dataframe thead th {\n",
       "        text-align: right;\n",
       "    }\n",
       "</style>\n",
       "<table border=\"1\" class=\"dataframe\">\n",
       "  <thead>\n",
       "    <tr style=\"text-align: right;\">\n",
       "      <th></th>\n",
       "      <th>id</th>\n",
       "      <th>date</th>\n",
       "      <th>country_code</th>\n",
       "      <th>country_name</th>\n",
       "      <th>named_countries</th>\n",
       "      <th>Project Name</th>\n",
       "      <th>project_desc</th>\n",
       "      <th>amount_standard</th>\n",
       "      <th>currency_standard</th>\n",
       "      <th>closing_month</th>\n",
       "      <th>...</th>\n",
       "      <th>loan_length in year</th>\n",
       "      <th>wb_project_id</th>\n",
       "      <th>major_sector_name</th>\n",
       "      <th>sector1_name</th>\n",
       "      <th>sector2_name</th>\n",
       "      <th>sector3_name</th>\n",
       "      <th>predicted_sector</th>\n",
       "      <th>amount_cur_usd</th>\n",
       "      <th>country_code_</th>\n",
       "      <th>cur_stand</th>\n",
       "    </tr>\n",
       "  </thead>\n",
       "  <tbody>\n",
       "    <tr>\n",
       "      <th>1243</th>\n",
       "      <td>392401468231871368</td>\n",
       "      <td>1999-01-20</td>\n",
       "      <td>hr</td>\n",
       "      <td>Croatia</td>\n",
       "      <td>[Germany, Croatia, United States]</td>\n",
       "      <td>Railway Modernization and Restructuring Project</td>\n",
       "      <td>SCHEDULE 2 \\n\\nDescription of the Project\\n\\nT...</td>\n",
       "      <td>85400000.0</td>\n",
       "      <td>euro</td>\n",
       "      <td>June</td>\n",
       "      <td>...</td>\n",
       "      <td>4.0</td>\n",
       "      <td>P039161</td>\n",
       "      <td>Transportation</td>\n",
       "      <td>Railways</td>\n",
       "      <td>Social Protection</td>\n",
       "      <td>NaN</td>\n",
       "      <td>Transportation</td>\n",
       "      <td>98850500.0</td>\n",
       "      <td>HRV</td>\n",
       "      <td>EUR</td>\n",
       "    </tr>\n",
       "    <tr>\n",
       "      <th>1244</th>\n",
       "      <td>285271468095363256</td>\n",
       "      <td>1999-01-20</td>\n",
       "      <td>ro</td>\n",
       "      <td>Romania</td>\n",
       "      <td>[Bulgaria, Romania, United States]</td>\n",
       "      <td>Social Development Fund Project</td>\n",
       "      <td>SCHEDULE 2\\n\\nDescription of the Project\\n\\nTh...</td>\n",
       "      <td>10000000.0</td>\n",
       "      <td>us dollar</td>\n",
       "      <td>June</td>\n",
       "      <td>...</td>\n",
       "      <td>3.0</td>\n",
       "      <td>P008204</td>\n",
       "      <td>Health</td>\n",
       "      <td>Health</td>\n",
       "      <td>Early Childhood Education</td>\n",
       "      <td>Central Government (Central Agencies)</td>\n",
       "      <td>Health</td>\n",
       "      <td>10000000.0</td>\n",
       "      <td>ROU</td>\n",
       "      <td>USD</td>\n",
       "    </tr>\n",
       "    <tr>\n",
       "      <th>1245</th>\n",
       "      <td>738661468332674245</td>\n",
       "      <td>1999-01-21</td>\n",
       "      <td>pak</td>\n",
       "      <td>Pakistan</td>\n",
       "      <td>[Pakistan, United States]</td>\n",
       "      <td>Structural Adjustment Loan</td>\n",
       "      <td>SCHEDULE 1\\n\\nExcluded Expenditures\\n\\nFor pur...</td>\n",
       "      <td>350000000.0</td>\n",
       "      <td>us dollar</td>\n",
       "      <td>June</td>\n",
       "      <td>...</td>\n",
       "      <td>0.0</td>\n",
       "      <td>None</td>\n",
       "      <td>NaN</td>\n",
       "      <td>NaN</td>\n",
       "      <td>NaN</td>\n",
       "      <td>NaN</td>\n",
       "      <td>Financial Sector</td>\n",
       "      <td>350000000.0</td>\n",
       "      <td>PAK</td>\n",
       "      <td>USD</td>\n",
       "    </tr>\n",
       "    <tr>\n",
       "      <th>1246</th>\n",
       "      <td>469841468295188118</td>\n",
       "      <td>1999-01-29</td>\n",
       "      <td>in</td>\n",
       "      <td>India</td>\n",
       "      <td>[India, United States]</td>\n",
       "      <td>Andhra Pradesh Economic Restructuring Project</td>\n",
       "      <td>None</td>\n",
       "      <td>301300000.0</td>\n",
       "      <td>us dollar</td>\n",
       "      <td>March</td>\n",
       "      <td>...</td>\n",
       "      <td>5.0</td>\n",
       "      <td>None</td>\n",
       "      <td>NaN</td>\n",
       "      <td>NaN</td>\n",
       "      <td>NaN</td>\n",
       "      <td>NaN</td>\n",
       "      <td>NaN</td>\n",
       "      <td>301300000.0</td>\n",
       "      <td>IND</td>\n",
       "      <td>USD</td>\n",
       "    </tr>\n",
       "    <tr>\n",
       "      <th>1247</th>\n",
       "      <td>617561468256168053</td>\n",
       "      <td>1999-02-04</td>\n",
       "      <td>in</td>\n",
       "      <td>India</td>\n",
       "      <td>[India, United States]</td>\n",
       "      <td>Andhra Pradesh Economic Restructuring Project</td>\n",
       "      <td>None</td>\n",
       "      <td>301300000.0</td>\n",
       "      <td>us dollar</td>\n",
       "      <td>March</td>\n",
       "      <td>...</td>\n",
       "      <td>5.0</td>\n",
       "      <td>None</td>\n",
       "      <td>NaN</td>\n",
       "      <td>NaN</td>\n",
       "      <td>NaN</td>\n",
       "      <td>NaN</td>\n",
       "      <td>NaN</td>\n",
       "      <td>301300000.0</td>\n",
       "      <td>IND</td>\n",
       "      <td>USD</td>\n",
       "    </tr>\n",
       "    <tr>\n",
       "      <th>...</th>\n",
       "      <td>...</td>\n",
       "      <td>...</td>\n",
       "      <td>...</td>\n",
       "      <td>...</td>\n",
       "      <td>...</td>\n",
       "      <td>...</td>\n",
       "      <td>...</td>\n",
       "      <td>...</td>\n",
       "      <td>...</td>\n",
       "      <td>...</td>\n",
       "      <td>...</td>\n",
       "      <td>...</td>\n",
       "      <td>...</td>\n",
       "      <td>...</td>\n",
       "      <td>...</td>\n",
       "      <td>...</td>\n",
       "      <td>...</td>\n",
       "      <td>...</td>\n",
       "      <td>...</td>\n",
       "      <td>...</td>\n",
       "      <td>...</td>\n",
       "    </tr>\n",
       "    <tr>\n",
       "      <th>3188</th>\n",
       "      <td>539191576006466769</td>\n",
       "      <td>2019-11-28</td>\n",
       "      <td>by</td>\n",
       "      <td>Belarus</td>\n",
       "      <td>[Belarus, United States]</td>\n",
       "      <td>Sustainable Energy Scale-Up Project</td>\n",
       "      <td>SCHEDULE 1\\n\\nProject Description\\n\\nThe objec...</td>\n",
       "      <td>90000000.0</td>\n",
       "      <td>euro</td>\n",
       "      <td>April</td>\n",
       "      <td>...</td>\n",
       "      <td>6.0</td>\n",
       "      <td>None</td>\n",
       "      <td>NaN</td>\n",
       "      <td>NaN</td>\n",
       "      <td>NaN</td>\n",
       "      <td>NaN</td>\n",
       "      <td>Energy and Extractives</td>\n",
       "      <td>99045000.0</td>\n",
       "      <td>BLR</td>\n",
       "      <td>EUR</td>\n",
       "    </tr>\n",
       "    <tr>\n",
       "      <th>3189</th>\n",
       "      <td>859161577483616466</td>\n",
       "      <td>2019-11-28</td>\n",
       "      <td>yf</td>\n",
       "      <td>Serbia</td>\n",
       "      <td>[Serbia, United States]</td>\n",
       "      <td>Additional Financing for Real Estate Managemen...</td>\n",
       "      <td>SCHEDULE 1\\n\\nProject Description\\n\\nThe objec...</td>\n",
       "      <td>21000000.0</td>\n",
       "      <td>euro</td>\n",
       "      <td>December</td>\n",
       "      <td>...</td>\n",
       "      <td>3.0</td>\n",
       "      <td>None</td>\n",
       "      <td>NaN</td>\n",
       "      <td>NaN</td>\n",
       "      <td>NaN</td>\n",
       "      <td>NaN</td>\n",
       "      <td>Public Admin</td>\n",
       "      <td>23110500.0</td>\n",
       "      <td>SRB</td>\n",
       "      <td>EUR</td>\n",
       "    </tr>\n",
       "    <tr>\n",
       "      <th>3190</th>\n",
       "      <td>876531576597901004</td>\n",
       "      <td>2019-12-04</td>\n",
       "      <td>br</td>\n",
       "      <td>Brazil</td>\n",
       "      <td>[United States]</td>\n",
       "      <td>SABESP - Improving Water Service Access and Se...</td>\n",
       "      <td>SCHEDULE1\\n\\nProject Description\\n\\nThe object...</td>\n",
       "      <td>250000000.0</td>\n",
       "      <td>us dollar</td>\n",
       "      <td>June</td>\n",
       "      <td>...</td>\n",
       "      <td>6.0</td>\n",
       "      <td>None</td>\n",
       "      <td>NaN</td>\n",
       "      <td>NaN</td>\n",
       "      <td>NaN</td>\n",
       "      <td>NaN</td>\n",
       "      <td>Water/Sanitation/Waste</td>\n",
       "      <td>250000000.0</td>\n",
       "      <td>BRA</td>\n",
       "      <td>USD</td>\n",
       "    </tr>\n",
       "    <tr>\n",
       "      <th>3191</th>\n",
       "      <td>430041576700944955</td>\n",
       "      <td>2019-12-05</td>\n",
       "      <td>ke</td>\n",
       "      <td>Kenya</td>\n",
       "      <td>[Kenya, United States]</td>\n",
       "      <td>Affordable Housing Finance Project</td>\n",
       "      <td>SCHEDULE 1\\n\\nProject Description\\n\\nThe objec...</td>\n",
       "      <td>219000000.0</td>\n",
       "      <td>euro</td>\n",
       "      <td>June</td>\n",
       "      <td>...</td>\n",
       "      <td>5.0</td>\n",
       "      <td>P165034</td>\n",
       "      <td>Financial Sector</td>\n",
       "      <td>Banking Institutions</td>\n",
       "      <td>Housing Construction</td>\n",
       "      <td>Public Administration - Industry, Trade and Se...</td>\n",
       "      <td>Financial Sector</td>\n",
       "      <td>242958600.0</td>\n",
       "      <td>KEN</td>\n",
       "      <td>EUR</td>\n",
       "    </tr>\n",
       "    <tr>\n",
       "      <th>3192</th>\n",
       "      <td>915561578948029352</td>\n",
       "      <td>2019-12-09</td>\n",
       "      <td>yf</td>\n",
       "      <td>Serbia</td>\n",
       "      <td>[Serbia, United States]</td>\n",
       "      <td>Competitive Agriculture Project</td>\n",
       "      <td>SCHEDULE 1 \\n\\nProject Description \\n\\nThe obj...</td>\n",
       "      <td>45800000.0</td>\n",
       "      <td>euro</td>\n",
       "      <td>December</td>\n",
       "      <td>...</td>\n",
       "      <td>5.0</td>\n",
       "      <td>None</td>\n",
       "      <td>NaN</td>\n",
       "      <td>NaN</td>\n",
       "      <td>NaN</td>\n",
       "      <td>NaN</td>\n",
       "      <td>Agriculture</td>\n",
       "      <td>50723500.0</td>\n",
       "      <td>SRB</td>\n",
       "      <td>EUR</td>\n",
       "    </tr>\n",
       "  </tbody>\n",
       "</table>\n",
       "<p>1590 rows × 22 columns</p>\n",
       "</div>"
      ],
      "text/plain": [
       "                      id       date country_code country_name  \\\n",
       "1243  392401468231871368 1999-01-20           hr      Croatia   \n",
       "1244  285271468095363256 1999-01-20           ro      Romania   \n",
       "1245  738661468332674245 1999-01-21          pak     Pakistan   \n",
       "1246  469841468295188118 1999-01-29           in        India   \n",
       "1247  617561468256168053 1999-02-04           in        India   \n",
       "...                  ...        ...          ...          ...   \n",
       "3188  539191576006466769 2019-11-28           by      Belarus   \n",
       "3189  859161577483616466 2019-11-28           yf       Serbia   \n",
       "3190  876531576597901004 2019-12-04           br       Brazil   \n",
       "3191  430041576700944955 2019-12-05           ke        Kenya   \n",
       "3192  915561578948029352 2019-12-09           yf       Serbia   \n",
       "\n",
       "                         named_countries  \\\n",
       "1243   [Germany, Croatia, United States]   \n",
       "1244  [Bulgaria, Romania, United States]   \n",
       "1245           [Pakistan, United States]   \n",
       "1246              [India, United States]   \n",
       "1247              [India, United States]   \n",
       "...                                  ...   \n",
       "3188            [Belarus, United States]   \n",
       "3189             [Serbia, United States]   \n",
       "3190                     [United States]   \n",
       "3191              [Kenya, United States]   \n",
       "3192             [Serbia, United States]   \n",
       "\n",
       "                                           Project Name  \\\n",
       "1243    Railway Modernization and Restructuring Project   \n",
       "1244                    Social Development Fund Project   \n",
       "1245                         Structural Adjustment Loan   \n",
       "1246      Andhra Pradesh Economic Restructuring Project   \n",
       "1247      Andhra Pradesh Economic Restructuring Project   \n",
       "...                                                 ...   \n",
       "3188                Sustainable Energy Scale-Up Project   \n",
       "3189  Additional Financing for Real Estate Managemen...   \n",
       "3190  SABESP - Improving Water Service Access and Se...   \n",
       "3191                 Affordable Housing Finance Project   \n",
       "3192                    Competitive Agriculture Project   \n",
       "\n",
       "                                           project_desc  amount_standard  \\\n",
       "1243  SCHEDULE 2 \\n\\nDescription of the Project\\n\\nT...       85400000.0   \n",
       "1244  SCHEDULE 2\\n\\nDescription of the Project\\n\\nTh...       10000000.0   \n",
       "1245  SCHEDULE 1\\n\\nExcluded Expenditures\\n\\nFor pur...      350000000.0   \n",
       "1246                                               None      301300000.0   \n",
       "1247                                               None      301300000.0   \n",
       "...                                                 ...              ...   \n",
       "3188  SCHEDULE 1\\n\\nProject Description\\n\\nThe objec...       90000000.0   \n",
       "3189  SCHEDULE 1\\n\\nProject Description\\n\\nThe objec...       21000000.0   \n",
       "3190  SCHEDULE1\\n\\nProject Description\\n\\nThe object...      250000000.0   \n",
       "3191  SCHEDULE 1\\n\\nProject Description\\n\\nThe objec...      219000000.0   \n",
       "3192  SCHEDULE 1 \\n\\nProject Description \\n\\nThe obj...       45800000.0   \n",
       "\n",
       "     currency_standard closing_month  ... loan_length in year wb_project_id  \\\n",
       "1243              euro          June  ...                 4.0       P039161   \n",
       "1244         us dollar          June  ...                 3.0       P008204   \n",
       "1245         us dollar          June  ...                 0.0          None   \n",
       "1246         us dollar         March  ...                 5.0          None   \n",
       "1247         us dollar         March  ...                 5.0          None   \n",
       "...                ...           ...  ...                 ...           ...   \n",
       "3188              euro         April  ...                 6.0          None   \n",
       "3189              euro      December  ...                 3.0          None   \n",
       "3190         us dollar          June  ...                 6.0          None   \n",
       "3191              euro          June  ...                 5.0       P165034   \n",
       "3192              euro      December  ...                 5.0          None   \n",
       "\n",
       "      major_sector_name          sector1_name               sector2_name  \\\n",
       "1243     Transportation              Railways          Social Protection   \n",
       "1244             Health                Health  Early Childhood Education   \n",
       "1245                NaN                   NaN                        NaN   \n",
       "1246                NaN                   NaN                        NaN   \n",
       "1247                NaN                   NaN                        NaN   \n",
       "...                 ...                   ...                        ...   \n",
       "3188                NaN                   NaN                        NaN   \n",
       "3189                NaN                   NaN                        NaN   \n",
       "3190                NaN                   NaN                        NaN   \n",
       "3191   Financial Sector  Banking Institutions       Housing Construction   \n",
       "3192                NaN                   NaN                        NaN   \n",
       "\n",
       "                                           sector3_name  \\\n",
       "1243                                                NaN   \n",
       "1244              Central Government (Central Agencies)   \n",
       "1245                                                NaN   \n",
       "1246                                                NaN   \n",
       "1247                                                NaN   \n",
       "...                                                 ...   \n",
       "3188                                                NaN   \n",
       "3189                                                NaN   \n",
       "3190                                                NaN   \n",
       "3191  Public Administration - Industry, Trade and Se...   \n",
       "3192                                                NaN   \n",
       "\n",
       "            predicted_sector amount_cur_usd country_code_  cur_stand  \n",
       "1243          Transportation     98850500.0           HRV        EUR  \n",
       "1244                  Health     10000000.0           ROU        USD  \n",
       "1245        Financial Sector    350000000.0           PAK        USD  \n",
       "1246                     NaN    301300000.0           IND        USD  \n",
       "1247                     NaN    301300000.0           IND        USD  \n",
       "...                      ...            ...           ...        ...  \n",
       "3188  Energy and Extractives     99045000.0           BLR        EUR  \n",
       "3189            Public Admin     23110500.0           SRB        EUR  \n",
       "3190  Water/Sanitation/Waste    250000000.0           BRA        USD  \n",
       "3191        Financial Sector    242958600.0           KEN        EUR  \n",
       "3192             Agriculture     50723500.0           SRB        EUR  \n",
       "\n",
       "[1590 rows x 22 columns]"
      ]
     },
     "execution_count": 490,
     "metadata": {},
     "output_type": "execute_result"
    }
   ],
   "source": [
    "df[df.amount_cur_usd.notna()]"
   ]
  },
  {
   "cell_type": "code",
   "execution_count": 491,
   "metadata": {},
   "outputs": [],
   "source": [
    "def get_usd(x):\n",
    "    try:\n",
    "        return c.convert(x['amount_standard'], x['cur_stand'], 'USD', x['date'])\n",
    "    except:\n",
    "        return None\n",
    "df['amount_cur_usd'] = df.apply(get_usd, axis = 1)"
   ]
  },
  {
   "cell_type": "code",
   "execution_count": 492,
   "metadata": {},
   "outputs": [
    {
     "data": {
      "text/plain": [
       "<matplotlib.legend.Legend at 0x7ffac551a8e0>"
      ]
     },
     "execution_count": 492,
     "metadata": {},
     "output_type": "execute_result"
    },
    {
     "data": {
      "image/png": "[encoded data removed]",
      "text/plain": [
       "<Figure size 1152x432 with 1 Axes>"
      ]
     },
     "metadata": {
      "needs_background": "light"
     },
     "output_type": "display_data"
    }
   ],
   "source": [
    "plt.figure(figsize = (16,6))\n",
    "df.groupby(df.date.dt.year)['amount_cur_usd'].sum().plot(label = 'current usd')\n",
    "df.groupby(df.date.dt.year)['amount_standard'].sum().plot(label = 'original amount' )\n",
    "plt.ylabel('Total Amount of Loans')\n",
    "plt.legend()"
   ]
  },
  {
   "cell_type": "code",
   "execution_count": 493,
   "metadata": {},
   "outputs": [],
   "source": [
    "# Get Country Code\n",
    "df_ct = pd.read_csv('https://raw.githubusercontent.com/plotly/datasets/master/2014_world_gdp_with_codes.csv')\n",
    "country_map = {}\n",
    "for i in range(len(df_ct)):\n",
    "    country_name, country_code = df_ct.loc[i,'COUNTRY'], df_ct.loc[i,'CODE']\n",
    "    country_map[country_name] = country_code\n",
    "    \n",
    "country_map['Korea'] = country_map['Korea, South']\n",
    "country_map[\"People's Republic of the Congo\"] = country_map['Congo, Republic of the']\n",
    "country_map[\"Congo\"] = country_map['Congo, Democratic Republic of the']\n",
    "country_map['Cape Verde'] = country_map['Cabo Verde']\n",
    "country_map[\"Côte d'Ivoire\"] = country_map[\"Cote d'Ivoire\"]\n",
    "country_map['Venezuela, Bolivarian Republic of'] = country_map[\"Venezuela\"]\n",
    "country_map['Bolivia, Plurinational State of'] = country_map[\"Bolivia\"]\n",
    "country_map['Viet Nam'] = country_map[\"Vietnam\"]\n",
    "country_map['Yugoslavia'] = country_map['Macedonia']\n",
    "country_map['Macedonia, the former Yugoslav Republic of'] = country_map['Macedonia']\n",
    "country_map['Moldova, Republic of'] = country_map['Moldova']\n",
    "country_map['Russian Federation'] = country_map['Russia']\n",
    "country_map['Slovak Republic'] = country_map['Slovakia']\n",
    "country_map['Iran, Islamic Republic of'] = country_map['Iran']\n",
    "\n",
    "def get_country_code(x):\n",
    "    try:\n",
    "        return country_map[x]\n",
    "    except:\n",
    "        return None\n",
    "    \n",
    "df['country_code_'] = df['country_name'].apply(get_country_code)"
   ]
  },
  {
   "cell_type": "code",
   "execution_count": 528,
   "metadata": {},
   "outputs": [],
   "source": [
    "import plotly.graph_objects as go\n",
    "import pandas as pd\n",
    "\n",
    "# dff = pd.read_csv('https://raw.githubusercontent.com/plotly/datasets/master/2014_world_gdp_with_codes.csv')\n",
    "\n",
    "def plot_heatmap(dff,feature):\n",
    "    fig = go.Figure(data=go.Choropleth(\n",
    "        locations = dff['country_code_'],\n",
    "        z = dff[feature],\n",
    "        text = dff['country_name'],\n",
    "        colorscale = 'Oranges',\n",
    "        autocolorscale=False,\n",
    "        reversescale=False,\n",
    "        marker_line_color='darkgray',\n",
    "        marker_line_width=0.5,\n",
    "        colorbar_tickprefix = '$',\n",
    "        colorbar_title = 'Total Loan Amount<br>Billions current US$',\n",
    "    ))\n",
    "\n",
    "    fig.update_layout(\n",
    "        title_text='World Bank (IBRD) Loans 1999-2019',\n",
    "        geo=dict(\n",
    "            showframe=False,\n",
    "            showcoastlines=False,\n",
    "            projection_type='equirectangular'\n",
    "        ),\n",
    "        annotations = [dict(\n",
    "            x=0.55,\n",
    "            y=0.1,\n",
    "            xref='paper',\n",
    "            yref='paper',\n",
    "            text='Source: <a href=\"https://github.com/xushuo0/Qarik-Project\">\\\n",
    "                Qarik-Project (May 28, 2021)</a>',\n",
    "            showarrow = False\n",
    "        )]\n",
    "    )\n",
    "    fig.show()"
   ]
  },
  {
   "cell_type": "code",
   "execution_count": 529,
   "metadata": {},
   "outputs": [
    {
     "data": {
      "application/vnd.plotly.v1+json": {
       "config": {
        "plotlyServerURL": "https://plot.ly"
       },
       "data": [
        {
         "autocolorscale": false,
         "colorbar": {
          "tickprefix": "$",
          "title": {
           "text": "Total Loan Amount<br>Billions current US$"
          }
         },
         "colorscale": [
          [
           0,
           "rgb(255,245,235)"
          ],
          [
           0.125,
           "rgb(254,230,206)"
          ],
          [
           0.25,
           "rgb(253,208,162)"
          ],
          [
           0.375,
           "rgb(253,174,107)"
          ],
          [
           0.5,
           "rgb(253,141,60)"
          ],
          [
           0.625,
           "rgb(241,105,19)"
          ],
          [
           0.75,
           "rgb(217,72,1)"
          ],
          [
           0.875,
           "rgb(166,54,3)"
          ],
          [
           1,
           "rgb(127,39,4)"
          ]
         ],
         "locations": [
          "IND",
          "BRA",
          "CHN",
          "TUR",
          "IDN",
          "MEX",
          "EGY",
          "ARG",
          "COL",
          "POL",
          "UKR",
          "ROU",
          "PER",
          "PHL",
          "MNE",
          "KAZ",
          "MYS",
          "JOR",
          "TUN",
          "PAK",
          "RUS",
          "HRV",
          "SRB",
          "URY",
          "AZE",
          "AGO",
          "MAR",
          "PAN",
          "LBN",
          "IRQ",
          "VNM",
          "ECU",
          "DOM",
          "CRI",
          "BLR",
          "UZB",
          "IRN",
          "SLV",
          "MKD",
          "BGR",
          "ALB",
          "ARM",
          "GEO",
          "JAM",
          "GUM",
          "CMR",
          "GAB",
          "GTM",
          "EST",
          "BOL",
          "LVA",
          "PRY",
          "CHE",
          "ESP",
          "BIH",
          "SVK",
          "MUS",
          "KEN",
          "CHL",
          "LTU",
          "CIV",
          "BWA",
          "PNG",
          "COD",
          "LSO",
          "LKA",
          "DZA",
          "ZAF",
          "MDA",
          "BRB",
          "HUN",
          "SVN",
          "SYC",
          "LCA",
          "COG",
          "GRD",
          "BLZ",
          "SAU",
          "FJI",
          "NAM",
          "CPV",
          "GRC",
          "ATG",
          "THA",
          "TLS",
          "MKD",
          "SWZ",
          "VEN",
          "TKM",
          "SUR",
          "KOR",
          "SVK",
          "SLE",
          "VCT",
          "NGA",
          "MNG",
          "MDA",
          "HND",
          "GHA",
          "ETH",
          "CZE",
          "CYP",
          "CIV",
          "BEL",
          "ZWE"
         ],
         "marker": {
          "line": {
           "color": "darkgray",
           "width": 0.5
          }
         },
         "reversescale": false,
         "text": [
          "India",
          "Brazil",
          "China",
          "Turkey",
          "Indonesia",
          "Mexico",
          "Egypt",
          "Argentina",
          "Colombia",
          "Poland",
          "Ukraine",
          "Romania",
          "Peru",
          "Philippines",
          "Montenegro",
          "Kazakhstan",
          "Malaysia",
          "Jordan",
          "Tunisia",
          "Pakistan",
          "Russian Federation",
          "Croatia",
          "Serbia",
          "Uruguay",
          "Azerbaijan",
          "Angola",
          "Morocco",
          "Panama",
          "Lebanon",
          "Iraq",
          "Viet Nam",
          "Ecuador",
          "Dominican Republic",
          "Costa Rica",
          "Belarus",
          "Uzbekistan",
          "Iran, Islamic Republic of",
          "El Salvador",
          "Macedonia, the former Yugoslav Republic of",
          "Bulgaria",
          "Albania",
          "Armenia",
          "Georgia",
          "Jamaica",
          "Guam",
          "Cameroon",
          "Gabon",
          "Guatemala",
          "Estonia",
          "Bolivia, Plurinational State of",
          "Latvia",
          "Paraguay",
          "Switzerland",
          "Spain",
          "Bosnia and Herzegovina",
          "Slovakia",
          "Mauritius",
          "Kenya",
          "Chile",
          "Lithuania",
          "Côte d'Ivoire",
          "Botswana",
          "Papua New Guinea",
          "Congo",
          "Lesotho",
          "Sri Lanka",
          "Algeria",
          "South Africa",
          "Moldova, Republic of",
          "Barbados",
          "Hungary",
          "Slovenia",
          "Seychelles",
          "Saint Lucia",
          "People's Republic of the Congo",
          "Grenada",
          "Belize",
          "Saudi Arabia",
          "Fiji",
          "Namibia",
          "Cape Verde",
          "Greece",
          "Antigua and Barbuda",
          "Thailand",
          "Timor-Leste",
          "Yugoslavia",
          "Swaziland",
          "Venezuela, Bolivarian Republic of",
          "Turkmenistan",
          "Suriname",
          "Korea",
          "Slovak Republic",
          "Sierra Leone",
          "Saint Vincent and the Grenadines",
          "Nigeria",
          "Mongolia",
          "Moldova",
          "Honduras",
          "Ghana",
          "Ethiopia",
          "Czech Republic",
          "Cyprus",
          "Cote d'Ivoire",
          "Belgium",
          "Zimbabwe"
         ],
         "type": "choropleth",
         "z": [
          31113310000,
          22371382984,
          21567152820,
          18996058598,
          15850072000,
          13653540243,
          11717450000,
          11434196000,
          10930566470,
          6950856040,
          6551557000,
          6421115850,
          6311100000,
          5395198154.16096,
          5160803213,
          5141010000,
          5011796420,
          4343200000,
          3073419370,
          2991183992.7386656,
          2624600000,
          2484281546.6666665,
          2290730464,
          1784140000,
          1759900000,
          1714253400,
          1639549703.8562093,
          1499800000,
          1484300000,
          1465000000,
          1395000000,
          1380960000,
          1291800000,
          1274500000,
          1132011800,
          1075430000,
          1011000000,
          996872161,
          863165378,
          858888790,
          849738730,
          761600000,
          751316130,
          737000000,
          733910000,
          715642270,
          707751270,
          667000000,
          662724240,
          632950000,
          472682593,
          464000000,
          438310000,
          395000000,
          393703250,
          293672640,
          260027871.7557252,
          242958600,
          220126000,
          206106681,
          201110906.66666666,
          195500000,
          172620000,
          171613520,
          110000000,
          102000000,
          95000000,
          93000000,
          83780000,
          50150000,
          29004840,
          23170540,
          22544322,
          17172161,
          15800000,
          15772161,
          15000000.000000002,
          15000000,
          15000000,
          7500000.000000001,
          5000000,
          4000000,
          2000000,
          0,
          0,
          0,
          0,
          0,
          0,
          0,
          0,
          0,
          0,
          0,
          0,
          0,
          0,
          0,
          0,
          0,
          0,
          0,
          0,
          0,
          0
         ]
        }
       ],
       "layout": {
        "annotations": [
         {
          "showarrow": false,
          "text": "Source: <a href=\"https://github.com/xushuo0/Qarik-Project\">                Qarik-Project (May 28, 2021)</a>",
          "x": 0.55,
          "xref": "paper",
          "y": 0.1,
          "yref": "paper"
         }
        ],
        "geo": {
         "projection": {
          "type": "equirectangular"
         },
         "showcoastlines": false,
         "showframe": false
        },
        "template": {
         "data": {
          "bar": [
           {
            "error_x": {
             "color": "#2a3f5f"
            },
            "error_y": {
             "color": "#2a3f5f"
            },
            "marker": {
             "line": {
              "color": "#E5ECF6",
              "width": 0.5
             }
            },
            "type": "bar"
           }
          ],
          "barpolar": [
           {
            "marker": {
             "line": {
              "color": "#E5ECF6",
              "width": 0.5
             }
            },
            "type": "barpolar"
           }
          ],
          "carpet": [
           {
            "aaxis": {
             "endlinecolor": "#2a3f5f",
             "gridcolor": "white",
             "linecolor": "white",
             "minorgridcolor": "white",
             "startlinecolor": "#2a3f5f"
            },
            "baxis": {
             "endlinecolor": "#2a3f5f",
             "gridcolor": "white",
             "linecolor": "white",
             "minorgridcolor": "white",
             "startlinecolor": "#2a3f5f"
            },
            "type": "carpet"
           }
          ],
          "choropleth": [
           {
            "colorbar": {
             "outlinewidth": 0,
             "ticks": ""
            },
            "type": "choropleth"
           }
          ],
          "contour": [
           {
            "colorbar": {
             "outlinewidth": 0,
             "ticks": ""
            },
            "colorscale": [
             [
              0,
              "#0d0887"
             ],
             [
              0.1111111111111111,
              "#46039f"
             ],
             [
              0.2222222222222222,
              "#7201a8"
             ],
             [
              0.3333333333333333,
              "#9c179e"
             ],
             [
              0.4444444444444444,
              "#bd3786"
             ],
             [
              0.5555555555555556,
              "#d8576b"
             ],
             [
              0.6666666666666666,
              "#ed7953"
             ],
             [
              0.7777777777777778,
              "#fb9f3a"
             ],
             [
              0.8888888888888888,
              "#fdca26"
             ],
             [
              1,
              "#f0f921"
             ]
            ],
            "type": "contour"
           }
          ],
          "contourcarpet": [
           {
            "colorbar": {
             "outlinewidth": 0,
             "ticks": ""
            },
            "type": "contourcarpet"
           }
          ],
          "heatmap": [
           {
            "colorbar": {
             "outlinewidth": 0,
             "ticks": ""
            },
            "colorscale": [
             [
              0,
              "#0d0887"
             ],
             [
              0.1111111111111111,
              "#46039f"
             ],
             [
              0.2222222222222222,
              "#7201a8"
             ],
             [
              0.3333333333333333,
              "#9c179e"
             ],
             [
              0.4444444444444444,
              "#bd3786"
             ],
             [
              0.5555555555555556,
              "#d8576b"
             ],
             [
              0.6666666666666666,
              "#ed7953"
             ],
             [
              0.7777777777777778,
              "#fb9f3a"
             ],
             [
              0.8888888888888888,
              "#fdca26"
             ],
             [
              1,
              "#f0f921"
             ]
            ],
            "type": "heatmap"
           }
          ],
          "heatmapgl": [
           {
            "colorbar": {
             "outlinewidth": 0,
             "ticks": ""
            },
            "colorscale": [
             [
              0,
              "#0d0887"
             ],
             [
              0.1111111111111111,
              "#46039f"
             ],
             [
              0.2222222222222222,
              "#7201a8"
             ],
             [
              0.3333333333333333,
              "#9c179e"
             ],
             [
              0.4444444444444444,
              "#bd3786"
             ],
             [
              0.5555555555555556,
              "#d8576b"
             ],
             [
              0.6666666666666666,
              "#ed7953"
             ],
             [
              0.7777777777777778,
              "#fb9f3a"
             ],
             [
              0.8888888888888888,
              "#fdca26"
             ],
             [
              1,
              "#f0f921"
             ]
            ],
            "type": "heatmapgl"
           }
          ],
          "histogram": [
           {
            "marker": {
             "colorbar": {
              "outlinewidth": 0,
              "ticks": ""
             }
            },
            "type": "histogram"
           }
          ],
          "histogram2d": [
           {
            "colorbar": {
             "outlinewidth": 0,
             "ticks": ""
            },
            "colorscale": [
             [
              0,
              "#0d0887"
             ],
             [
              0.1111111111111111,
              "#46039f"
             ],
             [
              0.2222222222222222,
              "#7201a8"
             ],
             [
              0.3333333333333333,
              "#9c179e"
             ],
             [
              0.4444444444444444,
              "#bd3786"
             ],
             [
              0.5555555555555556,
              "#d8576b"
             ],
             [
              0.6666666666666666,
              "#ed7953"
             ],
             [
              0.7777777777777778,
              "#fb9f3a"
             ],
             [
              0.8888888888888888,
              "#fdca26"
             ],
             [
              1,
              "#f0f921"
             ]
            ],
            "type": "histogram2d"
           }
          ],
          "histogram2dcontour": [
           {
            "colorbar": {
             "outlinewidth": 0,
             "ticks": ""
            },
            "colorscale": [
             [
              0,
              "#0d0887"
             ],
             [
              0.1111111111111111,
              "#46039f"
             ],
             [
              0.2222222222222222,
              "#7201a8"
             ],
             [
              0.3333333333333333,
              "#9c179e"
             ],
             [
              0.4444444444444444,
              "#bd3786"
             ],
             [
              0.5555555555555556,
              "#d8576b"
             ],
             [
              0.6666666666666666,
              "#ed7953"
             ],
             [
              0.7777777777777778,
              "#fb9f3a"
             ],
             [
              0.8888888888888888,
              "#fdca26"
             ],
             [
              1,
              "#f0f921"
             ]
            ],
            "type": "histogram2dcontour"
           }
          ],
          "mesh3d": [
           {
            "colorbar": {
             "outlinewidth": 0,
             "ticks": ""
            },
            "type": "mesh3d"
           }
          ],
          "parcoords": [
           {
            "line": {
             "colorbar": {
              "outlinewidth": 0,
              "ticks": ""
             }
            },
            "type": "parcoords"
           }
          ],
          "pie": [
           {
            "automargin": true,
            "type": "pie"
           }
          ],
          "scatter": [
           {
            "marker": {
             "colorbar": {
              "outlinewidth": 0,
              "ticks": ""
             }
            },
            "type": "scatter"
           }
          ],
          "scatter3d": [
           {
            "line": {
             "colorbar": {
              "outlinewidth": 0,
              "ticks": ""
             }
            },
            "marker": {
             "colorbar": {
              "outlinewidth": 0,
              "ticks": ""
             }
            },
            "type": "scatter3d"
           }
          ],
          "scattercarpet": [
           {
            "marker": {
             "colorbar": {
              "outlinewidth": 0,
              "ticks": ""
             }
            },
            "type": "scattercarpet"
           }
          ],
          "scattergeo": [
           {
            "marker": {
             "colorbar": {
              "outlinewidth": 0,
              "ticks": ""
             }
            },
            "type": "scattergeo"
           }
          ],
          "scattergl": [
           {
            "marker": {
             "colorbar": {
              "outlinewidth": 0,
              "ticks": ""
             }
            },
            "type": "scattergl"
           }
          ],
          "scattermapbox": [
           {
            "marker": {
             "colorbar": {
              "outlinewidth": 0,
              "ticks": ""
             }
            },
            "type": "scattermapbox"
           }
          ],
          "scatterpolar": [
           {
            "marker": {
             "colorbar": {
              "outlinewidth": 0,
              "ticks": ""
             }
            },
            "type": "scatterpolar"
           }
          ],
          "scatterpolargl": [
           {
            "marker": {
             "colorbar": {
              "outlinewidth": 0,
              "ticks": ""
             }
            },
            "type": "scatterpolargl"
           }
          ],
          "scatterternary": [
           {
            "marker": {
             "colorbar": {
              "outlinewidth": 0,
              "ticks": ""
             }
            },
            "type": "scatterternary"
           }
          ],
          "surface": [
           {
            "colorbar": {
             "outlinewidth": 0,
             "ticks": ""
            },
            "colorscale": [
             [
              0,
              "#0d0887"
             ],
             [
              0.1111111111111111,
              "#46039f"
             ],
             [
              0.2222222222222222,
              "#7201a8"
             ],
             [
              0.3333333333333333,
              "#9c179e"
             ],
             [
              0.4444444444444444,
              "#bd3786"
             ],
             [
              0.5555555555555556,
              "#d8576b"
             ],
             [
              0.6666666666666666,
              "#ed7953"
             ],
             [
              0.7777777777777778,
              "#fb9f3a"
             ],
             [
              0.8888888888888888,
              "#fdca26"
             ],
             [
              1,
              "#f0f921"
             ]
            ],
            "type": "surface"
           }
          ],
          "table": [
           {
            "cells": {
             "fill": {
              "color": "#EBF0F8"
             },
             "line": {
              "color": "white"
             }
            },
            "header": {
             "fill": {
              "color": "#C8D4E3"
             },
             "line": {
              "color": "white"
             }
            },
            "type": "table"
           }
          ]
         },
         "layout": {
          "annotationdefaults": {
           "arrowcolor": "#2a3f5f",
           "arrowhead": 0,
           "arrowwidth": 1
          },
          "autotypenumbers": "strict",
          "coloraxis": {
           "colorbar": {
            "outlinewidth": 0,
            "ticks": ""
           }
          },
          "colorscale": {
           "diverging": [
            [
             0,
             "#8e0152"
            ],
            [
             0.1,
             "#c51b7d"
            ],
            [
             0.2,
             "#de77ae"
            ],
            [
             0.3,
             "#f1b6da"
            ],
            [
             0.4,
             "#fde0ef"
            ],
            [
             0.5,
             "#f7f7f7"
            ],
            [
             0.6,
             "#e6f5d0"
            ],
            [
             0.7,
             "#b8e186"
            ],
            [
             0.8,
             "#7fbc41"
            ],
            [
             0.9,
             "#4d9221"
            ],
            [
             1,
             "#276419"
            ]
           ],
           "sequential": [
            [
             0,
             "#0d0887"
            ],
            [
             0.1111111111111111,
             "#46039f"
            ],
            [
             0.2222222222222222,
             "#7201a8"
            ],
            [
             0.3333333333333333,
             "#9c179e"
            ],
            [
             0.4444444444444444,
             "#bd3786"
            ],
            [
             0.5555555555555556,
             "#d8576b"
            ],
            [
             0.6666666666666666,
             "#ed7953"
            ],
            [
             0.7777777777777778,
             "#fb9f3a"
            ],
            [
             0.8888888888888888,
             "#fdca26"
            ],
            [
             1,
             "#f0f921"
            ]
           ],
           "sequentialminus": [
            [
             0,
             "#0d0887"
            ],
            [
             0.1111111111111111,
             "#46039f"
            ],
            [
             0.2222222222222222,
             "#7201a8"
            ],
            [
             0.3333333333333333,
             "#9c179e"
            ],
            [
             0.4444444444444444,
             "#bd3786"
            ],
            [
             0.5555555555555556,
             "#d8576b"
            ],
            [
             0.6666666666666666,
             "#ed7953"
            ],
            [
             0.7777777777777778,
             "#fb9f3a"
            ],
            [
             0.8888888888888888,
             "#fdca26"
            ],
            [
             1,
             "#f0f921"
            ]
           ]
          },
          "colorway": [
           "#636efa",
           "#EF553B",
           "#00cc96",
           "#ab63fa",
           "#FFA15A",
           "#19d3f3",
           "#FF6692",
           "#B6E880",
           "#FF97FF",
           "#FECB52"
          ],
          "font": {
           "color": "#2a3f5f"
          },
          "geo": {
           "bgcolor": "white",
           "lakecolor": "white",
           "landcolor": "#E5ECF6",
           "showlakes": true,
           "showland": true,
           "subunitcolor": "white"
          },
          "hoverlabel": {
           "align": "left"
          },
          "hovermode": "closest",
          "mapbox": {
           "style": "light"
          },
          "paper_bgcolor": "white",
          "plot_bgcolor": "#E5ECF6",
          "polar": {
           "angularaxis": {
            "gridcolor": "white",
            "linecolor": "white",
            "ticks": ""
           },
           "bgcolor": "#E5ECF6",
           "radialaxis": {
            "gridcolor": "white",
            "linecolor": "white",
            "ticks": ""
           }
          },
          "scene": {
           "xaxis": {
            "backgroundcolor": "#E5ECF6",
            "gridcolor": "white",
            "gridwidth": 2,
            "linecolor": "white",
            "showbackground": true,
            "ticks": "",
            "zerolinecolor": "white"
           },
           "yaxis": {
            "backgroundcolor": "#E5ECF6",
            "gridcolor": "white",
            "gridwidth": 2,
            "linecolor": "white",
            "showbackground": true,
            "ticks": "",
            "zerolinecolor": "white"
           },
           "zaxis": {
            "backgroundcolor": "#E5ECF6",
            "gridcolor": "white",
            "gridwidth": 2,
            "linecolor": "white",
            "showbackground": true,
            "ticks": "",
            "zerolinecolor": "white"
           }
          },
          "shapedefaults": {
           "line": {
            "color": "#2a3f5f"
           }
          },
          "ternary": {
           "aaxis": {
            "gridcolor": "white",
            "linecolor": "white",
            "ticks": ""
           },
           "baxis": {
            "gridcolor": "white",
            "linecolor": "white",
            "ticks": ""
           },
           "bgcolor": "#E5ECF6",
           "caxis": {
            "gridcolor": "white",
            "linecolor": "white",
            "ticks": ""
           }
          },
          "title": {
           "x": 0.05
          },
          "xaxis": {
           "automargin": true,
           "gridcolor": "white",
           "linecolor": "white",
           "ticks": "",
           "title": {
            "standoff": 15
           },
           "zerolinecolor": "white",
           "zerolinewidth": 2
          },
          "yaxis": {
           "automargin": true,
           "gridcolor": "white",
           "linecolor": "white",
           "ticks": "",
           "title": {
            "standoff": 15
           },
           "zerolinecolor": "white",
           "zerolinewidth": 2
          }
         }
        },
        "title": {
         "text": "World Bank (IBRD) Loans 1999-2019"
        }
       }
      },
      "text/html": [
       "<div>                            <div id=\"928daf9e-3527-44fd-90fd-35e5605130e8\" class=\"plotly-graph-div\" style=\"height:525px; width:100%;\"></div>            <script type=\"text/javascript\">                require([\"plotly\"], function(Plotly) {                    window.PLOTLYENV=window.PLOTLYENV || {};                                    if (document.getElementById(\"928daf9e-3527-44fd-90fd-35e5605130e8\")) {                    Plotly.newPlot(                        \"928daf9e-3527-44fd-90fd-35e5605130e8\",                        [{\"autocolorscale\": false, \"colorbar\": {\"tickprefix\": \"$\", \"title\": {\"text\": \"Total Loan Amount<br>Billions current US$\"}}, \"colorscale\": [[0.0, \"rgb(255,245,235)\"], [0.125, \"rgb(254,230,206)\"], [0.25, \"rgb(253,208,162)\"], [0.375, \"rgb(253,174,107)\"], [0.5, \"rgb(253,141,60)\"], [0.625, \"rgb(241,105,19)\"], [0.75, \"rgb(217,72,1)\"], [0.875, \"rgb(166,54,3)\"], [1.0, \"rgb(127,39,4)\"]], \"locations\": [\"IND\", \"BRA\", \"CHN\", \"TUR\", \"IDN\", \"MEX\", \"EGY\", \"ARG\", \"COL\", \"POL\", \"UKR\", \"ROU\", \"PER\", \"PHL\", \"MNE\", \"KAZ\", \"MYS\", \"JOR\", \"TUN\", \"PAK\", \"RUS\", \"HRV\", \"SRB\", \"URY\", \"AZE\", \"AGO\", \"MAR\", \"PAN\", \"LBN\", \"IRQ\", \"VNM\", \"ECU\", \"DOM\", \"CRI\", \"BLR\", \"UZB\", \"IRN\", \"SLV\", \"MKD\", \"BGR\", \"ALB\", \"ARM\", \"GEO\", \"JAM\", \"GUM\", \"CMR\", \"GAB\", \"GTM\", \"EST\", \"BOL\", \"LVA\", \"PRY\", \"CHE\", \"ESP\", \"BIH\", \"SVK\", \"MUS\", \"KEN\", \"CHL\", \"LTU\", \"CIV\", \"BWA\", \"PNG\", \"COD\", \"LSO\", \"LKA\", \"DZA\", \"ZAF\", \"MDA\", \"BRB\", \"HUN\", \"SVN\", \"SYC\", \"LCA\", \"COG\", \"GRD\", \"BLZ\", \"SAU\", \"FJI\", \"NAM\", \"CPV\", \"GRC\", \"ATG\", \"THA\", \"TLS\", \"MKD\", \"SWZ\", \"VEN\", \"TKM\", \"SUR\", \"KOR\", \"SVK\", \"SLE\", \"VCT\", \"NGA\", \"MNG\", \"MDA\", \"HND\", \"GHA\", \"ETH\", \"CZE\", \"CYP\", \"CIV\", \"BEL\", \"ZWE\"], \"marker\": {\"line\": {\"color\": \"darkgray\", \"width\": 0.5}}, \"reversescale\": false, \"text\": [\"India\", \"Brazil\", \"China\", \"Turkey\", \"Indonesia\", \"Mexico\", \"Egypt\", \"Argentina\", \"Colombia\", \"Poland\", \"Ukraine\", \"Romania\", \"Peru\", \"Philippines\", \"Montenegro\", \"Kazakhstan\", \"Malaysia\", \"Jordan\", \"Tunisia\", \"Pakistan\", \"Russian Federation\", \"Croatia\", \"Serbia\", \"Uruguay\", \"Azerbaijan\", \"Angola\", \"Morocco\", \"Panama\", \"Lebanon\", \"Iraq\", \"Viet Nam\", \"Ecuador\", \"Dominican Republic\", \"Costa Rica\", \"Belarus\", \"Uzbekistan\", \"Iran, Islamic Republic of\", \"El Salvador\", \"Macedonia, the former Yugoslav Republic of\", \"Bulgaria\", \"Albania\", \"Armenia\", \"Georgia\", \"Jamaica\", \"Guam\", \"Cameroon\", \"Gabon\", \"Guatemala\", \"Estonia\", \"Bolivia, Plurinational State of\", \"Latvia\", \"Paraguay\", \"Switzerland\", \"Spain\", \"Bosnia and Herzegovina\", \"Slovakia\", \"Mauritius\", \"Kenya\", \"Chile\", \"Lithuania\", \"C\\u00f4te d'Ivoire\", \"Botswana\", \"Papua New Guinea\", \"Congo\", \"Lesotho\", \"Sri Lanka\", \"Algeria\", \"South Africa\", \"Moldova, Republic of\", \"Barbados\", \"Hungary\", \"Slovenia\", \"Seychelles\", \"Saint Lucia\", \"People's Republic of the Congo\", \"Grenada\", \"Belize\", \"Saudi Arabia\", \"Fiji\", \"Namibia\", \"Cape Verde\", \"Greece\", \"Antigua and Barbuda\", \"Thailand\", \"Timor-Leste\", \"Yugoslavia\", \"Swaziland\", \"Venezuela, Bolivarian Republic of\", \"Turkmenistan\", \"Suriname\", \"Korea\", \"Slovak Republic\", \"Sierra Leone\", \"Saint Vincent and the Grenadines\", \"Nigeria\", \"Mongolia\", \"Moldova\", \"Honduras\", \"Ghana\", \"Ethiopia\", \"Czech Republic\", \"Cyprus\", \"Cote d'Ivoire\", \"Belgium\", \"Zimbabwe\"], \"type\": \"choropleth\", \"z\": [31113310000.0, 22371382984.0, 21567152820.0, 18996058598.0, 15850072000.0, 13653540243.0, 11717450000.0, 11434196000.0, 10930566470.0, 6950856040.0, 6551557000.0, 6421115850.0, 6311100000.0, 5395198154.16096, 5160803213.0, 5141010000.0, 5011796420.0, 4343200000.0, 3073419370.0, 2991183992.7386656, 2624600000.0, 2484281546.6666665, 2290730464.0, 1784140000.0, 1759900000.0, 1714253400.0, 1639549703.8562093, 1499800000.0, 1484300000.0, 1465000000.0, 1395000000.0, 1380960000.0, 1291800000.0, 1274500000.0, 1132011800.0, 1075430000.0, 1011000000.0, 996872161.0, 863165378.0, 858888790.0, 849738730.0, 761600000.0, 751316130.0, 737000000.0, 733910000.0, 715642270.0, 707751270.0, 667000000.0, 662724240.0, 632950000.0, 472682593.0, 464000000.0, 438310000.0, 395000000.0, 393703250.0, 293672640.0, 260027871.7557252, 242958600.0, 220126000.0, 206106681.0, 201110906.66666666, 195500000.0, 172620000.0, 171613520.0, 110000000.0, 102000000.0, 95000000.0, 93000000.0, 83780000.0, 50150000.0, 29004840.0, 23170540.0, 22544322.0, 17172161.0, 15800000.0, 15772161.0, 15000000.000000002, 15000000.0, 15000000.0, 7500000.000000001, 5000000.0, 4000000.0, 2000000.0, 0.0, 0.0, 0.0, 0.0, 0.0, 0.0, 0.0, 0.0, 0.0, 0.0, 0.0, 0.0, 0.0, 0.0, 0.0, 0.0, 0.0, 0.0, 0.0, 0.0, 0.0, 0.0]}],                        {\"annotations\": [{\"showarrow\": false, \"text\": \"Source: <a href=\\\"https://github.com/xushuo0/Qarik-Project\\\">                Qarik-Project (May 28, 2021)</a>\", \"x\": 0.55, \"xref\": \"paper\", \"y\": 0.1, \"yref\": \"paper\"}], \"geo\": {\"projection\": {\"type\": \"equirectangular\"}, \"showcoastlines\": false, \"showframe\": false}, \"template\": {\"data\": {\"bar\": [{\"error_x\": {\"color\": \"#2a3f5f\"}, \"error_y\": {\"color\": \"#2a3f5f\"}, \"marker\": {\"line\": {\"color\": \"#E5ECF6\", \"width\": 0.5}}, \"type\": \"bar\"}], \"barpolar\": [{\"marker\": {\"line\": {\"color\": \"#E5ECF6\", \"width\": 0.5}}, \"type\": \"barpolar\"}], \"carpet\": [{\"aaxis\": {\"endlinecolor\": \"#2a3f5f\", \"gridcolor\": \"white\", \"linecolor\": \"white\", \"minorgridcolor\": \"white\", \"startlinecolor\": \"#2a3f5f\"}, \"baxis\": {\"endlinecolor\": \"#2a3f5f\", \"gridcolor\": \"white\", \"linecolor\": \"white\", \"minorgridcolor\": \"white\", \"startlinecolor\": \"#2a3f5f\"}, \"type\": \"carpet\"}], \"choropleth\": [{\"colorbar\": {\"outlinewidth\": 0, \"ticks\": \"\"}, \"type\": \"choropleth\"}], \"contour\": [{\"colorbar\": {\"outlinewidth\": 0, \"ticks\": \"\"}, \"colorscale\": [[0.0, \"#0d0887\"], [0.1111111111111111, \"#46039f\"], [0.2222222222222222, \"#7201a8\"], [0.3333333333333333, \"#9c179e\"], [0.4444444444444444, \"#bd3786\"], [0.5555555555555556, \"#d8576b\"], [0.6666666666666666, \"#ed7953\"], [0.7777777777777778, \"#fb9f3a\"], [0.8888888888888888, \"#fdca26\"], [1.0, \"#f0f921\"]], \"type\": \"contour\"}], \"contourcarpet\": [{\"colorbar\": {\"outlinewidth\": 0, \"ticks\": \"\"}, \"type\": \"contourcarpet\"}], \"heatmap\": [{\"colorbar\": {\"outlinewidth\": 0, \"ticks\": \"\"}, \"colorscale\": [[0.0, \"#0d0887\"], [0.1111111111111111, \"#46039f\"], [0.2222222222222222, \"#7201a8\"], [0.3333333333333333, \"#9c179e\"], [0.4444444444444444, \"#bd3786\"], [0.5555555555555556, \"#d8576b\"], [0.6666666666666666, \"#ed7953\"], [0.7777777777777778, \"#fb9f3a\"], [0.8888888888888888, \"#fdca26\"], [1.0, \"#f0f921\"]], \"type\": \"heatmap\"}], \"heatmapgl\": [{\"colorbar\": {\"outlinewidth\": 0, \"ticks\": \"\"}, \"colorscale\": [[0.0, \"#0d0887\"], [0.1111111111111111, \"#46039f\"], [0.2222222222222222, \"#7201a8\"], [0.3333333333333333, \"#9c179e\"], [0.4444444444444444, \"#bd3786\"], [0.5555555555555556, \"#d8576b\"], [0.6666666666666666, \"#ed7953\"], [0.7777777777777778, \"#fb9f3a\"], [0.8888888888888888, \"#fdca26\"], [1.0, \"#f0f921\"]], \"type\": \"heatmapgl\"}], \"histogram\": [{\"marker\": {\"colorbar\": {\"outlinewidth\": 0, \"ticks\": \"\"}}, \"type\": \"histogram\"}], \"histogram2d\": [{\"colorbar\": {\"outlinewidth\": 0, \"ticks\": \"\"}, \"colorscale\": [[0.0, \"#0d0887\"], [0.1111111111111111, \"#46039f\"], [0.2222222222222222, \"#7201a8\"], [0.3333333333333333, \"#9c179e\"], [0.4444444444444444, \"#bd3786\"], [0.5555555555555556, \"#d8576b\"], [0.6666666666666666, \"#ed7953\"], [0.7777777777777778, \"#fb9f3a\"], [0.8888888888888888, \"#fdca26\"], [1.0, \"#f0f921\"]], \"type\": \"histogram2d\"}], \"histogram2dcontour\": [{\"colorbar\": {\"outlinewidth\": 0, \"ticks\": \"\"}, \"colorscale\": [[0.0, \"#0d0887\"], [0.1111111111111111, \"#46039f\"], [0.2222222222222222, \"#7201a8\"], [0.3333333333333333, \"#9c179e\"], [0.4444444444444444, \"#bd3786\"], [0.5555555555555556, \"#d8576b\"], [0.6666666666666666, \"#ed7953\"], [0.7777777777777778, \"#fb9f3a\"], [0.8888888888888888, \"#fdca26\"], [1.0, \"#f0f921\"]], \"type\": \"histogram2dcontour\"}], \"mesh3d\": [{\"colorbar\": {\"outlinewidth\": 0, \"ticks\": \"\"}, \"type\": \"mesh3d\"}], \"parcoords\": [{\"line\": {\"colorbar\": {\"outlinewidth\": 0, \"ticks\": \"\"}}, \"type\": \"parcoords\"}], \"pie\": [{\"automargin\": true, \"type\": \"pie\"}], \"scatter\": [{\"marker\": {\"colorbar\": {\"outlinewidth\": 0, \"ticks\": \"\"}}, \"type\": \"scatter\"}], \"scatter3d\": [{\"line\": {\"colorbar\": {\"outlinewidth\": 0, \"ticks\": \"\"}}, \"marker\": {\"colorbar\": {\"outlinewidth\": 0, \"ticks\": \"\"}}, \"type\": \"scatter3d\"}], \"scattercarpet\": [{\"marker\": {\"colorbar\": {\"outlinewidth\": 0, \"ticks\": \"\"}}, \"type\": \"scattercarpet\"}], \"scattergeo\": [{\"marker\": {\"colorbar\": {\"outlinewidth\": 0, \"ticks\": \"\"}}, \"type\": \"scattergeo\"}], \"scattergl\": [{\"marker\": {\"colorbar\": {\"outlinewidth\": 0, \"ticks\": \"\"}}, \"type\": \"scattergl\"}], \"scattermapbox\": [{\"marker\": {\"colorbar\": {\"outlinewidth\": 0, \"ticks\": \"\"}}, \"type\": \"scattermapbox\"}], \"scatterpolar\": [{\"marker\": {\"colorbar\": {\"outlinewidth\": 0, \"ticks\": \"\"}}, \"type\": \"scatterpolar\"}], \"scatterpolargl\": [{\"marker\": {\"colorbar\": {\"outlinewidth\": 0, \"ticks\": \"\"}}, \"type\": \"scatterpolargl\"}], \"scatterternary\": [{\"marker\": {\"colorbar\": {\"outlinewidth\": 0, \"ticks\": \"\"}}, \"type\": \"scatterternary\"}], \"surface\": [{\"colorbar\": {\"outlinewidth\": 0, \"ticks\": \"\"}, \"colorscale\": [[0.0, \"#0d0887\"], [0.1111111111111111, \"#46039f\"], [0.2222222222222222, \"#7201a8\"], [0.3333333333333333, \"#9c179e\"], [0.4444444444444444, \"#bd3786\"], [0.5555555555555556, \"#d8576b\"], [0.6666666666666666, \"#ed7953\"], [0.7777777777777778, \"#fb9f3a\"], [0.8888888888888888, \"#fdca26\"], [1.0, \"#f0f921\"]], \"type\": \"surface\"}], \"table\": [{\"cells\": {\"fill\": {\"color\": \"#EBF0F8\"}, \"line\": {\"color\": \"white\"}}, \"header\": {\"fill\": {\"color\": \"#C8D4E3\"}, \"line\": {\"color\": \"white\"}}, \"type\": \"table\"}]}, \"layout\": {\"annotationdefaults\": {\"arrowcolor\": \"#2a3f5f\", \"arrowhead\": 0, \"arrowwidth\": 1}, \"autotypenumbers\": \"strict\", \"coloraxis\": {\"colorbar\": {\"outlinewidth\": 0, \"ticks\": \"\"}}, \"colorscale\": {\"diverging\": [[0, \"#8e0152\"], [0.1, \"#c51b7d\"], [0.2, \"#de77ae\"], [0.3, \"#f1b6da\"], [0.4, \"#fde0ef\"], [0.5, \"#f7f7f7\"], [0.6, \"#e6f5d0\"], [0.7, \"#b8e186\"], [0.8, \"#7fbc41\"], [0.9, \"#4d9221\"], [1, \"#276419\"]], \"sequential\": [[0.0, \"#0d0887\"], [0.1111111111111111, \"#46039f\"], [0.2222222222222222, \"#7201a8\"], [0.3333333333333333, \"#9c179e\"], [0.4444444444444444, \"#bd3786\"], [0.5555555555555556, \"#d8576b\"], [0.6666666666666666, \"#ed7953\"], [0.7777777777777778, \"#fb9f3a\"], [0.8888888888888888, \"#fdca26\"], [1.0, \"#f0f921\"]], \"sequentialminus\": [[0.0, \"#0d0887\"], [0.1111111111111111, \"#46039f\"], [0.2222222222222222, \"#7201a8\"], [0.3333333333333333, \"#9c179e\"], [0.4444444444444444, \"#bd3786\"], [0.5555555555555556, \"#d8576b\"], [0.6666666666666666, \"#ed7953\"], [0.7777777777777778, \"#fb9f3a\"], [0.8888888888888888, \"#fdca26\"], [1.0, \"#f0f921\"]]}, \"colorway\": [\"#636efa\", \"#EF553B\", \"#00cc96\", \"#ab63fa\", \"#FFA15A\", \"#19d3f3\", \"#FF6692\", \"#B6E880\", \"#FF97FF\", \"#FECB52\"], \"font\": {\"color\": \"#2a3f5f\"}, \"geo\": {\"bgcolor\": \"white\", \"lakecolor\": \"white\", \"landcolor\": \"#E5ECF6\", \"showlakes\": true, \"showland\": true, \"subunitcolor\": \"white\"}, \"hoverlabel\": {\"align\": \"left\"}, \"hovermode\": \"closest\", \"mapbox\": {\"style\": \"light\"}, \"paper_bgcolor\": \"white\", \"plot_bgcolor\": \"#E5ECF6\", \"polar\": {\"angularaxis\": {\"gridcolor\": \"white\", \"linecolor\": \"white\", \"ticks\": \"\"}, \"bgcolor\": \"#E5ECF6\", \"radialaxis\": {\"gridcolor\": \"white\", \"linecolor\": \"white\", \"ticks\": \"\"}}, \"scene\": {\"xaxis\": {\"backgroundcolor\": \"#E5ECF6\", \"gridcolor\": \"white\", \"gridwidth\": 2, \"linecolor\": \"white\", \"showbackground\": true, \"ticks\": \"\", \"zerolinecolor\": \"white\"}, \"yaxis\": {\"backgroundcolor\": \"#E5ECF6\", \"gridcolor\": \"white\", \"gridwidth\": 2, \"linecolor\": \"white\", \"showbackground\": true, \"ticks\": \"\", \"zerolinecolor\": \"white\"}, \"zaxis\": {\"backgroundcolor\": \"#E5ECF6\", \"gridcolor\": \"white\", \"gridwidth\": 2, \"linecolor\": \"white\", \"showbackground\": true, \"ticks\": \"\", \"zerolinecolor\": \"white\"}}, \"shapedefaults\": {\"line\": {\"color\": \"#2a3f5f\"}}, \"ternary\": {\"aaxis\": {\"gridcolor\": \"white\", \"linecolor\": \"white\", \"ticks\": \"\"}, \"baxis\": {\"gridcolor\": \"white\", \"linecolor\": \"white\", \"ticks\": \"\"}, \"bgcolor\": \"#E5ECF6\", \"caxis\": {\"gridcolor\": \"white\", \"linecolor\": \"white\", \"ticks\": \"\"}}, \"title\": {\"x\": 0.05}, \"xaxis\": {\"automargin\": true, \"gridcolor\": \"white\", \"linecolor\": \"white\", \"ticks\": \"\", \"title\": {\"standoff\": 15}, \"zerolinecolor\": \"white\", \"zerolinewidth\": 2}, \"yaxis\": {\"automargin\": true, \"gridcolor\": \"white\", \"linecolor\": \"white\", \"ticks\": \"\", \"title\": {\"standoff\": 15}, \"zerolinecolor\": \"white\", \"zerolinewidth\": 2}}}, \"title\": {\"text\": \"World Bank (IBRD) Loans 1999-2019\"}},                        {\"responsive\": true}                    ).then(function(){\n",
       "                            \n",
       "var gd = document.getElementById('928daf9e-3527-44fd-90fd-35e5605130e8');\n",
       "var x = new MutationObserver(function (mutations, observer) {{\n",
       "        var display = window.getComputedStyle(gd).display;\n",
       "        if (!display || display === 'none') {{\n",
       "            console.log([gd, 'removed!']);\n",
       "            Plotly.purge(gd);\n",
       "            observer.disconnect();\n",
       "        }}\n",
       "}});\n",
       "\n",
       "// Listen for the removal of the full notebook cells\n",
       "var notebookContainer = gd.closest('#notebook-container');\n",
       "if (notebookContainer) {{\n",
       "    x.observe(notebookContainer, {childList: true});\n",
       "}}\n",
       "\n",
       "// Listen for the clearing of the current output cell\n",
       "var outputEl = gd.closest('.output');\n",
       "if (outputEl) {{\n",
       "    x.observe(outputEl, {childList: true});\n",
       "}}\n",
       "\n",
       "                        })                };                });            </script>        </div>"
      ]
     },
     "metadata": {},
     "output_type": "display_data"
    }
   ],
   "source": [
    "dff = df.groupby(['country_name', 'country_code_'])['amount_cur_usd'].sum().reset_index(name = 'amount sum').sort_values(by='amount sum', ascending = False)\n",
    "plot_heatmap(dff.dropna(), 'amount sum')"
   ]
  },
  {
   "cell_type": "markdown",
   "metadata": {},
   "source": [
    "## GDP data"
   ]
  },
  {
   "cell_type": "code",
   "execution_count": 496,
   "metadata": {},
   "outputs": [
    {
     "data": {
      "text/html": [
       "<div>\n",
       "<style scoped>\n",
       "    .dataframe tbody tr th:only-of-type {\n",
       "        vertical-align: middle;\n",
       "    }\n",
       "\n",
       "    .dataframe tbody tr th {\n",
       "        vertical-align: top;\n",
       "    }\n",
       "\n",
       "    .dataframe thead th {\n",
       "        text-align: right;\n",
       "    }\n",
       "</style>\n",
       "<table border=\"1\" class=\"dataframe\">\n",
       "  <thead>\n",
       "    <tr style=\"text-align: right;\">\n",
       "      <th></th>\n",
       "      <th>1999</th>\n",
       "      <th>2000</th>\n",
       "      <th>2001</th>\n",
       "      <th>2002</th>\n",
       "      <th>2003</th>\n",
       "      <th>2004</th>\n",
       "      <th>2005</th>\n",
       "      <th>2006</th>\n",
       "      <th>2007</th>\n",
       "      <th>2008</th>\n",
       "      <th>...</th>\n",
       "      <th>2010</th>\n",
       "      <th>2011</th>\n",
       "      <th>2012</th>\n",
       "      <th>2013</th>\n",
       "      <th>2014</th>\n",
       "      <th>2015</th>\n",
       "      <th>2016</th>\n",
       "      <th>2017</th>\n",
       "      <th>2018</th>\n",
       "      <th>2019</th>\n",
       "    </tr>\n",
       "    <tr>\n",
       "      <th>Country Code</th>\n",
       "      <th></th>\n",
       "      <th></th>\n",
       "      <th></th>\n",
       "      <th></th>\n",
       "      <th></th>\n",
       "      <th></th>\n",
       "      <th></th>\n",
       "      <th></th>\n",
       "      <th></th>\n",
       "      <th></th>\n",
       "      <th></th>\n",
       "      <th></th>\n",
       "      <th></th>\n",
       "      <th></th>\n",
       "      <th></th>\n",
       "      <th></th>\n",
       "      <th></th>\n",
       "      <th></th>\n",
       "      <th></th>\n",
       "      <th></th>\n",
       "      <th></th>\n",
       "    </tr>\n",
       "  </thead>\n",
       "  <tbody>\n",
       "    <tr>\n",
       "      <th>ABW</th>\n",
       "      <td>1.722799e+09</td>\n",
       "      <td>1.873453e+09</td>\n",
       "      <td>1.920112e+09</td>\n",
       "      <td>1.941341e+09</td>\n",
       "      <td>2.021229e+09</td>\n",
       "      <td>2.228492e+09</td>\n",
       "      <td>2.330726e+09</td>\n",
       "      <td>2.424581e+09</td>\n",
       "      <td>2.615084e+09</td>\n",
       "      <td>2.745251e+09</td>\n",
       "      <td>...</td>\n",
       "      <td>2.390503e+09</td>\n",
       "      <td>2.549721e+09</td>\n",
       "      <td>2.534637e+09</td>\n",
       "      <td>2.701676e+09</td>\n",
       "      <td>2.765363e+09</td>\n",
       "      <td>2.919553e+09</td>\n",
       "      <td>2.965922e+09</td>\n",
       "      <td>3.056425e+09</td>\n",
       "      <td>NaN</td>\n",
       "      <td>NaN</td>\n",
       "    </tr>\n",
       "    <tr>\n",
       "      <th>AFG</th>\n",
       "      <td>NaN</td>\n",
       "      <td>NaN</td>\n",
       "      <td>NaN</td>\n",
       "      <td>4.055180e+09</td>\n",
       "      <td>4.515559e+09</td>\n",
       "      <td>5.226779e+09</td>\n",
       "      <td>6.209138e+09</td>\n",
       "      <td>6.971286e+09</td>\n",
       "      <td>9.747880e+09</td>\n",
       "      <td>1.010923e+10</td>\n",
       "      <td>...</td>\n",
       "      <td>1.585657e+10</td>\n",
       "      <td>1.780429e+10</td>\n",
       "      <td>2.000160e+10</td>\n",
       "      <td>2.056107e+10</td>\n",
       "      <td>2.048489e+10</td>\n",
       "      <td>1.990711e+10</td>\n",
       "      <td>1.801775e+10</td>\n",
       "      <td>1.886995e+10</td>\n",
       "      <td>1.835388e+10</td>\n",
       "      <td>1.929110e+10</td>\n",
       "    </tr>\n",
       "    <tr>\n",
       "      <th>AGO</th>\n",
       "      <td>6.152923e+09</td>\n",
       "      <td>9.129595e+09</td>\n",
       "      <td>8.936064e+09</td>\n",
       "      <td>1.528559e+10</td>\n",
       "      <td>1.781271e+10</td>\n",
       "      <td>2.355205e+10</td>\n",
       "      <td>3.697092e+10</td>\n",
       "      <td>5.238101e+10</td>\n",
       "      <td>6.526645e+10</td>\n",
       "      <td>8.853861e+10</td>\n",
       "      <td>...</td>\n",
       "      <td>8.379950e+10</td>\n",
       "      <td>1.117900e+11</td>\n",
       "      <td>1.280530e+11</td>\n",
       "      <td>1.367100e+11</td>\n",
       "      <td>1.457120e+11</td>\n",
       "      <td>1.161940e+11</td>\n",
       "      <td>1.011240e+11</td>\n",
       "      <td>1.221240e+11</td>\n",
       "      <td>1.013530e+11</td>\n",
       "      <td>8.881570e+10</td>\n",
       "    </tr>\n",
       "    <tr>\n",
       "      <th>ALB</th>\n",
       "      <td>3.212119e+09</td>\n",
       "      <td>3.480355e+09</td>\n",
       "      <td>3.922099e+09</td>\n",
       "      <td>4.348070e+09</td>\n",
       "      <td>5.611492e+09</td>\n",
       "      <td>7.184681e+09</td>\n",
       "      <td>8.052076e+09</td>\n",
       "      <td>8.896074e+09</td>\n",
       "      <td>1.067732e+10</td>\n",
       "      <td>1.288135e+10</td>\n",
       "      <td>...</td>\n",
       "      <td>1.192693e+10</td>\n",
       "      <td>1.289077e+10</td>\n",
       "      <td>1.231983e+10</td>\n",
       "      <td>1.277622e+10</td>\n",
       "      <td>1.322814e+10</td>\n",
       "      <td>1.138685e+10</td>\n",
       "      <td>1.186120e+10</td>\n",
       "      <td>1.301969e+10</td>\n",
       "      <td>1.514702e+10</td>\n",
       "      <td>1.527918e+10</td>\n",
       "    </tr>\n",
       "    <tr>\n",
       "      <th>AND</th>\n",
       "      <td>1.239876e+09</td>\n",
       "      <td>1.429049e+09</td>\n",
       "      <td>1.546926e+09</td>\n",
       "      <td>1.755910e+09</td>\n",
       "      <td>2.361727e+09</td>\n",
       "      <td>2.894922e+09</td>\n",
       "      <td>3.159905e+09</td>\n",
       "      <td>3.456442e+09</td>\n",
       "      <td>3.952601e+09</td>\n",
       "      <td>4.085631e+09</td>\n",
       "      <td>...</td>\n",
       "      <td>3.449967e+09</td>\n",
       "      <td>3.629204e+09</td>\n",
       "      <td>3.188809e+09</td>\n",
       "      <td>3.193704e+09</td>\n",
       "      <td>3.271808e+09</td>\n",
       "      <td>2.789870e+09</td>\n",
       "      <td>2.896679e+09</td>\n",
       "      <td>3.000181e+09</td>\n",
       "      <td>3.218316e+09</td>\n",
       "      <td>3.154058e+09</td>\n",
       "    </tr>\n",
       "  </tbody>\n",
       "</table>\n",
       "<p>5 rows × 21 columns</p>\n",
       "</div>"
      ],
      "text/plain": [
       "                      1999          2000          2001          2002  \\\n",
       "Country Code                                                           \n",
       "ABW           1.722799e+09  1.873453e+09  1.920112e+09  1.941341e+09   \n",
       "AFG                    NaN           NaN           NaN  4.055180e+09   \n",
       "AGO           6.152923e+09  9.129595e+09  8.936064e+09  1.528559e+10   \n",
       "ALB           3.212119e+09  3.480355e+09  3.922099e+09  4.348070e+09   \n",
       "AND           1.239876e+09  1.429049e+09  1.546926e+09  1.755910e+09   \n",
       "\n",
       "                      2003          2004          2005          2006  \\\n",
       "Country Code                                                           \n",
       "ABW           2.021229e+09  2.228492e+09  2.330726e+09  2.424581e+09   \n",
       "AFG           4.515559e+09  5.226779e+09  6.209138e+09  6.971286e+09   \n",
       "AGO           1.781271e+10  2.355205e+10  3.697092e+10  5.238101e+10   \n",
       "ALB           5.611492e+09  7.184681e+09  8.052076e+09  8.896074e+09   \n",
       "AND           2.361727e+09  2.894922e+09  3.159905e+09  3.456442e+09   \n",
       "\n",
       "                      2007          2008  ...          2010          2011  \\\n",
       "Country Code                              ...                               \n",
       "ABW           2.615084e+09  2.745251e+09  ...  2.390503e+09  2.549721e+09   \n",
       "AFG           9.747880e+09  1.010923e+10  ...  1.585657e+10  1.780429e+10   \n",
       "AGO           6.526645e+10  8.853861e+10  ...  8.379950e+10  1.117900e+11   \n",
       "ALB           1.067732e+10  1.288135e+10  ...  1.192693e+10  1.289077e+10   \n",
       "AND           3.952601e+09  4.085631e+09  ...  3.449967e+09  3.629204e+09   \n",
       "\n",
       "                      2012          2013          2014          2015  \\\n",
       "Country Code                                                           \n",
       "ABW           2.534637e+09  2.701676e+09  2.765363e+09  2.919553e+09   \n",
       "AFG           2.000160e+10  2.056107e+10  2.048489e+10  1.990711e+10   \n",
       "AGO           1.280530e+11  1.367100e+11  1.457120e+11  1.161940e+11   \n",
       "ALB           1.231983e+10  1.277622e+10  1.322814e+10  1.138685e+10   \n",
       "AND           3.188809e+09  3.193704e+09  3.271808e+09  2.789870e+09   \n",
       "\n",
       "                      2016          2017          2018          2019  \n",
       "Country Code                                                          \n",
       "ABW           2.965922e+09  3.056425e+09           NaN           NaN  \n",
       "AFG           1.801775e+10  1.886995e+10  1.835388e+10  1.929110e+10  \n",
       "AGO           1.011240e+11  1.221240e+11  1.013530e+11  8.881570e+10  \n",
       "ALB           1.186120e+10  1.301969e+10  1.514702e+10  1.527918e+10  \n",
       "AND           2.896679e+09  3.000181e+09  3.218316e+09  3.154058e+09  \n",
       "\n",
       "[5 rows x 21 columns]"
      ]
     },
     "execution_count": 496,
     "metadata": {},
     "output_type": "execute_result"
    }
   ],
   "source": [
    "gdp = pd.read_csv('GDP.csv')\n",
    "years = [str(x) for x in range(1999, 2020)]\n",
    "gdp = gdp[['Country Code'] + years]\n",
    "gdp = gdp.set_index('Country Code')\n",
    "gdp.head()"
   ]
  },
  {
   "cell_type": "code",
   "execution_count": 497,
   "metadata": {},
   "outputs": [
    {
     "data": {
      "text/html": [
       "<div>\n",
       "<style scoped>\n",
       "    .dataframe tbody tr th:only-of-type {\n",
       "        vertical-align: middle;\n",
       "    }\n",
       "\n",
       "    .dataframe tbody tr th {\n",
       "        vertical-align: top;\n",
       "    }\n",
       "\n",
       "    .dataframe thead th {\n",
       "        text-align: right;\n",
       "    }\n",
       "</style>\n",
       "<table border=\"1\" class=\"dataframe\">\n",
       "  <thead>\n",
       "    <tr style=\"text-align: right;\">\n",
       "      <th></th>\n",
       "      <th>Country Code</th>\n",
       "      <th>Total GDP Sum</th>\n",
       "    </tr>\n",
       "  </thead>\n",
       "  <tbody>\n",
       "    <tr>\n",
       "      <th>0</th>\n",
       "      <td>ABW</td>\n",
       "      <td>4.620575e+10</td>\n",
       "    </tr>\n",
       "    <tr>\n",
       "      <th>1</th>\n",
       "      <td>AFG</td>\n",
       "      <td>2.484223e+11</td>\n",
       "    </tr>\n",
       "    <tr>\n",
       "      <th>2</th>\n",
       "      <td>AGO</td>\n",
       "      <td>1.530008e+12</td>\n",
       "    </tr>\n",
       "    <tr>\n",
       "      <th>3</th>\n",
       "      <td>ALB</td>\n",
       "      <td>2.101457e+11</td>\n",
       "    </tr>\n",
       "    <tr>\n",
       "      <th>4</th>\n",
       "      <td>AND</td>\n",
       "      <td>6.134999e+10</td>\n",
       "    </tr>\n",
       "    <tr>\n",
       "      <th>...</th>\n",
       "      <td>...</td>\n",
       "      <td>...</td>\n",
       "    </tr>\n",
       "    <tr>\n",
       "      <th>259</th>\n",
       "      <td>XKX</td>\n",
       "      <td>1.064308e+11</td>\n",
       "    </tr>\n",
       "    <tr>\n",
       "      <th>260</th>\n",
       "      <td>YEM</td>\n",
       "      <td>5.018468e+11</td>\n",
       "    </tr>\n",
       "    <tr>\n",
       "      <th>261</th>\n",
       "      <td>ZAF</td>\n",
       "      <td>5.914458e+12</td>\n",
       "    </tr>\n",
       "    <tr>\n",
       "      <th>262</th>\n",
       "      <td>ZMB</td>\n",
       "      <td>3.369137e+11</td>\n",
       "    </tr>\n",
       "    <tr>\n",
       "      <th>263</th>\n",
       "      <td>ZWE</td>\n",
       "      <td>2.589232e+11</td>\n",
       "    </tr>\n",
       "  </tbody>\n",
       "</table>\n",
       "<p>264 rows × 2 columns</p>\n",
       "</div>"
      ],
      "text/plain": [
       "    Country Code  Total GDP Sum\n",
       "0            ABW   4.620575e+10\n",
       "1            AFG   2.484223e+11\n",
       "2            AGO   1.530008e+12\n",
       "3            ALB   2.101457e+11\n",
       "4            AND   6.134999e+10\n",
       "..           ...            ...\n",
       "259          XKX   1.064308e+11\n",
       "260          YEM   5.018468e+11\n",
       "261          ZAF   5.914458e+12\n",
       "262          ZMB   3.369137e+11\n",
       "263          ZWE   2.589232e+11\n",
       "\n",
       "[264 rows x 2 columns]"
      ]
     },
     "execution_count": 497,
     "metadata": {},
     "output_type": "execute_result"
    }
   ],
   "source": [
    "gdp_sum = gdp.sum(axis = 1).reset_index().rename(columns = {0:'Total GDP Sum'})\n",
    "gdp_sum "
   ]
  },
  {
   "cell_type": "code",
   "execution_count": 498,
   "metadata": {},
   "outputs": [],
   "source": [
    "df.to_pickle('extraction_pipeline/agreement_features_join_projects.pkl')"
   ]
  },
  {
   "cell_type": "code",
   "execution_count": 517,
   "metadata": {},
   "outputs": [
    {
     "data": {
      "text/html": [
       "<div>\n",
       "<style scoped>\n",
       "    .dataframe tbody tr th:only-of-type {\n",
       "        vertical-align: middle;\n",
       "    }\n",
       "\n",
       "    .dataframe tbody tr th {\n",
       "        vertical-align: top;\n",
       "    }\n",
       "\n",
       "    .dataframe thead th {\n",
       "        text-align: right;\n",
       "    }\n",
       "</style>\n",
       "<table border=\"1\" class=\"dataframe\">\n",
       "  <thead>\n",
       "    <tr style=\"text-align: right;\">\n",
       "      <th></th>\n",
       "      <th>country_code_</th>\n",
       "      <th>Loan Amount Sum</th>\n",
       "      <th>Total GDP Sum</th>\n",
       "    </tr>\n",
       "    <tr>\n",
       "      <th>Top 10 Countries</th>\n",
       "      <th></th>\n",
       "      <th></th>\n",
       "      <th></th>\n",
       "    </tr>\n",
       "  </thead>\n",
       "  <tbody>\n",
       "    <tr>\n",
       "      <th>India</th>\n",
       "      <td>IND</td>\n",
       "      <td>3.111331e+10</td>\n",
       "      <td>3.061801e+13</td>\n",
       "    </tr>\n",
       "    <tr>\n",
       "      <th>Brazil</th>\n",
       "      <td>BRA</td>\n",
       "      <td>2.237138e+10</td>\n",
       "      <td>3.191401e+13</td>\n",
       "    </tr>\n",
       "    <tr>\n",
       "      <th>China</th>\n",
       "      <td>CHN</td>\n",
       "      <td>2.156715e+10</td>\n",
       "      <td>1.320124e+14</td>\n",
       "    </tr>\n",
       "    <tr>\n",
       "      <th>Turkey</th>\n",
       "      <td>TUR</td>\n",
       "      <td>1.899606e+10</td>\n",
       "      <td>1.338644e+13</td>\n",
       "    </tr>\n",
       "    <tr>\n",
       "      <th>Indonesia</th>\n",
       "      <td>IDN</td>\n",
       "      <td>1.585007e+10</td>\n",
       "      <td>1.262426e+13</td>\n",
       "    </tr>\n",
       "    <tr>\n",
       "      <th>Mexico</th>\n",
       "      <td>MEX</td>\n",
       "      <td>1.365354e+10</td>\n",
       "      <td>2.119379e+13</td>\n",
       "    </tr>\n",
       "    <tr>\n",
       "      <th>Egypt</th>\n",
       "      <td>EGY</td>\n",
       "      <td>1.171745e+10</td>\n",
       "      <td>3.989349e+12</td>\n",
       "    </tr>\n",
       "    <tr>\n",
       "      <th>Argentina</th>\n",
       "      <td>ARG</td>\n",
       "      <td>1.143420e+10</td>\n",
       "      <td>7.976850e+12</td>\n",
       "    </tr>\n",
       "    <tr>\n",
       "      <th>Colombia</th>\n",
       "      <td>COL</td>\n",
       "      <td>1.093057e+10</td>\n",
       "      <td>4.883008e+12</td>\n",
       "    </tr>\n",
       "    <tr>\n",
       "      <th>Poland</th>\n",
       "      <td>POL</td>\n",
       "      <td>6.950856e+09</td>\n",
       "      <td>8.488679e+12</td>\n",
       "    </tr>\n",
       "  </tbody>\n",
       "</table>\n",
       "</div>"
      ],
      "text/plain": [
       "                 country_code_  Loan Amount Sum  Total GDP Sum\n",
       "Top 10 Countries                                              \n",
       "India                      IND     3.111331e+10   3.061801e+13\n",
       "Brazil                     BRA     2.237138e+10   3.191401e+13\n",
       "China                      CHN     2.156715e+10   1.320124e+14\n",
       "Turkey                     TUR     1.899606e+10   1.338644e+13\n",
       "Indonesia                  IDN     1.585007e+10   1.262426e+13\n",
       "Mexico                     MEX     1.365354e+10   2.119379e+13\n",
       "Egypt                      EGY     1.171745e+10   3.989349e+12\n",
       "Argentina                  ARG     1.143420e+10   7.976850e+12\n",
       "Colombia                   COL     1.093057e+10   4.883008e+12\n",
       "Poland                     POL     6.950856e+09   8.488679e+12"
      ]
     },
     "execution_count": 517,
     "metadata": {},
     "output_type": "execute_result"
    }
   ],
   "source": [
    "df_sum = df.groupby(['country_name', 'country_code_'])['amount_cur_usd'].sum().reset_index(name = 'Loan Amount Sum')\n",
    "df_sum = df_sum.join(gdp_sum.set_index('Country Code'), on = 'country_code_')\n",
    "top10 = df_sum.sort_values(by = 'Loan Amount Sum', ascending = False)[:10]\n",
    "top10 = top10.rename(columns = {'country_name':'Top 10 Countries'})\n",
    "top10 = top10.set_index('Top 10 Countries', drop = True)\n",
    "top10"
   ]
  },
  {
   "cell_type": "code",
   "execution_count": 521,
   "metadata": {},
   "outputs": [
    {
     "data": {
      "image/png": "[encoded data removed]",
      "text/plain": [
       "<Figure size 540x576 with 2 Axes>"
      ]
     },
     "metadata": {
      "needs_background": "light"
     },
     "output_type": "display_data"
    }
   ],
   "source": [
    "fig = plt.figure(figsize = (7.5,8)) # Create matplotlib figure\n",
    "\n",
    "ax = fig.add_subplot(111) # Create matplotlib axes\n",
    "ax2 = ax.twinx() # Create another axes that shares the same x-axis as ax.\n",
    "\n",
    "width = 0.45\n",
    "\n",
    "top10['Loan Amount Sum'].plot(kind='bar', color='orange', ax=ax, width=width, position=1)\n",
    "top10['Total GDP Sum'].plot(kind='bar', color='lightblue', ax=ax2, width=width, position=0)\n",
    "\n",
    "ax.set_ylabel('Loan Amount Sum')\n",
    "ax2.set_ylabel('Total GDP Sum')\n",
    "fig.legend()\n",
    "# plt.xticks(rotation=45)\n",
    "for tick in ax.get_xticklabels():\n",
    "    tick.set_rotation(25)\n",
    "plt.title(\"Loan Amounts and Total GDP (1999-2019)\")\n",
    "plt.show()"
   ]
  },
  {
   "cell_type": "code",
   "execution_count": 530,
   "metadata": {},
   "outputs": [
    {
     "data": {
      "text/html": [
       "<div>\n",
       "<style scoped>\n",
       "    .dataframe tbody tr th:only-of-type {\n",
       "        vertical-align: middle;\n",
       "    }\n",
       "\n",
       "    .dataframe tbody tr th {\n",
       "        vertical-align: top;\n",
       "    }\n",
       "\n",
       "    .dataframe thead th {\n",
       "        text-align: right;\n",
       "    }\n",
       "</style>\n",
       "<table border=\"1\" class=\"dataframe\">\n",
       "  <thead>\n",
       "    <tr style=\"text-align: right;\">\n",
       "      <th></th>\n",
       "      <th>id</th>\n",
       "      <th>date</th>\n",
       "      <th>country_code</th>\n",
       "      <th>country_name</th>\n",
       "      <th>named_countries</th>\n",
       "      <th>Project Name</th>\n",
       "      <th>project_desc</th>\n",
       "      <th>amount_standard</th>\n",
       "      <th>currency_standard</th>\n",
       "      <th>closing_month</th>\n",
       "      <th>...</th>\n",
       "      <th>loan_length in year</th>\n",
       "      <th>wb_project_id</th>\n",
       "      <th>major_sector_name</th>\n",
       "      <th>sector1_name</th>\n",
       "      <th>sector2_name</th>\n",
       "      <th>sector3_name</th>\n",
       "      <th>predicted_sector</th>\n",
       "      <th>amount_cur_usd</th>\n",
       "      <th>country_code_</th>\n",
       "      <th>cur_stand</th>\n",
       "    </tr>\n",
       "  </thead>\n",
       "  <tbody>\n",
       "    <tr>\n",
       "      <th>0</th>\n",
       "      <td>658601468273303198</td>\n",
       "      <td>1990-01-05</td>\n",
       "      <td>jo</td>\n",
       "      <td>Jordan</td>\n",
       "      <td>[Jordan, United States]</td>\n",
       "      <td>Industry and Trade Policy Adjustment Loan</td>\n",
       "      <td>SCHEDULE 1\\n\\n        Withdrawal of the Procee...</td>\n",
       "      <td>150000000.0</td>\n",
       "      <td>us dollar</td>\n",
       "      <td>December</td>\n",
       "      <td>...</td>\n",
       "      <td>2.0</td>\n",
       "      <td>None</td>\n",
       "      <td>NaN</td>\n",
       "      <td>NaN</td>\n",
       "      <td>NaN</td>\n",
       "      <td>NaN</td>\n",
       "      <td>Industry and Trade/Services</td>\n",
       "      <td>NaN</td>\n",
       "      <td>JOR</td>\n",
       "      <td>USD</td>\n",
       "    </tr>\n",
       "    <tr>\n",
       "      <th>1</th>\n",
       "      <td>784351468234894668</td>\n",
       "      <td>1990-01-10</td>\n",
       "      <td>br</td>\n",
       "      <td>Brazil</td>\n",
       "      <td>[Brazil, United States]</td>\n",
       "      <td>Third Agricultural Research Project</td>\n",
       "      <td>SCHEDULE 2\\n\\nDescription of the Project\\n\\nTh...</td>\n",
       "      <td>47000000.0</td>\n",
       "      <td>us dollar</td>\n",
       "      <td>June</td>\n",
       "      <td>...</td>\n",
       "      <td>5.0</td>\n",
       "      <td>None</td>\n",
       "      <td>NaN</td>\n",
       "      <td>NaN</td>\n",
       "      <td>NaN</td>\n",
       "      <td>NaN</td>\n",
       "      <td>Agriculture</td>\n",
       "      <td>NaN</td>\n",
       "      <td>BRA</td>\n",
       "      <td>USD</td>\n",
       "    </tr>\n",
       "    <tr>\n",
       "      <th>2</th>\n",
       "      <td>891941468049466312</td>\n",
       "      <td>1990-01-11</td>\n",
       "      <td>ma</td>\n",
       "      <td>Malaysia</td>\n",
       "      <td>[Malaysia, United States]</td>\n",
       "      <td>Rubber Industry Smallholders\\n            Deve...</td>\n",
       "      <td>SCHEDULE 2\\n\\n              Description of the...</td>\n",
       "      <td>71000000.0</td>\n",
       "      <td>us dollar</td>\n",
       "      <td>December</td>\n",
       "      <td>...</td>\n",
       "      <td>3.0</td>\n",
       "      <td>None</td>\n",
       "      <td>NaN</td>\n",
       "      <td>NaN</td>\n",
       "      <td>NaN</td>\n",
       "      <td>NaN</td>\n",
       "      <td>Agriculture</td>\n",
       "      <td>NaN</td>\n",
       "      <td>MYS</td>\n",
       "      <td>USD</td>\n",
       "    </tr>\n",
       "    <tr>\n",
       "      <th>3</th>\n",
       "      <td>125511468051878371</td>\n",
       "      <td>1990-01-11</td>\n",
       "      <td>ma</td>\n",
       "      <td>Malaysia</td>\n",
       "      <td>[Malaysia, United States]</td>\n",
       "      <td>Highway Rehabilitation and Improvement Project</td>\n",
       "      <td>SCHEDULE 2\\n\\n              Description of the...</td>\n",
       "      <td>83200000.0</td>\n",
       "      <td>us dollar</td>\n",
       "      <td>June</td>\n",
       "      <td>...</td>\n",
       "      <td>5.0</td>\n",
       "      <td>P099112</td>\n",
       "      <td>Transportation</td>\n",
       "      <td>Rural and Inter-Urban Roads</td>\n",
       "      <td>Sub-National Government</td>\n",
       "      <td>NaN</td>\n",
       "      <td>Transportation</td>\n",
       "      <td>NaN</td>\n",
       "      <td>MYS</td>\n",
       "      <td>USD</td>\n",
       "    </tr>\n",
       "    <tr>\n",
       "      <th>4</th>\n",
       "      <td>733341468033245855</td>\n",
       "      <td>1990-01-16</td>\n",
       "      <td>ivc</td>\n",
       "      <td>Cote d'Ivoire</td>\n",
       "      <td>[United States]</td>\n",
       "      <td>Abidjan Environmental Protection Project</td>\n",
       "      <td>SCHEDULE 2\\n\\nDescription of the Project\\n\\nTh...</td>\n",
       "      <td>21900000.0</td>\n",
       "      <td>us dollar</td>\n",
       "      <td>December</td>\n",
       "      <td>...</td>\n",
       "      <td>3.0</td>\n",
       "      <td>None</td>\n",
       "      <td>NaN</td>\n",
       "      <td>NaN</td>\n",
       "      <td>NaN</td>\n",
       "      <td>NaN</td>\n",
       "      <td>Public Admin</td>\n",
       "      <td>NaN</td>\n",
       "      <td>CIV</td>\n",
       "      <td>USD</td>\n",
       "    </tr>\n",
       "  </tbody>\n",
       "</table>\n",
       "<p>5 rows × 22 columns</p>\n",
       "</div>"
      ],
      "text/plain": [
       "                   id       date country_code   country_name  \\\n",
       "0  658601468273303198 1990-01-05           jo         Jordan   \n",
       "1  784351468234894668 1990-01-10           br         Brazil   \n",
       "2  891941468049466312 1990-01-11           ma       Malaysia   \n",
       "3  125511468051878371 1990-01-11           ma       Malaysia   \n",
       "4  733341468033245855 1990-01-16          ivc  Cote d'Ivoire   \n",
       "\n",
       "             named_countries  \\\n",
       "0    [Jordan, United States]   \n",
       "1    [Brazil, United States]   \n",
       "2  [Malaysia, United States]   \n",
       "3  [Malaysia, United States]   \n",
       "4            [United States]   \n",
       "\n",
       "                                        Project Name  \\\n",
       "0          Industry and Trade Policy Adjustment Loan   \n",
       "1                Third Agricultural Research Project   \n",
       "2  Rubber Industry Smallholders\\n            Deve...   \n",
       "3     Highway Rehabilitation and Improvement Project   \n",
       "4           Abidjan Environmental Protection Project   \n",
       "\n",
       "                                        project_desc  amount_standard  \\\n",
       "0  SCHEDULE 1\\n\\n        Withdrawal of the Procee...      150000000.0   \n",
       "1  SCHEDULE 2\\n\\nDescription of the Project\\n\\nTh...       47000000.0   \n",
       "2  SCHEDULE 2\\n\\n              Description of the...       71000000.0   \n",
       "3  SCHEDULE 2\\n\\n              Description of the...       83200000.0   \n",
       "4  SCHEDULE 2\\n\\nDescription of the Project\\n\\nTh...       21900000.0   \n",
       "\n",
       "  currency_standard closing_month  ... loan_length in year wb_project_id  \\\n",
       "0         us dollar      December  ...                 2.0          None   \n",
       "1         us dollar          June  ...                 5.0          None   \n",
       "2         us dollar      December  ...                 3.0          None   \n",
       "3         us dollar          June  ...                 5.0       P099112   \n",
       "4         us dollar      December  ...                 3.0          None   \n",
       "\n",
       "   major_sector_name                 sector1_name             sector2_name  \\\n",
       "0                NaN                          NaN                      NaN   \n",
       "1                NaN                          NaN                      NaN   \n",
       "2                NaN                          NaN                      NaN   \n",
       "3     Transportation  Rural and Inter-Urban Roads  Sub-National Government   \n",
       "4                NaN                          NaN                      NaN   \n",
       "\n",
       "  sector3_name             predicted_sector amount_cur_usd country_code_  \\\n",
       "0          NaN  Industry and Trade/Services            NaN           JOR   \n",
       "1          NaN                  Agriculture            NaN           BRA   \n",
       "2          NaN                  Agriculture            NaN           MYS   \n",
       "3          NaN               Transportation            NaN           MYS   \n",
       "4          NaN                 Public Admin            NaN           CIV   \n",
       "\n",
       "   cur_stand  \n",
       "0        USD  \n",
       "1        USD  \n",
       "2        USD  \n",
       "3        USD  \n",
       "4        USD  \n",
       "\n",
       "[5 rows x 22 columns]"
      ]
     },
     "execution_count": 530,
     "metadata": {},
     "output_type": "execute_result"
    }
   ],
   "source": [
    "df.head()"
   ]
  },
  {
   "cell_type": "code",
   "execution_count": null,
   "metadata": {},
   "outputs": [],
   "source": []
  }
 ],
 "metadata": {
  "kernelspec": {
   "display_name": "Python 3",
   "language": "python",
   "name": "python3"
  },
  "language_info": {
   "codemirror_mode": {
    "name": "ipython",
    "version": 3
   },
   "file_extension": ".py",
   "mimetype": "text/x-python",
   "name": "python",
   "nbconvert_exporter": "python",
   "pygments_lexer": "ipython3",
   "version": "3.8.5"
  }
 },
 "nbformat": 4,
 "nbformat_minor": 4
}
